{
 "cells": [
  {
   "cell_type": "markdown",
   "metadata": {},
   "source": [
    "# Restaurant Recommender\n",
    "\n",
    "Nov 2017"
   ]
  },
  {
   "cell_type": "code",
   "execution_count": 210,
   "metadata": {},
   "outputs": [],
   "source": [
    "import pandas as pd\n",
    "import numpy as np\n",
    "import matplotlib.pyplot as plt\n",
    "% matplotlib inline\n",
    "plt.style.use(\"ggplot\")"
   ]
  },
  {
   "cell_type": "code",
   "execution_count": 211,
   "metadata": {},
   "outputs": [],
   "source": [
    "df = pd.read_csv('last_2_years_restaurant_reviews.csv')"
   ]
  },
  {
   "cell_type": "code",
   "execution_count": 212,
   "metadata": {},
   "outputs": [
    {
     "data": {
      "text/html": [
       "<div>\n",
       "<table border=\"1\" class=\"dataframe\">\n",
       "  <thead>\n",
       "    <tr style=\"text-align: right;\">\n",
       "      <th></th>\n",
       "      <th>business_id</th>\n",
       "      <th>name</th>\n",
       "      <th>categories</th>\n",
       "      <th>ave_stars</th>\n",
       "      <th>cool</th>\n",
       "      <th>date</th>\n",
       "      <th>funny</th>\n",
       "      <th>review_id</th>\n",
       "      <th>stars</th>\n",
       "      <th>text</th>\n",
       "      <th>useful</th>\n",
       "      <th>user_id</th>\n",
       "    </tr>\n",
       "  </thead>\n",
       "  <tbody>\n",
       "    <tr>\n",
       "      <th>0</th>\n",
       "      <td>--9e1ONYQuAa-CB_Rrw7Tw</td>\n",
       "      <td>Delmonico Steakhouse</td>\n",
       "      <td>[Steakhouses, Cajun/Creole, Restaurants]</td>\n",
       "      <td>4.0</td>\n",
       "      <td>0</td>\n",
       "      <td>2017-01-20</td>\n",
       "      <td>0</td>\n",
       "      <td>L8lo5SKXfZRlbn1bpPiC9w</td>\n",
       "      <td>5</td>\n",
       "      <td>Went here for guys weekend. Unbelievable. Ravi...</td>\n",
       "      <td>0</td>\n",
       "      <td>nT8zgjoc-PbdBoQsFEXFLw</td>\n",
       "    </tr>\n",
       "    <tr>\n",
       "      <th>1</th>\n",
       "      <td>--9e1ONYQuAa-CB_Rrw7Tw</td>\n",
       "      <td>Delmonico Steakhouse</td>\n",
       "      <td>[Steakhouses, Cajun/Creole, Restaurants]</td>\n",
       "      <td>4.0</td>\n",
       "      <td>1</td>\n",
       "      <td>2017-02-12</td>\n",
       "      <td>0</td>\n",
       "      <td>3cnTdE45VrsS0o4cVhfGog</td>\n",
       "      <td>3</td>\n",
       "      <td>Located inside my favorite hotel Venetian, Del...</td>\n",
       "      <td>1</td>\n",
       "      <td>rOIrilMC7VFwFVBeQNiKMw</td>\n",
       "    </tr>\n",
       "    <tr>\n",
       "      <th>2</th>\n",
       "      <td>--9e1ONYQuAa-CB_Rrw7Tw</td>\n",
       "      <td>Delmonico Steakhouse</td>\n",
       "      <td>[Steakhouses, Cajun/Creole, Restaurants]</td>\n",
       "      <td>4.0</td>\n",
       "      <td>1</td>\n",
       "      <td>2017-04-18</td>\n",
       "      <td>0</td>\n",
       "      <td>QtLQQlmFINUSb2K_gE7J1Q</td>\n",
       "      <td>4</td>\n",
       "      <td>Great food, great service. Expect to pay a pre...</td>\n",
       "      <td>1</td>\n",
       "      <td>ez3GBw83OIgzzgvc0R4jzw</td>\n",
       "    </tr>\n",
       "    <tr>\n",
       "      <th>3</th>\n",
       "      <td>--9e1ONYQuAa-CB_Rrw7Tw</td>\n",
       "      <td>Delmonico Steakhouse</td>\n",
       "      <td>[Steakhouses, Cajun/Creole, Restaurants]</td>\n",
       "      <td>4.0</td>\n",
       "      <td>0</td>\n",
       "      <td>2017-01-03</td>\n",
       "      <td>0</td>\n",
       "      <td>oqQsexnfmYxRO-0NvxJN9A</td>\n",
       "      <td>5</td>\n",
       "      <td>My must stop at Vegas. Highly recommend to any...</td>\n",
       "      <td>0</td>\n",
       "      <td>gJrOPH-DSZWY_NX2j6Bugw</td>\n",
       "    </tr>\n",
       "    <tr>\n",
       "      <th>4</th>\n",
       "      <td>--9e1ONYQuAa-CB_Rrw7Tw</td>\n",
       "      <td>Delmonico Steakhouse</td>\n",
       "      <td>[Steakhouses, Cajun/Creole, Restaurants]</td>\n",
       "      <td>4.0</td>\n",
       "      <td>0</td>\n",
       "      <td>2017-02-26</td>\n",
       "      <td>0</td>\n",
       "      <td>aw_5aKHlAzV0PSM7F92YFw</td>\n",
       "      <td>5</td>\n",
       "      <td>This place is top notch. We didn't order any a...</td>\n",
       "      <td>0</td>\n",
       "      <td>3Y_gz3wb7T5ur9FHqxBcgQ</td>\n",
       "    </tr>\n",
       "  </tbody>\n",
       "</table>\n",
       "</div>"
      ],
      "text/plain": [
       "              business_id                  name  \\\n",
       "0  --9e1ONYQuAa-CB_Rrw7Tw  Delmonico Steakhouse   \n",
       "1  --9e1ONYQuAa-CB_Rrw7Tw  Delmonico Steakhouse   \n",
       "2  --9e1ONYQuAa-CB_Rrw7Tw  Delmonico Steakhouse   \n",
       "3  --9e1ONYQuAa-CB_Rrw7Tw  Delmonico Steakhouse   \n",
       "4  --9e1ONYQuAa-CB_Rrw7Tw  Delmonico Steakhouse   \n",
       "\n",
       "                                 categories  ave_stars  cool        date  \\\n",
       "0  [Steakhouses, Cajun/Creole, Restaurants]        4.0     0  2017-01-20   \n",
       "1  [Steakhouses, Cajun/Creole, Restaurants]        4.0     1  2017-02-12   \n",
       "2  [Steakhouses, Cajun/Creole, Restaurants]        4.0     1  2017-04-18   \n",
       "3  [Steakhouses, Cajun/Creole, Restaurants]        4.0     0  2017-01-03   \n",
       "4  [Steakhouses, Cajun/Creole, Restaurants]        4.0     0  2017-02-26   \n",
       "\n",
       "   funny               review_id  stars  \\\n",
       "0      0  L8lo5SKXfZRlbn1bpPiC9w      5   \n",
       "1      0  3cnTdE45VrsS0o4cVhfGog      3   \n",
       "2      0  QtLQQlmFINUSb2K_gE7J1Q      4   \n",
       "3      0  oqQsexnfmYxRO-0NvxJN9A      5   \n",
       "4      0  aw_5aKHlAzV0PSM7F92YFw      5   \n",
       "\n",
       "                                                text  useful  \\\n",
       "0  Went here for guys weekend. Unbelievable. Ravi...       0   \n",
       "1  Located inside my favorite hotel Venetian, Del...       1   \n",
       "2  Great food, great service. Expect to pay a pre...       1   \n",
       "3  My must stop at Vegas. Highly recommend to any...       0   \n",
       "4  This place is top notch. We didn't order any a...       0   \n",
       "\n",
       "                  user_id  \n",
       "0  nT8zgjoc-PbdBoQsFEXFLw  \n",
       "1  rOIrilMC7VFwFVBeQNiKMw  \n",
       "2  ez3GBw83OIgzzgvc0R4jzw  \n",
       "3  gJrOPH-DSZWY_NX2j6Bugw  \n",
       "4  3Y_gz3wb7T5ur9FHqxBcgQ  "
      ]
     },
     "execution_count": 212,
     "metadata": {},
     "output_type": "execute_result"
    }
   ],
   "source": [
    "df.head()"
   ]
  },
  {
   "cell_type": "markdown",
   "metadata": {},
   "source": [
    "## 1. Clean data and get rating data "
   ]
  },
  {
   "cell_type": "markdown",
   "metadata": {},
   "source": [
    "### Select relevant columns in the original dataframe"
   ]
  },
  {
   "cell_type": "code",
   "execution_count": 213,
   "metadata": {},
   "outputs": [],
   "source": [
    "# Get business_id, user_id, stars for recommender\n",
    "df_stars = df[['business_id', 'user_id', 'stars']]"
   ]
  },
  {
   "cell_type": "code",
   "execution_count": 214,
   "metadata": {},
   "outputs": [
    {
     "data": {
      "text/plain": [
       "5    135184\n",
       "4     59533\n",
       "1     37332\n",
       "3     31303\n",
       "2     23745\n",
       "Name: stars, dtype: int64"
      ]
     },
     "execution_count": 214,
     "metadata": {},
     "output_type": "execute_result"
    }
   ],
   "source": [
    "# Stars distribution\n",
    "df_stars['stars'].value_counts()"
   ]
  },
  {
   "cell_type": "code",
   "execution_count": 215,
   "metadata": {},
   "outputs": [
    {
     "data": {
      "text/plain": [
       "4290"
      ]
     },
     "execution_count": 215,
     "metadata": {},
     "output_type": "execute_result"
    }
   ],
   "source": [
    "# Number of unique business_id\n",
    "df_stars['business_id'].nunique() # count the number of unique elements"
   ]
  },
  {
   "cell_type": "code",
   "execution_count": 216,
   "metadata": {},
   "outputs": [
    {
     "data": {
      "text/plain": [
       "140737"
      ]
     },
     "execution_count": 216,
     "metadata": {},
     "output_type": "execute_result"
    }
   ],
   "source": [
    "# Number of unique user_id\n",
    "df_stars['user_id'].nunique()"
   ]
  },
  {
   "cell_type": "code",
   "execution_count": 217,
   "metadata": {},
   "outputs": [
    {
     "data": {
      "text/plain": [
       "bLbSNkLggFnqwNNzzq-Ijw    338\n",
       "JaqcCU3nxReTW2cBLHounA    296\n",
       "JQIZhoQB-Tg9hdBEj90m4g    134\n",
       "PKEzKWv_FktMm2mGPjwd0Q    133\n",
       "OXSJCjKtvZPf-YPDCXcWZg    131\n",
       "Name: user_id, dtype: int64"
      ]
     },
     "execution_count": 217,
     "metadata": {},
     "output_type": "execute_result"
    }
   ],
   "source": [
    "# Count how many comments each user made\n",
    "df_user_counts = df_stars['user_id'].value_counts()\n",
    "df_user_counts.head()"
   ]
  },
  {
   "cell_type": "code",
   "execution_count": 218,
   "metadata": {},
   "outputs": [
    {
     "data": {
      "image/png": "[encoded data removed]",
      "text/plain": [
       "<matplotlib.figure.Figure at 0x16a098dd0>"
      ]
     },
     "metadata": {},
     "output_type": "display_data"
    }
   ],
   "source": [
    "# Display log histogram\n",
    "df_user_counts.apply(np.log).hist()\n",
    "plt.show()"
   ]
  },
  {
   "cell_type": "markdown",
   "metadata": {},
   "source": [
    "#### There are many users that haven't given many reviews, exclude these users from the item-item similarity recommender\n",
    "\n",
    "**Q**: How do we recommend to these users anyway?\n",
    " We can recommend to these users with popularity based recommender"
   ]
  },
  {
   "cell_type": "code",
   "execution_count": 219,
   "metadata": {},
   "outputs": [
    {
     "data": {
      "text/plain": [
       "93513"
      ]
     },
     "execution_count": 219,
     "metadata": {},
     "output_type": "execute_result"
    }
   ],
   "source": [
    "# To be implemented\n",
    "# Check how many users only review once\n",
    "df_user_counts[df_user_counts == 1].sum()"
   ]
  },
  {
   "cell_type": "code",
   "execution_count": 220,
   "metadata": {},
   "outputs": [
    {
     "data": {
      "text/plain": [
       "(7252,)"
      ]
     },
     "execution_count": 220,
     "metadata": {},
     "output_type": "execute_result"
    }
   ],
   "source": [
    "# See how many users have reviewed for > 5 times\n",
    "df_user_counts[df_user_counts > 5].shape"
   ]
  },
  {
   "cell_type": "code",
   "execution_count": 221,
   "metadata": {
    "collapsed": true
   },
   "outputs": [],
   "source": [
    "# These are defined as active users\n",
    "df_users = df_user_counts[df_user_counts > 5]"
   ]
  },
  {
   "cell_type": "code",
   "execution_count": 222,
   "metadata": {},
   "outputs": [
    {
     "data": {
      "text/plain": [
       "7252"
      ]
     },
     "execution_count": 222,
     "metadata": {},
     "output_type": "execute_result"
    }
   ],
   "source": [
    "# Number of active users\n",
    "df_users.count()"
   ]
  },
  {
   "cell_type": "code",
   "execution_count": 223,
   "metadata": {},
   "outputs": [
    {
     "data": {
      "text/plain": [
       "85916"
      ]
     },
     "execution_count": 223,
     "metadata": {},
     "output_type": "execute_result"
    }
   ],
   "source": [
    "# Sum of comments from active users\n",
    "df_users.sum()"
   ]
  },
  {
   "cell_type": "code",
   "execution_count": 224,
   "metadata": {},
   "outputs": [
    {
     "data": {
      "text/plain": [
       "Index([u'bLbSNkLggFnqwNNzzq-Ijw', u'JaqcCU3nxReTW2cBLHounA',\n",
       "       u'JQIZhoQB-Tg9hdBEj90m4g', u'PKEzKWv_FktMm2mGPjwd0Q',\n",
       "       u'OXSJCjKtvZPf-YPDCXcWZg', u'3nIuSCZk5f_2WWYMLN7h3w',\n",
       "       u'B1829_hxXSEpDPEDJtYeIw', u'qPVtjjp8sNQ32p9860SR9Q',\n",
       "       u'mrpDR4jeLYun7bLMbw5a4w', u'U4INQZOPSUaj8hMjLlZ3KA',\n",
       "       ...\n",
       "       u'fiSNYsnGkXuO60wsniQ4gg', u'AeK4R7na2pH9871OBoQU4Q',\n",
       "       u'f4UOzbbwydfhqOic1PKYvg', u'QuiOIZivkg7Da9O03pBbUw',\n",
       "       u'qJXoA6sxmiJ357nLeAIlGQ', u'qBvsNlxtqy8hPxx1C7HuVA',\n",
       "       u'GCdc_CXrrkyfI8BqjIDEUw', u'-xVqWqhOMFN7X35ME-IA6w',\n",
       "       u'cRZNzm1GnoRyOwGlf2RuDQ', u'rLWUqAv2HieO8aoOr8sT4Q'],\n",
       "      dtype='object', length=7252)"
      ]
     },
     "execution_count": 224,
     "metadata": {},
     "output_type": "execute_result"
    }
   ],
   "source": [
    "# Display active user id\n",
    "df_users.index"
   ]
  },
  {
   "cell_type": "code",
   "execution_count": 225,
   "metadata": {},
   "outputs": [
    {
     "data": {
      "text/html": [
       "<div>\n",
       "<table border=\"1\" class=\"dataframe\">\n",
       "  <thead>\n",
       "    <tr style=\"text-align: right;\">\n",
       "      <th></th>\n",
       "      <th>business_id</th>\n",
       "      <th>user_id</th>\n",
       "      <th>stars</th>\n",
       "    </tr>\n",
       "  </thead>\n",
       "  <tbody>\n",
       "    <tr>\n",
       "      <th>0</th>\n",
       "      <td>--9e1ONYQuAa-CB_Rrw7Tw</td>\n",
       "      <td>nT8zgjoc-PbdBoQsFEXFLw</td>\n",
       "      <td>5</td>\n",
       "    </tr>\n",
       "    <tr>\n",
       "      <th>1</th>\n",
       "      <td>--9e1ONYQuAa-CB_Rrw7Tw</td>\n",
       "      <td>rOIrilMC7VFwFVBeQNiKMw</td>\n",
       "      <td>3</td>\n",
       "    </tr>\n",
       "    <tr>\n",
       "      <th>2</th>\n",
       "      <td>--9e1ONYQuAa-CB_Rrw7Tw</td>\n",
       "      <td>ez3GBw83OIgzzgvc0R4jzw</td>\n",
       "      <td>4</td>\n",
       "    </tr>\n",
       "    <tr>\n",
       "      <th>3</th>\n",
       "      <td>--9e1ONYQuAa-CB_Rrw7Tw</td>\n",
       "      <td>gJrOPH-DSZWY_NX2j6Bugw</td>\n",
       "      <td>5</td>\n",
       "    </tr>\n",
       "    <tr>\n",
       "      <th>4</th>\n",
       "      <td>--9e1ONYQuAa-CB_Rrw7Tw</td>\n",
       "      <td>3Y_gz3wb7T5ur9FHqxBcgQ</td>\n",
       "      <td>5</td>\n",
       "    </tr>\n",
       "  </tbody>\n",
       "</table>\n",
       "</div>"
      ],
      "text/plain": [
       "              business_id                 user_id  stars\n",
       "0  --9e1ONYQuAa-CB_Rrw7Tw  nT8zgjoc-PbdBoQsFEXFLw      5\n",
       "1  --9e1ONYQuAa-CB_Rrw7Tw  rOIrilMC7VFwFVBeQNiKMw      3\n",
       "2  --9e1ONYQuAa-CB_Rrw7Tw  ez3GBw83OIgzzgvc0R4jzw      4\n",
       "3  --9e1ONYQuAa-CB_Rrw7Tw  gJrOPH-DSZWY_NX2j6Bugw      5\n",
       "4  --9e1ONYQuAa-CB_Rrw7Tw  3Y_gz3wb7T5ur9FHqxBcgQ      5"
      ]
     },
     "execution_count": 225,
     "metadata": {},
     "output_type": "execute_result"
    }
   ],
   "source": [
    "df_stars.head()"
   ]
  },
  {
   "cell_type": "code",
   "execution_count": 226,
   "metadata": {},
   "outputs": [
    {
     "data": {
      "text/html": [
       "<div>\n",
       "<table border=\"1\" class=\"dataframe\">\n",
       "  <thead>\n",
       "    <tr style=\"text-align: right;\">\n",
       "      <th></th>\n",
       "      <th>business_id</th>\n",
       "      <th>stars</th>\n",
       "    </tr>\n",
       "    <tr>\n",
       "      <th>user_id</th>\n",
       "      <th></th>\n",
       "      <th></th>\n",
       "    </tr>\n",
       "  </thead>\n",
       "  <tbody>\n",
       "    <tr>\n",
       "      <th>nT8zgjoc-PbdBoQsFEXFLw</th>\n",
       "      <td>--9e1ONYQuAa-CB_Rrw7Tw</td>\n",
       "      <td>5</td>\n",
       "    </tr>\n",
       "    <tr>\n",
       "      <th>rOIrilMC7VFwFVBeQNiKMw</th>\n",
       "      <td>--9e1ONYQuAa-CB_Rrw7Tw</td>\n",
       "      <td>3</td>\n",
       "    </tr>\n",
       "    <tr>\n",
       "      <th>ez3GBw83OIgzzgvc0R4jzw</th>\n",
       "      <td>--9e1ONYQuAa-CB_Rrw7Tw</td>\n",
       "      <td>4</td>\n",
       "    </tr>\n",
       "    <tr>\n",
       "      <th>gJrOPH-DSZWY_NX2j6Bugw</th>\n",
       "      <td>--9e1ONYQuAa-CB_Rrw7Tw</td>\n",
       "      <td>5</td>\n",
       "    </tr>\n",
       "    <tr>\n",
       "      <th>3Y_gz3wb7T5ur9FHqxBcgQ</th>\n",
       "      <td>--9e1ONYQuAa-CB_Rrw7Tw</td>\n",
       "      <td>5</td>\n",
       "    </tr>\n",
       "  </tbody>\n",
       "</table>\n",
       "</div>"
      ],
      "text/plain": [
       "                                   business_id  stars\n",
       "user_id                                              \n",
       "nT8zgjoc-PbdBoQsFEXFLw  --9e1ONYQuAa-CB_Rrw7Tw      5\n",
       "rOIrilMC7VFwFVBeQNiKMw  --9e1ONYQuAa-CB_Rrw7Tw      3\n",
       "ez3GBw83OIgzzgvc0R4jzw  --9e1ONYQuAa-CB_Rrw7Tw      4\n",
       "gJrOPH-DSZWY_NX2j6Bugw  --9e1ONYQuAa-CB_Rrw7Tw      5\n",
       "3Y_gz3wb7T5ur9FHqxBcgQ  --9e1ONYQuAa-CB_Rrw7Tw      5"
      ]
     },
     "execution_count": 226,
     "metadata": {},
     "output_type": "execute_result"
    }
   ],
   "source": [
    "df_stars.set_index('user_id').head()"
   ]
  },
  {
   "cell_type": "code",
   "execution_count": 227,
   "metadata": {},
   "outputs": [
    {
     "data": {
      "text/html": [
       "<div>\n",
       "<table border=\"1\" class=\"dataframe\">\n",
       "  <thead>\n",
       "    <tr style=\"text-align: right;\">\n",
       "      <th></th>\n",
       "      <th>business_id</th>\n",
       "      <th>stars</th>\n",
       "    </tr>\n",
       "    <tr>\n",
       "      <th>user_id</th>\n",
       "      <th></th>\n",
       "      <th></th>\n",
       "    </tr>\n",
       "  </thead>\n",
       "  <tbody>\n",
       "    <tr>\n",
       "      <th>bLbSNkLggFnqwNNzzq-Ijw</th>\n",
       "      <td>0i9S0BejjRv0ZDwdO9XymA</td>\n",
       "      <td>3</td>\n",
       "    </tr>\n",
       "    <tr>\n",
       "      <th>bLbSNkLggFnqwNNzzq-Ijw</th>\n",
       "      <td>2QznyHGF0PuiYkrl5RU66A</td>\n",
       "      <td>4</td>\n",
       "    </tr>\n",
       "    <tr>\n",
       "      <th>bLbSNkLggFnqwNNzzq-Ijw</th>\n",
       "      <td>2WiMyg8-DoXQ8_R5qFc2iQ</td>\n",
       "      <td>3</td>\n",
       "    </tr>\n",
       "    <tr>\n",
       "      <th>bLbSNkLggFnqwNNzzq-Ijw</th>\n",
       "      <td>2vr2yGIzSehe_ITFamNpyw</td>\n",
       "      <td>3</td>\n",
       "    </tr>\n",
       "    <tr>\n",
       "      <th>bLbSNkLggFnqwNNzzq-Ijw</th>\n",
       "      <td>4Nj2ktP2NjCbv2aKeH3ZBg</td>\n",
       "      <td>4</td>\n",
       "    </tr>\n",
       "  </tbody>\n",
       "</table>\n",
       "</div>"
      ],
      "text/plain": [
       "                                   business_id  stars\n",
       "user_id                                              \n",
       "bLbSNkLggFnqwNNzzq-Ijw  0i9S0BejjRv0ZDwdO9XymA      3\n",
       "bLbSNkLggFnqwNNzzq-Ijw  2QznyHGF0PuiYkrl5RU66A      4\n",
       "bLbSNkLggFnqwNNzzq-Ijw  2WiMyg8-DoXQ8_R5qFc2iQ      3\n",
       "bLbSNkLggFnqwNNzzq-Ijw  2vr2yGIzSehe_ITFamNpyw      3\n",
       "bLbSNkLggFnqwNNzzq-Ijw  4Nj2ktP2NjCbv2aKeH3ZBg      4"
      ]
     },
     "execution_count": 227,
     "metadata": {},
     "output_type": "execute_result"
    }
   ],
   "source": [
    "df_stars.set_index('user_id').ix[df_users.index].head()"
   ]
  },
  {
   "cell_type": "code",
   "execution_count": 228,
   "metadata": {},
   "outputs": [
    {
     "data": {
      "text/html": [
       "<div>\n",
       "<table border=\"1\" class=\"dataframe\">\n",
       "  <thead>\n",
       "    <tr style=\"text-align: right;\">\n",
       "      <th></th>\n",
       "      <th>user_id</th>\n",
       "      <th>business_id</th>\n",
       "      <th>stars</th>\n",
       "    </tr>\n",
       "  </thead>\n",
       "  <tbody>\n",
       "    <tr>\n",
       "      <th>0</th>\n",
       "      <td>bLbSNkLggFnqwNNzzq-Ijw</td>\n",
       "      <td>0i9S0BejjRv0ZDwdO9XymA</td>\n",
       "      <td>3</td>\n",
       "    </tr>\n",
       "    <tr>\n",
       "      <th>1</th>\n",
       "      <td>bLbSNkLggFnqwNNzzq-Ijw</td>\n",
       "      <td>2QznyHGF0PuiYkrl5RU66A</td>\n",
       "      <td>4</td>\n",
       "    </tr>\n",
       "    <tr>\n",
       "      <th>2</th>\n",
       "      <td>bLbSNkLggFnqwNNzzq-Ijw</td>\n",
       "      <td>2WiMyg8-DoXQ8_R5qFc2iQ</td>\n",
       "      <td>3</td>\n",
       "    </tr>\n",
       "    <tr>\n",
       "      <th>3</th>\n",
       "      <td>bLbSNkLggFnqwNNzzq-Ijw</td>\n",
       "      <td>2vr2yGIzSehe_ITFamNpyw</td>\n",
       "      <td>3</td>\n",
       "    </tr>\n",
       "    <tr>\n",
       "      <th>4</th>\n",
       "      <td>bLbSNkLggFnqwNNzzq-Ijw</td>\n",
       "      <td>4Nj2ktP2NjCbv2aKeH3ZBg</td>\n",
       "      <td>4</td>\n",
       "    </tr>\n",
       "  </tbody>\n",
       "</table>\n",
       "</div>"
      ],
      "text/plain": [
       "                  user_id             business_id  stars\n",
       "0  bLbSNkLggFnqwNNzzq-Ijw  0i9S0BejjRv0ZDwdO9XymA      3\n",
       "1  bLbSNkLggFnqwNNzzq-Ijw  2QznyHGF0PuiYkrl5RU66A      4\n",
       "2  bLbSNkLggFnqwNNzzq-Ijw  2WiMyg8-DoXQ8_R5qFc2iQ      3\n",
       "3  bLbSNkLggFnqwNNzzq-Ijw  2vr2yGIzSehe_ITFamNpyw      3\n",
       "4  bLbSNkLggFnqwNNzzq-Ijw  4Nj2ktP2NjCbv2aKeH3ZBg      4"
      ]
     },
     "execution_count": 228,
     "metadata": {},
     "output_type": "execute_result"
    }
   ],
   "source": [
    "df_stars.set_index('user_id').ix[df_users.index].reset_index().head()"
   ]
  },
  {
   "cell_type": "code",
   "execution_count": 229,
   "metadata": {},
   "outputs": [
    {
     "data": {
      "text/html": [
       "<div>\n",
       "<table border=\"1\" class=\"dataframe\">\n",
       "  <thead>\n",
       "    <tr style=\"text-align: right;\">\n",
       "      <th></th>\n",
       "      <th>user_id</th>\n",
       "      <th>business_id</th>\n",
       "      <th>stars</th>\n",
       "    </tr>\n",
       "  </thead>\n",
       "  <tbody>\n",
       "    <tr>\n",
       "      <th>0</th>\n",
       "      <td>bLbSNkLggFnqwNNzzq-Ijw</td>\n",
       "      <td>0i9S0BejjRv0ZDwdO9XymA</td>\n",
       "      <td>3</td>\n",
       "    </tr>\n",
       "    <tr>\n",
       "      <th>1</th>\n",
       "      <td>bLbSNkLggFnqwNNzzq-Ijw</td>\n",
       "      <td>2QznyHGF0PuiYkrl5RU66A</td>\n",
       "      <td>4</td>\n",
       "    </tr>\n",
       "    <tr>\n",
       "      <th>2</th>\n",
       "      <td>bLbSNkLggFnqwNNzzq-Ijw</td>\n",
       "      <td>2WiMyg8-DoXQ8_R5qFc2iQ</td>\n",
       "      <td>3</td>\n",
       "    </tr>\n",
       "    <tr>\n",
       "      <th>3</th>\n",
       "      <td>bLbSNkLggFnqwNNzzq-Ijw</td>\n",
       "      <td>2vr2yGIzSehe_ITFamNpyw</td>\n",
       "      <td>3</td>\n",
       "    </tr>\n",
       "    <tr>\n",
       "      <th>4</th>\n",
       "      <td>bLbSNkLggFnqwNNzzq-Ijw</td>\n",
       "      <td>4Nj2ktP2NjCbv2aKeH3ZBg</td>\n",
       "      <td>4</td>\n",
       "    </tr>\n",
       "  </tbody>\n",
       "</table>\n",
       "</div>"
      ],
      "text/plain": [
       "                  user_id             business_id  stars\n",
       "0  bLbSNkLggFnqwNNzzq-Ijw  0i9S0BejjRv0ZDwdO9XymA      3\n",
       "1  bLbSNkLggFnqwNNzzq-Ijw  2QznyHGF0PuiYkrl5RU66A      4\n",
       "2  bLbSNkLggFnqwNNzzq-Ijw  2WiMyg8-DoXQ8_R5qFc2iQ      3\n",
       "3  bLbSNkLggFnqwNNzzq-Ijw  2vr2yGIzSehe_ITFamNpyw      3\n",
       "4  bLbSNkLggFnqwNNzzq-Ijw  4Nj2ktP2NjCbv2aKeH3ZBg      4"
      ]
     },
     "execution_count": 229,
     "metadata": {},
     "output_type": "execute_result"
    }
   ],
   "source": [
    "# Choose active users from the stars dataframe and sort df with user_id from most reivews to least\n",
    "df_stars_cleaned = df_stars.set_index('user_id').ix[df_users.index].reset_index()\n",
    "df_stars_cleaned.head()"
   ]
  },
  {
   "cell_type": "markdown",
   "metadata": {},
   "source": [
    "### Create utility matrix from the above records"
   ]
  },
  {
   "cell_type": "code",
   "execution_count": 230,
   "metadata": {},
   "outputs": [],
   "source": [
    "# Conver dataframe to document, word like matrix\n",
    "df_utility = pd.pivot_table(data = df_stars_cleaned,\n",
    "                            values = 'stars', # fill each row with stars\n",
    "                            index = 'user_id', # define rows\n",
    "                            columns = 'business_id', # define columns\n",
    "                            fill_value = 0) # fill missing with 0"
   ]
  },
  {
   "cell_type": "code",
   "execution_count": 231,
   "metadata": {},
   "outputs": [
    {
     "data": {
      "text/html": [
       "<div>\n",
       "<table border=\"1\" class=\"dataframe\">\n",
       "  <thead>\n",
       "    <tr style=\"text-align: right;\">\n",
       "      <th>business_id</th>\n",
       "      <th>--9e1ONYQuAa-CB_Rrw7Tw</th>\n",
       "      <th>-3zffZUHoY8bQjGfPSoBKQ</th>\n",
       "      <th>-8R_-EkGpUhBk55K9Dd4mg</th>\n",
       "      <th>-9YyInW1wapzdNZrhQJ9dg</th>\n",
       "      <th>-AD5PiuJHgdUcAK-Vxao2A</th>\n",
       "      <th>-Bf8BQ3yMk8U2f45r2DRKw</th>\n",
       "      <th>-BmqghX1sv7sgsxOIS2yAg</th>\n",
       "      <th>-Bv-HHUs8aHzDrdWcZHn8w</th>\n",
       "      <th>-C8sSrFqaCxp51pyo-fQLQ</th>\n",
       "      <th>-CQokjildrY7UZezXCdEBw</th>\n",
       "      <th>...</th>\n",
       "      <th>zkhBU5qW_zCy0q4OEtIrsA</th>\n",
       "      <th>zmltWmTpoBt5sCU-5Kzj-Q</th>\n",
       "      <th>znWHLW1pt19HzW1VY6KfCA</th>\n",
       "      <th>zp-K5s3pGTWuuaVBWo6WZA</th>\n",
       "      <th>zpoZ6WyQUYff18-z4ZU1mA</th>\n",
       "      <th>zsQk990PubOHjr1YcLkQFw</th>\n",
       "      <th>zt9RLUIU32fZYOBh2L0NNQ</th>\n",
       "      <th>zttcrQP4MxNS5X5itzStXg</th>\n",
       "      <th>zuwba6QEBIDZT0tJZmNhdQ</th>\n",
       "      <th>zwNC-Ow4eIMan2__bS9-rg</th>\n",
       "    </tr>\n",
       "    <tr>\n",
       "      <th>user_id</th>\n",
       "      <th></th>\n",
       "      <th></th>\n",
       "      <th></th>\n",
       "      <th></th>\n",
       "      <th></th>\n",
       "      <th></th>\n",
       "      <th></th>\n",
       "      <th></th>\n",
       "      <th></th>\n",
       "      <th></th>\n",
       "      <th></th>\n",
       "      <th></th>\n",
       "      <th></th>\n",
       "      <th></th>\n",
       "      <th></th>\n",
       "      <th></th>\n",
       "      <th></th>\n",
       "      <th></th>\n",
       "      <th></th>\n",
       "      <th></th>\n",
       "      <th></th>\n",
       "    </tr>\n",
       "  </thead>\n",
       "  <tbody>\n",
       "    <tr>\n",
       "      <th>--LUapetRSkZpFZ2d-MXLQ</th>\n",
       "      <td>0</td>\n",
       "      <td>0</td>\n",
       "      <td>0</td>\n",
       "      <td>0</td>\n",
       "      <td>0</td>\n",
       "      <td>0</td>\n",
       "      <td>0</td>\n",
       "      <td>0</td>\n",
       "      <td>0</td>\n",
       "      <td>0</td>\n",
       "      <td>...</td>\n",
       "      <td>0</td>\n",
       "      <td>0</td>\n",
       "      <td>0</td>\n",
       "      <td>0</td>\n",
       "      <td>0</td>\n",
       "      <td>0</td>\n",
       "      <td>0</td>\n",
       "      <td>0</td>\n",
       "      <td>0</td>\n",
       "      <td>0</td>\n",
       "    </tr>\n",
       "    <tr>\n",
       "      <th>--ZNfWKj1VyVElRx6-g1fg</th>\n",
       "      <td>0</td>\n",
       "      <td>0</td>\n",
       "      <td>0</td>\n",
       "      <td>0</td>\n",
       "      <td>0</td>\n",
       "      <td>0</td>\n",
       "      <td>0</td>\n",
       "      <td>0</td>\n",
       "      <td>0</td>\n",
       "      <td>0</td>\n",
       "      <td>...</td>\n",
       "      <td>0</td>\n",
       "      <td>0</td>\n",
       "      <td>0</td>\n",
       "      <td>0</td>\n",
       "      <td>0</td>\n",
       "      <td>3</td>\n",
       "      <td>0</td>\n",
       "      <td>0</td>\n",
       "      <td>0</td>\n",
       "      <td>0</td>\n",
       "    </tr>\n",
       "    <tr>\n",
       "      <th>-0CYm85fllm43U7UQOe82w</th>\n",
       "      <td>0</td>\n",
       "      <td>0</td>\n",
       "      <td>0</td>\n",
       "      <td>0</td>\n",
       "      <td>0</td>\n",
       "      <td>0</td>\n",
       "      <td>0</td>\n",
       "      <td>0</td>\n",
       "      <td>0</td>\n",
       "      <td>0</td>\n",
       "      <td>...</td>\n",
       "      <td>0</td>\n",
       "      <td>0</td>\n",
       "      <td>0</td>\n",
       "      <td>0</td>\n",
       "      <td>0</td>\n",
       "      <td>0</td>\n",
       "      <td>0</td>\n",
       "      <td>0</td>\n",
       "      <td>0</td>\n",
       "      <td>0</td>\n",
       "    </tr>\n",
       "    <tr>\n",
       "      <th>-0Hf2jiBo7hJdxYW0Y6PKQ</th>\n",
       "      <td>0</td>\n",
       "      <td>0</td>\n",
       "      <td>0</td>\n",
       "      <td>0</td>\n",
       "      <td>0</td>\n",
       "      <td>0</td>\n",
       "      <td>0</td>\n",
       "      <td>0</td>\n",
       "      <td>0</td>\n",
       "      <td>0</td>\n",
       "      <td>...</td>\n",
       "      <td>0</td>\n",
       "      <td>0</td>\n",
       "      <td>0</td>\n",
       "      <td>0</td>\n",
       "      <td>0</td>\n",
       "      <td>0</td>\n",
       "      <td>0</td>\n",
       "      <td>0</td>\n",
       "      <td>0</td>\n",
       "      <td>0</td>\n",
       "    </tr>\n",
       "    <tr>\n",
       "      <th>-2gOxVWcnBr5DclrrsWXCA</th>\n",
       "      <td>0</td>\n",
       "      <td>0</td>\n",
       "      <td>0</td>\n",
       "      <td>0</td>\n",
       "      <td>0</td>\n",
       "      <td>0</td>\n",
       "      <td>0</td>\n",
       "      <td>0</td>\n",
       "      <td>0</td>\n",
       "      <td>0</td>\n",
       "      <td>...</td>\n",
       "      <td>0</td>\n",
       "      <td>0</td>\n",
       "      <td>0</td>\n",
       "      <td>0</td>\n",
       "      <td>0</td>\n",
       "      <td>0</td>\n",
       "      <td>0</td>\n",
       "      <td>0</td>\n",
       "      <td>0</td>\n",
       "      <td>0</td>\n",
       "    </tr>\n",
       "  </tbody>\n",
       "</table>\n",
       "<p>5 rows × 3911 columns</p>\n",
       "</div>"
      ],
      "text/plain": [
       "business_id             --9e1ONYQuAa-CB_Rrw7Tw  -3zffZUHoY8bQjGfPSoBKQ  \\\n",
       "user_id                                                                  \n",
       "--LUapetRSkZpFZ2d-MXLQ                       0                       0   \n",
       "--ZNfWKj1VyVElRx6-g1fg                       0                       0   \n",
       "-0CYm85fllm43U7UQOe82w                       0                       0   \n",
       "-0Hf2jiBo7hJdxYW0Y6PKQ                       0                       0   \n",
       "-2gOxVWcnBr5DclrrsWXCA                       0                       0   \n",
       "\n",
       "business_id             -8R_-EkGpUhBk55K9Dd4mg  -9YyInW1wapzdNZrhQJ9dg  \\\n",
       "user_id                                                                  \n",
       "--LUapetRSkZpFZ2d-MXLQ                       0                       0   \n",
       "--ZNfWKj1VyVElRx6-g1fg                       0                       0   \n",
       "-0CYm85fllm43U7UQOe82w                       0                       0   \n",
       "-0Hf2jiBo7hJdxYW0Y6PKQ                       0                       0   \n",
       "-2gOxVWcnBr5DclrrsWXCA                       0                       0   \n",
       "\n",
       "business_id             -AD5PiuJHgdUcAK-Vxao2A  -Bf8BQ3yMk8U2f45r2DRKw  \\\n",
       "user_id                                                                  \n",
       "--LUapetRSkZpFZ2d-MXLQ                       0                       0   \n",
       "--ZNfWKj1VyVElRx6-g1fg                       0                       0   \n",
       "-0CYm85fllm43U7UQOe82w                       0                       0   \n",
       "-0Hf2jiBo7hJdxYW0Y6PKQ                       0                       0   \n",
       "-2gOxVWcnBr5DclrrsWXCA                       0                       0   \n",
       "\n",
       "business_id             -BmqghX1sv7sgsxOIS2yAg  -Bv-HHUs8aHzDrdWcZHn8w  \\\n",
       "user_id                                                                  \n",
       "--LUapetRSkZpFZ2d-MXLQ                       0                       0   \n",
       "--ZNfWKj1VyVElRx6-g1fg                       0                       0   \n",
       "-0CYm85fllm43U7UQOe82w                       0                       0   \n",
       "-0Hf2jiBo7hJdxYW0Y6PKQ                       0                       0   \n",
       "-2gOxVWcnBr5DclrrsWXCA                       0                       0   \n",
       "\n",
       "business_id             -C8sSrFqaCxp51pyo-fQLQ  -CQokjildrY7UZezXCdEBw  \\\n",
       "user_id                                                                  \n",
       "--LUapetRSkZpFZ2d-MXLQ                       0                       0   \n",
       "--ZNfWKj1VyVElRx6-g1fg                       0                       0   \n",
       "-0CYm85fllm43U7UQOe82w                       0                       0   \n",
       "-0Hf2jiBo7hJdxYW0Y6PKQ                       0                       0   \n",
       "-2gOxVWcnBr5DclrrsWXCA                       0                       0   \n",
       "\n",
       "business_id                      ...            zkhBU5qW_zCy0q4OEtIrsA  \\\n",
       "user_id                          ...                                     \n",
       "--LUapetRSkZpFZ2d-MXLQ           ...                                 0   \n",
       "--ZNfWKj1VyVElRx6-g1fg           ...                                 0   \n",
       "-0CYm85fllm43U7UQOe82w           ...                                 0   \n",
       "-0Hf2jiBo7hJdxYW0Y6PKQ           ...                                 0   \n",
       "-2gOxVWcnBr5DclrrsWXCA           ...                                 0   \n",
       "\n",
       "business_id             zmltWmTpoBt5sCU-5Kzj-Q  znWHLW1pt19HzW1VY6KfCA  \\\n",
       "user_id                                                                  \n",
       "--LUapetRSkZpFZ2d-MXLQ                       0                       0   \n",
       "--ZNfWKj1VyVElRx6-g1fg                       0                       0   \n",
       "-0CYm85fllm43U7UQOe82w                       0                       0   \n",
       "-0Hf2jiBo7hJdxYW0Y6PKQ                       0                       0   \n",
       "-2gOxVWcnBr5DclrrsWXCA                       0                       0   \n",
       "\n",
       "business_id             zp-K5s3pGTWuuaVBWo6WZA  zpoZ6WyQUYff18-z4ZU1mA  \\\n",
       "user_id                                                                  \n",
       "--LUapetRSkZpFZ2d-MXLQ                       0                       0   \n",
       "--ZNfWKj1VyVElRx6-g1fg                       0                       0   \n",
       "-0CYm85fllm43U7UQOe82w                       0                       0   \n",
       "-0Hf2jiBo7hJdxYW0Y6PKQ                       0                       0   \n",
       "-2gOxVWcnBr5DclrrsWXCA                       0                       0   \n",
       "\n",
       "business_id             zsQk990PubOHjr1YcLkQFw  zt9RLUIU32fZYOBh2L0NNQ  \\\n",
       "user_id                                                                  \n",
       "--LUapetRSkZpFZ2d-MXLQ                       0                       0   \n",
       "--ZNfWKj1VyVElRx6-g1fg                       3                       0   \n",
       "-0CYm85fllm43U7UQOe82w                       0                       0   \n",
       "-0Hf2jiBo7hJdxYW0Y6PKQ                       0                       0   \n",
       "-2gOxVWcnBr5DclrrsWXCA                       0                       0   \n",
       "\n",
       "business_id             zttcrQP4MxNS5X5itzStXg  zuwba6QEBIDZT0tJZmNhdQ  \\\n",
       "user_id                                                                  \n",
       "--LUapetRSkZpFZ2d-MXLQ                       0                       0   \n",
       "--ZNfWKj1VyVElRx6-g1fg                       0                       0   \n",
       "-0CYm85fllm43U7UQOe82w                       0                       0   \n",
       "-0Hf2jiBo7hJdxYW0Y6PKQ                       0                       0   \n",
       "-2gOxVWcnBr5DclrrsWXCA                       0                       0   \n",
       "\n",
       "business_id             zwNC-Ow4eIMan2__bS9-rg  \n",
       "user_id                                         \n",
       "--LUapetRSkZpFZ2d-MXLQ                       0  \n",
       "--ZNfWKj1VyVElRx6-g1fg                       0  \n",
       "-0CYm85fllm43U7UQOe82w                       0  \n",
       "-0Hf2jiBo7hJdxYW0Y6PKQ                       0  \n",
       "-2gOxVWcnBr5DclrrsWXCA                       0  \n",
       "\n",
       "[5 rows x 3911 columns]"
      ]
     },
     "execution_count": 231,
     "metadata": {},
     "output_type": "execute_result"
    }
   ],
   "source": [
    "df_utility.head()"
   ]
  },
  {
   "cell_type": "code",
   "execution_count": 232,
   "metadata": {},
   "outputs": [
    {
     "data": {
      "text/plain": [
       "(7252, 3911)"
      ]
     },
     "execution_count": 232,
     "metadata": {},
     "output_type": "execute_result"
    }
   ],
   "source": [
    "df_utility.shape # totally 7252 user_id and 3911 business_id"
   ]
  },
  {
   "cell_type": "code",
   "execution_count": 233,
   "metadata": {},
   "outputs": [
    {
     "data": {
      "text/plain": [
       "(7252,)"
      ]
     },
     "execution_count": 233,
     "metadata": {},
     "output_type": "execute_result"
    }
   ],
   "source": [
    "# Get the list of user id by taking out the index of the utility matrix\n",
    "user_id_list = df_utility.index\n",
    "user_id_list.shape"
   ]
  },
  {
   "cell_type": "code",
   "execution_count": 234,
   "metadata": {},
   "outputs": [
    {
     "data": {
      "text/plain": [
       "(3911,)"
      ]
     },
     "execution_count": 234,
     "metadata": {},
     "output_type": "execute_result"
    }
   ],
   "source": [
    "# Get the list of business id by taking out the columns of the utility matrix\n",
    "item_id_list = df_utility.columns\n",
    "item_id_list.shape"
   ]
  },
  {
   "cell_type": "markdown",
   "metadata": {},
   "source": [
    "### Recommendation system with graphlab"
   ]
  },
  {
   "cell_type": "code",
   "execution_count": 235,
   "metadata": {},
   "outputs": [],
   "source": [
    "import graphlab"
   ]
  },
  {
   "cell_type": "markdown",
   "metadata": {},
   "source": [
    "## 2. Item-Item similarity recommender"
   ]
  },
  {
   "cell_type": "markdown",
   "metadata": {},
   "source": [
    "### Let's reuse the ItemItemRecommender class derived from previous exercise\n",
    "\n",
    "Hint: we need to make modification to accommodate the dense numpy array\n",
    "\n",
    "### Note: used graphlab for the item-item recommender system."
   ]
  },
  {
   "cell_type": "code",
   "execution_count": 236,
   "metadata": {},
   "outputs": [
    {
     "name": "stdout",
     "output_type": "stream",
     "text": [
      "<class 'pandas.core.frame.DataFrame'>\n",
      "RangeIndex: 287097 entries, 0 to 287096\n",
      "Data columns (total 3 columns):\n",
      "business_id    287097 non-null object\n",
      "user_id        287097 non-null object\n",
      "stars          287097 non-null int64\n",
      "dtypes: int64(1), object(2)\n",
      "memory usage: 6.6+ MB\n"
     ]
    }
   ],
   "source": [
    "df_stars.info()"
   ]
  },
  {
   "cell_type": "code",
   "execution_count": 237,
   "metadata": {},
   "outputs": [
    {
     "data": {
      "text/html": [
       "<div style=\"max-height:1000px;max-width:1500px;overflow:auto;\"><table frame=\"box\" rules=\"cols\">\n",
       "    <tr>\n",
       "        <th style=\"padding-left: 1em; padding-right: 1em; text-align: center\">business_id</th>\n",
       "        <th style=\"padding-left: 1em; padding-right: 1em; text-align: center\">user_id</th>\n",
       "        <th style=\"padding-left: 1em; padding-right: 1em; text-align: center\">stars</th>\n",
       "    </tr>\n",
       "    <tr>\n",
       "        <td style=\"padding-left: 1em; padding-right: 1em; text-align: center; vertical-align: top\">--9e1ONYQuAa-CB_Rrw7Tw</td>\n",
       "        <td style=\"padding-left: 1em; padding-right: 1em; text-align: center; vertical-align: top\">nT8zgjoc-PbdBoQsFEXFLw</td>\n",
       "        <td style=\"padding-left: 1em; padding-right: 1em; text-align: center; vertical-align: top\">5</td>\n",
       "    </tr>\n",
       "    <tr>\n",
       "        <td style=\"padding-left: 1em; padding-right: 1em; text-align: center; vertical-align: top\">--9e1ONYQuAa-CB_Rrw7Tw</td>\n",
       "        <td style=\"padding-left: 1em; padding-right: 1em; text-align: center; vertical-align: top\">rOIrilMC7VFwFVBeQNiKMw</td>\n",
       "        <td style=\"padding-left: 1em; padding-right: 1em; text-align: center; vertical-align: top\">3</td>\n",
       "    </tr>\n",
       "    <tr>\n",
       "        <td style=\"padding-left: 1em; padding-right: 1em; text-align: center; vertical-align: top\">--9e1ONYQuAa-CB_Rrw7Tw</td>\n",
       "        <td style=\"padding-left: 1em; padding-right: 1em; text-align: center; vertical-align: top\">ez3GBw83OIgzzgvc0R4jzw</td>\n",
       "        <td style=\"padding-left: 1em; padding-right: 1em; text-align: center; vertical-align: top\">4</td>\n",
       "    </tr>\n",
       "    <tr>\n",
       "        <td style=\"padding-left: 1em; padding-right: 1em; text-align: center; vertical-align: top\">--9e1ONYQuAa-CB_Rrw7Tw</td>\n",
       "        <td style=\"padding-left: 1em; padding-right: 1em; text-align: center; vertical-align: top\">gJrOPH-DSZWY_NX2j6Bugw</td>\n",
       "        <td style=\"padding-left: 1em; padding-right: 1em; text-align: center; vertical-align: top\">5</td>\n",
       "    </tr>\n",
       "    <tr>\n",
       "        <td style=\"padding-left: 1em; padding-right: 1em; text-align: center; vertical-align: top\">--9e1ONYQuAa-CB_Rrw7Tw</td>\n",
       "        <td style=\"padding-left: 1em; padding-right: 1em; text-align: center; vertical-align: top\">3Y_gz3wb7T5ur9FHqxBcgQ</td>\n",
       "        <td style=\"padding-left: 1em; padding-right: 1em; text-align: center; vertical-align: top\">5</td>\n",
       "    </tr>\n",
       "    <tr>\n",
       "        <td style=\"padding-left: 1em; padding-right: 1em; text-align: center; vertical-align: top\">--9e1ONYQuAa-CB_Rrw7Tw</td>\n",
       "        <td style=\"padding-left: 1em; padding-right: 1em; text-align: center; vertical-align: top\">b4bTks98idS6-hx5AT92WQ</td>\n",
       "        <td style=\"padding-left: 1em; padding-right: 1em; text-align: center; vertical-align: top\">5</td>\n",
       "    </tr>\n",
       "    <tr>\n",
       "        <td style=\"padding-left: 1em; padding-right: 1em; text-align: center; vertical-align: top\">--9e1ONYQuAa-CB_Rrw7Tw</td>\n",
       "        <td style=\"padding-left: 1em; padding-right: 1em; text-align: center; vertical-align: top\">quX8U7dnq5YN6h1P04ps4g</td>\n",
       "        <td style=\"padding-left: 1em; padding-right: 1em; text-align: center; vertical-align: top\">5</td>\n",
       "    </tr>\n",
       "    <tr>\n",
       "        <td style=\"padding-left: 1em; padding-right: 1em; text-align: center; vertical-align: top\">--9e1ONYQuAa-CB_Rrw7Tw</td>\n",
       "        <td style=\"padding-left: 1em; padding-right: 1em; text-align: center; vertical-align: top\">gcz5baFhV096VSrB9EESXw</td>\n",
       "        <td style=\"padding-left: 1em; padding-right: 1em; text-align: center; vertical-align: top\">4</td>\n",
       "    </tr>\n",
       "    <tr>\n",
       "        <td style=\"padding-left: 1em; padding-right: 1em; text-align: center; vertical-align: top\">--9e1ONYQuAa-CB_Rrw7Tw</td>\n",
       "        <td style=\"padding-left: 1em; padding-right: 1em; text-align: center; vertical-align: top\">WAzX3AaM6PQfzFJHaUF6xQ</td>\n",
       "        <td style=\"padding-left: 1em; padding-right: 1em; text-align: center; vertical-align: top\">5</td>\n",
       "    </tr>\n",
       "    <tr>\n",
       "        <td style=\"padding-left: 1em; padding-right: 1em; text-align: center; vertical-align: top\">--9e1ONYQuAa-CB_Rrw7Tw</td>\n",
       "        <td style=\"padding-left: 1em; padding-right: 1em; text-align: center; vertical-align: top\">1kr9EZFV3T_l-8KBkfPo5Q</td>\n",
       "        <td style=\"padding-left: 1em; padding-right: 1em; text-align: center; vertical-align: top\">3</td>\n",
       "    </tr>\n",
       "</table>\n",
       "[287097 rows x 3 columns]<br/>Note: Only the head of the SFrame is printed.<br/>You can use print_rows(num_rows=m, num_columns=n) to print more rows and columns.\n",
       "</div>"
      ],
      "text/plain": [
       "Columns:\n",
       "\tbusiness_id\tstr\n",
       "\tuser_id\tstr\n",
       "\tstars\tint\n",
       "\n",
       "Rows: 287097\n",
       "\n",
       "Data:\n",
       "+------------------------+------------------------+-------+\n",
       "|      business_id       |        user_id         | stars |\n",
       "+------------------------+------------------------+-------+\n",
       "| --9e1ONYQuAa-CB_Rrw7Tw | nT8zgjoc-PbdBoQsFEXFLw |   5   |\n",
       "| --9e1ONYQuAa-CB_Rrw7Tw | rOIrilMC7VFwFVBeQNiKMw |   3   |\n",
       "| --9e1ONYQuAa-CB_Rrw7Tw | ez3GBw83OIgzzgvc0R4jzw |   4   |\n",
       "| --9e1ONYQuAa-CB_Rrw7Tw | gJrOPH-DSZWY_NX2j6Bugw |   5   |\n",
       "| --9e1ONYQuAa-CB_Rrw7Tw | 3Y_gz3wb7T5ur9FHqxBcgQ |   5   |\n",
       "| --9e1ONYQuAa-CB_Rrw7Tw | b4bTks98idS6-hx5AT92WQ |   5   |\n",
       "| --9e1ONYQuAa-CB_Rrw7Tw | quX8U7dnq5YN6h1P04ps4g |   5   |\n",
       "| --9e1ONYQuAa-CB_Rrw7Tw | gcz5baFhV096VSrB9EESXw |   4   |\n",
       "| --9e1ONYQuAa-CB_Rrw7Tw | WAzX3AaM6PQfzFJHaUF6xQ |   5   |\n",
       "| --9e1ONYQuAa-CB_Rrw7Tw | 1kr9EZFV3T_l-8KBkfPo5Q |   3   |\n",
       "+------------------------+------------------------+-------+\n",
       "[287097 rows x 3 columns]\n",
       "Note: Only the head of the SFrame is printed.\n",
       "You can use print_rows(num_rows=m, num_columns=n) to print more rows and columns."
      ]
     },
     "execution_count": 237,
     "metadata": {},
     "output_type": "execute_result"
    }
   ],
   "source": [
    "# To be implemented\n",
    "\n",
    "sf_stars = graphlab.SFrame(df_stars)\n",
    "sf_stars"
   ]
  },
  {
   "cell_type": "code",
   "execution_count": 238,
   "metadata": {},
   "outputs": [
    {
     "data": {
      "text/html": [
       "<pre>Recsys training: model = item_similarity</pre>"
      ],
      "text/plain": [
       "Recsys training: model = item_similarity"
      ]
     },
     "metadata": {},
     "output_type": "display_data"
    },
    {
     "data": {
      "text/html": [
       "<pre>Preparing data set.</pre>"
      ],
      "text/plain": [
       "Preparing data set."
      ]
     },
     "metadata": {},
     "output_type": "display_data"
    },
    {
     "data": {
      "text/html": [
       "<pre>    Data has 287097 observations with 140737 users and 4290 items.</pre>"
      ],
      "text/plain": [
       "    Data has 287097 observations with 140737 users and 4290 items."
      ]
     },
     "metadata": {},
     "output_type": "display_data"
    },
    {
     "data": {
      "text/html": [
       "<pre>    Data prepared in: 1.07769s</pre>"
      ],
      "text/plain": [
       "    Data prepared in: 1.07769s"
      ]
     },
     "metadata": {},
     "output_type": "display_data"
    },
    {
     "data": {
      "text/html": [
       "<pre>Training model from provided data.</pre>"
      ],
      "text/plain": [
       "Training model from provided data."
      ]
     },
     "metadata": {},
     "output_type": "display_data"
    },
    {
     "data": {
      "text/html": [
       "<pre>Gathering per-item and per-user statistics.</pre>"
      ],
      "text/plain": [
       "Gathering per-item and per-user statistics."
      ]
     },
     "metadata": {},
     "output_type": "display_data"
    },
    {
     "data": {
      "text/html": [
       "<pre>+--------------------------------+------------+</pre>"
      ],
      "text/plain": [
       "+--------------------------------+------------+"
      ]
     },
     "metadata": {},
     "output_type": "display_data"
    },
    {
     "data": {
      "text/html": [
       "<pre>| Elapsed Time (Item Statistics) | % Complete |</pre>"
      ],
      "text/plain": [
       "| Elapsed Time (Item Statistics) | % Complete |"
      ]
     },
     "metadata": {},
     "output_type": "display_data"
    },
    {
     "data": {
      "text/html": [
       "<pre>+--------------------------------+------------+</pre>"
      ],
      "text/plain": [
       "+--------------------------------+------------+"
      ]
     },
     "metadata": {},
     "output_type": "display_data"
    },
    {
     "data": {
      "text/html": [
       "<pre>| 14.759ms                       | 8.5        |</pre>"
      ],
      "text/plain": [
       "| 14.759ms                       | 8.5        |"
      ]
     },
     "metadata": {},
     "output_type": "display_data"
    },
    {
     "data": {
      "text/html": [
       "<pre>| 57.955ms                       | 100        |</pre>"
      ],
      "text/plain": [
       "| 57.955ms                       | 100        |"
      ]
     },
     "metadata": {},
     "output_type": "display_data"
    },
    {
     "data": {
      "text/html": [
       "<pre>+--------------------------------+------------+</pre>"
      ],
      "text/plain": [
       "+--------------------------------+------------+"
      ]
     },
     "metadata": {},
     "output_type": "display_data"
    },
    {
     "data": {
      "text/html": [
       "<pre>Setting up lookup tables.</pre>"
      ],
      "text/plain": [
       "Setting up lookup tables."
      ]
     },
     "metadata": {},
     "output_type": "display_data"
    },
    {
     "data": {
      "text/html": [
       "<pre>Processing data in one pass using dense lookup tables.</pre>"
      ],
      "text/plain": [
       "Processing data in one pass using dense lookup tables."
      ]
     },
     "metadata": {},
     "output_type": "display_data"
    },
    {
     "data": {
      "text/html": [
       "<pre>+-------------------------------------+------------------+-----------------+</pre>"
      ],
      "text/plain": [
       "+-------------------------------------+------------------+-----------------+"
      ]
     },
     "metadata": {},
     "output_type": "display_data"
    },
    {
     "data": {
      "text/html": [
       "<pre>| Elapsed Time (Constructing Lookups) | Total % Complete | Items Processed |</pre>"
      ],
      "text/plain": [
       "| Elapsed Time (Constructing Lookups) | Total % Complete | Items Processed |"
      ]
     },
     "metadata": {},
     "output_type": "display_data"
    },
    {
     "data": {
      "text/html": [
       "<pre>+-------------------------------------+------------------+-----------------+</pre>"
      ],
      "text/plain": [
       "+-------------------------------------+------------------+-----------------+"
      ]
     },
     "metadata": {},
     "output_type": "display_data"
    },
    {
     "data": {
      "text/html": [
       "<pre>| 119.72ms                            | 0                | 0               |</pre>"
      ],
      "text/plain": [
       "| 119.72ms                            | 0                | 0               |"
      ]
     },
     "metadata": {},
     "output_type": "display_data"
    },
    {
     "data": {
      "text/html": [
       "<pre>| 431.469ms                           | 100              | 4290            |</pre>"
      ],
      "text/plain": [
       "| 431.469ms                           | 100              | 4290            |"
      ]
     },
     "metadata": {},
     "output_type": "display_data"
    },
    {
     "data": {
      "text/html": [
       "<pre>+-------------------------------------+------------------+-----------------+</pre>"
      ],
      "text/plain": [
       "+-------------------------------------+------------------+-----------------+"
      ]
     },
     "metadata": {},
     "output_type": "display_data"
    },
    {
     "data": {
      "text/html": [
       "<pre>Finalizing lookup tables.</pre>"
      ],
      "text/plain": [
       "Finalizing lookup tables."
      ]
     },
     "metadata": {},
     "output_type": "display_data"
    },
    {
     "data": {
      "text/html": [
       "<pre>Generating candidate set for working with new users.</pre>"
      ],
      "text/plain": [
       "Generating candidate set for working with new users."
      ]
     },
     "metadata": {},
     "output_type": "display_data"
    },
    {
     "data": {
      "text/html": [
       "<pre>Finished training in 0.484086s</pre>"
      ],
      "text/plain": [
       "Finished training in 0.484086s"
      ]
     },
     "metadata": {},
     "output_type": "display_data"
    }
   ],
   "source": [
    "# item-item recommender\n",
    "item_item_rec = graphlab.recommender.item_similarity_recommender.create(sf_stars,\n",
    "                                                                        user_id = 'user_id',\n",
    "                                                                        item_id = 'business_id',\n",
    "                                                                        target = 'stars')"
   ]
  },
  {
   "cell_type": "code",
   "execution_count": 239,
   "metadata": {},
   "outputs": [],
   "source": [
    "# for each user, recommend 3 items with highest score\n",
    "item_item_rec_result = item_item_rec.recommend(k = 3, verbose = False)"
   ]
  },
  {
   "cell_type": "code",
   "execution_count": 240,
   "metadata": {},
   "outputs": [
    {
     "data": {
      "text/html": [
       "<div style=\"max-height:1000px;max-width:1500px;overflow:auto;\"><table frame=\"box\" rules=\"cols\">\n",
       "    <tr>\n",
       "        <th style=\"padding-left: 1em; padding-right: 1em; text-align: center\">user_id</th>\n",
       "        <th style=\"padding-left: 1em; padding-right: 1em; text-align: center\">business_id</th>\n",
       "        <th style=\"padding-left: 1em; padding-right: 1em; text-align: center\">score</th>\n",
       "        <th style=\"padding-left: 1em; padding-right: 1em; text-align: center\">rank</th>\n",
       "    </tr>\n",
       "    <tr>\n",
       "        <td style=\"padding-left: 1em; padding-right: 1em; text-align: center; vertical-align: top\">nT8zgjoc-PbdBoQsFEXFLw</td>\n",
       "        <td style=\"padding-left: 1em; padding-right: 1em; text-align: center; vertical-align: top\">wZCdr3iLTE6aa9kiVxWJWQ</td>\n",
       "        <td style=\"padding-left: 1em; padding-right: 1em; text-align: center; vertical-align: top\">0.00712597370148</td>\n",
       "        <td style=\"padding-left: 1em; padding-right: 1em; text-align: center; vertical-align: top\">1</td>\n",
       "    </tr>\n",
       "    <tr>\n",
       "        <td style=\"padding-left: 1em; padding-right: 1em; text-align: center; vertical-align: top\">nT8zgjoc-PbdBoQsFEXFLw</td>\n",
       "        <td style=\"padding-left: 1em; padding-right: 1em; text-align: center; vertical-align: top\">DESv2ys6SjBKA4SyDtJvxw</td>\n",
       "        <td style=\"padding-left: 1em; padding-right: 1em; text-align: center; vertical-align: top\">0.00700567166011</td>\n",
       "        <td style=\"padding-left: 1em; padding-right: 1em; text-align: center; vertical-align: top\">2</td>\n",
       "    </tr>\n",
       "    <tr>\n",
       "        <td style=\"padding-left: 1em; padding-right: 1em; text-align: center; vertical-align: top\">nT8zgjoc-PbdBoQsFEXFLw</td>\n",
       "        <td style=\"padding-left: 1em; padding-right: 1em; text-align: center; vertical-align: top\">pKk7jCFIm96qDdk0laVT2w</td>\n",
       "        <td style=\"padding-left: 1em; padding-right: 1em; text-align: center; vertical-align: top\">0.00664258003235</td>\n",
       "        <td style=\"padding-left: 1em; padding-right: 1em; text-align: center; vertical-align: top\">3</td>\n",
       "    </tr>\n",
       "    <tr>\n",
       "        <td style=\"padding-left: 1em; padding-right: 1em; text-align: center; vertical-align: top\">rOIrilMC7VFwFVBeQNiKMw</td>\n",
       "        <td style=\"padding-left: 1em; padding-right: 1em; text-align: center; vertical-align: top\">RESDUcs7fIiihp38-d6_6g</td>\n",
       "        <td style=\"padding-left: 1em; padding-right: 1em; text-align: center; vertical-align: top\">0.0144354701042</td>\n",
       "        <td style=\"padding-left: 1em; padding-right: 1em; text-align: center; vertical-align: top\">1</td>\n",
       "    </tr>\n",
       "    <tr>\n",
       "        <td style=\"padding-left: 1em; padding-right: 1em; text-align: center; vertical-align: top\">rOIrilMC7VFwFVBeQNiKMw</td>\n",
       "        <td style=\"padding-left: 1em; padding-right: 1em; text-align: center; vertical-align: top\">eaNenRk_liZBERFFLCXqqQ</td>\n",
       "        <td style=\"padding-left: 1em; padding-right: 1em; text-align: center; vertical-align: top\">0.0128062367439</td>\n",
       "        <td style=\"padding-left: 1em; padding-right: 1em; text-align: center; vertical-align: top\">2</td>\n",
       "    </tr>\n",
       "    <tr>\n",
       "        <td style=\"padding-left: 1em; padding-right: 1em; text-align: center; vertical-align: top\">rOIrilMC7VFwFVBeQNiKMw</td>\n",
       "        <td style=\"padding-left: 1em; padding-right: 1em; text-align: center; vertical-align: top\">JPfi__QJAaRzmfh5aOyFEw</td>\n",
       "        <td style=\"padding-left: 1em; padding-right: 1em; text-align: center; vertical-align: top\">0.0105006247759</td>\n",
       "        <td style=\"padding-left: 1em; padding-right: 1em; text-align: center; vertical-align: top\">3</td>\n",
       "    </tr>\n",
       "    <tr>\n",
       "        <td style=\"padding-left: 1em; padding-right: 1em; text-align: center; vertical-align: top\">ez3GBw83OIgzzgvc0R4jzw</td>\n",
       "        <td style=\"padding-left: 1em; padding-right: 1em; text-align: center; vertical-align: top\">WI1xBMN_rEaVPOL9Ad2gpQ</td>\n",
       "        <td style=\"padding-left: 1em; padding-right: 1em; text-align: center; vertical-align: top\">0.0140845179558</td>\n",
       "        <td style=\"padding-left: 1em; padding-right: 1em; text-align: center; vertical-align: top\">1</td>\n",
       "    </tr>\n",
       "    <tr>\n",
       "        <td style=\"padding-left: 1em; padding-right: 1em; text-align: center; vertical-align: top\">ez3GBw83OIgzzgvc0R4jzw</td>\n",
       "        <td style=\"padding-left: 1em; padding-right: 1em; text-align: center; vertical-align: top\">rcaPajgKOJC2vo_l3xa42A</td>\n",
       "        <td style=\"padding-left: 1em; padding-right: 1em; text-align: center; vertical-align: top\">0.0138190984726</td>\n",
       "        <td style=\"padding-left: 1em; padding-right: 1em; text-align: center; vertical-align: top\">2</td>\n",
       "    </tr>\n",
       "    <tr>\n",
       "        <td style=\"padding-left: 1em; padding-right: 1em; text-align: center; vertical-align: top\">ez3GBw83OIgzzgvc0R4jzw</td>\n",
       "        <td style=\"padding-left: 1em; padding-right: 1em; text-align: center; vertical-align: top\">KXITXbKuE60WSUDs7NZVLQ</td>\n",
       "        <td style=\"padding-left: 1em; padding-right: 1em; text-align: center; vertical-align: top\">0.0127550959587</td>\n",
       "        <td style=\"padding-left: 1em; padding-right: 1em; text-align: center; vertical-align: top\">3</td>\n",
       "    </tr>\n",
       "    <tr>\n",
       "        <td style=\"padding-left: 1em; padding-right: 1em; text-align: center; vertical-align: top\">gJrOPH-DSZWY_NX2j6Bugw</td>\n",
       "        <td style=\"padding-left: 1em; padding-right: 1em; text-align: center; vertical-align: top\">WI1xBMN_rEaVPOL9Ad2gpQ</td>\n",
       "        <td style=\"padding-left: 1em; padding-right: 1em; text-align: center; vertical-align: top\">0.0140845179558</td>\n",
       "        <td style=\"padding-left: 1em; padding-right: 1em; text-align: center; vertical-align: top\">1</td>\n",
       "    </tr>\n",
       "</table>\n",
       "[422211 rows x 4 columns]<br/>Note: Only the head of the SFrame is printed.<br/>You can use print_rows(num_rows=m, num_columns=n) to print more rows and columns.\n",
       "</div>"
      ],
      "text/plain": [
       "Columns:\n",
       "\tuser_id\tstr\n",
       "\tbusiness_id\tstr\n",
       "\tscore\tfloat\n",
       "\trank\tint\n",
       "\n",
       "Rows: 422211\n",
       "\n",
       "Data:\n",
       "+------------------------+------------------------+------------------+------+\n",
       "|        user_id         |      business_id       |      score       | rank |\n",
       "+------------------------+------------------------+------------------+------+\n",
       "| nT8zgjoc-PbdBoQsFEXFLw | wZCdr3iLTE6aa9kiVxWJWQ | 0.00712597370148 |  1   |\n",
       "| nT8zgjoc-PbdBoQsFEXFLw | DESv2ys6SjBKA4SyDtJvxw | 0.00700567166011 |  2   |\n",
       "| nT8zgjoc-PbdBoQsFEXFLw | pKk7jCFIm96qDdk0laVT2w | 0.00664258003235 |  3   |\n",
       "| rOIrilMC7VFwFVBeQNiKMw | RESDUcs7fIiihp38-d6_6g | 0.0144354701042  |  1   |\n",
       "| rOIrilMC7VFwFVBeQNiKMw | eaNenRk_liZBERFFLCXqqQ | 0.0128062367439  |  2   |\n",
       "| rOIrilMC7VFwFVBeQNiKMw | JPfi__QJAaRzmfh5aOyFEw | 0.0105006247759  |  3   |\n",
       "| ez3GBw83OIgzzgvc0R4jzw | WI1xBMN_rEaVPOL9Ad2gpQ | 0.0140845179558  |  1   |\n",
       "| ez3GBw83OIgzzgvc0R4jzw | rcaPajgKOJC2vo_l3xa42A | 0.0138190984726  |  2   |\n",
       "| ez3GBw83OIgzzgvc0R4jzw | KXITXbKuE60WSUDs7NZVLQ | 0.0127550959587  |  3   |\n",
       "| gJrOPH-DSZWY_NX2j6Bugw | WI1xBMN_rEaVPOL9Ad2gpQ | 0.0140845179558  |  1   |\n",
       "+------------------------+------------------------+------------------+------+\n",
       "[422211 rows x 4 columns]\n",
       "Note: Only the head of the SFrame is printed.\n",
       "You can use print_rows(num_rows=m, num_columns=n) to print more rows and columns."
      ]
     },
     "execution_count": 240,
     "metadata": {},
     "output_type": "execute_result"
    }
   ],
   "source": [
    "item_item_rec_result"
   ]
  },
  {
   "cell_type": "markdown",
   "metadata": {},
   "source": [
    "## 3. Matrix Factorization recommender\n"
   ]
  },
  {
   "cell_type": "markdown",
   "metadata": {},
   "source": [
    "### Convert np.dataframe to graphlab.sframe"
   ]
  },
  {
   "cell_type": "code",
   "execution_count": 241,
   "metadata": {},
   "outputs": [
    {
     "data": {
      "text/html": [
       "<div style=\"max-height:1000px;max-width:1500px;overflow:auto;\"><table frame=\"box\" rules=\"cols\">\n",
       "    <tr>\n",
       "        <th style=\"padding-left: 1em; padding-right: 1em; text-align: center\">business_id</th>\n",
       "        <th style=\"padding-left: 1em; padding-right: 1em; text-align: center\">user_id</th>\n",
       "        <th style=\"padding-left: 1em; padding-right: 1em; text-align: center\">stars</th>\n",
       "    </tr>\n",
       "    <tr>\n",
       "        <td style=\"padding-left: 1em; padding-right: 1em; text-align: center; vertical-align: top\">--9e1ONYQuAa-CB_Rrw7Tw</td>\n",
       "        <td style=\"padding-left: 1em; padding-right: 1em; text-align: center; vertical-align: top\">nT8zgjoc-PbdBoQsFEXFLw</td>\n",
       "        <td style=\"padding-left: 1em; padding-right: 1em; text-align: center; vertical-align: top\">5</td>\n",
       "    </tr>\n",
       "    <tr>\n",
       "        <td style=\"padding-left: 1em; padding-right: 1em; text-align: center; vertical-align: top\">--9e1ONYQuAa-CB_Rrw7Tw</td>\n",
       "        <td style=\"padding-left: 1em; padding-right: 1em; text-align: center; vertical-align: top\">rOIrilMC7VFwFVBeQNiKMw</td>\n",
       "        <td style=\"padding-left: 1em; padding-right: 1em; text-align: center; vertical-align: top\">3</td>\n",
       "    </tr>\n",
       "    <tr>\n",
       "        <td style=\"padding-left: 1em; padding-right: 1em; text-align: center; vertical-align: top\">--9e1ONYQuAa-CB_Rrw7Tw</td>\n",
       "        <td style=\"padding-left: 1em; padding-right: 1em; text-align: center; vertical-align: top\">ez3GBw83OIgzzgvc0R4jzw</td>\n",
       "        <td style=\"padding-left: 1em; padding-right: 1em; text-align: center; vertical-align: top\">4</td>\n",
       "    </tr>\n",
       "    <tr>\n",
       "        <td style=\"padding-left: 1em; padding-right: 1em; text-align: center; vertical-align: top\">--9e1ONYQuAa-CB_Rrw7Tw</td>\n",
       "        <td style=\"padding-left: 1em; padding-right: 1em; text-align: center; vertical-align: top\">gJrOPH-DSZWY_NX2j6Bugw</td>\n",
       "        <td style=\"padding-left: 1em; padding-right: 1em; text-align: center; vertical-align: top\">5</td>\n",
       "    </tr>\n",
       "    <tr>\n",
       "        <td style=\"padding-left: 1em; padding-right: 1em; text-align: center; vertical-align: top\">--9e1ONYQuAa-CB_Rrw7Tw</td>\n",
       "        <td style=\"padding-left: 1em; padding-right: 1em; text-align: center; vertical-align: top\">3Y_gz3wb7T5ur9FHqxBcgQ</td>\n",
       "        <td style=\"padding-left: 1em; padding-right: 1em; text-align: center; vertical-align: top\">5</td>\n",
       "    </tr>\n",
       "    <tr>\n",
       "        <td style=\"padding-left: 1em; padding-right: 1em; text-align: center; vertical-align: top\">--9e1ONYQuAa-CB_Rrw7Tw</td>\n",
       "        <td style=\"padding-left: 1em; padding-right: 1em; text-align: center; vertical-align: top\">b4bTks98idS6-hx5AT92WQ</td>\n",
       "        <td style=\"padding-left: 1em; padding-right: 1em; text-align: center; vertical-align: top\">5</td>\n",
       "    </tr>\n",
       "    <tr>\n",
       "        <td style=\"padding-left: 1em; padding-right: 1em; text-align: center; vertical-align: top\">--9e1ONYQuAa-CB_Rrw7Tw</td>\n",
       "        <td style=\"padding-left: 1em; padding-right: 1em; text-align: center; vertical-align: top\">quX8U7dnq5YN6h1P04ps4g</td>\n",
       "        <td style=\"padding-left: 1em; padding-right: 1em; text-align: center; vertical-align: top\">5</td>\n",
       "    </tr>\n",
       "    <tr>\n",
       "        <td style=\"padding-left: 1em; padding-right: 1em; text-align: center; vertical-align: top\">--9e1ONYQuAa-CB_Rrw7Tw</td>\n",
       "        <td style=\"padding-left: 1em; padding-right: 1em; text-align: center; vertical-align: top\">gcz5baFhV096VSrB9EESXw</td>\n",
       "        <td style=\"padding-left: 1em; padding-right: 1em; text-align: center; vertical-align: top\">4</td>\n",
       "    </tr>\n",
       "    <tr>\n",
       "        <td style=\"padding-left: 1em; padding-right: 1em; text-align: center; vertical-align: top\">--9e1ONYQuAa-CB_Rrw7Tw</td>\n",
       "        <td style=\"padding-left: 1em; padding-right: 1em; text-align: center; vertical-align: top\">WAzX3AaM6PQfzFJHaUF6xQ</td>\n",
       "        <td style=\"padding-left: 1em; padding-right: 1em; text-align: center; vertical-align: top\">5</td>\n",
       "    </tr>\n",
       "    <tr>\n",
       "        <td style=\"padding-left: 1em; padding-right: 1em; text-align: center; vertical-align: top\">--9e1ONYQuAa-CB_Rrw7Tw</td>\n",
       "        <td style=\"padding-left: 1em; padding-right: 1em; text-align: center; vertical-align: top\">1kr9EZFV3T_l-8KBkfPo5Q</td>\n",
       "        <td style=\"padding-left: 1em; padding-right: 1em; text-align: center; vertical-align: top\">3</td>\n",
       "    </tr>\n",
       "</table>\n",
       "[287097 rows x 3 columns]<br/>Note: Only the head of the SFrame is printed.<br/>You can use print_rows(num_rows=m, num_columns=n) to print more rows and columns.\n",
       "</div>"
      ],
      "text/plain": [
       "Columns:\n",
       "\tbusiness_id\tstr\n",
       "\tuser_id\tstr\n",
       "\tstars\tint\n",
       "\n",
       "Rows: 287097\n",
       "\n",
       "Data:\n",
       "+------------------------+------------------------+-------+\n",
       "|      business_id       |        user_id         | stars |\n",
       "+------------------------+------------------------+-------+\n",
       "| --9e1ONYQuAa-CB_Rrw7Tw | nT8zgjoc-PbdBoQsFEXFLw |   5   |\n",
       "| --9e1ONYQuAa-CB_Rrw7Tw | rOIrilMC7VFwFVBeQNiKMw |   3   |\n",
       "| --9e1ONYQuAa-CB_Rrw7Tw | ez3GBw83OIgzzgvc0R4jzw |   4   |\n",
       "| --9e1ONYQuAa-CB_Rrw7Tw | gJrOPH-DSZWY_NX2j6Bugw |   5   |\n",
       "| --9e1ONYQuAa-CB_Rrw7Tw | 3Y_gz3wb7T5ur9FHqxBcgQ |   5   |\n",
       "| --9e1ONYQuAa-CB_Rrw7Tw | b4bTks98idS6-hx5AT92WQ |   5   |\n",
       "| --9e1ONYQuAa-CB_Rrw7Tw | quX8U7dnq5YN6h1P04ps4g |   5   |\n",
       "| --9e1ONYQuAa-CB_Rrw7Tw | gcz5baFhV096VSrB9EESXw |   4   |\n",
       "| --9e1ONYQuAa-CB_Rrw7Tw | WAzX3AaM6PQfzFJHaUF6xQ |   5   |\n",
       "| --9e1ONYQuAa-CB_Rrw7Tw | 1kr9EZFV3T_l-8KBkfPo5Q |   3   |\n",
       "+------------------------+------------------------+-------+\n",
       "[287097 rows x 3 columns]\n",
       "Note: Only the head of the SFrame is printed.\n",
       "You can use print_rows(num_rows=m, num_columns=n) to print more rows and columns."
      ]
     },
     "execution_count": 241,
     "metadata": {},
     "output_type": "execute_result"
    }
   ],
   "source": [
    "sf_stars = graphlab.SFrame(df_stars)\n",
    "sf_stars"
   ]
  },
  {
   "cell_type": "markdown",
   "metadata": {},
   "source": [
    "### Create a matrix factorization model"
   ]
  },
  {
   "cell_type": "code",
   "execution_count": 242,
   "metadata": {},
   "outputs": [
    {
     "data": {
      "text/html": [
       "<pre>Recsys training: model = factorization_recommender</pre>"
      ],
      "text/plain": [
       "Recsys training: model = factorization_recommender"
      ]
     },
     "metadata": {},
     "output_type": "display_data"
    },
    {
     "data": {
      "text/html": [
       "<pre>Preparing data set.</pre>"
      ],
      "text/plain": [
       "Preparing data set."
      ]
     },
     "metadata": {},
     "output_type": "display_data"
    },
    {
     "data": {
      "text/html": [
       "<pre>    Data has 287097 observations with 140737 users and 4290 items.</pre>"
      ],
      "text/plain": [
       "    Data has 287097 observations with 140737 users and 4290 items."
      ]
     },
     "metadata": {},
     "output_type": "display_data"
    },
    {
     "data": {
      "text/html": [
       "<pre>    Data prepared in: 0.592775s</pre>"
      ],
      "text/plain": [
       "    Data prepared in: 0.592775s"
      ]
     },
     "metadata": {},
     "output_type": "display_data"
    },
    {
     "data": {
      "text/html": [
       "<pre>Training factorization_recommender for recommendations.</pre>"
      ],
      "text/plain": [
       "Training factorization_recommender for recommendations."
      ]
     },
     "metadata": {},
     "output_type": "display_data"
    },
    {
     "data": {
      "text/html": [
       "<pre>+------------------------------+--------------------------------------------------+----------+</pre>"
      ],
      "text/plain": [
       "+------------------------------+--------------------------------------------------+----------+"
      ]
     },
     "metadata": {},
     "output_type": "display_data"
    },
    {
     "data": {
      "text/html": [
       "<pre>| Parameter                    | Description                                      | Value    |</pre>"
      ],
      "text/plain": [
       "| Parameter                    | Description                                      | Value    |"
      ]
     },
     "metadata": {},
     "output_type": "display_data"
    },
    {
     "data": {
      "text/html": [
       "<pre>+------------------------------+--------------------------------------------------+----------+</pre>"
      ],
      "text/plain": [
       "+------------------------------+--------------------------------------------------+----------+"
      ]
     },
     "metadata": {},
     "output_type": "display_data"
    },
    {
     "data": {
      "text/html": [
       "<pre>| num_factors                  | Factor Dimension                                 | 8        |</pre>"
      ],
      "text/plain": [
       "| num_factors                  | Factor Dimension                                 | 8        |"
      ]
     },
     "metadata": {},
     "output_type": "display_data"
    },
    {
     "data": {
      "text/html": [
       "<pre>| regularization               | L2 Regularization on Factors                     | 1e-08    |</pre>"
      ],
      "text/plain": [
       "| regularization               | L2 Regularization on Factors                     | 1e-08    |"
      ]
     },
     "metadata": {},
     "output_type": "display_data"
    },
    {
     "data": {
      "text/html": [
       "<pre>| max_iterations               | Maximum Number of Iterations                     | 50       |</pre>"
      ],
      "text/plain": [
       "| max_iterations               | Maximum Number of Iterations                     | 50       |"
      ]
     },
     "metadata": {},
     "output_type": "display_data"
    },
    {
     "data": {
      "text/html": [
       "<pre>| solver                       | Solver used for training                         | als      |</pre>"
      ],
      "text/plain": [
       "| solver                       | Solver used for training                         | als      |"
      ]
     },
     "metadata": {},
     "output_type": "display_data"
    },
    {
     "data": {
      "text/html": [
       "<pre>+------------------------------+--------------------------------------------------+----------+</pre>"
      ],
      "text/plain": [
       "+------------------------------+--------------------------------------------------+----------+"
      ]
     },
     "metadata": {},
     "output_type": "display_data"
    },
    {
     "data": {
      "text/html": [
       "<pre>+---------+--------------+------------------------+</pre>"
      ],
      "text/plain": [
       "+---------+--------------+------------------------+"
      ]
     },
     "metadata": {},
     "output_type": "display_data"
    },
    {
     "data": {
      "text/html": [
       "<pre>| Iter.   | Elapsed time | RMSE                   |</pre>"
      ],
      "text/plain": [
       "| Iter.   | Elapsed time | RMSE                   |"
      ]
     },
     "metadata": {},
     "output_type": "display_data"
    },
    {
     "data": {
      "text/html": [
       "<pre>+---------+--------------+------------------------+</pre>"
      ],
      "text/plain": [
       "+---------+--------------+------------------------+"
      ]
     },
     "metadata": {},
     "output_type": "display_data"
    },
    {
     "data": {
      "text/html": [
       "<pre>| Initial | 74us         | NA                     |</pre>"
      ],
      "text/plain": [
       "| Initial | 74us         | NA                     |"
      ]
     },
     "metadata": {},
     "output_type": "display_data"
    },
    {
     "data": {
      "text/html": [
       "<pre>+---------+--------------+------------------------+</pre>"
      ],
      "text/plain": [
       "+---------+--------------+------------------------+"
      ]
     },
     "metadata": {},
     "output_type": "display_data"
    },
    {
     "data": {
      "text/html": [
       "<pre>| 0       | 416.052ms    | 0.780592               |</pre>"
      ],
      "text/plain": [
       "| 0       | 416.052ms    | 0.780592               |"
      ]
     },
     "metadata": {},
     "output_type": "display_data"
    },
    {
     "data": {
      "text/html": [
       "<pre>| 1       | 779.259ms    | 0.315282               |</pre>"
      ],
      "text/plain": [
       "| 1       | 779.259ms    | 0.315282               |"
      ]
     },
     "metadata": {},
     "output_type": "display_data"
    },
    {
     "data": {
      "text/html": [
       "<pre>| 2       | 1.13s        | 0.29535                |</pre>"
      ],
      "text/plain": [
       "| 2       | 1.13s        | 0.29535                |"
      ]
     },
     "metadata": {},
     "output_type": "display_data"
    },
    {
     "data": {
      "text/html": [
       "<pre>| 3       | 1.48s        | 0.282538               |</pre>"
      ],
      "text/plain": [
       "| 3       | 1.48s        | 0.282538               |"
      ]
     },
     "metadata": {},
     "output_type": "display_data"
    },
    {
     "data": {
      "text/html": [
       "<pre>| 4       | 1.84s        | 0.272868               |</pre>"
      ],
      "text/plain": [
       "| 4       | 1.84s        | 0.272868               |"
      ]
     },
     "metadata": {},
     "output_type": "display_data"
    },
    {
     "data": {
      "text/html": [
       "<pre>| 5       | 2.22s        | 0.265107               |</pre>"
      ],
      "text/plain": [
       "| 5       | 2.22s        | 0.265107               |"
      ]
     },
     "metadata": {},
     "output_type": "display_data"
    },
    {
     "data": {
      "text/html": [
       "<pre>| 6       | 2.55s        | 0.258694               |</pre>"
      ],
      "text/plain": [
       "| 6       | 2.55s        | 0.258694               |"
      ]
     },
     "metadata": {},
     "output_type": "display_data"
    },
    {
     "data": {
      "text/html": [
       "<pre>| 7       | 2.90s        | 0.253252               |</pre>"
      ],
      "text/plain": [
       "| 7       | 2.90s        | 0.253252               |"
      ]
     },
     "metadata": {},
     "output_type": "display_data"
    },
    {
     "data": {
      "text/html": [
       "<pre>| 8       | 3.25s        | 0.248525               |</pre>"
      ],
      "text/plain": [
       "| 8       | 3.25s        | 0.248525               |"
      ]
     },
     "metadata": {},
     "output_type": "display_data"
    },
    {
     "data": {
      "text/html": [
       "<pre>| 9       | 3.61s        | 0.244344               |</pre>"
      ],
      "text/plain": [
       "| 9       | 3.61s        | 0.244344               |"
      ]
     },
     "metadata": {},
     "output_type": "display_data"
    },
    {
     "data": {
      "text/html": [
       "<pre>| 10      | 3.98s        | 0.240579               |</pre>"
      ],
      "text/plain": [
       "| 10      | 3.98s        | 0.240579               |"
      ]
     },
     "metadata": {},
     "output_type": "display_data"
    },
    {
     "data": {
      "text/html": [
       "<pre>| 11      | 4.35s        | 0.237182               |</pre>"
      ],
      "text/plain": [
       "| 11      | 4.35s        | 0.237182               |"
      ]
     },
     "metadata": {},
     "output_type": "display_data"
    },
    {
     "data": {
      "text/html": [
       "<pre>| 12      | 4.69s        | 0.234099               |</pre>"
      ],
      "text/plain": [
       "| 12      | 4.69s        | 0.234099               |"
      ]
     },
     "metadata": {},
     "output_type": "display_data"
    },
    {
     "data": {
      "text/html": [
       "<pre>| 13      | 5.06s        | 0.231267               |</pre>"
      ],
      "text/plain": [
       "| 13      | 5.06s        | 0.231267               |"
      ]
     },
     "metadata": {},
     "output_type": "display_data"
    },
    {
     "data": {
      "text/html": [
       "<pre>| 14      | 5.44s        | 0.22866                |</pre>"
      ],
      "text/plain": [
       "| 14      | 5.44s        | 0.22866                |"
      ]
     },
     "metadata": {},
     "output_type": "display_data"
    },
    {
     "data": {
      "text/html": [
       "<pre>| 15      | 5.79s        | 0.226255               |</pre>"
      ],
      "text/plain": [
       "| 15      | 5.79s        | 0.226255               |"
      ]
     },
     "metadata": {},
     "output_type": "display_data"
    },
    {
     "data": {
      "text/html": [
       "<pre>| 16      | 6.15s        | 0.224031               |</pre>"
      ],
      "text/plain": [
       "| 16      | 6.15s        | 0.224031               |"
      ]
     },
     "metadata": {},
     "output_type": "display_data"
    },
    {
     "data": {
      "text/html": [
       "<pre>| 17      | 6.51s        | 0.221974               |</pre>"
      ],
      "text/plain": [
       "| 17      | 6.51s        | 0.221974               |"
      ]
     },
     "metadata": {},
     "output_type": "display_data"
    },
    {
     "data": {
      "text/html": [
       "<pre>| 18      | 6.86s        | 0.220067               |</pre>"
      ],
      "text/plain": [
       "| 18      | 6.86s        | 0.220067               |"
      ]
     },
     "metadata": {},
     "output_type": "display_data"
    },
    {
     "data": {
      "text/html": [
       "<pre>| 19      | 7.19s        | 0.218295               |</pre>"
      ],
      "text/plain": [
       "| 19      | 7.19s        | 0.218295               |"
      ]
     },
     "metadata": {},
     "output_type": "display_data"
    },
    {
     "data": {
      "text/html": [
       "<pre>| 20      | 7.56s        | 0.216638               |</pre>"
      ],
      "text/plain": [
       "| 20      | 7.56s        | 0.216638               |"
      ]
     },
     "metadata": {},
     "output_type": "display_data"
    },
    {
     "data": {
      "text/html": [
       "<pre>| 21      | 7.92s        | 0.215078               |</pre>"
      ],
      "text/plain": [
       "| 21      | 7.92s        | 0.215078               |"
      ]
     },
     "metadata": {},
     "output_type": "display_data"
    },
    {
     "data": {
      "text/html": [
       "<pre>| 22      | 8.30s        | 0.213607               |</pre>"
      ],
      "text/plain": [
       "| 22      | 8.30s        | 0.213607               |"
      ]
     },
     "metadata": {},
     "output_type": "display_data"
    },
    {
     "data": {
      "text/html": [
       "<pre>| 23      | 8.71s        | 0.212219               |</pre>"
      ],
      "text/plain": [
       "| 23      | 8.71s        | 0.212219               |"
      ]
     },
     "metadata": {},
     "output_type": "display_data"
    },
    {
     "data": {
      "text/html": [
       "<pre>| 24      | 9.07s        | 0.210902               |</pre>"
      ],
      "text/plain": [
       "| 24      | 9.07s        | 0.210902               |"
      ]
     },
     "metadata": {},
     "output_type": "display_data"
    },
    {
     "data": {
      "text/html": [
       "<pre>| 25      | 9.44s        | 0.209651               |</pre>"
      ],
      "text/plain": [
       "| 25      | 9.44s        | 0.209651               |"
      ]
     },
     "metadata": {},
     "output_type": "display_data"
    },
    {
     "data": {
      "text/html": [
       "<pre>| 26      | 9.79s        | 0.208459               |</pre>"
      ],
      "text/plain": [
       "| 26      | 9.79s        | 0.208459               |"
      ]
     },
     "metadata": {},
     "output_type": "display_data"
    },
    {
     "data": {
      "text/html": [
       "<pre>| 27      | 10.15s       | 0.207316               |</pre>"
      ],
      "text/plain": [
       "| 27      | 10.15s       | 0.207316               |"
      ]
     },
     "metadata": {},
     "output_type": "display_data"
    },
    {
     "data": {
      "text/html": [
       "<pre>| 28      | 10.52s       | 0.20622                |</pre>"
      ],
      "text/plain": [
       "| 28      | 10.52s       | 0.20622                |"
      ]
     },
     "metadata": {},
     "output_type": "display_data"
    },
    {
     "data": {
      "text/html": [
       "<pre>| 29      | 10.88s       | 0.20517                |</pre>"
      ],
      "text/plain": [
       "| 29      | 10.88s       | 0.20517                |"
      ]
     },
     "metadata": {},
     "output_type": "display_data"
    },
    {
     "data": {
      "text/html": [
       "<pre>| 30      | 11.25s       | 0.204164               |</pre>"
      ],
      "text/plain": [
       "| 30      | 11.25s       | 0.204164               |"
      ]
     },
     "metadata": {},
     "output_type": "display_data"
    },
    {
     "data": {
      "text/html": [
       "<pre>| 31      | 11.60s       | 0.203194               |</pre>"
      ],
      "text/plain": [
       "| 31      | 11.60s       | 0.203194               |"
      ]
     },
     "metadata": {},
     "output_type": "display_data"
    },
    {
     "data": {
      "text/html": [
       "<pre>| 32      | 11.94s       | 0.202257               |</pre>"
      ],
      "text/plain": [
       "| 32      | 11.94s       | 0.202257               |"
      ]
     },
     "metadata": {},
     "output_type": "display_data"
    },
    {
     "data": {
      "text/html": [
       "<pre>| 33      | 12.31s       | 0.201354               |</pre>"
      ],
      "text/plain": [
       "| 33      | 12.31s       | 0.201354               |"
      ]
     },
     "metadata": {},
     "output_type": "display_data"
    },
    {
     "data": {
      "text/html": [
       "<pre>| 34      | 12.65s       | 0.200484               |</pre>"
      ],
      "text/plain": [
       "| 34      | 12.65s       | 0.200484               |"
      ]
     },
     "metadata": {},
     "output_type": "display_data"
    },
    {
     "data": {
      "text/html": [
       "<pre>| 35      | 13.00s       | 0.199648               |</pre>"
      ],
      "text/plain": [
       "| 35      | 13.00s       | 0.199648               |"
      ]
     },
     "metadata": {},
     "output_type": "display_data"
    },
    {
     "data": {
      "text/html": [
       "<pre>| 36      | 13.37s       | 0.198844               |</pre>"
      ],
      "text/plain": [
       "| 36      | 13.37s       | 0.198844               |"
      ]
     },
     "metadata": {},
     "output_type": "display_data"
    },
    {
     "data": {
      "text/html": [
       "<pre>| 37      | 13.71s       | 0.198068               |</pre>"
      ],
      "text/plain": [
       "| 37      | 13.71s       | 0.198068               |"
      ]
     },
     "metadata": {},
     "output_type": "display_data"
    },
    {
     "data": {
      "text/html": [
       "<pre>| 38      | 14.06s       | 0.197318               |</pre>"
      ],
      "text/plain": [
       "| 38      | 14.06s       | 0.197318               |"
      ]
     },
     "metadata": {},
     "output_type": "display_data"
    },
    {
     "data": {
      "text/html": [
       "<pre>| 39      | 14.41s       | 0.196591               |</pre>"
      ],
      "text/plain": [
       "| 39      | 14.41s       | 0.196591               |"
      ]
     },
     "metadata": {},
     "output_type": "display_data"
    },
    {
     "data": {
      "text/html": [
       "<pre>| 40      | 14.74s       | 0.195883               |</pre>"
      ],
      "text/plain": [
       "| 40      | 14.74s       | 0.195883               |"
      ]
     },
     "metadata": {},
     "output_type": "display_data"
    },
    {
     "data": {
      "text/html": [
       "<pre>| 41      | 15.07s       | 0.195196               |</pre>"
      ],
      "text/plain": [
       "| 41      | 15.07s       | 0.195196               |"
      ]
     },
     "metadata": {},
     "output_type": "display_data"
    },
    {
     "data": {
      "text/html": [
       "<pre>| 42      | 15.43s       | 0.194528               |</pre>"
      ],
      "text/plain": [
       "| 42      | 15.43s       | 0.194528               |"
      ]
     },
     "metadata": {},
     "output_type": "display_data"
    },
    {
     "data": {
      "text/html": [
       "<pre>| 43      | 15.77s       | 0.193879               |</pre>"
      ],
      "text/plain": [
       "| 43      | 15.77s       | 0.193879               |"
      ]
     },
     "metadata": {},
     "output_type": "display_data"
    },
    {
     "data": {
      "text/html": [
       "<pre>| 44      | 16.12s       | 0.193248               |</pre>"
      ],
      "text/plain": [
       "| 44      | 16.12s       | 0.193248               |"
      ]
     },
     "metadata": {},
     "output_type": "display_data"
    },
    {
     "data": {
      "text/html": [
       "<pre>| 45      | 16.52s       | 0.192633               |</pre>"
      ],
      "text/plain": [
       "| 45      | 16.52s       | 0.192633               |"
      ]
     },
     "metadata": {},
     "output_type": "display_data"
    },
    {
     "data": {
      "text/html": [
       "<pre>| 46      | 16.86s       | 0.192034               |</pre>"
      ],
      "text/plain": [
       "| 46      | 16.86s       | 0.192034               |"
      ]
     },
     "metadata": {},
     "output_type": "display_data"
    },
    {
     "data": {
      "text/html": [
       "<pre>| 47      | 17.23s       | 0.191449               |</pre>"
      ],
      "text/plain": [
       "| 47      | 17.23s       | 0.191449               |"
      ]
     },
     "metadata": {},
     "output_type": "display_data"
    },
    {
     "data": {
      "text/html": [
       "<pre>| 48      | 17.58s       | 0.190879               |</pre>"
      ],
      "text/plain": [
       "| 48      | 17.58s       | 0.190879               |"
      ]
     },
     "metadata": {},
     "output_type": "display_data"
    },
    {
     "data": {
      "text/html": [
       "<pre>| 49      | 17.91s       | 0.190322               |</pre>"
      ],
      "text/plain": [
       "| 49      | 17.91s       | 0.190322               |"
      ]
     },
     "metadata": {},
     "output_type": "display_data"
    },
    {
     "data": {
      "text/html": [
       "<pre>| FINAL   | 17.91s       | 0.190322               |</pre>"
      ],
      "text/plain": [
       "| FINAL   | 17.91s       | 0.190322               |"
      ]
     },
     "metadata": {},
     "output_type": "display_data"
    },
    {
     "data": {
      "text/html": [
       "<pre>+---------+--------------+------------------------+</pre>"
      ],
      "text/plain": [
       "+---------+--------------+------------------------+"
      ]
     },
     "metadata": {},
     "output_type": "display_data"
    },
    {
     "data": {
      "text/html": [
       "<pre>Optimization Complete: Iteration limit reached.</pre>"
      ],
      "text/plain": [
       "Optimization Complete: Iteration limit reached."
      ]
     },
     "metadata": {},
     "output_type": "display_data"
    }
   ],
   "source": [
    "rec_stars = graphlab.recommender.factorization_recommender.create(\n",
    "        sf_stars,\n",
    "        user_id = 'user_id',\n",
    "        item_id = 'business_id',\n",
    "        target = 'stars',\n",
    "        solver = 'als',\n",
    "        side_data_factorization = False)"
   ]
  },
  {
   "cell_type": "markdown",
   "metadata": {},
   "source": [
    "### Call the predic method on the input data to get recommendation for one selected user id and one business id"
   ]
  },
  {
   "cell_type": "code",
   "execution_count": 243,
   "metadata": {
    "scrolled": true
   },
   "outputs": [
    {
     "data": {
      "text/plain": [
       "'nT8zgjoc-PbdBoQsFEXFLw'"
      ]
     },
     "execution_count": 243,
     "metadata": {},
     "output_type": "execute_result"
    }
   ],
   "source": [
    "selected_user = df_stars.user_id[0]\n",
    "selected_user"
   ]
  },
  {
   "cell_type": "code",
   "execution_count": 244,
   "metadata": {},
   "outputs": [
    {
     "data": {
      "text/plain": [
       "'-3zffZUHoY8bQjGfPSoBKQ'"
      ]
     },
     "execution_count": 244,
     "metadata": {},
     "output_type": "execute_result"
    }
   ],
   "source": [
    "selected_business = df_stars.business_id[100]\n",
    "selected_business"
   ]
  },
  {
   "cell_type": "code",
   "execution_count": 245,
   "metadata": {
    "collapsed": true
   },
   "outputs": [],
   "source": [
    "one_datapoint_sf = graphlab.SFrame({'user_id' : [selected_user], 'business_id': [selected_business]})"
   ]
  },
  {
   "cell_type": "code",
   "execution_count": 246,
   "metadata": {},
   "outputs": [
    {
     "data": {
      "text/html": [
       "<div style=\"max-height:1000px;max-width:1500px;overflow:auto;\"><table frame=\"box\" rules=\"cols\">\n",
       "    <tr>\n",
       "        <th style=\"padding-left: 1em; padding-right: 1em; text-align: center\">business_id</th>\n",
       "        <th style=\"padding-left: 1em; padding-right: 1em; text-align: center\">user_id</th>\n",
       "    </tr>\n",
       "    <tr>\n",
       "        <td style=\"padding-left: 1em; padding-right: 1em; text-align: center; vertical-align: top\">-3zffZUHoY8bQjGfPSoBKQ</td>\n",
       "        <td style=\"padding-left: 1em; padding-right: 1em; text-align: center; vertical-align: top\">nT8zgjoc-PbdBoQsFEXFLw</td>\n",
       "    </tr>\n",
       "</table>\n",
       "[1 rows x 2 columns]<br/>\n",
       "</div>"
      ],
      "text/plain": [
       "Columns:\n",
       "\tbusiness_id\tstr\n",
       "\tuser_id\tstr\n",
       "\n",
       "Rows: 1\n",
       "\n",
       "Data:\n",
       "+------------------------+------------------------+\n",
       "|      business_id       |        user_id         |\n",
       "+------------------------+------------------------+\n",
       "| -3zffZUHoY8bQjGfPSoBKQ | nT8zgjoc-PbdBoQsFEXFLw |\n",
       "+------------------------+------------------------+\n",
       "[1 rows x 2 columns]"
      ]
     },
     "execution_count": 246,
     "metadata": {},
     "output_type": "execute_result"
    }
   ],
   "source": [
    "one_datapoint_sf"
   ]
  },
  {
   "cell_type": "code",
   "execution_count": 247,
   "metadata": {},
   "outputs": [
    {
     "data": {
      "text/html": [
       "<div>\n",
       "<table border=\"1\" class=\"dataframe\">\n",
       "  <thead>\n",
       "    <tr style=\"text-align: right;\">\n",
       "      <th></th>\n",
       "      <th>business_id</th>\n",
       "      <th>user_id</th>\n",
       "      <th>stars</th>\n",
       "    </tr>\n",
       "  </thead>\n",
       "  <tbody>\n",
       "  </tbody>\n",
       "</table>\n",
       "</div>"
      ],
      "text/plain": [
       "Empty DataFrame\n",
       "Columns: [business_id, user_id, stars]\n",
       "Index: []"
      ]
     },
     "execution_count": 247,
     "metadata": {},
     "output_type": "execute_result"
    }
   ],
   "source": [
    "df_stars.loc[(df_stars['business_id']== selected_business)& (df_stars['user_id'] == selected_user)]"
   ]
  },
  {
   "cell_type": "code",
   "execution_count": 248,
   "metadata": {},
   "outputs": [
    {
     "name": "stdout",
     "output_type": "stream",
     "text": [
      "predicted rating: [3.907961827850223]\n",
      "actual rating: Series([], Name: stars, dtype: int64)\n"
     ]
    }
   ],
   "source": [
    "print \"predicted rating:\", rec_stars.predict(one_datapoint_sf[0])\n",
    "print \"actual rating:\", df_stars.loc[(df_stars['business_id']== selected_business) & (df_stars['user_id'] == selected_user)].stars"
   ]
  },
  {
   "cell_type": "markdown",
   "metadata": {},
   "source": [
    "### On the returned model object, call the list_fields method to see what kind of data is stored for your model."
   ]
  },
  {
   "cell_type": "code",
   "execution_count": 249,
   "metadata": {},
   "outputs": [
    {
     "data": {
      "text/plain": [
       "['adagrad_momentum_weighting',\n",
       " 'additional_iterations_if_unhealthy',\n",
       " 'binary_target',\n",
       " 'coefficients',\n",
       " 'data_load_time',\n",
       " 'init_random_sigma',\n",
       " 'item_id',\n",
       " 'item_side_data_column_names',\n",
       " 'item_side_data_column_types',\n",
       " 'linear_regularization',\n",
       " 'max_iterations',\n",
       " 'model_name',\n",
       " 'nmf',\n",
       " 'num_factors',\n",
       " 'num_features',\n",
       " 'num_item_side_features',\n",
       " 'num_items',\n",
       " 'num_observations',\n",
       " 'num_tempering_iterations',\n",
       " 'num_user_side_features',\n",
       " 'num_users',\n",
       " 'observation_data_column_names',\n",
       " 'random_seed',\n",
       " 'regularization',\n",
       " 'regularization_type',\n",
       " 'sgd_convergence_interval',\n",
       " 'sgd_convergence_threshold',\n",
       " 'sgd_max_trial_iterations',\n",
       " 'sgd_sampling_block_size',\n",
       " 'sgd_step_adjustment_interval',\n",
       " 'sgd_step_size',\n",
       " 'sgd_trial_sample_minimum_size',\n",
       " 'sgd_trial_sample_proportion',\n",
       " 'side_data_factorization',\n",
       " 'solver',\n",
       " 'step_size_decrease_rate',\n",
       " 'target',\n",
       " 'tempering_regularization_start_value',\n",
       " 'track_exact_loss',\n",
       " 'training_rmse',\n",
       " 'training_stats',\n",
       " 'training_time',\n",
       " 'user_id',\n",
       " 'user_side_data_column_names',\n",
       " 'user_side_data_column_types']"
      ]
     },
     "execution_count": 249,
     "metadata": {},
     "output_type": "execute_result"
    }
   ],
   "source": [
    "rec_stars.list_fields()"
   ]
  },
  {
   "cell_type": "markdown",
   "metadata": {},
   "source": [
    "### Inspect the \"coefficients\" to check the what informatin is saved in the model"
   ]
  },
  {
   "cell_type": "code",
   "execution_count": 250,
   "metadata": {},
   "outputs": [
    {
     "data": {
      "text/plain": [
       "{'business_id': Columns:\n",
       " \tbusiness_id\tstr\n",
       " \tlinear_terms\tfloat\n",
       " \tfactors\tarray\n",
       " \n",
       " Rows: 4290\n",
       " \n",
       " Data:\n",
       " +------------------------+--------------+-------------------------------+\n",
       " |      business_id       | linear_terms |            factors            |\n",
       " +------------------------+--------------+-------------------------------+\n",
       " | --9e1ONYQuAa-CB_Rrw7Tw |     0.0      | [0.48341602087, -0.3569890... |\n",
       " | -3zffZUHoY8bQjGfPSoBKQ |     0.0      | [-0.277254730463, -1.01894... |\n",
       " | -8R_-EkGpUhBk55K9Dd4mg |     0.0      | [0.54052054882, 2.33945679... |\n",
       " | -9YyInW1wapzdNZrhQJ9dg |     0.0      | [0.203180044889, 2.4688575... |\n",
       " | -AD5PiuJHgdUcAK-Vxao2A |     0.0      | [1.36119782925, 0.38893967... |\n",
       " | -Bf8BQ3yMk8U2f45r2DRKw |     0.0      | [0.0506986305118, -0.16181... |\n",
       " | -BmqghX1sv7sgsxOIS2yAg |     0.0      | [0.720130980015, -1.286289... |\n",
       " | -Bv-HHUs8aHzDrdWcZHn8w |     0.0      | [-0.241145342588, 1.034014... |\n",
       " | -C8sSrFqaCxp51pyo-fQLQ |     0.0      | [0.0607197731733, 0.406116... |\n",
       " | -CQokjildrY7UZezXCdEBw |     0.0      | [-0.200357794762, 0.307001... |\n",
       " +------------------------+--------------+-------------------------------+\n",
       " [4290 rows x 3 columns]\n",
       " Note: Only the head of the SFrame is printed.\n",
       " You can use print_rows(num_rows=m, num_columns=n) to print more rows and columns.,\n",
       " 'intercept': 3.8063198152540925,\n",
       " 'user_id': Columns:\n",
       " \tuser_id\tstr\n",
       " \tlinear_terms\tfloat\n",
       " \tfactors\tarray\n",
       " \n",
       " Rows: 140737\n",
       " \n",
       " Data:\n",
       " +------------------------+--------------+-------------------------------+\n",
       " |        user_id         | linear_terms |            factors            |\n",
       " +------------------------+--------------+-------------------------------+\n",
       " | nT8zgjoc-PbdBoQsFEXFLw |     0.0      | [-1.11072874069, 0.9322246... |\n",
       " | rOIrilMC7VFwFVBeQNiKMw |     0.0      | [0.478687047958, 1.4602503... |\n",
       " | ez3GBw83OIgzzgvc0R4jzw |     0.0      | [0.0289004240185, -0.02129... |\n",
       " | gJrOPH-DSZWY_NX2j6Bugw |     0.0      | [0.178110212088, -0.131213... |\n",
       " | 3Y_gz3wb7T5ur9FHqxBcgQ |     0.0      | [-0.292719066143, -0.30954... |\n",
       " | b4bTks98idS6-hx5AT92WQ |     0.0      | [0.178110212088, -0.131213... |\n",
       " | quX8U7dnq5YN6h1P04ps4g |     0.0      | [0.863082051277, -1.171714... |\n",
       " | gcz5baFhV096VSrB9EESXw |     0.0      | [0.0289004240185, -0.02129... |\n",
       " | WAzX3AaM6PQfzFJHaUF6xQ |     0.0      | [1.01261413097, -0.9155468... |\n",
       " | 1kr9EZFV3T_l-8KBkfPo5Q |     0.0      | [-0.912509799004, -0.07849... |\n",
       " +------------------------+--------------+-------------------------------+\n",
       " [140737 rows x 3 columns]\n",
       " Note: Only the head of the SFrame is printed.\n",
       " You can use print_rows(num_rows=m, num_columns=n) to print more rows and columns.}"
      ]
     },
     "execution_count": 250,
     "metadata": {},
     "output_type": "execute_result"
    }
   ],
   "source": [
    "rec_stars['coefficients']"
   ]
  },
  {
   "cell_type": "markdown",
   "metadata": {},
   "source": [
    "### Check the dimensions of the 'business_id' and 'user_id' arrays in the \"coefficients\"."
   ]
  },
  {
   "cell_type": "code",
   "execution_count": 251,
   "metadata": {},
   "outputs": [
    {
     "name": "stdout",
     "output_type": "stream",
     "text": [
      "(4290, 3)\n",
      "8\n"
     ]
    }
   ],
   "source": [
    "business_sf = rec_stars['coefficients']['business_id']\n",
    "print business_sf.shape\n",
    "print len(business_sf['factors'][0]) # default number of factors is 8"
   ]
  },
  {
   "cell_type": "code",
   "execution_count": 252,
   "metadata": {},
   "outputs": [
    {
     "name": "stdout",
     "output_type": "stream",
     "text": [
      "(140737, 3)\n",
      "8\n"
     ]
    }
   ],
   "source": [
    "user_sf = rec_stars['coefficients']['user_id']\n",
    "print user_sf.shape\n",
    "print len(user_sf['factors'][0]) # default number of factors is 8"
   ]
  },
  {
   "cell_type": "code",
   "execution_count": 253,
   "metadata": {},
   "outputs": [
    {
     "name": "stdout",
     "output_type": "stream",
     "text": [
      "3.80631981525\n"
     ]
    }
   ],
   "source": [
    "print rec_stars['coefficients']['intercept']"
   ]
  },
  {
   "cell_type": "markdown",
   "metadata": {},
   "source": [
    "### Without using the predict method, compute the predicted rating for selected user and movie "
   ]
  },
  {
   "cell_type": "code",
   "execution_count": 254,
   "metadata": {},
   "outputs": [
    {
     "data": {
      "text/plain": [
       "array('d', [-0.27725473046302795, -1.0189484357833862, -1.3230388164520264, 0.37040600180625916, -0.7035056948661804, -1.343342661857605, -0.8030795454978943, -0.9455345869064331])"
      ]
     },
     "execution_count": 254,
     "metadata": {},
     "output_type": "execute_result"
    }
   ],
   "source": [
    "business_array = business_sf[business_sf['business_id'] == selected_business]['factors'][0]\n",
    "business_array"
   ]
  },
  {
   "cell_type": "code",
   "execution_count": 255,
   "metadata": {},
   "outputs": [
    {
     "data": {
      "text/plain": [
       "array('d', [-1.1107287406921387, 0.9322246313095093, 0.8028544187545776, 0.273590624332428, -0.37760624289512634, -0.27265992760658264, 0.6319060921669006, -1.6710028648376465])"
      ]
     },
     "execution_count": 255,
     "metadata": {},
     "output_type": "execute_result"
    }
   ],
   "source": [
    "user_array = user_sf[user_sf['user_id'] == selected_user]['factors'][0]\n",
    "user_array"
   ]
  },
  {
   "cell_type": "code",
   "execution_count": 256,
   "metadata": {},
   "outputs": [
    {
     "data": {
      "text/plain": [
       "3.8063198152540925"
      ]
     },
     "execution_count": 256,
     "metadata": {},
     "output_type": "execute_result"
    }
   ],
   "source": [
    "intercept = rec_stars['coefficients']['intercept']\n",
    "intercept"
   ]
  },
  {
   "cell_type": "code",
   "execution_count": 257,
   "metadata": {},
   "outputs": [
    {
     "name": "stdout",
     "output_type": "stream",
     "text": [
      "calculted predict rating: 3.90796183377\n"
     ]
    }
   ],
   "source": [
    "print \"calculted predict rating:\", np.dot(business_array, user_array) + intercept"
   ]
  },
  {
   "cell_type": "markdown",
   "metadata": {},
   "source": [
    "### Same as using rec_stars.predict method"
   ]
  },
  {
   "cell_type": "markdown",
   "metadata": {},
   "source": [
    "### Understanding the intercept term."
   ]
  },
  {
   "cell_type": "code",
   "execution_count": 258,
   "metadata": {},
   "outputs": [
    {
     "name": "stdout",
     "output_type": "stream",
     "text": [
      "intercept: 3.80631981525\n",
      "average: 3.80631981525\n"
     ]
    }
   ],
   "source": [
    "print \"intercept:\", intercept\n",
    "print \"average:\", np.average(sf_stars['stars'])"
   ]
  },
  {
   "cell_type": "markdown",
   "metadata": {},
   "source": [
    "### Call the predict method on the input data and predict the rating. Then verify the RMS reported by the model diagnostics is correct."
   ]
  },
  {
   "cell_type": "code",
   "execution_count": 259,
   "metadata": {},
   "outputs": [
    {
     "data": {
      "text/html": [
       "<div>\n",
       "<table border=\"1\" class=\"dataframe\">\n",
       "  <thead>\n",
       "    <tr style=\"text-align: right;\">\n",
       "      <th></th>\n",
       "      <th>business_id</th>\n",
       "      <th>user_id</th>\n",
       "      <th>stars</th>\n",
       "    </tr>\n",
       "  </thead>\n",
       "  <tbody>\n",
       "    <tr>\n",
       "      <th>0</th>\n",
       "      <td>--9e1ONYQuAa-CB_Rrw7Tw</td>\n",
       "      <td>nT8zgjoc-PbdBoQsFEXFLw</td>\n",
       "      <td>5</td>\n",
       "    </tr>\n",
       "    <tr>\n",
       "      <th>1</th>\n",
       "      <td>--9e1ONYQuAa-CB_Rrw7Tw</td>\n",
       "      <td>rOIrilMC7VFwFVBeQNiKMw</td>\n",
       "      <td>3</td>\n",
       "    </tr>\n",
       "    <tr>\n",
       "      <th>2</th>\n",
       "      <td>--9e1ONYQuAa-CB_Rrw7Tw</td>\n",
       "      <td>ez3GBw83OIgzzgvc0R4jzw</td>\n",
       "      <td>4</td>\n",
       "    </tr>\n",
       "    <tr>\n",
       "      <th>3</th>\n",
       "      <td>--9e1ONYQuAa-CB_Rrw7Tw</td>\n",
       "      <td>gJrOPH-DSZWY_NX2j6Bugw</td>\n",
       "      <td>5</td>\n",
       "    </tr>\n",
       "    <tr>\n",
       "      <th>4</th>\n",
       "      <td>--9e1ONYQuAa-CB_Rrw7Tw</td>\n",
       "      <td>3Y_gz3wb7T5ur9FHqxBcgQ</td>\n",
       "      <td>5</td>\n",
       "    </tr>\n",
       "  </tbody>\n",
       "</table>\n",
       "</div>"
      ],
      "text/plain": [
       "              business_id                 user_id  stars\n",
       "0  --9e1ONYQuAa-CB_Rrw7Tw  nT8zgjoc-PbdBoQsFEXFLw      5\n",
       "1  --9e1ONYQuAa-CB_Rrw7Tw  rOIrilMC7VFwFVBeQNiKMw      3\n",
       "2  --9e1ONYQuAa-CB_Rrw7Tw  ez3GBw83OIgzzgvc0R4jzw      4\n",
       "3  --9e1ONYQuAa-CB_Rrw7Tw  gJrOPH-DSZWY_NX2j6Bugw      5\n",
       "4  --9e1ONYQuAa-CB_Rrw7Tw  3Y_gz3wb7T5ur9FHqxBcgQ      5"
      ]
     },
     "execution_count": 259,
     "metadata": {},
     "output_type": "execute_result"
    }
   ],
   "source": [
    "df_stars.head(5)"
   ]
  },
  {
   "cell_type": "code",
   "execution_count": 260,
   "metadata": {},
   "outputs": [
    {
     "data": {
      "text/plain": [
       "dtype: float\n",
       "Rows: 5\n",
       "[4.996172768211226, 3.007716757392745, 3.9994736138342426, 4.996755701637129, 5.001009804344038]"
      ]
     },
     "execution_count": 260,
     "metadata": {},
     "output_type": "execute_result"
    }
   ],
   "source": [
    "predictions.head(5)"
   ]
  },
  {
   "cell_type": "code",
   "execution_count": 261,
   "metadata": {},
   "outputs": [
    {
     "name": "stdout",
     "output_type": "stream",
     "text": [
      "graphlab's reported rmse: 0.190322496154\n",
      "calulated rmse: 0.190322496154\n"
     ]
    }
   ],
   "source": [
    "from sklearn.metrics import mean_squared_error\n",
    "\n",
    "predictions = rec_stars.predict(sf_stars)\n",
    "rmse = np.sqrt(mean_squared_error(sf_stars['stars'], predictions))\n",
    "\n",
    "print \"graphlab's reported rmse:\", rec_stars['training_rmse']\n",
    "print \"calulated rmse:\", rmse"
   ]
  },
  {
   "cell_type": "markdown",
   "metadata": {},
   "source": [
    "### Compare the summary statistics of the original data with predictions."
   ]
  },
  {
   "cell_type": "code",
   "execution_count": 262,
   "metadata": {},
   "outputs": [
    {
     "data": {
      "text/plain": [
       "count    287097.000000\n",
       "mean          3.806320\n",
       "std           1.429516\n",
       "min           1.000000\n",
       "25%           3.000000\n",
       "50%           4.000000\n",
       "75%           5.000000\n",
       "max           5.000000\n",
       "dtype: float64"
      ]
     },
     "execution_count": 262,
     "metadata": {},
     "output_type": "execute_result"
    }
   ],
   "source": [
    "pd.Series(sf_stars['stars']).describe()"
   ]
  },
  {
   "cell_type": "code",
   "execution_count": 263,
   "metadata": {},
   "outputs": [
    {
     "data": {
      "text/plain": [
       "count    287097.000000\n",
       "mean          3.799732\n",
       "std           1.416555\n",
       "min           0.255816\n",
       "25%           2.998796\n",
       "50%           4.013381\n",
       "75%           4.999412\n",
       "max           6.395660\n",
       "dtype: float64"
      ]
     },
     "execution_count": 263,
     "metadata": {},
     "output_type": "execute_result"
    }
   ],
   "source": [
    "pd.Series(predictions).describe()"
   ]
  },
  {
   "cell_type": "markdown",
   "metadata": {},
   "source": [
    "### The std, 25%, 50% and 75% quantiles are very close for original data and predicitons. But the min and max of the predictions are different from the original data."
   ]
  },
  {
   "cell_type": "markdown",
   "metadata": {},
   "source": [
    "### Add regularizations to the model"
   ]
  },
  {
   "cell_type": "markdown",
   "metadata": {},
   "source": [
    "Compare the rmse with L2 regularization = 0 and 1e-5."
   ]
  },
  {
   "cell_type": "code",
   "execution_count": 264,
   "metadata": {},
   "outputs": [
    {
     "data": {
      "text/html": [
       "<pre>Recsys training: model = factorization_recommender</pre>"
      ],
      "text/plain": [
       "Recsys training: model = factorization_recommender"
      ]
     },
     "metadata": {},
     "output_type": "display_data"
    },
    {
     "data": {
      "text/html": [
       "<pre>Preparing data set.</pre>"
      ],
      "text/plain": [
       "Preparing data set."
      ]
     },
     "metadata": {},
     "output_type": "display_data"
    },
    {
     "data": {
      "text/html": [
       "<pre>    Data has 287097 observations with 140737 users and 4290 items.</pre>"
      ],
      "text/plain": [
       "    Data has 287097 observations with 140737 users and 4290 items."
      ]
     },
     "metadata": {},
     "output_type": "display_data"
    },
    {
     "data": {
      "text/html": [
       "<pre>    Data prepared in: 0.767735s</pre>"
      ],
      "text/plain": [
       "    Data prepared in: 0.767735s"
      ]
     },
     "metadata": {},
     "output_type": "display_data"
    },
    {
     "data": {
      "text/html": [
       "<pre>Training factorization_recommender for recommendations.</pre>"
      ],
      "text/plain": [
       "Training factorization_recommender for recommendations."
      ]
     },
     "metadata": {},
     "output_type": "display_data"
    },
    {
     "data": {
      "text/html": [
       "<pre>+------------------------------+--------------------------------------------------+----------+</pre>"
      ],
      "text/plain": [
       "+------------------------------+--------------------------------------------------+----------+"
      ]
     },
     "metadata": {},
     "output_type": "display_data"
    },
    {
     "data": {
      "text/html": [
       "<pre>| Parameter                    | Description                                      | Value    |</pre>"
      ],
      "text/plain": [
       "| Parameter                    | Description                                      | Value    |"
      ]
     },
     "metadata": {},
     "output_type": "display_data"
    },
    {
     "data": {
      "text/html": [
       "<pre>+------------------------------+--------------------------------------------------+----------+</pre>"
      ],
      "text/plain": [
       "+------------------------------+--------------------------------------------------+----------+"
      ]
     },
     "metadata": {},
     "output_type": "display_data"
    },
    {
     "data": {
      "text/html": [
       "<pre>| num_factors                  | Factor Dimension                                 | 8        |</pre>"
      ],
      "text/plain": [
       "| num_factors                  | Factor Dimension                                 | 8        |"
      ]
     },
     "metadata": {},
     "output_type": "display_data"
    },
    {
     "data": {
      "text/html": [
       "<pre>| regularization               | L2 Regularization on Factors                     | 0        |</pre>"
      ],
      "text/plain": [
       "| regularization               | L2 Regularization on Factors                     | 0        |"
      ]
     },
     "metadata": {},
     "output_type": "display_data"
    },
    {
     "data": {
      "text/html": [
       "<pre>| max_iterations               | Maximum Number of Iterations                     | 50       |</pre>"
      ],
      "text/plain": [
       "| max_iterations               | Maximum Number of Iterations                     | 50       |"
      ]
     },
     "metadata": {},
     "output_type": "display_data"
    },
    {
     "data": {
      "text/html": [
       "<pre>| solver                       | Solver used for training                         | als      |</pre>"
      ],
      "text/plain": [
       "| solver                       | Solver used for training                         | als      |"
      ]
     },
     "metadata": {},
     "output_type": "display_data"
    },
    {
     "data": {
      "text/html": [
       "<pre>+------------------------------+--------------------------------------------------+----------+</pre>"
      ],
      "text/plain": [
       "+------------------------------+--------------------------------------------------+----------+"
      ]
     },
     "metadata": {},
     "output_type": "display_data"
    },
    {
     "data": {
      "text/html": [
       "<pre>+---------+--------------+------------------------+</pre>"
      ],
      "text/plain": [
       "+---------+--------------+------------------------+"
      ]
     },
     "metadata": {},
     "output_type": "display_data"
    },
    {
     "data": {
      "text/html": [
       "<pre>| Iter.   | Elapsed time | RMSE                   |</pre>"
      ],
      "text/plain": [
       "| Iter.   | Elapsed time | RMSE                   |"
      ]
     },
     "metadata": {},
     "output_type": "display_data"
    },
    {
     "data": {
      "text/html": [
       "<pre>+---------+--------------+------------------------+</pre>"
      ],
      "text/plain": [
       "+---------+--------------+------------------------+"
      ]
     },
     "metadata": {},
     "output_type": "display_data"
    },
    {
     "data": {
      "text/html": [
       "<pre>| Initial | 94us         | NA                     |</pre>"
      ],
      "text/plain": [
       "| Initial | 94us         | NA                     |"
      ]
     },
     "metadata": {},
     "output_type": "display_data"
    },
    {
     "data": {
      "text/html": [
       "<pre>+---------+--------------+------------------------+</pre>"
      ],
      "text/plain": [
       "+---------+--------------+------------------------+"
      ]
     },
     "metadata": {},
     "output_type": "display_data"
    },
    {
     "data": {
      "text/html": [
       "<pre>| 0       | 564.851ms    | 0.45941                |</pre>"
      ],
      "text/plain": [
       "| 0       | 564.851ms    | 0.45941                |"
      ]
     },
     "metadata": {},
     "output_type": "display_data"
    },
    {
     "data": {
      "text/html": [
       "<pre>| 1       | 1.00s        | 0.353022               |</pre>"
      ],
      "text/plain": [
       "| 1       | 1.00s        | 0.353022               |"
      ]
     },
     "metadata": {},
     "output_type": "display_data"
    },
    {
     "data": {
      "text/html": [
       "<pre>| 2       | 1.36s        | 0.31772                |</pre>"
      ],
      "text/plain": [
       "| 2       | 1.36s        | 0.31772                |"
      ]
     },
     "metadata": {},
     "output_type": "display_data"
    },
    {
     "data": {
      "text/html": [
       "<pre>| 3       | 1.74s        | 0.295959               |</pre>"
      ],
      "text/plain": [
       "| 3       | 1.74s        | 0.295959               |"
      ]
     },
     "metadata": {},
     "output_type": "display_data"
    },
    {
     "data": {
      "text/html": [
       "<pre>| 4       | 2.10s        | 0.280678               |</pre>"
      ],
      "text/plain": [
       "| 4       | 2.10s        | 0.280678               |"
      ]
     },
     "metadata": {},
     "output_type": "display_data"
    },
    {
     "data": {
      "text/html": [
       "<pre>| 5       | 2.48s        | 0.269055               |</pre>"
      ],
      "text/plain": [
       "| 5       | 2.48s        | 0.269055               |"
      ]
     },
     "metadata": {},
     "output_type": "display_data"
    },
    {
     "data": {
      "text/html": [
       "<pre>| 6       | 2.85s        | 0.259809               |</pre>"
      ],
      "text/plain": [
       "| 6       | 2.85s        | 0.259809               |"
      ]
     },
     "metadata": {},
     "output_type": "display_data"
    },
    {
     "data": {
      "text/html": [
       "<pre>| 7       | 3.21s        | 0.252206               |</pre>"
      ],
      "text/plain": [
       "| 7       | 3.21s        | 0.252206               |"
      ]
     },
     "metadata": {},
     "output_type": "display_data"
    },
    {
     "data": {
      "text/html": [
       "<pre>| 8       | 3.57s        | 0.245846               |</pre>"
      ],
      "text/plain": [
       "| 8       | 3.57s        | 0.245846               |"
      ]
     },
     "metadata": {},
     "output_type": "display_data"
    },
    {
     "data": {
      "text/html": [
       "<pre>| 9       | 3.97s        | 0.241364               |</pre>"
      ],
      "text/plain": [
       "| 9       | 3.97s        | 0.241364               |"
      ]
     },
     "metadata": {},
     "output_type": "display_data"
    },
    {
     "data": {
      "text/html": [
       "<pre>| 10      | 4.34s        | 0.235739               |</pre>"
      ],
      "text/plain": [
       "| 10      | 4.34s        | 0.235739               |"
      ]
     },
     "metadata": {},
     "output_type": "display_data"
    },
    {
     "data": {
      "text/html": [
       "<pre>| 11      | 4.71s        | 0.231557               |</pre>"
      ],
      "text/plain": [
       "| 11      | 4.71s        | 0.231557               |"
      ]
     },
     "metadata": {},
     "output_type": "display_data"
    },
    {
     "data": {
      "text/html": [
       "<pre>| 12      | 5.18s        | 0.22796                |</pre>"
      ],
      "text/plain": [
       "| 12      | 5.18s        | 0.22796                |"
      ]
     },
     "metadata": {},
     "output_type": "display_data"
    },
    {
     "data": {
      "text/html": [
       "<pre>| 13      | 5.53s        | 0.224763               |</pre>"
      ],
      "text/plain": [
       "| 13      | 5.53s        | 0.224763               |"
      ]
     },
     "metadata": {},
     "output_type": "display_data"
    },
    {
     "data": {
      "text/html": [
       "<pre>| 14      | 5.88s        | 0.221777               |</pre>"
      ],
      "text/plain": [
       "| 14      | 5.88s        | 0.221777               |"
      ]
     },
     "metadata": {},
     "output_type": "display_data"
    },
    {
     "data": {
      "text/html": [
       "<pre>| 15      | 6.21s        | 0.219418               |</pre>"
      ],
      "text/plain": [
       "| 15      | 6.21s        | 0.219418               |"
      ]
     },
     "metadata": {},
     "output_type": "display_data"
    },
    {
     "data": {
      "text/html": [
       "<pre>| 16      | 6.56s        | 0.217589               |</pre>"
      ],
      "text/plain": [
       "| 16      | 6.56s        | 0.217589               |"
      ]
     },
     "metadata": {},
     "output_type": "display_data"
    },
    {
     "data": {
      "text/html": [
       "<pre>| 17      | 6.90s        | 0.215742               |</pre>"
      ],
      "text/plain": [
       "| 17      | 6.90s        | 0.215742               |"
      ]
     },
     "metadata": {},
     "output_type": "display_data"
    },
    {
     "data": {
      "text/html": [
       "<pre>| 18      | 7.27s        | 0.213478               |</pre>"
      ],
      "text/plain": [
       "| 18      | 7.27s        | 0.213478               |"
      ]
     },
     "metadata": {},
     "output_type": "display_data"
    },
    {
     "data": {
      "text/html": [
       "<pre>| 19      | 7.61s        | 0.211848               |</pre>"
      ],
      "text/plain": [
       "| 19      | 7.61s        | 0.211848               |"
      ]
     },
     "metadata": {},
     "output_type": "display_data"
    },
    {
     "data": {
      "text/html": [
       "<pre>| 20      | 7.95s        | 0.211217               |</pre>"
      ],
      "text/plain": [
       "| 20      | 7.95s        | 0.211217               |"
      ]
     },
     "metadata": {},
     "output_type": "display_data"
    },
    {
     "data": {
      "text/html": [
       "<pre>| 21      | 8.31s        | 0.210236               |</pre>"
      ],
      "text/plain": [
       "| 21      | 8.31s        | 0.210236               |"
      ]
     },
     "metadata": {},
     "output_type": "display_data"
    },
    {
     "data": {
      "text/html": [
       "<pre>| 22      | 8.64s        | 0.207894               |</pre>"
      ],
      "text/plain": [
       "| 22      | 8.64s        | 0.207894               |"
      ]
     },
     "metadata": {},
     "output_type": "display_data"
    },
    {
     "data": {
      "text/html": [
       "<pre>| 23      | 8.97s        | 0.206404               |</pre>"
      ],
      "text/plain": [
       "| 23      | 8.97s        | 0.206404               |"
      ]
     },
     "metadata": {},
     "output_type": "display_data"
    },
    {
     "data": {
      "text/html": [
       "<pre>| 24      | 9.31s        | 0.204293               |</pre>"
      ],
      "text/plain": [
       "| 24      | 9.31s        | 0.204293               |"
      ]
     },
     "metadata": {},
     "output_type": "display_data"
    },
    {
     "data": {
      "text/html": [
       "<pre>| 25      | 9.67s        | 0.206116               |</pre>"
      ],
      "text/plain": [
       "| 25      | 9.67s        | 0.206116               |"
      ]
     },
     "metadata": {},
     "output_type": "display_data"
    },
    {
     "data": {
      "text/html": [
       "<pre>| 26      | 10.05s       | 0.204428               |</pre>"
      ],
      "text/plain": [
       "| 26      | 10.05s       | 0.204428               |"
      ]
     },
     "metadata": {},
     "output_type": "display_data"
    },
    {
     "data": {
      "text/html": [
       "<pre>| 27      | 10.46s       | 0.20326                |</pre>"
      ],
      "text/plain": [
       "| 27      | 10.46s       | 0.20326                |"
      ]
     },
     "metadata": {},
     "output_type": "display_data"
    },
    {
     "data": {
      "text/html": [
       "<pre>| 28      | 10.86s       | 0.202437               |</pre>"
      ],
      "text/plain": [
       "| 28      | 10.86s       | 0.202437               |"
      ]
     },
     "metadata": {},
     "output_type": "display_data"
    },
    {
     "data": {
      "text/html": [
       "<pre>| 29      | 11.23s       | 0.200863               |</pre>"
      ],
      "text/plain": [
       "| 29      | 11.23s       | 0.200863               |"
      ]
     },
     "metadata": {},
     "output_type": "display_data"
    },
    {
     "data": {
      "text/html": [
       "<pre>| 30      | 11.58s       | 0.200763               |</pre>"
      ],
      "text/plain": [
       "| 30      | 11.58s       | 0.200763               |"
      ]
     },
     "metadata": {},
     "output_type": "display_data"
    },
    {
     "data": {
      "text/html": [
       "<pre>| 31      | 11.94s       | 0.223076               |</pre>"
      ],
      "text/plain": [
       "| 31      | 11.94s       | 0.223076               |"
      ]
     },
     "metadata": {},
     "output_type": "display_data"
    },
    {
     "data": {
      "text/html": [
       "<pre>| 32      | 12.36s       | 0.200715               |</pre>"
      ],
      "text/plain": [
       "| 32      | 12.36s       | 0.200715               |"
      ]
     },
     "metadata": {},
     "output_type": "display_data"
    },
    {
     "data": {
      "text/html": [
       "<pre>| 33      | 13.12s       | 0.199354               |</pre>"
      ],
      "text/plain": [
       "| 33      | 13.12s       | 0.199354               |"
      ]
     },
     "metadata": {},
     "output_type": "display_data"
    },
    {
     "data": {
      "text/html": [
       "<pre>| 34      | 13.70s       | 0.201234               |</pre>"
      ],
      "text/plain": [
       "| 34      | 13.70s       | 0.201234               |"
      ]
     },
     "metadata": {},
     "output_type": "display_data"
    },
    {
     "data": {
      "text/html": [
       "<pre>| 35      | 14.35s       | 0.196795               |</pre>"
      ],
      "text/plain": [
       "| 35      | 14.35s       | 0.196795               |"
      ]
     },
     "metadata": {},
     "output_type": "display_data"
    },
    {
     "data": {
      "text/html": [
       "<pre>| 36      | 14.77s       | 0.196875               |</pre>"
      ],
      "text/plain": [
       "| 36      | 14.77s       | 0.196875               |"
      ]
     },
     "metadata": {},
     "output_type": "display_data"
    },
    {
     "data": {
      "text/html": [
       "<pre>| 37      | 15.25s       | 0.196694               |</pre>"
      ],
      "text/plain": [
       "| 37      | 15.25s       | 0.196694               |"
      ]
     },
     "metadata": {},
     "output_type": "display_data"
    },
    {
     "data": {
      "text/html": [
       "<pre>| 38      | 15.74s       | 0.197657               |</pre>"
      ],
      "text/plain": [
       "| 38      | 15.74s       | 0.197657               |"
      ]
     },
     "metadata": {},
     "output_type": "display_data"
    },
    {
     "data": {
      "text/html": [
       "<pre>| 39      | 16.23s       | 0.196228               |</pre>"
      ],
      "text/plain": [
       "| 39      | 16.23s       | 0.196228               |"
      ]
     },
     "metadata": {},
     "output_type": "display_data"
    },
    {
     "data": {
      "text/html": [
       "<pre>| 40      | 16.68s       | 0.196192               |</pre>"
      ],
      "text/plain": [
       "| 40      | 16.68s       | 0.196192               |"
      ]
     },
     "metadata": {},
     "output_type": "display_data"
    },
    {
     "data": {
      "text/html": [
       "<pre>| 41      | 17.15s       | 0.195181               |</pre>"
      ],
      "text/plain": [
       "| 41      | 17.15s       | 0.195181               |"
      ]
     },
     "metadata": {},
     "output_type": "display_data"
    },
    {
     "data": {
      "text/html": [
       "<pre>| 42      | 17.58s       | 0.195507               |</pre>"
      ],
      "text/plain": [
       "| 42      | 17.58s       | 0.195507               |"
      ]
     },
     "metadata": {},
     "output_type": "display_data"
    },
    {
     "data": {
      "text/html": [
       "<pre>| 43      | 17.98s       | 0.197513               |</pre>"
      ],
      "text/plain": [
       "| 43      | 17.98s       | 0.197513               |"
      ]
     },
     "metadata": {},
     "output_type": "display_data"
    },
    {
     "data": {
      "text/html": [
       "<pre>| 44      | 18.40s       | 0.22947                |</pre>"
      ],
      "text/plain": [
       "| 44      | 18.40s       | 0.22947                |"
      ]
     },
     "metadata": {},
     "output_type": "display_data"
    },
    {
     "data": {
      "text/html": [
       "<pre>| 45      | 18.85s       | 0.195247               |</pre>"
      ],
      "text/plain": [
       "| 45      | 18.85s       | 0.195247               |"
      ]
     },
     "metadata": {},
     "output_type": "display_data"
    },
    {
     "data": {
      "text/html": [
       "<pre>| 46      | 19.25s       | 0.1931                 |</pre>"
      ],
      "text/plain": [
       "| 46      | 19.25s       | 0.1931                 |"
      ]
     },
     "metadata": {},
     "output_type": "display_data"
    },
    {
     "data": {
      "text/html": [
       "<pre>| 47      | 19.59s       | 0.193617               |</pre>"
      ],
      "text/plain": [
       "| 47      | 19.59s       | 0.193617               |"
      ]
     },
     "metadata": {},
     "output_type": "display_data"
    },
    {
     "data": {
      "text/html": [
       "<pre>| 48      | 19.93s       | 0.196689               |</pre>"
      ],
      "text/plain": [
       "| 48      | 19.93s       | 0.196689               |"
      ]
     },
     "metadata": {},
     "output_type": "display_data"
    },
    {
     "data": {
      "text/html": [
       "<pre>| 49      | 20.28s       | 0.196812               |</pre>"
      ],
      "text/plain": [
       "| 49      | 20.28s       | 0.196812               |"
      ]
     },
     "metadata": {},
     "output_type": "display_data"
    },
    {
     "data": {
      "text/html": [
       "<pre>| FINAL   | 20.28s       | 0.196812               |</pre>"
      ],
      "text/plain": [
       "| FINAL   | 20.28s       | 0.196812               |"
      ]
     },
     "metadata": {},
     "output_type": "display_data"
    },
    {
     "data": {
      "text/html": [
       "<pre>+---------+--------------+------------------------+</pre>"
      ],
      "text/plain": [
       "+---------+--------------+------------------------+"
      ]
     },
     "metadata": {},
     "output_type": "display_data"
    },
    {
     "data": {
      "text/html": [
       "<pre>Optimization Complete: Iteration limit reached.</pre>"
      ],
      "text/plain": [
       "Optimization Complete: Iteration limit reached."
      ]
     },
     "metadata": {},
     "output_type": "display_data"
    }
   ],
   "source": [
    "random_seed = 0\n",
    "rec_stars2 = graphlab.recommender.factorization_recommender.create(\n",
    "        sf_stars,\n",
    "        user_id = 'user_id',\n",
    "        item_id = 'business_id',\n",
    "        target = 'stars',\n",
    "        solver = 'als',\n",
    "        side_data_factorization = False,\n",
    "        regularization = 0,\n",
    "        random_seed = random_seed)\n"
   ]
  },
  {
   "cell_type": "code",
   "execution_count": 265,
   "metadata": {},
   "outputs": [
    {
     "data": {
      "text/html": [
       "<pre>Recsys training: model = factorization_recommender</pre>"
      ],
      "text/plain": [
       "Recsys training: model = factorization_recommender"
      ]
     },
     "metadata": {},
     "output_type": "display_data"
    },
    {
     "data": {
      "text/html": [
       "<pre>Preparing data set.</pre>"
      ],
      "text/plain": [
       "Preparing data set."
      ]
     },
     "metadata": {},
     "output_type": "display_data"
    },
    {
     "data": {
      "text/html": [
       "<pre>    Data has 287097 observations with 140737 users and 4290 items.</pre>"
      ],
      "text/plain": [
       "    Data has 287097 observations with 140737 users and 4290 items."
      ]
     },
     "metadata": {},
     "output_type": "display_data"
    },
    {
     "data": {
      "text/html": [
       "<pre>    Data prepared in: 0.897019s</pre>"
      ],
      "text/plain": [
       "    Data prepared in: 0.897019s"
      ]
     },
     "metadata": {},
     "output_type": "display_data"
    },
    {
     "data": {
      "text/html": [
       "<pre>Training factorization_recommender for recommendations.</pre>"
      ],
      "text/plain": [
       "Training factorization_recommender for recommendations."
      ]
     },
     "metadata": {},
     "output_type": "display_data"
    },
    {
     "data": {
      "text/html": [
       "<pre>+------------------------------+--------------------------------------------------+----------+</pre>"
      ],
      "text/plain": [
       "+------------------------------+--------------------------------------------------+----------+"
      ]
     },
     "metadata": {},
     "output_type": "display_data"
    },
    {
     "data": {
      "text/html": [
       "<pre>| Parameter                    | Description                                      | Value    |</pre>"
      ],
      "text/plain": [
       "| Parameter                    | Description                                      | Value    |"
      ]
     },
     "metadata": {},
     "output_type": "display_data"
    },
    {
     "data": {
      "text/html": [
       "<pre>+------------------------------+--------------------------------------------------+----------+</pre>"
      ],
      "text/plain": [
       "+------------------------------+--------------------------------------------------+----------+"
      ]
     },
     "metadata": {},
     "output_type": "display_data"
    },
    {
     "data": {
      "text/html": [
       "<pre>| num_factors                  | Factor Dimension                                 | 8        |</pre>"
      ],
      "text/plain": [
       "| num_factors                  | Factor Dimension                                 | 8        |"
      ]
     },
     "metadata": {},
     "output_type": "display_data"
    },
    {
     "data": {
      "text/html": [
       "<pre>| regularization               | L2 Regularization on Factors                     | 1e-05    |</pre>"
      ],
      "text/plain": [
       "| regularization               | L2 Regularization on Factors                     | 1e-05    |"
      ]
     },
     "metadata": {},
     "output_type": "display_data"
    },
    {
     "data": {
      "text/html": [
       "<pre>| max_iterations               | Maximum Number of Iterations                     | 50       |</pre>"
      ],
      "text/plain": [
       "| max_iterations               | Maximum Number of Iterations                     | 50       |"
      ]
     },
     "metadata": {},
     "output_type": "display_data"
    },
    {
     "data": {
      "text/html": [
       "<pre>| solver                       | Solver used for training                         | als      |</pre>"
      ],
      "text/plain": [
       "| solver                       | Solver used for training                         | als      |"
      ]
     },
     "metadata": {},
     "output_type": "display_data"
    },
    {
     "data": {
      "text/html": [
       "<pre>+------------------------------+--------------------------------------------------+----------+</pre>"
      ],
      "text/plain": [
       "+------------------------------+--------------------------------------------------+----------+"
      ]
     },
     "metadata": {},
     "output_type": "display_data"
    },
    {
     "data": {
      "text/html": [
       "<pre>+---------+--------------+------------------------+</pre>"
      ],
      "text/plain": [
       "+---------+--------------+------------------------+"
      ]
     },
     "metadata": {},
     "output_type": "display_data"
    },
    {
     "data": {
      "text/html": [
       "<pre>| Iter.   | Elapsed time | RMSE                   |</pre>"
      ],
      "text/plain": [
       "| Iter.   | Elapsed time | RMSE                   |"
      ]
     },
     "metadata": {},
     "output_type": "display_data"
    },
    {
     "data": {
      "text/html": [
       "<pre>+---------+--------------+------------------------+</pre>"
      ],
      "text/plain": [
       "+---------+--------------+------------------------+"
      ]
     },
     "metadata": {},
     "output_type": "display_data"
    },
    {
     "data": {
      "text/html": [
       "<pre>| Initial | 125us        | NA                     |</pre>"
      ],
      "text/plain": [
       "| Initial | 125us        | NA                     |"
      ]
     },
     "metadata": {},
     "output_type": "display_data"
    },
    {
     "data": {
      "text/html": [
       "<pre>+---------+--------------+------------------------+</pre>"
      ],
      "text/plain": [
       "+---------+--------------+------------------------+"
      ]
     },
     "metadata": {},
     "output_type": "display_data"
    },
    {
     "data": {
      "text/html": [
       "<pre>| 0       | 457.452ms    | 1.42944                |</pre>"
      ],
      "text/plain": [
       "| 0       | 457.452ms    | 1.42944                |"
      ]
     },
     "metadata": {},
     "output_type": "display_data"
    },
    {
     "data": {
      "text/html": [
       "<pre>| 1       | 840.459ms    | 1.26122                |</pre>"
      ],
      "text/plain": [
       "| 1       | 840.459ms    | 1.26122                |"
      ]
     },
     "metadata": {},
     "output_type": "display_data"
    },
    {
     "data": {
      "text/html": [
       "<pre>| 2       | 1.28s        | 0.67703                |</pre>"
      ],
      "text/plain": [
       "| 2       | 1.28s        | 0.67703                |"
      ]
     },
     "metadata": {},
     "output_type": "display_data"
    },
    {
     "data": {
      "text/html": [
       "<pre>| 3       | 1.67s        | 0.486521               |</pre>"
      ],
      "text/plain": [
       "| 3       | 1.67s        | 0.486521               |"
      ]
     },
     "metadata": {},
     "output_type": "display_data"
    },
    {
     "data": {
      "text/html": [
       "<pre>| 4       | 2.08s        | 0.460919               |</pre>"
      ],
      "text/plain": [
       "| 4       | 2.08s        | 0.460919               |"
      ]
     },
     "metadata": {},
     "output_type": "display_data"
    },
    {
     "data": {
      "text/html": [
       "<pre>| 5       | 2.63s        | 0.450058               |</pre>"
      ],
      "text/plain": [
       "| 5       | 2.63s        | 0.450058               |"
      ]
     },
     "metadata": {},
     "output_type": "display_data"
    },
    {
     "data": {
      "text/html": [
       "<pre>| 6       | 3.09s        | 0.442772               |</pre>"
      ],
      "text/plain": [
       "| 6       | 3.09s        | 0.442772               |"
      ]
     },
     "metadata": {},
     "output_type": "display_data"
    },
    {
     "data": {
      "text/html": [
       "<pre>| 7       | 3.69s        | 0.437373               |</pre>"
      ],
      "text/plain": [
       "| 7       | 3.69s        | 0.437373               |"
      ]
     },
     "metadata": {},
     "output_type": "display_data"
    },
    {
     "data": {
      "text/html": [
       "<pre>| 8       | 4.30s        | 0.43315                |</pre>"
      ],
      "text/plain": [
       "| 8       | 4.30s        | 0.43315                |"
      ]
     },
     "metadata": {},
     "output_type": "display_data"
    },
    {
     "data": {
      "text/html": [
       "<pre>| 9       | 4.83s        | 0.429716               |</pre>"
      ],
      "text/plain": [
       "| 9       | 4.83s        | 0.429716               |"
      ]
     },
     "metadata": {},
     "output_type": "display_data"
    },
    {
     "data": {
      "text/html": [
       "<pre>| 10      | 5.25s        | 0.426877               |</pre>"
      ],
      "text/plain": [
       "| 10      | 5.25s        | 0.426877               |"
      ]
     },
     "metadata": {},
     "output_type": "display_data"
    },
    {
     "data": {
      "text/html": [
       "<pre>| 11      | 5.65s        | 0.424514               |</pre>"
      ],
      "text/plain": [
       "| 11      | 5.65s        | 0.424514               |"
      ]
     },
     "metadata": {},
     "output_type": "display_data"
    },
    {
     "data": {
      "text/html": [
       "<pre>| 12      | 6.11s        | 0.422507               |</pre>"
      ],
      "text/plain": [
       "| 12      | 6.11s        | 0.422507               |"
      ]
     },
     "metadata": {},
     "output_type": "display_data"
    },
    {
     "data": {
      "text/html": [
       "<pre>| 13      | 6.54s        | 0.420758               |</pre>"
      ],
      "text/plain": [
       "| 13      | 6.54s        | 0.420758               |"
      ]
     },
     "metadata": {},
     "output_type": "display_data"
    },
    {
     "data": {
      "text/html": [
       "<pre>| 14      | 6.96s        | 0.419206               |</pre>"
      ],
      "text/plain": [
       "| 14      | 6.96s        | 0.419206               |"
      ]
     },
     "metadata": {},
     "output_type": "display_data"
    },
    {
     "data": {
      "text/html": [
       "<pre>| 15      | 7.32s        | 0.417809               |</pre>"
      ],
      "text/plain": [
       "| 15      | 7.32s        | 0.417809               |"
      ]
     },
     "metadata": {},
     "output_type": "display_data"
    },
    {
     "data": {
      "text/html": [
       "<pre>| 16      | 7.70s        | 0.41654                |</pre>"
      ],
      "text/plain": [
       "| 16      | 7.70s        | 0.41654                |"
      ]
     },
     "metadata": {},
     "output_type": "display_data"
    },
    {
     "data": {
      "text/html": [
       "<pre>| 17      | 8.06s        | 0.415377               |</pre>"
      ],
      "text/plain": [
       "| 17      | 8.06s        | 0.415377               |"
      ]
     },
     "metadata": {},
     "output_type": "display_data"
    },
    {
     "data": {
      "text/html": [
       "<pre>| 18      | 8.47s        | 0.414304               |</pre>"
      ],
      "text/plain": [
       "| 18      | 8.47s        | 0.414304               |"
      ]
     },
     "metadata": {},
     "output_type": "display_data"
    },
    {
     "data": {
      "text/html": [
       "<pre>| 19      | 8.83s        | 0.413311               |</pre>"
      ],
      "text/plain": [
       "| 19      | 8.83s        | 0.413311               |"
      ]
     },
     "metadata": {},
     "output_type": "display_data"
    },
    {
     "data": {
      "text/html": [
       "<pre>| 20      | 9.16s        | 0.412391               |</pre>"
      ],
      "text/plain": [
       "| 20      | 9.16s        | 0.412391               |"
      ]
     },
     "metadata": {},
     "output_type": "display_data"
    },
    {
     "data": {
      "text/html": [
       "<pre>| 21      | 9.51s        | 0.411541               |</pre>"
      ],
      "text/plain": [
       "| 21      | 9.51s        | 0.411541               |"
      ]
     },
     "metadata": {},
     "output_type": "display_data"
    },
    {
     "data": {
      "text/html": [
       "<pre>| 22      | 9.85s        | 0.410753               |</pre>"
      ],
      "text/plain": [
       "| 22      | 9.85s        | 0.410753               |"
      ]
     },
     "metadata": {},
     "output_type": "display_data"
    },
    {
     "data": {
      "text/html": [
       "<pre>| 23      | 10.21s       | 0.410022               |</pre>"
      ],
      "text/plain": [
       "| 23      | 10.21s       | 0.410022               |"
      ]
     },
     "metadata": {},
     "output_type": "display_data"
    },
    {
     "data": {
      "text/html": [
       "<pre>| 24      | 10.60s       | 0.409341               |</pre>"
      ],
      "text/plain": [
       "| 24      | 10.60s       | 0.409341               |"
      ]
     },
     "metadata": {},
     "output_type": "display_data"
    },
    {
     "data": {
      "text/html": [
       "<pre>| 25      | 10.96s       | 0.408704               |</pre>"
      ],
      "text/plain": [
       "| 25      | 10.96s       | 0.408704               |"
      ]
     },
     "metadata": {},
     "output_type": "display_data"
    },
    {
     "data": {
      "text/html": [
       "<pre>| 26      | 11.33s       | 0.408107               |</pre>"
      ],
      "text/plain": [
       "| 26      | 11.33s       | 0.408107               |"
      ]
     },
     "metadata": {},
     "output_type": "display_data"
    },
    {
     "data": {
      "text/html": [
       "<pre>| 27      | 11.71s       | 0.407545               |</pre>"
      ],
      "text/plain": [
       "| 27      | 11.71s       | 0.407545               |"
      ]
     },
     "metadata": {},
     "output_type": "display_data"
    },
    {
     "data": {
      "text/html": [
       "<pre>| 28      | 12.14s       | 0.407016               |</pre>"
      ],
      "text/plain": [
       "| 28      | 12.14s       | 0.407016               |"
      ]
     },
     "metadata": {},
     "output_type": "display_data"
    },
    {
     "data": {
      "text/html": [
       "<pre>| 29      | 12.54s       | 0.406519               |</pre>"
      ],
      "text/plain": [
       "| 29      | 12.54s       | 0.406519               |"
      ]
     },
     "metadata": {},
     "output_type": "display_data"
    },
    {
     "data": {
      "text/html": [
       "<pre>| 30      | 12.91s       | 0.406049               |</pre>"
      ],
      "text/plain": [
       "| 30      | 12.91s       | 0.406049               |"
      ]
     },
     "metadata": {},
     "output_type": "display_data"
    },
    {
     "data": {
      "text/html": [
       "<pre>| 31      | 13.27s       | 0.405607               |</pre>"
      ],
      "text/plain": [
       "| 31      | 13.27s       | 0.405607               |"
      ]
     },
     "metadata": {},
     "output_type": "display_data"
    },
    {
     "data": {
      "text/html": [
       "<pre>| 32      | 13.62s       | 0.405189               |</pre>"
      ],
      "text/plain": [
       "| 32      | 13.62s       | 0.405189               |"
      ]
     },
     "metadata": {},
     "output_type": "display_data"
    },
    {
     "data": {
      "text/html": [
       "<pre>| 33      | 14.00s       | 0.404792               |</pre>"
      ],
      "text/plain": [
       "| 33      | 14.00s       | 0.404792               |"
      ]
     },
     "metadata": {},
     "output_type": "display_data"
    },
    {
     "data": {
      "text/html": [
       "<pre>| 34      | 14.40s       | 0.404416               |</pre>"
      ],
      "text/plain": [
       "| 34      | 14.40s       | 0.404416               |"
      ]
     },
     "metadata": {},
     "output_type": "display_data"
    },
    {
     "data": {
      "text/html": [
       "<pre>| 35      | 14.75s       | 0.404057               |</pre>"
      ],
      "text/plain": [
       "| 35      | 14.75s       | 0.404057               |"
      ]
     },
     "metadata": {},
     "output_type": "display_data"
    },
    {
     "data": {
      "text/html": [
       "<pre>| 36      | 15.17s       | 0.403714               |</pre>"
      ],
      "text/plain": [
       "| 36      | 15.17s       | 0.403714               |"
      ]
     },
     "metadata": {},
     "output_type": "display_data"
    },
    {
     "data": {
      "text/html": [
       "<pre>| 37      | 15.53s       | 0.403386               |</pre>"
      ],
      "text/plain": [
       "| 37      | 15.53s       | 0.403386               |"
      ]
     },
     "metadata": {},
     "output_type": "display_data"
    },
    {
     "data": {
      "text/html": [
       "<pre>| 38      | 15.88s       | 0.403071               |</pre>"
      ],
      "text/plain": [
       "| 38      | 15.88s       | 0.403071               |"
      ]
     },
     "metadata": {},
     "output_type": "display_data"
    },
    {
     "data": {
      "text/html": [
       "<pre>| 39      | 16.32s       | 0.402768               |</pre>"
      ],
      "text/plain": [
       "| 39      | 16.32s       | 0.402768               |"
      ]
     },
     "metadata": {},
     "output_type": "display_data"
    },
    {
     "data": {
      "text/html": [
       "<pre>| 40      | 16.77s       | 0.402476               |</pre>"
      ],
      "text/plain": [
       "| 40      | 16.77s       | 0.402476               |"
      ]
     },
     "metadata": {},
     "output_type": "display_data"
    },
    {
     "data": {
      "text/html": [
       "<pre>| 41      | 17.13s       | 0.402195               |</pre>"
      ],
      "text/plain": [
       "| 41      | 17.13s       | 0.402195               |"
      ]
     },
     "metadata": {},
     "output_type": "display_data"
    },
    {
     "data": {
      "text/html": [
       "<pre>| 42      | 17.57s       | 0.401923               |</pre>"
      ],
      "text/plain": [
       "| 42      | 17.57s       | 0.401923               |"
      ]
     },
     "metadata": {},
     "output_type": "display_data"
    },
    {
     "data": {
      "text/html": [
       "<pre>| 43      | 17.96s       | 0.401659               |</pre>"
      ],
      "text/plain": [
       "| 43      | 17.96s       | 0.401659               |"
      ]
     },
     "metadata": {},
     "output_type": "display_data"
    },
    {
     "data": {
      "text/html": [
       "<pre>| 44      | 18.31s       | 0.401404               |</pre>"
      ],
      "text/plain": [
       "| 44      | 18.31s       | 0.401404               |"
      ]
     },
     "metadata": {},
     "output_type": "display_data"
    },
    {
     "data": {
      "text/html": [
       "<pre>| 45      | 18.71s       | 0.401155               |</pre>"
      ],
      "text/plain": [
       "| 45      | 18.71s       | 0.401155               |"
      ]
     },
     "metadata": {},
     "output_type": "display_data"
    },
    {
     "data": {
      "text/html": [
       "<pre>| 46      | 19.03s       | 0.400913               |</pre>"
      ],
      "text/plain": [
       "| 46      | 19.03s       | 0.400913               |"
      ]
     },
     "metadata": {},
     "output_type": "display_data"
    },
    {
     "data": {
      "text/html": [
       "<pre>| 47      | 19.35s       | 0.400677               |</pre>"
      ],
      "text/plain": [
       "| 47      | 19.35s       | 0.400677               |"
      ]
     },
     "metadata": {},
     "output_type": "display_data"
    },
    {
     "data": {
      "text/html": [
       "<pre>| 48      | 19.69s       | 0.400447               |</pre>"
      ],
      "text/plain": [
       "| 48      | 19.69s       | 0.400447               |"
      ]
     },
     "metadata": {},
     "output_type": "display_data"
    },
    {
     "data": {
      "text/html": [
       "<pre>| 49      | 20.07s       | 0.400223               |</pre>"
      ],
      "text/plain": [
       "| 49      | 20.07s       | 0.400223               |"
      ]
     },
     "metadata": {},
     "output_type": "display_data"
    },
    {
     "data": {
      "text/html": [
       "<pre>| FINAL   | 20.07s       | 0.400223               |</pre>"
      ],
      "text/plain": [
       "| FINAL   | 20.07s       | 0.400223               |"
      ]
     },
     "metadata": {},
     "output_type": "display_data"
    },
    {
     "data": {
      "text/html": [
       "<pre>+---------+--------------+------------------------+</pre>"
      ],
      "text/plain": [
       "+---------+--------------+------------------------+"
      ]
     },
     "metadata": {},
     "output_type": "display_data"
    },
    {
     "data": {
      "text/html": [
       "<pre>Optimization Complete: Iteration limit reached.</pre>"
      ],
      "text/plain": [
       "Optimization Complete: Iteration limit reached."
      ]
     },
     "metadata": {},
     "output_type": "display_data"
    }
   ],
   "source": [
    "regularization_param = 1e-5\n",
    "rec_stars3 = graphlab.recommender.factorization_recommender.create(\n",
    "        sf_stars,\n",
    "        user_id = 'user_id',\n",
    "        item_id = 'business_id',\n",
    "        target = 'stars',\n",
    "        solver = 'als',\n",
    "        side_data_factorization = False,\n",
    "        regularization = regularization_param,\n",
    "        random_seed = random_seed)"
   ]
  },
  {
   "cell_type": "code",
   "execution_count": 266,
   "metadata": {},
   "outputs": [
    {
     "name": "stdout",
     "output_type": "stream",
     "text": [
      "training rmse with regularization 0: 0.196812037277\n",
      "training rmse with regularization 1e-05: 0.400222600291\n"
     ]
    }
   ],
   "source": [
    "print \"training rmse with regularization 0:\", rec_stars2['training_rmse'] \n",
    "print \"training rmse with regularization %s:\" %regularization_param, rec_stars3['training_rmse'] "
   ]
  },
  {
   "cell_type": "markdown",
   "metadata": {},
   "source": [
    "### With even a very small regularization, the rmse become larger. "
   ]
  },
  {
   "cell_type": "markdown",
   "metadata": {},
   "source": [
    "### Get some sense from the latent features."
   ]
  },
  {
   "cell_type": "code",
   "execution_count": 267,
   "metadata": {},
   "outputs": [
    {
     "data": {
      "text/html": [
       "<div>\n",
       "<table border=\"1\" class=\"dataframe\">\n",
       "  <thead>\n",
       "    <tr>\n",
       "      <th></th>\n",
       "      <th colspan=\"21\" halign=\"left\">stars</th>\n",
       "    </tr>\n",
       "    <tr>\n",
       "      <th>business_id</th>\n",
       "      <th>--9e1ONYQuAa-CB_Rrw7Tw</th>\n",
       "      <th>-3zffZUHoY8bQjGfPSoBKQ</th>\n",
       "      <th>-8R_-EkGpUhBk55K9Dd4mg</th>\n",
       "      <th>-9YyInW1wapzdNZrhQJ9dg</th>\n",
       "      <th>-AD5PiuJHgdUcAK-Vxao2A</th>\n",
       "      <th>-Bf8BQ3yMk8U2f45r2DRKw</th>\n",
       "      <th>-BmqghX1sv7sgsxOIS2yAg</th>\n",
       "      <th>-Bv-HHUs8aHzDrdWcZHn8w</th>\n",
       "      <th>-C8sSrFqaCxp51pyo-fQLQ</th>\n",
       "      <th>-CQokjildrY7UZezXCdEBw</th>\n",
       "      <th>...</th>\n",
       "      <th>zkhBU5qW_zCy0q4OEtIrsA</th>\n",
       "      <th>zmltWmTpoBt5sCU-5Kzj-Q</th>\n",
       "      <th>znWHLW1pt19HzW1VY6KfCA</th>\n",
       "      <th>zp-K5s3pGTWuuaVBWo6WZA</th>\n",
       "      <th>zpoZ6WyQUYff18-z4ZU1mA</th>\n",
       "      <th>zsQk990PubOHjr1YcLkQFw</th>\n",
       "      <th>zt9RLUIU32fZYOBh2L0NNQ</th>\n",
       "      <th>zttcrQP4MxNS5X5itzStXg</th>\n",
       "      <th>zuwba6QEBIDZT0tJZmNhdQ</th>\n",
       "      <th>zwNC-Ow4eIMan2__bS9-rg</th>\n",
       "    </tr>\n",
       "    <tr>\n",
       "      <th>user_id</th>\n",
       "      <th></th>\n",
       "      <th></th>\n",
       "      <th></th>\n",
       "      <th></th>\n",
       "      <th></th>\n",
       "      <th></th>\n",
       "      <th></th>\n",
       "      <th></th>\n",
       "      <th></th>\n",
       "      <th></th>\n",
       "      <th></th>\n",
       "      <th></th>\n",
       "      <th></th>\n",
       "      <th></th>\n",
       "      <th></th>\n",
       "      <th></th>\n",
       "      <th></th>\n",
       "      <th></th>\n",
       "      <th></th>\n",
       "      <th></th>\n",
       "      <th></th>\n",
       "    </tr>\n",
       "  </thead>\n",
       "  <tbody>\n",
       "    <tr>\n",
       "      <th>---1lKK3aKOuomHnwAkAow</th>\n",
       "      <td>0.0</td>\n",
       "      <td>0.0</td>\n",
       "      <td>0.0</td>\n",
       "      <td>0.0</td>\n",
       "      <td>0.0</td>\n",
       "      <td>0.0</td>\n",
       "      <td>0.0</td>\n",
       "      <td>0.0</td>\n",
       "      <td>0.0</td>\n",
       "      <td>0.0</td>\n",
       "      <td>...</td>\n",
       "      <td>0.0</td>\n",
       "      <td>0.0</td>\n",
       "      <td>0.0</td>\n",
       "      <td>0.0</td>\n",
       "      <td>0.0</td>\n",
       "      <td>0.0</td>\n",
       "      <td>0.0</td>\n",
       "      <td>0.0</td>\n",
       "      <td>0.0</td>\n",
       "      <td>0.0</td>\n",
       "    </tr>\n",
       "    <tr>\n",
       "      <th>---udAKDsn0yQXmzbWQNSw</th>\n",
       "      <td>0.0</td>\n",
       "      <td>0.0</td>\n",
       "      <td>0.0</td>\n",
       "      <td>0.0</td>\n",
       "      <td>0.0</td>\n",
       "      <td>0.0</td>\n",
       "      <td>0.0</td>\n",
       "      <td>0.0</td>\n",
       "      <td>0.0</td>\n",
       "      <td>0.0</td>\n",
       "      <td>...</td>\n",
       "      <td>0.0</td>\n",
       "      <td>0.0</td>\n",
       "      <td>0.0</td>\n",
       "      <td>0.0</td>\n",
       "      <td>0.0</td>\n",
       "      <td>0.0</td>\n",
       "      <td>0.0</td>\n",
       "      <td>0.0</td>\n",
       "      <td>0.0</td>\n",
       "      <td>0.0</td>\n",
       "    </tr>\n",
       "    <tr>\n",
       "      <th>--0sXNBv6IizZXuV-nl0Aw</th>\n",
       "      <td>0.0</td>\n",
       "      <td>0.0</td>\n",
       "      <td>0.0</td>\n",
       "      <td>0.0</td>\n",
       "      <td>0.0</td>\n",
       "      <td>0.0</td>\n",
       "      <td>0.0</td>\n",
       "      <td>0.0</td>\n",
       "      <td>0.0</td>\n",
       "      <td>0.0</td>\n",
       "      <td>...</td>\n",
       "      <td>0.0</td>\n",
       "      <td>0.0</td>\n",
       "      <td>0.0</td>\n",
       "      <td>0.0</td>\n",
       "      <td>0.0</td>\n",
       "      <td>0.0</td>\n",
       "      <td>0.0</td>\n",
       "      <td>0.0</td>\n",
       "      <td>0.0</td>\n",
       "      <td>0.0</td>\n",
       "    </tr>\n",
       "    <tr>\n",
       "      <th>--2bpE5vyR-2hAP7sZZ4lA</th>\n",
       "      <td>0.0</td>\n",
       "      <td>0.0</td>\n",
       "      <td>0.0</td>\n",
       "      <td>0.0</td>\n",
       "      <td>0.0</td>\n",
       "      <td>0.0</td>\n",
       "      <td>0.0</td>\n",
       "      <td>0.0</td>\n",
       "      <td>0.0</td>\n",
       "      <td>0.0</td>\n",
       "      <td>...</td>\n",
       "      <td>0.0</td>\n",
       "      <td>0.0</td>\n",
       "      <td>0.0</td>\n",
       "      <td>0.0</td>\n",
       "      <td>0.0</td>\n",
       "      <td>0.0</td>\n",
       "      <td>0.0</td>\n",
       "      <td>0.0</td>\n",
       "      <td>0.0</td>\n",
       "      <td>0.0</td>\n",
       "    </tr>\n",
       "    <tr>\n",
       "      <th>--3WaS23LcIXtxyFULJHTA</th>\n",
       "      <td>0.0</td>\n",
       "      <td>0.0</td>\n",
       "      <td>0.0</td>\n",
       "      <td>0.0</td>\n",
       "      <td>0.0</td>\n",
       "      <td>0.0</td>\n",
       "      <td>0.0</td>\n",
       "      <td>0.0</td>\n",
       "      <td>0.0</td>\n",
       "      <td>0.0</td>\n",
       "      <td>...</td>\n",
       "      <td>0.0</td>\n",
       "      <td>0.0</td>\n",
       "      <td>0.0</td>\n",
       "      <td>0.0</td>\n",
       "      <td>0.0</td>\n",
       "      <td>0.0</td>\n",
       "      <td>0.0</td>\n",
       "      <td>0.0</td>\n",
       "      <td>0.0</td>\n",
       "      <td>0.0</td>\n",
       "    </tr>\n",
       "  </tbody>\n",
       "</table>\n",
       "<p>5 rows × 4290 columns</p>\n",
       "</div>"
      ],
      "text/plain": [
       "                                        stars                         \\\n",
       "business_id            --9e1ONYQuAa-CB_Rrw7Tw -3zffZUHoY8bQjGfPSoBKQ   \n",
       "user_id                                                                \n",
       "---1lKK3aKOuomHnwAkAow                    0.0                    0.0   \n",
       "---udAKDsn0yQXmzbWQNSw                    0.0                    0.0   \n",
       "--0sXNBv6IizZXuV-nl0Aw                    0.0                    0.0   \n",
       "--2bpE5vyR-2hAP7sZZ4lA                    0.0                    0.0   \n",
       "--3WaS23LcIXtxyFULJHTA                    0.0                    0.0   \n",
       "\n",
       "                                                                      \\\n",
       "business_id            -8R_-EkGpUhBk55K9Dd4mg -9YyInW1wapzdNZrhQJ9dg   \n",
       "user_id                                                                \n",
       "---1lKK3aKOuomHnwAkAow                    0.0                    0.0   \n",
       "---udAKDsn0yQXmzbWQNSw                    0.0                    0.0   \n",
       "--0sXNBv6IizZXuV-nl0Aw                    0.0                    0.0   \n",
       "--2bpE5vyR-2hAP7sZZ4lA                    0.0                    0.0   \n",
       "--3WaS23LcIXtxyFULJHTA                    0.0                    0.0   \n",
       "\n",
       "                                                                      \\\n",
       "business_id            -AD5PiuJHgdUcAK-Vxao2A -Bf8BQ3yMk8U2f45r2DRKw   \n",
       "user_id                                                                \n",
       "---1lKK3aKOuomHnwAkAow                    0.0                    0.0   \n",
       "---udAKDsn0yQXmzbWQNSw                    0.0                    0.0   \n",
       "--0sXNBv6IizZXuV-nl0Aw                    0.0                    0.0   \n",
       "--2bpE5vyR-2hAP7sZZ4lA                    0.0                    0.0   \n",
       "--3WaS23LcIXtxyFULJHTA                    0.0                    0.0   \n",
       "\n",
       "                                                                      \\\n",
       "business_id            -BmqghX1sv7sgsxOIS2yAg -Bv-HHUs8aHzDrdWcZHn8w   \n",
       "user_id                                                                \n",
       "---1lKK3aKOuomHnwAkAow                    0.0                    0.0   \n",
       "---udAKDsn0yQXmzbWQNSw                    0.0                    0.0   \n",
       "--0sXNBv6IizZXuV-nl0Aw                    0.0                    0.0   \n",
       "--2bpE5vyR-2hAP7sZZ4lA                    0.0                    0.0   \n",
       "--3WaS23LcIXtxyFULJHTA                    0.0                    0.0   \n",
       "\n",
       "                                                                      \\\n",
       "business_id            -C8sSrFqaCxp51pyo-fQLQ -CQokjildrY7UZezXCdEBw   \n",
       "user_id                                                                \n",
       "---1lKK3aKOuomHnwAkAow                    0.0                    0.0   \n",
       "---udAKDsn0yQXmzbWQNSw                    0.0                    0.0   \n",
       "--0sXNBv6IizZXuV-nl0Aw                    0.0                    0.0   \n",
       "--2bpE5vyR-2hAP7sZZ4lA                    0.0                    0.0   \n",
       "--3WaS23LcIXtxyFULJHTA                    0.0                    0.0   \n",
       "\n",
       "                                ...                                   \\\n",
       "business_id                     ...           zkhBU5qW_zCy0q4OEtIrsA   \n",
       "user_id                         ...                                    \n",
       "---1lKK3aKOuomHnwAkAow          ...                              0.0   \n",
       "---udAKDsn0yQXmzbWQNSw          ...                              0.0   \n",
       "--0sXNBv6IizZXuV-nl0Aw          ...                              0.0   \n",
       "--2bpE5vyR-2hAP7sZZ4lA          ...                              0.0   \n",
       "--3WaS23LcIXtxyFULJHTA          ...                              0.0   \n",
       "\n",
       "                                                                      \\\n",
       "business_id            zmltWmTpoBt5sCU-5Kzj-Q znWHLW1pt19HzW1VY6KfCA   \n",
       "user_id                                                                \n",
       "---1lKK3aKOuomHnwAkAow                    0.0                    0.0   \n",
       "---udAKDsn0yQXmzbWQNSw                    0.0                    0.0   \n",
       "--0sXNBv6IizZXuV-nl0Aw                    0.0                    0.0   \n",
       "--2bpE5vyR-2hAP7sZZ4lA                    0.0                    0.0   \n",
       "--3WaS23LcIXtxyFULJHTA                    0.0                    0.0   \n",
       "\n",
       "                                                                      \\\n",
       "business_id            zp-K5s3pGTWuuaVBWo6WZA zpoZ6WyQUYff18-z4ZU1mA   \n",
       "user_id                                                                \n",
       "---1lKK3aKOuomHnwAkAow                    0.0                    0.0   \n",
       "---udAKDsn0yQXmzbWQNSw                    0.0                    0.0   \n",
       "--0sXNBv6IizZXuV-nl0Aw                    0.0                    0.0   \n",
       "--2bpE5vyR-2hAP7sZZ4lA                    0.0                    0.0   \n",
       "--3WaS23LcIXtxyFULJHTA                    0.0                    0.0   \n",
       "\n",
       "                                                                      \\\n",
       "business_id            zsQk990PubOHjr1YcLkQFw zt9RLUIU32fZYOBh2L0NNQ   \n",
       "user_id                                                                \n",
       "---1lKK3aKOuomHnwAkAow                    0.0                    0.0   \n",
       "---udAKDsn0yQXmzbWQNSw                    0.0                    0.0   \n",
       "--0sXNBv6IizZXuV-nl0Aw                    0.0                    0.0   \n",
       "--2bpE5vyR-2hAP7sZZ4lA                    0.0                    0.0   \n",
       "--3WaS23LcIXtxyFULJHTA                    0.0                    0.0   \n",
       "\n",
       "                                                                      \\\n",
       "business_id            zttcrQP4MxNS5X5itzStXg zuwba6QEBIDZT0tJZmNhdQ   \n",
       "user_id                                                                \n",
       "---1lKK3aKOuomHnwAkAow                    0.0                    0.0   \n",
       "---udAKDsn0yQXmzbWQNSw                    0.0                    0.0   \n",
       "--0sXNBv6IizZXuV-nl0Aw                    0.0                    0.0   \n",
       "--2bpE5vyR-2hAP7sZZ4lA                    0.0                    0.0   \n",
       "--3WaS23LcIXtxyFULJHTA                    0.0                    0.0   \n",
       "\n",
       "                                               \n",
       "business_id            zwNC-Ow4eIMan2__bS9-rg  \n",
       "user_id                                        \n",
       "---1lKK3aKOuomHnwAkAow                    0.0  \n",
       "---udAKDsn0yQXmzbWQNSw                    0.0  \n",
       "--0sXNBv6IizZXuV-nl0Aw                    0.0  \n",
       "--2bpE5vyR-2hAP7sZZ4lA                    0.0  \n",
       "--3WaS23LcIXtxyFULJHTA                    0.0  \n",
       "\n",
       "[5 rows x 4290 columns]"
      ]
     },
     "execution_count": 267,
     "metadata": {},
     "output_type": "execute_result"
    }
   ],
   "source": [
    "lf_df = df_stars.set_index(['user_id','business_id'])[['stars']].unstack().fillna(0)\n",
    "lf_df.head() # same as utility matrix"
   ]
  },
  {
   "cell_type": "code",
   "execution_count": 268,
   "metadata": {},
   "outputs": [
    {
     "data": {
      "text/html": [
       "<div>\n",
       "<table border=\"1\" class=\"dataframe\">\n",
       "  <thead>\n",
       "    <tr style=\"text-align: right;\">\n",
       "      <th></th>\n",
       "      <th>factors.0</th>\n",
       "      <th>factors.1</th>\n",
       "      <th>factors.2</th>\n",
       "      <th>factors.3</th>\n",
       "      <th>factors.4</th>\n",
       "      <th>factors.5</th>\n",
       "      <th>factors.6</th>\n",
       "      <th>factors.7</th>\n",
       "    </tr>\n",
       "    <tr>\n",
       "      <th>user_id</th>\n",
       "      <th></th>\n",
       "      <th></th>\n",
       "      <th></th>\n",
       "      <th></th>\n",
       "      <th></th>\n",
       "      <th></th>\n",
       "      <th></th>\n",
       "      <th></th>\n",
       "    </tr>\n",
       "  </thead>\n",
       "  <tbody>\n",
       "    <tr>\n",
       "      <th>---1lKK3aKOuomHnwAkAow</th>\n",
       "      <td>-0.322118</td>\n",
       "      <td>0.521553</td>\n",
       "      <td>-0.065029</td>\n",
       "      <td>-0.306137</td>\n",
       "      <td>0.697227</td>\n",
       "      <td>-0.040577</td>\n",
       "      <td>-0.341919</td>\n",
       "      <td>-0.176804</td>\n",
       "    </tr>\n",
       "    <tr>\n",
       "      <th>---udAKDsn0yQXmzbWQNSw</th>\n",
       "      <td>-0.009390</td>\n",
       "      <td>0.113459</td>\n",
       "      <td>-0.027251</td>\n",
       "      <td>0.028218</td>\n",
       "      <td>0.037270</td>\n",
       "      <td>0.062939</td>\n",
       "      <td>0.006019</td>\n",
       "      <td>-0.000345</td>\n",
       "    </tr>\n",
       "    <tr>\n",
       "      <th>--0sXNBv6IizZXuV-nl0Aw</th>\n",
       "      <td>-0.072523</td>\n",
       "      <td>-0.721330</td>\n",
       "      <td>0.459010</td>\n",
       "      <td>0.206318</td>\n",
       "      <td>0.489633</td>\n",
       "      <td>-0.326217</td>\n",
       "      <td>-0.486183</td>\n",
       "      <td>0.033627</td>\n",
       "    </tr>\n",
       "    <tr>\n",
       "      <th>--2bpE5vyR-2hAP7sZZ4lA</th>\n",
       "      <td>-0.050831</td>\n",
       "      <td>0.072276</td>\n",
       "      <td>0.058389</td>\n",
       "      <td>0.005469</td>\n",
       "      <td>0.060753</td>\n",
       "      <td>-0.026640</td>\n",
       "      <td>-0.050584</td>\n",
       "      <td>0.021491</td>\n",
       "    </tr>\n",
       "    <tr>\n",
       "      <th>--3WaS23LcIXtxyFULJHTA</th>\n",
       "      <td>-0.915122</td>\n",
       "      <td>-0.210420</td>\n",
       "      <td>-0.829367</td>\n",
       "      <td>0.049690</td>\n",
       "      <td>-0.995918</td>\n",
       "      <td>-0.596356</td>\n",
       "      <td>-0.807815</td>\n",
       "      <td>0.746851</td>\n",
       "    </tr>\n",
       "  </tbody>\n",
       "</table>\n",
       "</div>"
      ],
      "text/plain": [
       "                        factors.0  factors.1  factors.2  factors.3  factors.4  \\\n",
       "user_id                                                                         \n",
       "---1lKK3aKOuomHnwAkAow  -0.322118   0.521553  -0.065029  -0.306137   0.697227   \n",
       "---udAKDsn0yQXmzbWQNSw  -0.009390   0.113459  -0.027251   0.028218   0.037270   \n",
       "--0sXNBv6IizZXuV-nl0Aw  -0.072523  -0.721330   0.459010   0.206318   0.489633   \n",
       "--2bpE5vyR-2hAP7sZZ4lA  -0.050831   0.072276   0.058389   0.005469   0.060753   \n",
       "--3WaS23LcIXtxyFULJHTA  -0.915122  -0.210420  -0.829367   0.049690  -0.995918   \n",
       "\n",
       "                        factors.5  factors.6  factors.7  \n",
       "user_id                                                  \n",
       "---1lKK3aKOuomHnwAkAow  -0.040577  -0.341919  -0.176804  \n",
       "---udAKDsn0yQXmzbWQNSw   0.062939   0.006019  -0.000345  \n",
       "--0sXNBv6IizZXuV-nl0Aw  -0.326217  -0.486183   0.033627  \n",
       "--2bpE5vyR-2hAP7sZZ4lA  -0.026640  -0.050584   0.021491  \n",
       "--3WaS23LcIXtxyFULJHTA  -0.596356  -0.807815   0.746851  "
      ]
     },
     "execution_count": 268,
     "metadata": {},
     "output_type": "execute_result"
    }
   ],
   "source": [
    "user_df = user_sf[['user_id', 'factors']].sort('user_id').unpack('factors').to_dataframe().set_index('user_id')\n",
    "user_df.head()"
   ]
  },
  {
   "cell_type": "code",
   "execution_count": 269,
   "metadata": {},
   "outputs": [
    {
     "data": {
      "text/plain": [
       "140737"
      ]
     },
     "execution_count": 269,
     "metadata": {},
     "output_type": "execute_result"
    }
   ],
   "source": [
    "len(lf_df.values) # number of unique users"
   ]
  },
  {
   "cell_type": "code",
   "execution_count": 270,
   "metadata": {},
   "outputs": [
    {
     "data": {
      "text/plain": [
       "140737"
      ]
     },
     "execution_count": 270,
     "metadata": {},
     "output_type": "execute_result"
    }
   ],
   "source": [
    "len(user_df.values) # number of unique users"
   ]
  },
  {
   "cell_type": "code",
   "execution_count": 271,
   "metadata": {},
   "outputs": [
    {
     "data": {
      "text/html": [
       "<div>\n",
       "<table border=\"1\" class=\"dataframe\">\n",
       "  <thead>\n",
       "    <tr style=\"text-align: right;\">\n",
       "      <th></th>\n",
       "      <th>0</th>\n",
       "      <th>1</th>\n",
       "      <th>2</th>\n",
       "      <th>3</th>\n",
       "      <th>4</th>\n",
       "      <th>5</th>\n",
       "      <th>6</th>\n",
       "      <th>7</th>\n",
       "    </tr>\n",
       "  </thead>\n",
       "  <tbody>\n",
       "    <tr>\n",
       "      <th>0</th>\n",
       "      <td>0.990881</td>\n",
       "      <td>0.997119</td>\n",
       "      <td>0.996395</td>\n",
       "      <td>1.007375</td>\n",
       "      <td>1.015554</td>\n",
       "      <td>0.997601</td>\n",
       "      <td>0.994828</td>\n",
       "      <td>1.011526</td>\n",
       "    </tr>\n",
       "    <tr>\n",
       "      <th>1</th>\n",
       "      <td>0.996931</td>\n",
       "      <td>1.003776</td>\n",
       "      <td>1.006321</td>\n",
       "      <td>0.999654</td>\n",
       "      <td>0.995794</td>\n",
       "      <td>1.006341</td>\n",
       "      <td>1.002223</td>\n",
       "      <td>1.000885</td>\n",
       "    </tr>\n",
       "    <tr>\n",
       "      <th>2</th>\n",
       "      <td>1.003748</td>\n",
       "      <td>0.995638</td>\n",
       "      <td>1.003256</td>\n",
       "      <td>0.995051</td>\n",
       "      <td>0.994946</td>\n",
       "      <td>1.002240</td>\n",
       "      <td>1.000739</td>\n",
       "      <td>0.994914</td>\n",
       "    </tr>\n",
       "    <tr>\n",
       "      <th>3</th>\n",
       "      <td>1.003080</td>\n",
       "      <td>1.003295</td>\n",
       "      <td>1.002987</td>\n",
       "      <td>1.004978</td>\n",
       "      <td>0.996970</td>\n",
       "      <td>1.000740</td>\n",
       "      <td>0.996698</td>\n",
       "      <td>0.996947</td>\n",
       "    </tr>\n",
       "    <tr>\n",
       "      <th>4</th>\n",
       "      <td>1.003837</td>\n",
       "      <td>0.999570</td>\n",
       "      <td>1.009254</td>\n",
       "      <td>1.005136</td>\n",
       "      <td>1.000495</td>\n",
       "      <td>1.000192</td>\n",
       "      <td>0.997452</td>\n",
       "      <td>0.992400</td>\n",
       "    </tr>\n",
       "  </tbody>\n",
       "</table>\n",
       "</div>"
      ],
      "text/plain": [
       "          0         1         2         3         4         5         6  \\\n",
       "0  0.990881  0.997119  0.996395  1.007375  1.015554  0.997601  0.994828   \n",
       "1  0.996931  1.003776  1.006321  0.999654  0.995794  1.006341  1.002223   \n",
       "2  1.003748  0.995638  1.003256  0.995051  0.994946  1.002240  1.000739   \n",
       "3  1.003080  1.003295  1.002987  1.004978  0.996970  1.000740  0.996698   \n",
       "4  1.003837  0.999570  1.009254  1.005136  1.000495  1.000192  0.997452   \n",
       "\n",
       "          7  \n",
       "0  1.011526  \n",
       "1  1.000885  \n",
       "2  0.994914  \n",
       "3  0.996947  \n",
       "4  0.992400  "
      ]
     },
     "execution_count": 271,
     "metadata": {},
     "output_type": "execute_result"
    }
   ],
   "source": [
    "# Calculate the correlation between each movie and each factor\n",
    "from scipy.spatial.distance import cdist\n",
    "corr = cdist(lf_df.values.T, user_df.values.T, 'correlation')\n",
    "corr_df = pd.DataFrame(corr)\n",
    "\n",
    "corr_df.head()"
   ]
  },
  {
   "cell_type": "code",
   "execution_count": 272,
   "metadata": {},
   "outputs": [],
   "source": [
    "corr_df.index = lf_df.columns.get_level_values(1)"
   ]
  },
  {
   "cell_type": "code",
   "execution_count": 273,
   "metadata": {},
   "outputs": [
    {
     "data": {
      "text/html": [
       "<div>\n",
       "<table border=\"1\" class=\"dataframe\">\n",
       "  <thead>\n",
       "    <tr style=\"text-align: right;\">\n",
       "      <th></th>\n",
       "      <th>0</th>\n",
       "      <th>1</th>\n",
       "      <th>2</th>\n",
       "      <th>3</th>\n",
       "      <th>4</th>\n",
       "      <th>5</th>\n",
       "      <th>6</th>\n",
       "      <th>7</th>\n",
       "    </tr>\n",
       "    <tr>\n",
       "      <th>business_id</th>\n",
       "      <th></th>\n",
       "      <th></th>\n",
       "      <th></th>\n",
       "      <th></th>\n",
       "      <th></th>\n",
       "      <th></th>\n",
       "      <th></th>\n",
       "      <th></th>\n",
       "    </tr>\n",
       "  </thead>\n",
       "  <tbody>\n",
       "    <tr>\n",
       "      <th>--9e1ONYQuAa-CB_Rrw7Tw</th>\n",
       "      <td>0.990881</td>\n",
       "      <td>0.997119</td>\n",
       "      <td>0.996395</td>\n",
       "      <td>1.007375</td>\n",
       "      <td>1.015554</td>\n",
       "      <td>0.997601</td>\n",
       "      <td>0.994828</td>\n",
       "      <td>1.011526</td>\n",
       "    </tr>\n",
       "    <tr>\n",
       "      <th>-3zffZUHoY8bQjGfPSoBKQ</th>\n",
       "      <td>0.996931</td>\n",
       "      <td>1.003776</td>\n",
       "      <td>1.006321</td>\n",
       "      <td>0.999654</td>\n",
       "      <td>0.995794</td>\n",
       "      <td>1.006341</td>\n",
       "      <td>1.002223</td>\n",
       "      <td>1.000885</td>\n",
       "    </tr>\n",
       "    <tr>\n",
       "      <th>-8R_-EkGpUhBk55K9Dd4mg</th>\n",
       "      <td>1.003748</td>\n",
       "      <td>0.995638</td>\n",
       "      <td>1.003256</td>\n",
       "      <td>0.995051</td>\n",
       "      <td>0.994946</td>\n",
       "      <td>1.002240</td>\n",
       "      <td>1.000739</td>\n",
       "      <td>0.994914</td>\n",
       "    </tr>\n",
       "    <tr>\n",
       "      <th>-9YyInW1wapzdNZrhQJ9dg</th>\n",
       "      <td>1.003080</td>\n",
       "      <td>1.003295</td>\n",
       "      <td>1.002987</td>\n",
       "      <td>1.004978</td>\n",
       "      <td>0.996970</td>\n",
       "      <td>1.000740</td>\n",
       "      <td>0.996698</td>\n",
       "      <td>0.996947</td>\n",
       "    </tr>\n",
       "    <tr>\n",
       "      <th>-AD5PiuJHgdUcAK-Vxao2A</th>\n",
       "      <td>1.003837</td>\n",
       "      <td>0.999570</td>\n",
       "      <td>1.009254</td>\n",
       "      <td>1.005136</td>\n",
       "      <td>1.000495</td>\n",
       "      <td>1.000192</td>\n",
       "      <td>0.997452</td>\n",
       "      <td>0.992400</td>\n",
       "    </tr>\n",
       "  </tbody>\n",
       "</table>\n",
       "</div>"
      ],
      "text/plain": [
       "                               0         1         2         3         4  \\\n",
       "business_id                                                                \n",
       "--9e1ONYQuAa-CB_Rrw7Tw  0.990881  0.997119  0.996395  1.007375  1.015554   \n",
       "-3zffZUHoY8bQjGfPSoBKQ  0.996931  1.003776  1.006321  0.999654  0.995794   \n",
       "-8R_-EkGpUhBk55K9Dd4mg  1.003748  0.995638  1.003256  0.995051  0.994946   \n",
       "-9YyInW1wapzdNZrhQJ9dg  1.003080  1.003295  1.002987  1.004978  0.996970   \n",
       "-AD5PiuJHgdUcAK-Vxao2A  1.003837  0.999570  1.009254  1.005136  1.000495   \n",
       "\n",
       "                               5         6         7  \n",
       "business_id                                           \n",
       "--9e1ONYQuAa-CB_Rrw7Tw  0.997601  0.994828  1.011526  \n",
       "-3zffZUHoY8bQjGfPSoBKQ  1.006341  1.002223  1.000885  \n",
       "-8R_-EkGpUhBk55K9Dd4mg  1.002240  1.000739  0.994914  \n",
       "-9YyInW1wapzdNZrhQJ9dg  1.000740  0.996698  0.996947  \n",
       "-AD5PiuJHgdUcAK-Vxao2A  1.000192  0.997452  0.992400  "
      ]
     },
     "execution_count": 273,
     "metadata": {},
     "output_type": "execute_result"
    }
   ],
   "source": [
    "corr_df.head()"
   ]
  },
  {
   "cell_type": "code",
   "execution_count": 274,
   "metadata": {},
   "outputs": [
    {
     "data": {
      "text/plain": [
       "(4290, 8)"
      ]
     },
     "execution_count": 274,
     "metadata": {},
     "output_type": "execute_result"
    }
   ],
   "source": [
    "corr_df.shape"
   ]
  },
  {
   "cell_type": "code",
   "execution_count": 275,
   "metadata": {},
   "outputs": [
    {
     "data": {
      "text/html": [
       "<div>\n",
       "<table border=\"1\" class=\"dataframe\">\n",
       "  <thead>\n",
       "    <tr style=\"text-align: right;\">\n",
       "      <th></th>\n",
       "      <th>business_id</th>\n",
       "      <th>name</th>\n",
       "      <th>categories</th>\n",
       "      <th>ave_stars</th>\n",
       "    </tr>\n",
       "  </thead>\n",
       "  <tbody>\n",
       "    <tr>\n",
       "      <th>0</th>\n",
       "      <td>LDMCrFlGIFUN6L-FEFgzWg</td>\n",
       "      <td>El Pollo Loco</td>\n",
       "      <td>[Restaurants, American (Traditional), Mexican,...</td>\n",
       "      <td>3.0</td>\n",
       "    </tr>\n",
       "    <tr>\n",
       "      <th>1</th>\n",
       "      <td>QTH_XGh4rWYdd0fTW-tUDw</td>\n",
       "      <td>Baja Fresh Mexican Grill</td>\n",
       "      <td>[Mexican, Restaurants]</td>\n",
       "      <td>3.5</td>\n",
       "    </tr>\n",
       "    <tr>\n",
       "      <th>2</th>\n",
       "      <td>DiA78qPtp6rfRNdomzjBbw</td>\n",
       "      <td>Joshan Filipino Oriental Market</td>\n",
       "      <td>[Chinese, Food, Convenience Stores, Restaurants]</td>\n",
       "      <td>3.5</td>\n",
       "    </tr>\n",
       "    <tr>\n",
       "      <th>3</th>\n",
       "      <td>YTqtM2WFhcMZGeAGA08Cfg</td>\n",
       "      <td>Mariscos Playa Escondida</td>\n",
       "      <td>[Seafood, Restaurants, Specialty Food, Ethnic ...</td>\n",
       "      <td>4.5</td>\n",
       "    </tr>\n",
       "    <tr>\n",
       "      <th>4</th>\n",
       "      <td>Oto60yDwk1z72WmfWEYrjg</td>\n",
       "      <td>Baja Miguel's</td>\n",
       "      <td>[Food, Restaurants, Mexican]</td>\n",
       "      <td>3.0</td>\n",
       "    </tr>\n",
       "  </tbody>\n",
       "</table>\n",
       "</div>"
      ],
      "text/plain": [
       "              business_id                             name  \\\n",
       "0  LDMCrFlGIFUN6L-FEFgzWg                    El Pollo Loco   \n",
       "1  QTH_XGh4rWYdd0fTW-tUDw         Baja Fresh Mexican Grill   \n",
       "2  DiA78qPtp6rfRNdomzjBbw  Joshan Filipino Oriental Market   \n",
       "3  YTqtM2WFhcMZGeAGA08Cfg         Mariscos Playa Escondida   \n",
       "4  Oto60yDwk1z72WmfWEYrjg                    Baja Miguel's   \n",
       "\n",
       "                                          categories  ave_stars  \n",
       "0  [Restaurants, American (Traditional), Mexican,...        3.0  \n",
       "1                             [Mexican, Restaurants]        3.5  \n",
       "2   [Chinese, Food, Convenience Stores, Restaurants]        3.5  \n",
       "3  [Seafood, Restaurants, Specialty Food, Ethnic ...        4.5  \n",
       "4                       [Food, Restaurants, Mexican]        3.0  "
      ]
     },
     "execution_count": 275,
     "metadata": {},
     "output_type": "execute_result"
    }
   ],
   "source": [
    "# Load business info data\n",
    "df_business = pd.read_csv('/Users/Xiaoxi/Desktop/BitTiger/Yelp_data/selected_business.csv')\n",
    "df_business.head()"
   ]
  },
  {
   "cell_type": "code",
   "execution_count": 276,
   "metadata": {},
   "outputs": [],
   "source": [
    "df_business = df_business.loc[df_business['business_id'].isin(df.business_id.unique())]"
   ]
  },
  {
   "cell_type": "code",
   "execution_count": 277,
   "metadata": {},
   "outputs": [
    {
     "data": {
      "text/plain": [
       "(4290, 3)"
      ]
     },
     "execution_count": 277,
     "metadata": {},
     "output_type": "execute_result"
    }
   ],
   "source": [
    "df_business = df_business.set_index('business_id').sort_index()\n",
    "df_business.shape"
   ]
  },
  {
   "cell_type": "code",
   "execution_count": 278,
   "metadata": {},
   "outputs": [
    {
     "data": {
      "text/html": [
       "<div>\n",
       "<table border=\"1\" class=\"dataframe\">\n",
       "  <thead>\n",
       "    <tr style=\"text-align: right;\">\n",
       "      <th></th>\n",
       "      <th>name</th>\n",
       "      <th>categories</th>\n",
       "      <th>ave_stars</th>\n",
       "    </tr>\n",
       "    <tr>\n",
       "      <th>business_id</th>\n",
       "      <th></th>\n",
       "      <th></th>\n",
       "      <th></th>\n",
       "    </tr>\n",
       "  </thead>\n",
       "  <tbody>\n",
       "    <tr>\n",
       "      <th>--9e1ONYQuAa-CB_Rrw7Tw</th>\n",
       "      <td>Delmonico Steakhouse</td>\n",
       "      <td>[Steakhouses, Cajun/Creole, Restaurants]</td>\n",
       "      <td>4.0</td>\n",
       "    </tr>\n",
       "    <tr>\n",
       "      <th>-3zffZUHoY8bQjGfPSoBKQ</th>\n",
       "      <td>Michael Mina</td>\n",
       "      <td>[Seafood, Bars, Nightlife, American (New), Res...</td>\n",
       "      <td>4.0</td>\n",
       "    </tr>\n",
       "    <tr>\n",
       "      <th>-8R_-EkGpUhBk55K9Dd4mg</th>\n",
       "      <td>Sin City Thai Restaurant</td>\n",
       "      <td>[Restaurants, Thai]</td>\n",
       "      <td>3.5</td>\n",
       "    </tr>\n",
       "    <tr>\n",
       "      <th>-9YyInW1wapzdNZrhQJ9dg</th>\n",
       "      <td>Fresh Buffet</td>\n",
       "      <td>[Buffets, Restaurants]</td>\n",
       "      <td>2.5</td>\n",
       "    </tr>\n",
       "    <tr>\n",
       "      <th>-AD5PiuJHgdUcAK-Vxao2A</th>\n",
       "      <td>Smashburger</td>\n",
       "      <td>[Burgers, Restaurants]</td>\n",
       "      <td>3.5</td>\n",
       "    </tr>\n",
       "  </tbody>\n",
       "</table>\n",
       "</div>"
      ],
      "text/plain": [
       "                                            name  \\\n",
       "business_id                                        \n",
       "--9e1ONYQuAa-CB_Rrw7Tw      Delmonico Steakhouse   \n",
       "-3zffZUHoY8bQjGfPSoBKQ              Michael Mina   \n",
       "-8R_-EkGpUhBk55K9Dd4mg  Sin City Thai Restaurant   \n",
       "-9YyInW1wapzdNZrhQJ9dg              Fresh Buffet   \n",
       "-AD5PiuJHgdUcAK-Vxao2A               Smashburger   \n",
       "\n",
       "                                                               categories  \\\n",
       "business_id                                                                 \n",
       "--9e1ONYQuAa-CB_Rrw7Tw           [Steakhouses, Cajun/Creole, Restaurants]   \n",
       "-3zffZUHoY8bQjGfPSoBKQ  [Seafood, Bars, Nightlife, American (New), Res...   \n",
       "-8R_-EkGpUhBk55K9Dd4mg                                [Restaurants, Thai]   \n",
       "-9YyInW1wapzdNZrhQJ9dg                             [Buffets, Restaurants]   \n",
       "-AD5PiuJHgdUcAK-Vxao2A                             [Burgers, Restaurants]   \n",
       "\n",
       "                        ave_stars  \n",
       "business_id                        \n",
       "--9e1ONYQuAa-CB_Rrw7Tw        4.0  \n",
       "-3zffZUHoY8bQjGfPSoBKQ        4.0  \n",
       "-8R_-EkGpUhBk55K9Dd4mg        3.5  \n",
       "-9YyInW1wapzdNZrhQJ9dg        2.5  \n",
       "-AD5PiuJHgdUcAK-Vxao2A        3.5  "
      ]
     },
     "execution_count": 278,
     "metadata": {},
     "output_type": "execute_result"
    }
   ],
   "source": [
    "df_business.head()"
   ]
  },
  {
   "cell_type": "code",
   "execution_count": 279,
   "metadata": {},
   "outputs": [
    {
     "data": {
      "text/html": [
       "<div>\n",
       "<table border=\"1\" class=\"dataframe\">\n",
       "  <thead>\n",
       "    <tr style=\"text-align: right;\">\n",
       "      <th></th>\n",
       "      <th>name</th>\n",
       "      <th>categories</th>\n",
       "      <th>ave_stars</th>\n",
       "      <th>0</th>\n",
       "      <th>1</th>\n",
       "      <th>2</th>\n",
       "      <th>3</th>\n",
       "      <th>4</th>\n",
       "      <th>5</th>\n",
       "      <th>6</th>\n",
       "      <th>7</th>\n",
       "    </tr>\n",
       "    <tr>\n",
       "      <th>business_id</th>\n",
       "      <th></th>\n",
       "      <th></th>\n",
       "      <th></th>\n",
       "      <th></th>\n",
       "      <th></th>\n",
       "      <th></th>\n",
       "      <th></th>\n",
       "      <th></th>\n",
       "      <th></th>\n",
       "      <th></th>\n",
       "      <th></th>\n",
       "    </tr>\n",
       "  </thead>\n",
       "  <tbody>\n",
       "    <tr>\n",
       "      <th>--9e1ONYQuAa-CB_Rrw7Tw</th>\n",
       "      <td>Delmonico Steakhouse</td>\n",
       "      <td>[Steakhouses, Cajun/Creole, Restaurants]</td>\n",
       "      <td>4.0</td>\n",
       "      <td>0.990881</td>\n",
       "      <td>0.997119</td>\n",
       "      <td>0.996395</td>\n",
       "      <td>1.007375</td>\n",
       "      <td>1.015554</td>\n",
       "      <td>0.997601</td>\n",
       "      <td>0.994828</td>\n",
       "      <td>1.011526</td>\n",
       "    </tr>\n",
       "    <tr>\n",
       "      <th>-3zffZUHoY8bQjGfPSoBKQ</th>\n",
       "      <td>Michael Mina</td>\n",
       "      <td>[Seafood, Bars, Nightlife, American (New), Res...</td>\n",
       "      <td>4.0</td>\n",
       "      <td>0.996931</td>\n",
       "      <td>1.003776</td>\n",
       "      <td>1.006321</td>\n",
       "      <td>0.999654</td>\n",
       "      <td>0.995794</td>\n",
       "      <td>1.006341</td>\n",
       "      <td>1.002223</td>\n",
       "      <td>1.000885</td>\n",
       "    </tr>\n",
       "    <tr>\n",
       "      <th>-8R_-EkGpUhBk55K9Dd4mg</th>\n",
       "      <td>Sin City Thai Restaurant</td>\n",
       "      <td>[Restaurants, Thai]</td>\n",
       "      <td>3.5</td>\n",
       "      <td>1.003748</td>\n",
       "      <td>0.995638</td>\n",
       "      <td>1.003256</td>\n",
       "      <td>0.995051</td>\n",
       "      <td>0.994946</td>\n",
       "      <td>1.002240</td>\n",
       "      <td>1.000739</td>\n",
       "      <td>0.994914</td>\n",
       "    </tr>\n",
       "    <tr>\n",
       "      <th>-9YyInW1wapzdNZrhQJ9dg</th>\n",
       "      <td>Fresh Buffet</td>\n",
       "      <td>[Buffets, Restaurants]</td>\n",
       "      <td>2.5</td>\n",
       "      <td>1.003080</td>\n",
       "      <td>1.003295</td>\n",
       "      <td>1.002987</td>\n",
       "      <td>1.004978</td>\n",
       "      <td>0.996970</td>\n",
       "      <td>1.000740</td>\n",
       "      <td>0.996698</td>\n",
       "      <td>0.996947</td>\n",
       "    </tr>\n",
       "    <tr>\n",
       "      <th>-AD5PiuJHgdUcAK-Vxao2A</th>\n",
       "      <td>Smashburger</td>\n",
       "      <td>[Burgers, Restaurants]</td>\n",
       "      <td>3.5</td>\n",
       "      <td>1.003837</td>\n",
       "      <td>0.999570</td>\n",
       "      <td>1.009254</td>\n",
       "      <td>1.005136</td>\n",
       "      <td>1.000495</td>\n",
       "      <td>1.000192</td>\n",
       "      <td>0.997452</td>\n",
       "      <td>0.992400</td>\n",
       "    </tr>\n",
       "    <tr>\n",
       "      <th>-Bf8BQ3yMk8U2f45r2DRKw</th>\n",
       "      <td>In-N-Out Burger</td>\n",
       "      <td>[Fast Food, Restaurants, Burgers]</td>\n",
       "      <td>4.0</td>\n",
       "      <td>1.004708</td>\n",
       "      <td>1.002452</td>\n",
       "      <td>0.994715</td>\n",
       "      <td>0.991967</td>\n",
       "      <td>1.003344</td>\n",
       "      <td>0.993952</td>\n",
       "      <td>1.002806</td>\n",
       "      <td>1.003862</td>\n",
       "    </tr>\n",
       "    <tr>\n",
       "      <th>-BmqghX1sv7sgsxOIS2yAg</th>\n",
       "      <td>Merkato Ethiopian Cafe</td>\n",
       "      <td>[Cafes, Ethiopian, Vegetarian, Restaurants]</td>\n",
       "      <td>4.0</td>\n",
       "      <td>1.000004</td>\n",
       "      <td>1.001106</td>\n",
       "      <td>0.995808</td>\n",
       "      <td>0.996617</td>\n",
       "      <td>0.999024</td>\n",
       "      <td>0.992482</td>\n",
       "      <td>0.997464</td>\n",
       "      <td>1.005954</td>\n",
       "    </tr>\n",
       "    <tr>\n",
       "      <th>-Bv-HHUs8aHzDrdWcZHn8w</th>\n",
       "      <td>Smashburger</td>\n",
       "      <td>[Burgers, Restaurants]</td>\n",
       "      <td>3.0</td>\n",
       "      <td>0.995522</td>\n",
       "      <td>1.004949</td>\n",
       "      <td>1.001318</td>\n",
       "      <td>0.997004</td>\n",
       "      <td>0.999982</td>\n",
       "      <td>0.995374</td>\n",
       "      <td>1.001539</td>\n",
       "      <td>0.995076</td>\n",
       "    </tr>\n",
       "    <tr>\n",
       "      <th>-C8sSrFqaCxp51pyo-fQLQ</th>\n",
       "      <td>The Rice Shop</td>\n",
       "      <td>[Comfort Food, Specialty Food, Asian Fusion, R...</td>\n",
       "      <td>4.5</td>\n",
       "      <td>0.999622</td>\n",
       "      <td>0.999855</td>\n",
       "      <td>1.026403</td>\n",
       "      <td>0.986722</td>\n",
       "      <td>0.995368</td>\n",
       "      <td>0.987833</td>\n",
       "      <td>1.011170</td>\n",
       "      <td>0.993477</td>\n",
       "    </tr>\n",
       "    <tr>\n",
       "      <th>-CQokjildrY7UZezXCdEBw</th>\n",
       "      <td>Toddy Shop</td>\n",
       "      <td>[Dive Bars, Indian, Nightlife, Bar Crawl, Rest...</td>\n",
       "      <td>5.0</td>\n",
       "      <td>0.999605</td>\n",
       "      <td>0.992413</td>\n",
       "      <td>1.011738</td>\n",
       "      <td>0.997109</td>\n",
       "      <td>0.993459</td>\n",
       "      <td>0.996954</td>\n",
       "      <td>1.003980</td>\n",
       "      <td>1.000934</td>\n",
       "    </tr>\n",
       "    <tr>\n",
       "      <th>-CbDQXiuKzPQ0_jiUz03aw</th>\n",
       "      <td>Taiga Modern Japanese &amp; Thai Restaurant</td>\n",
       "      <td>[Restaurants, Thai, Japanese]</td>\n",
       "      <td>4.0</td>\n",
       "      <td>0.993897</td>\n",
       "      <td>0.989732</td>\n",
       "      <td>0.988775</td>\n",
       "      <td>1.004815</td>\n",
       "      <td>1.001324</td>\n",
       "      <td>1.004391</td>\n",
       "      <td>0.999644</td>\n",
       "      <td>0.999742</td>\n",
       "    </tr>\n",
       "    <tr>\n",
       "      <th>-EohS3nXZGl6odE9Lx5BSw</th>\n",
       "      <td>Panda Express</td>\n",
       "      <td>[Fast Food, Restaurants, Chinese]</td>\n",
       "      <td>1.5</td>\n",
       "      <td>0.999753</td>\n",
       "      <td>1.000214</td>\n",
       "      <td>0.999710</td>\n",
       "      <td>1.000729</td>\n",
       "      <td>1.001193</td>\n",
       "      <td>1.000104</td>\n",
       "      <td>0.999870</td>\n",
       "      <td>0.999921</td>\n",
       "    </tr>\n",
       "    <tr>\n",
       "      <th>-FNquqGseSCVMWo7KbK-Tg</th>\n",
       "      <td>Chipotle Mexican Grill</td>\n",
       "      <td>[Fast Food, Restaurants, Mexican]</td>\n",
       "      <td>3.5</td>\n",
       "      <td>0.996557</td>\n",
       "      <td>0.995530</td>\n",
       "      <td>0.996892</td>\n",
       "      <td>0.999816</td>\n",
       "      <td>0.997329</td>\n",
       "      <td>1.005871</td>\n",
       "      <td>0.997756</td>\n",
       "      <td>1.001136</td>\n",
       "    </tr>\n",
       "    <tr>\n",
       "      <th>-FcZY7a7qgxTUlTvwuyJnQ</th>\n",
       "      <td>8 Noodle Bar</td>\n",
       "      <td>[Japanese, Restaurants, Asian Fusion, Chinese]</td>\n",
       "      <td>3.0</td>\n",
       "      <td>1.013497</td>\n",
       "      <td>0.999318</td>\n",
       "      <td>0.995975</td>\n",
       "      <td>0.999380</td>\n",
       "      <td>1.006993</td>\n",
       "      <td>1.000918</td>\n",
       "      <td>1.003337</td>\n",
       "      <td>0.997499</td>\n",
       "    </tr>\n",
       "    <tr>\n",
       "      <th>-G7MPSNBpxRJmtrJxdwt7A</th>\n",
       "      <td>La Costa Del Sol</td>\n",
       "      <td>[Restaurants, Latin American, Mexican, Salvado...</td>\n",
       "      <td>3.5</td>\n",
       "      <td>1.001299</td>\n",
       "      <td>1.001462</td>\n",
       "      <td>0.999935</td>\n",
       "      <td>1.000799</td>\n",
       "      <td>0.999698</td>\n",
       "      <td>1.001167</td>\n",
       "      <td>0.998583</td>\n",
       "      <td>1.000901</td>\n",
       "    </tr>\n",
       "    <tr>\n",
       "      <th>-IWsoxH7mLJTTpU5MmWY4w</th>\n",
       "      <td>Kinh Do</td>\n",
       "      <td>[Restaurants, Noodles, Vietnamese]</td>\n",
       "      <td>4.0</td>\n",
       "      <td>0.995110</td>\n",
       "      <td>1.012913</td>\n",
       "      <td>1.006812</td>\n",
       "      <td>0.993712</td>\n",
       "      <td>1.005646</td>\n",
       "      <td>1.006683</td>\n",
       "      <td>1.004266</td>\n",
       "      <td>1.004967</td>\n",
       "    </tr>\n",
       "    <tr>\n",
       "      <th>-JFVxwdVQfX207554dx1nw</th>\n",
       "      <td>Teriyaki Madness</td>\n",
       "      <td>[Asian Fusion, Japanese, Hawaiian, Restaurants]</td>\n",
       "      <td>3.5</td>\n",
       "      <td>1.003542</td>\n",
       "      <td>1.001213</td>\n",
       "      <td>1.002742</td>\n",
       "      <td>1.009478</td>\n",
       "      <td>0.998759</td>\n",
       "      <td>0.996232</td>\n",
       "      <td>0.999948</td>\n",
       "      <td>1.006754</td>\n",
       "    </tr>\n",
       "    <tr>\n",
       "      <th>-Jo0rJr2mZxBVgaJqDs-TQ</th>\n",
       "      <td>Chiamaka Food</td>\n",
       "      <td>[South African, African, Restaurants]</td>\n",
       "      <td>3.0</td>\n",
       "      <td>1.000788</td>\n",
       "      <td>0.998328</td>\n",
       "      <td>0.998382</td>\n",
       "      <td>1.000284</td>\n",
       "      <td>0.997796</td>\n",
       "      <td>0.999868</td>\n",
       "      <td>1.001761</td>\n",
       "      <td>0.999988</td>\n",
       "    </tr>\n",
       "    <tr>\n",
       "      <th>-K82LBrI3H0FVuhTbNDpRA</th>\n",
       "      <td>Shoku Ramen</td>\n",
       "      <td>[Noodles, Ramen, Restaurants, Japanese]</td>\n",
       "      <td>3.5</td>\n",
       "      <td>0.997650</td>\n",
       "      <td>0.997308</td>\n",
       "      <td>1.004434</td>\n",
       "      <td>1.008296</td>\n",
       "      <td>0.994519</td>\n",
       "      <td>1.000669</td>\n",
       "      <td>1.003625</td>\n",
       "      <td>1.001335</td>\n",
       "    </tr>\n",
       "    <tr>\n",
       "      <th>-LMycE26AortJDsbc8oXOg</th>\n",
       "      <td>Jack In the Box</td>\n",
       "      <td>[Restaurants, Fast Food]</td>\n",
       "      <td>3.0</td>\n",
       "      <td>0.997748</td>\n",
       "      <td>1.006524</td>\n",
       "      <td>1.000625</td>\n",
       "      <td>0.998155</td>\n",
       "      <td>0.996409</td>\n",
       "      <td>1.000178</td>\n",
       "      <td>1.003257</td>\n",
       "      <td>1.004035</td>\n",
       "    </tr>\n",
       "    <tr>\n",
       "      <th>-Le6cwbZL4tDZwNHwipfKg</th>\n",
       "      <td>Marrakech</td>\n",
       "      <td>[Middle Eastern, Mediterranean, Lebanese, Moro...</td>\n",
       "      <td>4.5</td>\n",
       "      <td>1.007790</td>\n",
       "      <td>0.993796</td>\n",
       "      <td>0.991929</td>\n",
       "      <td>1.005541</td>\n",
       "      <td>1.008064</td>\n",
       "      <td>1.004618</td>\n",
       "      <td>1.000580</td>\n",
       "      <td>0.997306</td>\n",
       "    </tr>\n",
       "    <tr>\n",
       "      <th>-LzUYsR54hd8cCiYXTquRA</th>\n",
       "      <td>French Market Buffet</td>\n",
       "      <td>[Buffets, Restaurants]</td>\n",
       "      <td>3.0</td>\n",
       "      <td>0.995591</td>\n",
       "      <td>0.995034</td>\n",
       "      <td>1.002248</td>\n",
       "      <td>1.001315</td>\n",
       "      <td>0.997270</td>\n",
       "      <td>1.002126</td>\n",
       "      <td>1.000483</td>\n",
       "      <td>1.005364</td>\n",
       "    </tr>\n",
       "    <tr>\n",
       "      <th>-N_agk8RUHvHk3GVDsyunQ</th>\n",
       "      <td>Hitchin Post Saloon &amp; Steakhouse</td>\n",
       "      <td>[Breakfast &amp; Brunch, Bars, Event Planning &amp; Se...</td>\n",
       "      <td>4.0</td>\n",
       "      <td>0.994681</td>\n",
       "      <td>0.999789</td>\n",
       "      <td>0.999801</td>\n",
       "      <td>1.006007</td>\n",
       "      <td>0.994000</td>\n",
       "      <td>1.002869</td>\n",
       "      <td>1.003247</td>\n",
       "      <td>1.000287</td>\n",
       "    </tr>\n",
       "    <tr>\n",
       "      <th>-NjZ5HZApXjRJaTVZeSO_w</th>\n",
       "      <td>San Salvador Restaurant</td>\n",
       "      <td>[Restaurants, Salvadoran, American (New), Lati...</td>\n",
       "      <td>4.0</td>\n",
       "      <td>1.002629</td>\n",
       "      <td>1.002083</td>\n",
       "      <td>1.001978</td>\n",
       "      <td>1.000049</td>\n",
       "      <td>1.007873</td>\n",
       "      <td>0.995768</td>\n",
       "      <td>0.997106</td>\n",
       "      <td>0.995376</td>\n",
       "    </tr>\n",
       "    <tr>\n",
       "      <th>-OEIW0dO96-492qa_luxaw</th>\n",
       "      <td>Aces &amp; Ales</td>\n",
       "      <td>[Nightlife, Food, Casinos, Arts &amp; Entertainmen...</td>\n",
       "      <td>4.0</td>\n",
       "      <td>1.011620</td>\n",
       "      <td>1.000268</td>\n",
       "      <td>0.997311</td>\n",
       "      <td>1.000803</td>\n",
       "      <td>1.004286</td>\n",
       "      <td>1.000747</td>\n",
       "      <td>0.998951</td>\n",
       "      <td>0.997455</td>\n",
       "    </tr>\n",
       "    <tr>\n",
       "      <th>-P8dGzSVhJi-5oZ-8U2y0w</th>\n",
       "      <td>Cannery Row Buffet</td>\n",
       "      <td>[Diners, Restaurants, Buffets]</td>\n",
       "      <td>2.5</td>\n",
       "      <td>0.998385</td>\n",
       "      <td>1.011362</td>\n",
       "      <td>0.999278</td>\n",
       "      <td>1.000563</td>\n",
       "      <td>1.000837</td>\n",
       "      <td>1.008068</td>\n",
       "      <td>1.000855</td>\n",
       "      <td>0.992442</td>\n",
       "    </tr>\n",
       "    <tr>\n",
       "      <th>-PGsEXB6DFTVKa1eDOlzWA</th>\n",
       "      <td>Black Bear Diner</td>\n",
       "      <td>[American (Traditional), Diners, Restaurants, ...</td>\n",
       "      <td>3.5</td>\n",
       "      <td>1.001052</td>\n",
       "      <td>1.003201</td>\n",
       "      <td>1.002655</td>\n",
       "      <td>1.000624</td>\n",
       "      <td>0.995268</td>\n",
       "      <td>0.994191</td>\n",
       "      <td>1.011776</td>\n",
       "      <td>1.000337</td>\n",
       "    </tr>\n",
       "    <tr>\n",
       "      <th>-PbM4ksxhGZVpgCpRakcgA</th>\n",
       "      <td>Great Steak</td>\n",
       "      <td>[Sandwiches, Restaurants, Cheesesteaks, Americ...</td>\n",
       "      <td>2.0</td>\n",
       "      <td>1.000299</td>\n",
       "      <td>1.000801</td>\n",
       "      <td>0.999381</td>\n",
       "      <td>1.003087</td>\n",
       "      <td>0.997813</td>\n",
       "      <td>1.000057</td>\n",
       "      <td>0.997589</td>\n",
       "      <td>0.998070</td>\n",
       "    </tr>\n",
       "    <tr>\n",
       "      <th>-QNQ4R1VgRoL4b6lC8Anrg</th>\n",
       "      <td>Mizuya</td>\n",
       "      <td>[Sushi Bars, Bars, Japanese, Nightlife, Restau...</td>\n",
       "      <td>3.0</td>\n",
       "      <td>0.996255</td>\n",
       "      <td>1.002366</td>\n",
       "      <td>1.001639</td>\n",
       "      <td>0.995775</td>\n",
       "      <td>1.002722</td>\n",
       "      <td>0.998507</td>\n",
       "      <td>0.999050</td>\n",
       "      <td>0.996665</td>\n",
       "    </tr>\n",
       "    <tr>\n",
       "      <th>-Qkx7W0itbAApcG5lJuMFQ</th>\n",
       "      <td>Jaburritos</td>\n",
       "      <td>[Sushi Bars, Seafood, Restaurants, Mexican, As...</td>\n",
       "      <td>4.5</td>\n",
       "      <td>1.002513</td>\n",
       "      <td>0.998687</td>\n",
       "      <td>0.993771</td>\n",
       "      <td>0.999827</td>\n",
       "      <td>1.005886</td>\n",
       "      <td>0.995563</td>\n",
       "      <td>1.007870</td>\n",
       "      <td>0.988128</td>\n",
       "    </tr>\n",
       "    <tr>\n",
       "      <th>-RJ216TTIghZshCkUlD1WQ</th>\n",
       "      <td>Sushi Takashi</td>\n",
       "      <td>[Sushi Bars, Japanese, Restaurants]</td>\n",
       "      <td>4.5</td>\n",
       "      <td>1.001331</td>\n",
       "      <td>0.974258</td>\n",
       "      <td>1.003342</td>\n",
       "      <td>1.014282</td>\n",
       "      <td>0.975011</td>\n",
       "      <td>0.996735</td>\n",
       "      <td>0.985875</td>\n",
       "      <td>0.998737</td>\n",
       "    </tr>\n",
       "    <tr>\n",
       "      <th>-SGZcGqnsp_uRIjKP2RGZg</th>\n",
       "      <td>Ranch House Grille</td>\n",
       "      <td>[Restaurants, American (New)]</td>\n",
       "      <td>3.0</td>\n",
       "      <td>1.005917</td>\n",
       "      <td>0.991031</td>\n",
       "      <td>0.997641</td>\n",
       "      <td>1.010727</td>\n",
       "      <td>1.001454</td>\n",
       "      <td>0.994065</td>\n",
       "      <td>0.998815</td>\n",
       "      <td>0.993018</td>\n",
       "    </tr>\n",
       "    <tr>\n",
       "      <th>-Tv5UZeFHdKz3RM9vOYpaw</th>\n",
       "      <td>Milano's Pizzeria</td>\n",
       "      <td>[Pizza, Restaurants]</td>\n",
       "      <td>2.5</td>\n",
       "      <td>1.000936</td>\n",
       "      <td>0.995233</td>\n",
       "      <td>0.995078</td>\n",
       "      <td>0.999212</td>\n",
       "      <td>0.995409</td>\n",
       "      <td>1.005340</td>\n",
       "      <td>1.000492</td>\n",
       "      <td>0.996460</td>\n",
       "    </tr>\n",
       "    <tr>\n",
       "      <th>-U7tvCtaraTQ9b0zBhpBMA</th>\n",
       "      <td>MGM Grand Buffet</td>\n",
       "      <td>[Buffets, American (Traditional), Restaurants]</td>\n",
       "      <td>2.5</td>\n",
       "      <td>1.006072</td>\n",
       "      <td>1.009713</td>\n",
       "      <td>1.003114</td>\n",
       "      <td>0.997712</td>\n",
       "      <td>1.003311</td>\n",
       "      <td>1.009531</td>\n",
       "      <td>1.000161</td>\n",
       "      <td>0.996842</td>\n",
       "    </tr>\n",
       "    <tr>\n",
       "      <th>-Uix-n4Jqo4W7ERagC5qAA</th>\n",
       "      <td>Wok &amp; Roll \"TAPSILOGAN\"</td>\n",
       "      <td>[Asian Fusion, Filipino, Restaurants, Fast Food]</td>\n",
       "      <td>4.0</td>\n",
       "      <td>1.005220</td>\n",
       "      <td>1.003985</td>\n",
       "      <td>1.001715</td>\n",
       "      <td>0.999073</td>\n",
       "      <td>1.001897</td>\n",
       "      <td>0.996643</td>\n",
       "      <td>1.000083</td>\n",
       "      <td>1.003888</td>\n",
       "    </tr>\n",
       "    <tr>\n",
       "      <th>-UtYWvCnUppcSaC_u1pTYQ</th>\n",
       "      <td>Kopper Keg Restaurant &amp; Lounge</td>\n",
       "      <td>[Restaurants]</td>\n",
       "      <td>4.0</td>\n",
       "      <td>1.000443</td>\n",
       "      <td>0.997254</td>\n",
       "      <td>0.996591</td>\n",
       "      <td>1.000116</td>\n",
       "      <td>0.998119</td>\n",
       "      <td>0.997402</td>\n",
       "      <td>0.999771</td>\n",
       "      <td>1.002435</td>\n",
       "    </tr>\n",
       "    <tr>\n",
       "      <th>-WLrZPzjKfrftLWaCi1QZQ</th>\n",
       "      <td>Blueberry Hill Family Restaurant</td>\n",
       "      <td>[Breakfast &amp; Brunch, Restaurants, Diners]</td>\n",
       "      <td>4.0</td>\n",
       "      <td>1.002949</td>\n",
       "      <td>0.993889</td>\n",
       "      <td>0.998486</td>\n",
       "      <td>1.010069</td>\n",
       "      <td>0.998006</td>\n",
       "      <td>1.004462</td>\n",
       "      <td>0.983205</td>\n",
       "      <td>0.976490</td>\n",
       "    </tr>\n",
       "    <tr>\n",
       "      <th>-WQhVJnBmyapFn0digQJwg</th>\n",
       "      <td>FruitLand Las Vegas</td>\n",
       "      <td>[Food, Health Markets, Specialty Food, Restaur...</td>\n",
       "      <td>4.5</td>\n",
       "      <td>1.002135</td>\n",
       "      <td>1.003501</td>\n",
       "      <td>1.005080</td>\n",
       "      <td>0.996003</td>\n",
       "      <td>0.996885</td>\n",
       "      <td>0.996615</td>\n",
       "      <td>0.999031</td>\n",
       "      <td>1.006348</td>\n",
       "    </tr>\n",
       "    <tr>\n",
       "      <th>-XKG6GamlSBwy5AcXQGAfA</th>\n",
       "      <td>Rickenbackers Cafe</td>\n",
       "      <td>[Cafes, Restaurants]</td>\n",
       "      <td>3.5</td>\n",
       "      <td>0.997951</td>\n",
       "      <td>1.004180</td>\n",
       "      <td>1.006370</td>\n",
       "      <td>0.997120</td>\n",
       "      <td>0.996545</td>\n",
       "      <td>1.007669</td>\n",
       "      <td>1.000455</td>\n",
       "      <td>1.001945</td>\n",
       "    </tr>\n",
       "    <tr>\n",
       "      <th>-YCd2_DdJUeZx3RRcmIZ_g</th>\n",
       "      <td>Taco Bell</td>\n",
       "      <td>[Fast Food, Restaurants, Tex-Mex, Mexican]</td>\n",
       "      <td>2.0</td>\n",
       "      <td>1.001420</td>\n",
       "      <td>1.002039</td>\n",
       "      <td>0.997372</td>\n",
       "      <td>1.002384</td>\n",
       "      <td>0.998764</td>\n",
       "      <td>0.996351</td>\n",
       "      <td>1.001313</td>\n",
       "      <td>1.005313</td>\n",
       "    </tr>\n",
       "    <tr>\n",
       "      <th>-YWr1wm_NaAlgEf9TZzsMQ</th>\n",
       "      <td>Jumbo Super Buffet</td>\n",
       "      <td>[Chinese, Buffets, Sushi Bars, Restaurants]</td>\n",
       "      <td>2.5</td>\n",
       "      <td>0.997247</td>\n",
       "      <td>0.998971</td>\n",
       "      <td>1.004967</td>\n",
       "      <td>1.008354</td>\n",
       "      <td>1.004315</td>\n",
       "      <td>0.990981</td>\n",
       "      <td>0.993897</td>\n",
       "      <td>0.999377</td>\n",
       "    </tr>\n",
       "    <tr>\n",
       "      <th>-Ylpy3VyRWwubf9dysuwjQ</th>\n",
       "      <td>The Cheesecake Factory</td>\n",
       "      <td>[Restaurants, Desserts, Food, American (Tradit...</td>\n",
       "      <td>4.0</td>\n",
       "      <td>1.014728</td>\n",
       "      <td>1.000251</td>\n",
       "      <td>1.006167</td>\n",
       "      <td>1.006560</td>\n",
       "      <td>0.990397</td>\n",
       "      <td>1.004470</td>\n",
       "      <td>1.010989</td>\n",
       "      <td>0.999690</td>\n",
       "    </tr>\n",
       "    <tr>\n",
       "      <th>-_TSaVr53qiEGqMkwyEMaQ</th>\n",
       "      <td>Parsley Modern Mediterranean</td>\n",
       "      <td>[Mediterranean, Middle Eastern, Restaurants, S...</td>\n",
       "      <td>4.5</td>\n",
       "      <td>1.012824</td>\n",
       "      <td>0.993354</td>\n",
       "      <td>0.992038</td>\n",
       "      <td>0.984829</td>\n",
       "      <td>1.000926</td>\n",
       "      <td>0.998215</td>\n",
       "      <td>1.002862</td>\n",
       "      <td>1.023308</td>\n",
       "    </tr>\n",
       "    <tr>\n",
       "      <th>-_yEVC3_3M6YOsamYfNFEw</th>\n",
       "      <td>Jason's Deli</td>\n",
       "      <td>[Delis, Salad, Sandwiches, American (New), Res...</td>\n",
       "      <td>4.0</td>\n",
       "      <td>1.001054</td>\n",
       "      <td>0.996709</td>\n",
       "      <td>0.999785</td>\n",
       "      <td>1.006476</td>\n",
       "      <td>0.997948</td>\n",
       "      <td>0.997956</td>\n",
       "      <td>0.997950</td>\n",
       "      <td>0.999488</td>\n",
       "    </tr>\n",
       "    <tr>\n",
       "      <th>-a857YYdjzgOdOjFFRsRXQ</th>\n",
       "      <td>Beer Park</td>\n",
       "      <td>[Nightlife, Beer Bar, Bars, Sports Bars, Sandw...</td>\n",
       "      <td>3.5</td>\n",
       "      <td>1.002988</td>\n",
       "      <td>1.002667</td>\n",
       "      <td>1.011255</td>\n",
       "      <td>0.998766</td>\n",
       "      <td>1.008185</td>\n",
       "      <td>1.004972</td>\n",
       "      <td>0.998179</td>\n",
       "      <td>0.997082</td>\n",
       "    </tr>\n",
       "    <tr>\n",
       "      <th>-dGORHtjPRnQzTZ2-SYa_g</th>\n",
       "      <td>Great Wraps</td>\n",
       "      <td>[Restaurants, Sandwiches]</td>\n",
       "      <td>3.0</td>\n",
       "      <td>0.992368</td>\n",
       "      <td>1.003120</td>\n",
       "      <td>0.999555</td>\n",
       "      <td>0.995403</td>\n",
       "      <td>1.003697</td>\n",
       "      <td>0.997624</td>\n",
       "      <td>0.991854</td>\n",
       "      <td>1.004430</td>\n",
       "    </tr>\n",
       "    <tr>\n",
       "      <th>-ed0Yc9on37RoIoG2ZgxBA</th>\n",
       "      <td>Le Thai</td>\n",
       "      <td>[Restaurants, Nightlife, Beer Gardens, Thai]</td>\n",
       "      <td>4.0</td>\n",
       "      <td>1.045362</td>\n",
       "      <td>1.012906</td>\n",
       "      <td>0.996300</td>\n",
       "      <td>0.985214</td>\n",
       "      <td>0.992654</td>\n",
       "      <td>0.974822</td>\n",
       "      <td>0.982905</td>\n",
       "      <td>0.993096</td>\n",
       "    </tr>\n",
       "    <tr>\n",
       "      <th>-gXDD2oSHBDA3zgjX6g9pQ</th>\n",
       "      <td>The Plate Bar &amp; Grill</td>\n",
       "      <td>[Nightlife, Restaurants, Bars, American (Tradi...</td>\n",
       "      <td>4.5</td>\n",
       "      <td>1.002489</td>\n",
       "      <td>1.003607</td>\n",
       "      <td>0.999386</td>\n",
       "      <td>0.999136</td>\n",
       "      <td>1.000794</td>\n",
       "      <td>0.999636</td>\n",
       "      <td>0.998229</td>\n",
       "      <td>0.997198</td>\n",
       "    </tr>\n",
       "    <tr>\n",
       "      <th>-hzQQ8tbXThpp0k5E_y1Dw</th>\n",
       "      <td>Blizz</td>\n",
       "      <td>[Desserts, Ice Cream &amp; Frozen Yogurt, Food, Re...</td>\n",
       "      <td>3.0</td>\n",
       "      <td>0.996397</td>\n",
       "      <td>0.993756</td>\n",
       "      <td>0.995750</td>\n",
       "      <td>0.996345</td>\n",
       "      <td>1.001396</td>\n",
       "      <td>0.994362</td>\n",
       "      <td>1.000832</td>\n",
       "      <td>1.003607</td>\n",
       "    </tr>\n",
       "    <tr>\n",
       "      <th>-iFvYhgysvjkxckCr42NRw</th>\n",
       "      <td>Rani's World Foods</td>\n",
       "      <td>[Vegetarian, Restaurants, Specialty Food, Food...</td>\n",
       "      <td>4.0</td>\n",
       "      <td>0.995336</td>\n",
       "      <td>0.990512</td>\n",
       "      <td>1.000876</td>\n",
       "      <td>1.001250</td>\n",
       "      <td>1.005595</td>\n",
       "      <td>1.001689</td>\n",
       "      <td>1.002400</td>\n",
       "      <td>1.002670</td>\n",
       "    </tr>\n",
       "  </tbody>\n",
       "</table>\n",
       "</div>"
      ],
      "text/plain": [
       "                                                           name  \\\n",
       "business_id                                                       \n",
       "--9e1ONYQuAa-CB_Rrw7Tw                     Delmonico Steakhouse   \n",
       "-3zffZUHoY8bQjGfPSoBKQ                             Michael Mina   \n",
       "-8R_-EkGpUhBk55K9Dd4mg                 Sin City Thai Restaurant   \n",
       "-9YyInW1wapzdNZrhQJ9dg                             Fresh Buffet   \n",
       "-AD5PiuJHgdUcAK-Vxao2A                              Smashburger   \n",
       "-Bf8BQ3yMk8U2f45r2DRKw                          In-N-Out Burger   \n",
       "-BmqghX1sv7sgsxOIS2yAg                   Merkato Ethiopian Cafe   \n",
       "-Bv-HHUs8aHzDrdWcZHn8w                              Smashburger   \n",
       "-C8sSrFqaCxp51pyo-fQLQ                            The Rice Shop   \n",
       "-CQokjildrY7UZezXCdEBw                               Toddy Shop   \n",
       "-CbDQXiuKzPQ0_jiUz03aw  Taiga Modern Japanese & Thai Restaurant   \n",
       "-EohS3nXZGl6odE9Lx5BSw                            Panda Express   \n",
       "-FNquqGseSCVMWo7KbK-Tg                   Chipotle Mexican Grill   \n",
       "-FcZY7a7qgxTUlTvwuyJnQ                             8 Noodle Bar   \n",
       "-G7MPSNBpxRJmtrJxdwt7A                         La Costa Del Sol   \n",
       "-IWsoxH7mLJTTpU5MmWY4w                                  Kinh Do   \n",
       "-JFVxwdVQfX207554dx1nw                         Teriyaki Madness   \n",
       "-Jo0rJr2mZxBVgaJqDs-TQ                            Chiamaka Food   \n",
       "-K82LBrI3H0FVuhTbNDpRA                              Shoku Ramen   \n",
       "-LMycE26AortJDsbc8oXOg                          Jack In the Box   \n",
       "-Le6cwbZL4tDZwNHwipfKg                                Marrakech   \n",
       "-LzUYsR54hd8cCiYXTquRA                     French Market Buffet   \n",
       "-N_agk8RUHvHk3GVDsyunQ         Hitchin Post Saloon & Steakhouse   \n",
       "-NjZ5HZApXjRJaTVZeSO_w                  San Salvador Restaurant   \n",
       "-OEIW0dO96-492qa_luxaw                              Aces & Ales   \n",
       "-P8dGzSVhJi-5oZ-8U2y0w                       Cannery Row Buffet   \n",
       "-PGsEXB6DFTVKa1eDOlzWA                         Black Bear Diner   \n",
       "-PbM4ksxhGZVpgCpRakcgA                              Great Steak   \n",
       "-QNQ4R1VgRoL4b6lC8Anrg                                   Mizuya   \n",
       "-Qkx7W0itbAApcG5lJuMFQ                               Jaburritos   \n",
       "-RJ216TTIghZshCkUlD1WQ                            Sushi Takashi   \n",
       "-SGZcGqnsp_uRIjKP2RGZg                       Ranch House Grille   \n",
       "-Tv5UZeFHdKz3RM9vOYpaw                        Milano's Pizzeria   \n",
       "-U7tvCtaraTQ9b0zBhpBMA                         MGM Grand Buffet   \n",
       "-Uix-n4Jqo4W7ERagC5qAA                  Wok & Roll \"TAPSILOGAN\"   \n",
       "-UtYWvCnUppcSaC_u1pTYQ           Kopper Keg Restaurant & Lounge   \n",
       "-WLrZPzjKfrftLWaCi1QZQ         Blueberry Hill Family Restaurant   \n",
       "-WQhVJnBmyapFn0digQJwg                      FruitLand Las Vegas   \n",
       "-XKG6GamlSBwy5AcXQGAfA                       Rickenbackers Cafe   \n",
       "-YCd2_DdJUeZx3RRcmIZ_g                                Taco Bell   \n",
       "-YWr1wm_NaAlgEf9TZzsMQ                       Jumbo Super Buffet   \n",
       "-Ylpy3VyRWwubf9dysuwjQ                   The Cheesecake Factory   \n",
       "-_TSaVr53qiEGqMkwyEMaQ             Parsley Modern Mediterranean   \n",
       "-_yEVC3_3M6YOsamYfNFEw                             Jason's Deli   \n",
       "-a857YYdjzgOdOjFFRsRXQ                                Beer Park   \n",
       "-dGORHtjPRnQzTZ2-SYa_g                              Great Wraps   \n",
       "-ed0Yc9on37RoIoG2ZgxBA                                  Le Thai   \n",
       "-gXDD2oSHBDA3zgjX6g9pQ                    The Plate Bar & Grill   \n",
       "-hzQQ8tbXThpp0k5E_y1Dw                                    Blizz   \n",
       "-iFvYhgysvjkxckCr42NRw                       Rani's World Foods   \n",
       "\n",
       "                                                               categories  \\\n",
       "business_id                                                                 \n",
       "--9e1ONYQuAa-CB_Rrw7Tw           [Steakhouses, Cajun/Creole, Restaurants]   \n",
       "-3zffZUHoY8bQjGfPSoBKQ  [Seafood, Bars, Nightlife, American (New), Res...   \n",
       "-8R_-EkGpUhBk55K9Dd4mg                                [Restaurants, Thai]   \n",
       "-9YyInW1wapzdNZrhQJ9dg                             [Buffets, Restaurants]   \n",
       "-AD5PiuJHgdUcAK-Vxao2A                             [Burgers, Restaurants]   \n",
       "-Bf8BQ3yMk8U2f45r2DRKw                  [Fast Food, Restaurants, Burgers]   \n",
       "-BmqghX1sv7sgsxOIS2yAg        [Cafes, Ethiopian, Vegetarian, Restaurants]   \n",
       "-Bv-HHUs8aHzDrdWcZHn8w                             [Burgers, Restaurants]   \n",
       "-C8sSrFqaCxp51pyo-fQLQ  [Comfort Food, Specialty Food, Asian Fusion, R...   \n",
       "-CQokjildrY7UZezXCdEBw  [Dive Bars, Indian, Nightlife, Bar Crawl, Rest...   \n",
       "-CbDQXiuKzPQ0_jiUz03aw                      [Restaurants, Thai, Japanese]   \n",
       "-EohS3nXZGl6odE9Lx5BSw                  [Fast Food, Restaurants, Chinese]   \n",
       "-FNquqGseSCVMWo7KbK-Tg                  [Fast Food, Restaurants, Mexican]   \n",
       "-FcZY7a7qgxTUlTvwuyJnQ     [Japanese, Restaurants, Asian Fusion, Chinese]   \n",
       "-G7MPSNBpxRJmtrJxdwt7A  [Restaurants, Latin American, Mexican, Salvado...   \n",
       "-IWsoxH7mLJTTpU5MmWY4w                 [Restaurants, Noodles, Vietnamese]   \n",
       "-JFVxwdVQfX207554dx1nw    [Asian Fusion, Japanese, Hawaiian, Restaurants]   \n",
       "-Jo0rJr2mZxBVgaJqDs-TQ              [South African, African, Restaurants]   \n",
       "-K82LBrI3H0FVuhTbNDpRA            [Noodles, Ramen, Restaurants, Japanese]   \n",
       "-LMycE26AortJDsbc8oXOg                           [Restaurants, Fast Food]   \n",
       "-Le6cwbZL4tDZwNHwipfKg  [Middle Eastern, Mediterranean, Lebanese, Moro...   \n",
       "-LzUYsR54hd8cCiYXTquRA                             [Buffets, Restaurants]   \n",
       "-N_agk8RUHvHk3GVDsyunQ  [Breakfast & Brunch, Bars, Event Planning & Se...   \n",
       "-NjZ5HZApXjRJaTVZeSO_w  [Restaurants, Salvadoran, American (New), Lati...   \n",
       "-OEIW0dO96-492qa_luxaw  [Nightlife, Food, Casinos, Arts & Entertainmen...   \n",
       "-P8dGzSVhJi-5oZ-8U2y0w                     [Diners, Restaurants, Buffets]   \n",
       "-PGsEXB6DFTVKa1eDOlzWA  [American (Traditional), Diners, Restaurants, ...   \n",
       "-PbM4ksxhGZVpgCpRakcgA  [Sandwiches, Restaurants, Cheesesteaks, Americ...   \n",
       "-QNQ4R1VgRoL4b6lC8Anrg  [Sushi Bars, Bars, Japanese, Nightlife, Restau...   \n",
       "-Qkx7W0itbAApcG5lJuMFQ  [Sushi Bars, Seafood, Restaurants, Mexican, As...   \n",
       "-RJ216TTIghZshCkUlD1WQ                [Sushi Bars, Japanese, Restaurants]   \n",
       "-SGZcGqnsp_uRIjKP2RGZg                      [Restaurants, American (New)]   \n",
       "-Tv5UZeFHdKz3RM9vOYpaw                               [Pizza, Restaurants]   \n",
       "-U7tvCtaraTQ9b0zBhpBMA     [Buffets, American (Traditional), Restaurants]   \n",
       "-Uix-n4Jqo4W7ERagC5qAA   [Asian Fusion, Filipino, Restaurants, Fast Food]   \n",
       "-UtYWvCnUppcSaC_u1pTYQ                                      [Restaurants]   \n",
       "-WLrZPzjKfrftLWaCi1QZQ          [Breakfast & Brunch, Restaurants, Diners]   \n",
       "-WQhVJnBmyapFn0digQJwg  [Food, Health Markets, Specialty Food, Restaur...   \n",
       "-XKG6GamlSBwy5AcXQGAfA                               [Cafes, Restaurants]   \n",
       "-YCd2_DdJUeZx3RRcmIZ_g         [Fast Food, Restaurants, Tex-Mex, Mexican]   \n",
       "-YWr1wm_NaAlgEf9TZzsMQ        [Chinese, Buffets, Sushi Bars, Restaurants]   \n",
       "-Ylpy3VyRWwubf9dysuwjQ  [Restaurants, Desserts, Food, American (Tradit...   \n",
       "-_TSaVr53qiEGqMkwyEMaQ  [Mediterranean, Middle Eastern, Restaurants, S...   \n",
       "-_yEVC3_3M6YOsamYfNFEw  [Delis, Salad, Sandwiches, American (New), Res...   \n",
       "-a857YYdjzgOdOjFFRsRXQ  [Nightlife, Beer Bar, Bars, Sports Bars, Sandw...   \n",
       "-dGORHtjPRnQzTZ2-SYa_g                          [Restaurants, Sandwiches]   \n",
       "-ed0Yc9on37RoIoG2ZgxBA       [Restaurants, Nightlife, Beer Gardens, Thai]   \n",
       "-gXDD2oSHBDA3zgjX6g9pQ  [Nightlife, Restaurants, Bars, American (Tradi...   \n",
       "-hzQQ8tbXThpp0k5E_y1Dw  [Desserts, Ice Cream & Frozen Yogurt, Food, Re...   \n",
       "-iFvYhgysvjkxckCr42NRw  [Vegetarian, Restaurants, Specialty Food, Food...   \n",
       "\n",
       "                        ave_stars         0         1         2         3  \\\n",
       "business_id                                                                 \n",
       "--9e1ONYQuAa-CB_Rrw7Tw        4.0  0.990881  0.997119  0.996395  1.007375   \n",
       "-3zffZUHoY8bQjGfPSoBKQ        4.0  0.996931  1.003776  1.006321  0.999654   \n",
       "-8R_-EkGpUhBk55K9Dd4mg        3.5  1.003748  0.995638  1.003256  0.995051   \n",
       "-9YyInW1wapzdNZrhQJ9dg        2.5  1.003080  1.003295  1.002987  1.004978   \n",
       "-AD5PiuJHgdUcAK-Vxao2A        3.5  1.003837  0.999570  1.009254  1.005136   \n",
       "-Bf8BQ3yMk8U2f45r2DRKw        4.0  1.004708  1.002452  0.994715  0.991967   \n",
       "-BmqghX1sv7sgsxOIS2yAg        4.0  1.000004  1.001106  0.995808  0.996617   \n",
       "-Bv-HHUs8aHzDrdWcZHn8w        3.0  0.995522  1.004949  1.001318  0.997004   \n",
       "-C8sSrFqaCxp51pyo-fQLQ        4.5  0.999622  0.999855  1.026403  0.986722   \n",
       "-CQokjildrY7UZezXCdEBw        5.0  0.999605  0.992413  1.011738  0.997109   \n",
       "-CbDQXiuKzPQ0_jiUz03aw        4.0  0.993897  0.989732  0.988775  1.004815   \n",
       "-EohS3nXZGl6odE9Lx5BSw        1.5  0.999753  1.000214  0.999710  1.000729   \n",
       "-FNquqGseSCVMWo7KbK-Tg        3.5  0.996557  0.995530  0.996892  0.999816   \n",
       "-FcZY7a7qgxTUlTvwuyJnQ        3.0  1.013497  0.999318  0.995975  0.999380   \n",
       "-G7MPSNBpxRJmtrJxdwt7A        3.5  1.001299  1.001462  0.999935  1.000799   \n",
       "-IWsoxH7mLJTTpU5MmWY4w        4.0  0.995110  1.012913  1.006812  0.993712   \n",
       "-JFVxwdVQfX207554dx1nw        3.5  1.003542  1.001213  1.002742  1.009478   \n",
       "-Jo0rJr2mZxBVgaJqDs-TQ        3.0  1.000788  0.998328  0.998382  1.000284   \n",
       "-K82LBrI3H0FVuhTbNDpRA        3.5  0.997650  0.997308  1.004434  1.008296   \n",
       "-LMycE26AortJDsbc8oXOg        3.0  0.997748  1.006524  1.000625  0.998155   \n",
       "-Le6cwbZL4tDZwNHwipfKg        4.5  1.007790  0.993796  0.991929  1.005541   \n",
       "-LzUYsR54hd8cCiYXTquRA        3.0  0.995591  0.995034  1.002248  1.001315   \n",
       "-N_agk8RUHvHk3GVDsyunQ        4.0  0.994681  0.999789  0.999801  1.006007   \n",
       "-NjZ5HZApXjRJaTVZeSO_w        4.0  1.002629  1.002083  1.001978  1.000049   \n",
       "-OEIW0dO96-492qa_luxaw        4.0  1.011620  1.000268  0.997311  1.000803   \n",
       "-P8dGzSVhJi-5oZ-8U2y0w        2.5  0.998385  1.011362  0.999278  1.000563   \n",
       "-PGsEXB6DFTVKa1eDOlzWA        3.5  1.001052  1.003201  1.002655  1.000624   \n",
       "-PbM4ksxhGZVpgCpRakcgA        2.0  1.000299  1.000801  0.999381  1.003087   \n",
       "-QNQ4R1VgRoL4b6lC8Anrg        3.0  0.996255  1.002366  1.001639  0.995775   \n",
       "-Qkx7W0itbAApcG5lJuMFQ        4.5  1.002513  0.998687  0.993771  0.999827   \n",
       "-RJ216TTIghZshCkUlD1WQ        4.5  1.001331  0.974258  1.003342  1.014282   \n",
       "-SGZcGqnsp_uRIjKP2RGZg        3.0  1.005917  0.991031  0.997641  1.010727   \n",
       "-Tv5UZeFHdKz3RM9vOYpaw        2.5  1.000936  0.995233  0.995078  0.999212   \n",
       "-U7tvCtaraTQ9b0zBhpBMA        2.5  1.006072  1.009713  1.003114  0.997712   \n",
       "-Uix-n4Jqo4W7ERagC5qAA        4.0  1.005220  1.003985  1.001715  0.999073   \n",
       "-UtYWvCnUppcSaC_u1pTYQ        4.0  1.000443  0.997254  0.996591  1.000116   \n",
       "-WLrZPzjKfrftLWaCi1QZQ        4.0  1.002949  0.993889  0.998486  1.010069   \n",
       "-WQhVJnBmyapFn0digQJwg        4.5  1.002135  1.003501  1.005080  0.996003   \n",
       "-XKG6GamlSBwy5AcXQGAfA        3.5  0.997951  1.004180  1.006370  0.997120   \n",
       "-YCd2_DdJUeZx3RRcmIZ_g        2.0  1.001420  1.002039  0.997372  1.002384   \n",
       "-YWr1wm_NaAlgEf9TZzsMQ        2.5  0.997247  0.998971  1.004967  1.008354   \n",
       "-Ylpy3VyRWwubf9dysuwjQ        4.0  1.014728  1.000251  1.006167  1.006560   \n",
       "-_TSaVr53qiEGqMkwyEMaQ        4.5  1.012824  0.993354  0.992038  0.984829   \n",
       "-_yEVC3_3M6YOsamYfNFEw        4.0  1.001054  0.996709  0.999785  1.006476   \n",
       "-a857YYdjzgOdOjFFRsRXQ        3.5  1.002988  1.002667  1.011255  0.998766   \n",
       "-dGORHtjPRnQzTZ2-SYa_g        3.0  0.992368  1.003120  0.999555  0.995403   \n",
       "-ed0Yc9on37RoIoG2ZgxBA        4.0  1.045362  1.012906  0.996300  0.985214   \n",
       "-gXDD2oSHBDA3zgjX6g9pQ        4.5  1.002489  1.003607  0.999386  0.999136   \n",
       "-hzQQ8tbXThpp0k5E_y1Dw        3.0  0.996397  0.993756  0.995750  0.996345   \n",
       "-iFvYhgysvjkxckCr42NRw        4.0  0.995336  0.990512  1.000876  1.001250   \n",
       "\n",
       "                               4         5         6         7  \n",
       "business_id                                                     \n",
       "--9e1ONYQuAa-CB_Rrw7Tw  1.015554  0.997601  0.994828  1.011526  \n",
       "-3zffZUHoY8bQjGfPSoBKQ  0.995794  1.006341  1.002223  1.000885  \n",
       "-8R_-EkGpUhBk55K9Dd4mg  0.994946  1.002240  1.000739  0.994914  \n",
       "-9YyInW1wapzdNZrhQJ9dg  0.996970  1.000740  0.996698  0.996947  \n",
       "-AD5PiuJHgdUcAK-Vxao2A  1.000495  1.000192  0.997452  0.992400  \n",
       "-Bf8BQ3yMk8U2f45r2DRKw  1.003344  0.993952  1.002806  1.003862  \n",
       "-BmqghX1sv7sgsxOIS2yAg  0.999024  0.992482  0.997464  1.005954  \n",
       "-Bv-HHUs8aHzDrdWcZHn8w  0.999982  0.995374  1.001539  0.995076  \n",
       "-C8sSrFqaCxp51pyo-fQLQ  0.995368  0.987833  1.011170  0.993477  \n",
       "-CQokjildrY7UZezXCdEBw  0.993459  0.996954  1.003980  1.000934  \n",
       "-CbDQXiuKzPQ0_jiUz03aw  1.001324  1.004391  0.999644  0.999742  \n",
       "-EohS3nXZGl6odE9Lx5BSw  1.001193  1.000104  0.999870  0.999921  \n",
       "-FNquqGseSCVMWo7KbK-Tg  0.997329  1.005871  0.997756  1.001136  \n",
       "-FcZY7a7qgxTUlTvwuyJnQ  1.006993  1.000918  1.003337  0.997499  \n",
       "-G7MPSNBpxRJmtrJxdwt7A  0.999698  1.001167  0.998583  1.000901  \n",
       "-IWsoxH7mLJTTpU5MmWY4w  1.005646  1.006683  1.004266  1.004967  \n",
       "-JFVxwdVQfX207554dx1nw  0.998759  0.996232  0.999948  1.006754  \n",
       "-Jo0rJr2mZxBVgaJqDs-TQ  0.997796  0.999868  1.001761  0.999988  \n",
       "-K82LBrI3H0FVuhTbNDpRA  0.994519  1.000669  1.003625  1.001335  \n",
       "-LMycE26AortJDsbc8oXOg  0.996409  1.000178  1.003257  1.004035  \n",
       "-Le6cwbZL4tDZwNHwipfKg  1.008064  1.004618  1.000580  0.997306  \n",
       "-LzUYsR54hd8cCiYXTquRA  0.997270  1.002126  1.000483  1.005364  \n",
       "-N_agk8RUHvHk3GVDsyunQ  0.994000  1.002869  1.003247  1.000287  \n",
       "-NjZ5HZApXjRJaTVZeSO_w  1.007873  0.995768  0.997106  0.995376  \n",
       "-OEIW0dO96-492qa_luxaw  1.004286  1.000747  0.998951  0.997455  \n",
       "-P8dGzSVhJi-5oZ-8U2y0w  1.000837  1.008068  1.000855  0.992442  \n",
       "-PGsEXB6DFTVKa1eDOlzWA  0.995268  0.994191  1.011776  1.000337  \n",
       "-PbM4ksxhGZVpgCpRakcgA  0.997813  1.000057  0.997589  0.998070  \n",
       "-QNQ4R1VgRoL4b6lC8Anrg  1.002722  0.998507  0.999050  0.996665  \n",
       "-Qkx7W0itbAApcG5lJuMFQ  1.005886  0.995563  1.007870  0.988128  \n",
       "-RJ216TTIghZshCkUlD1WQ  0.975011  0.996735  0.985875  0.998737  \n",
       "-SGZcGqnsp_uRIjKP2RGZg  1.001454  0.994065  0.998815  0.993018  \n",
       "-Tv5UZeFHdKz3RM9vOYpaw  0.995409  1.005340  1.000492  0.996460  \n",
       "-U7tvCtaraTQ9b0zBhpBMA  1.003311  1.009531  1.000161  0.996842  \n",
       "-Uix-n4Jqo4W7ERagC5qAA  1.001897  0.996643  1.000083  1.003888  \n",
       "-UtYWvCnUppcSaC_u1pTYQ  0.998119  0.997402  0.999771  1.002435  \n",
       "-WLrZPzjKfrftLWaCi1QZQ  0.998006  1.004462  0.983205  0.976490  \n",
       "-WQhVJnBmyapFn0digQJwg  0.996885  0.996615  0.999031  1.006348  \n",
       "-XKG6GamlSBwy5AcXQGAfA  0.996545  1.007669  1.000455  1.001945  \n",
       "-YCd2_DdJUeZx3RRcmIZ_g  0.998764  0.996351  1.001313  1.005313  \n",
       "-YWr1wm_NaAlgEf9TZzsMQ  1.004315  0.990981  0.993897  0.999377  \n",
       "-Ylpy3VyRWwubf9dysuwjQ  0.990397  1.004470  1.010989  0.999690  \n",
       "-_TSaVr53qiEGqMkwyEMaQ  1.000926  0.998215  1.002862  1.023308  \n",
       "-_yEVC3_3M6YOsamYfNFEw  0.997948  0.997956  0.997950  0.999488  \n",
       "-a857YYdjzgOdOjFFRsRXQ  1.008185  1.004972  0.998179  0.997082  \n",
       "-dGORHtjPRnQzTZ2-SYa_g  1.003697  0.997624  0.991854  1.004430  \n",
       "-ed0Yc9on37RoIoG2ZgxBA  0.992654  0.974822  0.982905  0.993096  \n",
       "-gXDD2oSHBDA3zgjX6g9pQ  1.000794  0.999636  0.998229  0.997198  \n",
       "-hzQQ8tbXThpp0k5E_y1Dw  1.001396  0.994362  1.000832  1.003607  \n",
       "-iFvYhgysvjkxckCr42NRw  1.005595  1.001689  1.002400  1.002670  "
      ]
     },
     "execution_count": 279,
     "metadata": {},
     "output_type": "execute_result"
    }
   ],
   "source": [
    "business_with_corr = pd.concat([df_business, corr_df], axis = 1)\n",
    "business_with_corr.head(50)"
   ]
  },
  {
   "cell_type": "code",
   "execution_count": 280,
   "metadata": {},
   "outputs": [
    {
     "name": "stdout",
     "output_type": "stream",
     "text": [
      "TOP RESTAURANTS FOR FACTOR 1:\n",
      "    Tacos & Beer\n",
      "    Carson Kitchen\n",
      "    Lucki Thai\n",
      "    Mr Mamas\n",
      "    Rollin Smoke Barbeque\n",
      "\n",
      "TOP RESTAURANTS FOR FACTOR 2:\n",
      "    Chubby Cattle\n",
      "    Sidestreet Pho and Grill\n",
      "    Echo & Rig\n",
      "    Other Mama\n",
      "    Baguette Cafe\n",
      "\n",
      "TOP RESTAURANTS FOR FACTOR 3:\n",
      "    Soho SushiBurrito\n",
      "    Mr Mamas\n",
      "    Yum Cha\n",
      "    Urban Crawfish Station\n",
      "    Brew Tea Bar\n",
      "\n",
      "TOP RESTAURANTS FOR FACTOR 4:\n",
      "    Bruxie\n",
      "    Pier 215\n",
      "    SkinnyFATS\n",
      "    Mr Mamas\n",
      "    Tournament of Kings\n",
      "\n",
      "TOP RESTAURANTS FOR FACTOR 5:\n",
      "    Egg & I\n",
      "    Hash House A Go Go\n",
      "    Secret Pizza\n",
      "    Juan's Flaming Fajitas & Cantina\n",
      "    Pho D'licious\n",
      "\n",
      "TOP RESTAURANTS FOR FACTOR 6:\n",
      "    SkinnyFATS\n",
      "    Mon Ami Gabi\n",
      "    Shang Artisan Noodle\n",
      "    Nittaya's Secret Kitchen\n",
      "    Buddy V's Ristorante\n",
      "\n",
      "TOP RESTAURANTS FOR FACTOR 7:\n",
      "    Yardbird Southern Table & Bar\n",
      "    Soyo Korean Barstaurant\n",
      "    Gangnam Asian BBQ Dining\n",
      "    SkinnyFATS\n",
      "    Pinches Tacos\n",
      "\n"
     ]
    },
    {
     "name": "stderr",
     "output_type": "stream",
     "text": [
      "/anaconda/envs/gl-env/lib/python2.7/site-packages/ipykernel/__main__.py:3: FutureWarning: sort(columns=....) is deprecated, use sort_values(by=.....)\n",
      "  app.launch_new_instance()\n"
     ]
    }
   ],
   "source": [
    "for i in xrange(1, 8):\n",
    "    print \"TOP RESTAURANTS FOR FACTOR {0}:\".format(i)\n",
    "    top_five_restaurant = business_with_corr.sort([i], ascending=False)['name'][:5]\n",
    "    print '    ' + '\\n    '.join(top_five_restaurant)\n",
    "    print"
   ]
  },
  {
   "cell_type": "code",
   "execution_count": 281,
   "metadata": {},
   "outputs": [
    {
     "name": "stdout",
     "output_type": "stream",
     "text": [
      "TOP RESTAURANTS FOR FACTOR 1:\n",
      "    [Restaurants, Cocktail Bars, Latin American, Mexican, Nightlife, Bars, Tapas/Small Plates]\n",
      "    [Gastropubs, Burgers, Desserts, Vegan, Food, Seafood, Comfort Food, Restaurants, American (New), Tapas/Small Plates, Salad]\n",
      "    [Restaurants, Local Flavor, Thai]\n",
      "    [Burgers, American (Traditional), Sandwiches, Breakfast & Brunch, Restaurants]\n",
      "    [Barbeque, Soul Food, Burgers, Restaurants]\n",
      "\n",
      "TOP RESTAURANTS FOR FACTOR 2:\n",
      "    [Food, Chinese, Hot Pot, Fondue, Mongolian, Do-It-Yourself Food, Barbeque, Restaurants]\n",
      "    [Restaurants, American (Traditional), Vietnamese]\n",
      "    [Steakhouses, Restaurants]\n",
      "    [Sushi Bars, Cocktail Bars, Seafood, Live/Raw Food, Nightlife, Bars, Restaurants]\n",
      "    [Delis, Food, Sandwiches, Breakfast & Brunch, Restaurants, Cafes, Coffee & Tea, French, Vegan]\n",
      "\n",
      "TOP RESTAURANTS FOR FACTOR 3:\n",
      "    [Mexican, Asian Fusion, Restaurants, Japanese]\n",
      "    [Burgers, American (Traditional), Sandwiches, Breakfast & Brunch, Restaurants]\n",
      "    [Chinese, Dim Sum, Hot Pot, Restaurants]\n",
      "    [Seafood, Cajun/Creole, Restaurants, Vietnamese, American (Traditional)]\n",
      "    [Bubble Tea, Desserts, Tea Rooms, Cafes, Restaurants, Food]\n",
      "\n",
      "TOP RESTAURANTS FOR FACTOR 4:\n",
      "    [Food, Waffles, Breakfast & Brunch, Sandwiches, Restaurants, Desserts]\n",
      "    [Sushi Bars, Japanese, Restaurants, American (New), American (Traditional), Seafood, Asian Fusion]\n",
      "    [Delis, Food, Breakfast & Brunch, American (New), American (Traditional), Food Delivery Services, Juice Bars & Smoothies, Restaurants]\n",
      "    [Burgers, American (Traditional), Sandwiches, Breakfast & Brunch, Restaurants]\n",
      "    [Restaurants, Casinos, Musicians, Arts & Entertainment, Event Planning & Services]\n",
      "\n",
      "TOP RESTAURANTS FOR FACTOR 5:\n",
      "    [Breakfast & Brunch, American (Traditional), Sandwiches, Restaurants, Burgers, Pizza]\n",
      "    [American (New), Restaurants, Breakfast & Brunch]\n",
      "    [Pizza, Restaurants]\n",
      "    [Nightlife, Bars, Restaurants, Mexican]\n",
      "    [Soup, Vietnamese, Restaurants]\n",
      "\n",
      "TOP RESTAURANTS FOR FACTOR 6:\n",
      "    [Delis, Food, Breakfast & Brunch, American (New), American (Traditional), Food Delivery Services, Juice Bars & Smoothies, Restaurants]\n",
      "    [French, Steakhouses, Breakfast & Brunch, Restaurants]\n",
      "    [Chinese, Restaurants, Soup, Noodles, Asian Fusion]\n",
      "    [Thai, Restaurants]\n",
      "    [Restaurants, American (Traditional), Italian]\n",
      "\n",
      "TOP RESTAURANTS FOR FACTOR 7:\n",
      "    [Restaurants, Southern, American (New)]\n",
      "    [Bars, Restaurants, Nightlife, Korean, Barbeque]\n",
      "    [Restaurants, Barbeque, Asian Fusion, Japanese, Tapas/Small Plates, Korean]\n",
      "    [Breakfast & Brunch, Restaurants, Food, Juice Bars & Smoothies, American (New)]\n",
      "    [Bars, Mexican, Nightlife, Restaurants]\n",
      "\n"
     ]
    },
    {
     "name": "stderr",
     "output_type": "stream",
     "text": [
      "/anaconda/envs/gl-env/lib/python2.7/site-packages/ipykernel/__main__.py:3: FutureWarning: sort(columns=....) is deprecated, use sort_values(by=.....)\n",
      "  app.launch_new_instance()\n"
     ]
    }
   ],
   "source": [
    "for i in xrange(1, 8):\n",
    "    print \"TOP RESTAURANTS FOR FACTOR {0}:\".format(i)\n",
    "    top_five_restaurant = business_with_corr.sort([i], ascending=False)['categories'][:5]\n",
    "    print '    ' + '\\n    '.join(top_five_restaurant)\n",
    "    print"
   ]
  },
  {
   "cell_type": "markdown",
   "metadata": {},
   "source": [
    "## 4. Other recommenders (optional)\n",
    "\n",
    "What are other ways you can build a better recommender?\n",
    "\n",
    "* Other features (have you noticed there are other features in the Yelp dataset, e.g. tips, etc.?)\n",
    "* Popularity-based\n",
    "* Content-based\n",
    "* Hybrid"
   ]
  },
  {
   "cell_type": "markdown",
   "metadata": {
    "collapsed": true
   },
   "source": [
    "## 4.1 Content based recommender"
   ]
  },
  {
   "cell_type": "markdown",
   "metadata": {},
   "source": [
    "### Extract some feature for recommender"
   ]
  },
  {
   "cell_type": "code",
   "execution_count": 282,
   "metadata": {},
   "outputs": [
    {
     "data": {
      "text/html": [
       "<div>\n",
       "<table border=\"1\" class=\"dataframe\">\n",
       "  <thead>\n",
       "    <tr style=\"text-align: right;\">\n",
       "      <th></th>\n",
       "      <th>ave_stars</th>\n",
       "      <th>cool</th>\n",
       "      <th>funny</th>\n",
       "      <th>stars</th>\n",
       "      <th>useful</th>\n",
       "    </tr>\n",
       "    <tr>\n",
       "      <th>business_id</th>\n",
       "      <th></th>\n",
       "      <th></th>\n",
       "      <th></th>\n",
       "      <th></th>\n",
       "      <th></th>\n",
       "    </tr>\n",
       "  </thead>\n",
       "  <tbody>\n",
       "    <tr>\n",
       "      <th>--9e1ONYQuAa-CB_Rrw7Tw</th>\n",
       "      <td>4.0</td>\n",
       "      <td>0.708000</td>\n",
       "      <td>0.452000</td>\n",
       "      <td>4.076000</td>\n",
       "      <td>0.968000</td>\n",
       "    </tr>\n",
       "    <tr>\n",
       "      <th>-3zffZUHoY8bQjGfPSoBKQ</th>\n",
       "      <td>4.0</td>\n",
       "      <td>0.382022</td>\n",
       "      <td>0.337079</td>\n",
       "      <td>3.943820</td>\n",
       "      <td>0.887640</td>\n",
       "    </tr>\n",
       "    <tr>\n",
       "      <th>-8R_-EkGpUhBk55K9Dd4mg</th>\n",
       "      <td>3.5</td>\n",
       "      <td>1.032258</td>\n",
       "      <td>0.967742</td>\n",
       "      <td>3.806452</td>\n",
       "      <td>1.129032</td>\n",
       "    </tr>\n",
       "    <tr>\n",
       "      <th>-9YyInW1wapzdNZrhQJ9dg</th>\n",
       "      <td>2.5</td>\n",
       "      <td>0.191489</td>\n",
       "      <td>0.127660</td>\n",
       "      <td>2.468085</td>\n",
       "      <td>0.468085</td>\n",
       "    </tr>\n",
       "    <tr>\n",
       "      <th>-AD5PiuJHgdUcAK-Vxao2A</th>\n",
       "      <td>3.5</td>\n",
       "      <td>0.657895</td>\n",
       "      <td>0.394737</td>\n",
       "      <td>3.894737</td>\n",
       "      <td>0.710526</td>\n",
       "    </tr>\n",
       "  </tbody>\n",
       "</table>\n",
       "</div>"
      ],
      "text/plain": [
       "                        ave_stars      cool     funny     stars    useful\n",
       "business_id                                                              \n",
       "--9e1ONYQuAa-CB_Rrw7Tw        4.0  0.708000  0.452000  4.076000  0.968000\n",
       "-3zffZUHoY8bQjGfPSoBKQ        4.0  0.382022  0.337079  3.943820  0.887640\n",
       "-8R_-EkGpUhBk55K9Dd4mg        3.5  1.032258  0.967742  3.806452  1.129032\n",
       "-9YyInW1wapzdNZrhQJ9dg        2.5  0.191489  0.127660  2.468085  0.468085\n",
       "-AD5PiuJHgdUcAK-Vxao2A        3.5  0.657895  0.394737  3.894737  0.710526"
      ]
     },
     "execution_count": 282,
     "metadata": {},
     "output_type": "execute_result"
    }
   ],
   "source": [
    "# Group dataframe by business_id, then average numberical features\n",
    "df_average = df.groupby(['business_id']).mean()\n",
    "df_average.head()"
   ]
  },
  {
   "cell_type": "code",
   "execution_count": 283,
   "metadata": {},
   "outputs": [
    {
     "data": {
      "text/plain": [
       "business_id\n",
       "--9e1ONYQuAa-CB_Rrw7Tw           [[Steakhouses, Cajun/Creole, Restaurants]]\n",
       "-3zffZUHoY8bQjGfPSoBKQ    [[Seafood, Bars, Nightlife, American (New), Re...\n",
       "-8R_-EkGpUhBk55K9Dd4mg                                [[Restaurants, Thai]]\n",
       "-9YyInW1wapzdNZrhQJ9dg                             [[Buffets, Restaurants]]\n",
       "-AD5PiuJHgdUcAK-Vxao2A                             [[Burgers, Restaurants]]\n",
       "Name: categories, dtype: object"
      ]
     },
     "execution_count": 283,
     "metadata": {},
     "output_type": "execute_result"
    }
   ],
   "source": [
    "# Group by business_id, extract category data\n",
    "categories_series = df.groupby(['business_id']).categories.apply(np.unique)\n",
    "categories_series.head()"
   ]
  },
  {
   "cell_type": "code",
   "execution_count": 284,
   "metadata": {},
   "outputs": [],
   "source": [
    "# Convert category data to string and remove '[]'\n",
    "categories_series = categories_series.str.join('').apply(lambda x: x[1:-1])"
   ]
  },
  {
   "cell_type": "code",
   "execution_count": 285,
   "metadata": {},
   "outputs": [],
   "source": [
    "# generate business_id, categories table\n",
    "from sklearn.feature_extraction.text import CountVectorizer\n",
    "\n",
    "vectorizer = CountVectorizer()\n",
    "categories_mat = vectorizer.fit_transform(categories_series).toarray()\n",
    "categories = vectorizer.get_feature_names()\n",
    "df_categories = pd.DataFrame(categories_mat,\n",
    "                             columns = categories,\n",
    "                             index = categories_series.index)"
   ]
  },
  {
   "cell_type": "code",
   "execution_count": 286,
   "metadata": {},
   "outputs": [
    {
     "data": {
      "text/html": [
       "<div>\n",
       "<table border=\"1\" class=\"dataframe\">\n",
       "  <thead>\n",
       "    <tr style=\"text-align: right;\">\n",
       "      <th></th>\n",
       "      <th>acai</th>\n",
       "      <th>active</th>\n",
       "      <th>activities</th>\n",
       "      <th>acupuncture</th>\n",
       "      <th>adult</th>\n",
       "      <th>afghan</th>\n",
       "      <th>african</th>\n",
       "      <th>air</th>\n",
       "      <th>aircraft</th>\n",
       "      <th>airport</th>\n",
       "      <th>...</th>\n",
       "      <th>wedding</th>\n",
       "      <th>weight</th>\n",
       "      <th>windshield</th>\n",
       "      <th>wine</th>\n",
       "      <th>wineries</th>\n",
       "      <th>wings</th>\n",
       "      <th>women</th>\n",
       "      <th>wraps</th>\n",
       "      <th>yogurt</th>\n",
       "      <th>yourself</th>\n",
       "    </tr>\n",
       "    <tr>\n",
       "      <th>business_id</th>\n",
       "      <th></th>\n",
       "      <th></th>\n",
       "      <th></th>\n",
       "      <th></th>\n",
       "      <th></th>\n",
       "      <th></th>\n",
       "      <th></th>\n",
       "      <th></th>\n",
       "      <th></th>\n",
       "      <th></th>\n",
       "      <th></th>\n",
       "      <th></th>\n",
       "      <th></th>\n",
       "      <th></th>\n",
       "      <th></th>\n",
       "      <th></th>\n",
       "      <th></th>\n",
       "      <th></th>\n",
       "      <th></th>\n",
       "      <th></th>\n",
       "      <th></th>\n",
       "    </tr>\n",
       "  </thead>\n",
       "  <tbody>\n",
       "    <tr>\n",
       "      <th>--9e1ONYQuAa-CB_Rrw7Tw</th>\n",
       "      <td>0</td>\n",
       "      <td>0</td>\n",
       "      <td>0</td>\n",
       "      <td>0</td>\n",
       "      <td>0</td>\n",
       "      <td>0</td>\n",
       "      <td>0</td>\n",
       "      <td>0</td>\n",
       "      <td>0</td>\n",
       "      <td>0</td>\n",
       "      <td>...</td>\n",
       "      <td>0</td>\n",
       "      <td>0</td>\n",
       "      <td>0</td>\n",
       "      <td>0</td>\n",
       "      <td>0</td>\n",
       "      <td>0</td>\n",
       "      <td>0</td>\n",
       "      <td>0</td>\n",
       "      <td>0</td>\n",
       "      <td>0</td>\n",
       "    </tr>\n",
       "    <tr>\n",
       "      <th>-3zffZUHoY8bQjGfPSoBKQ</th>\n",
       "      <td>0</td>\n",
       "      <td>0</td>\n",
       "      <td>0</td>\n",
       "      <td>0</td>\n",
       "      <td>0</td>\n",
       "      <td>0</td>\n",
       "      <td>0</td>\n",
       "      <td>0</td>\n",
       "      <td>0</td>\n",
       "      <td>0</td>\n",
       "      <td>...</td>\n",
       "      <td>0</td>\n",
       "      <td>0</td>\n",
       "      <td>0</td>\n",
       "      <td>0</td>\n",
       "      <td>0</td>\n",
       "      <td>0</td>\n",
       "      <td>0</td>\n",
       "      <td>0</td>\n",
       "      <td>0</td>\n",
       "      <td>0</td>\n",
       "    </tr>\n",
       "    <tr>\n",
       "      <th>-8R_-EkGpUhBk55K9Dd4mg</th>\n",
       "      <td>0</td>\n",
       "      <td>0</td>\n",
       "      <td>0</td>\n",
       "      <td>0</td>\n",
       "      <td>0</td>\n",
       "      <td>0</td>\n",
       "      <td>0</td>\n",
       "      <td>0</td>\n",
       "      <td>0</td>\n",
       "      <td>0</td>\n",
       "      <td>...</td>\n",
       "      <td>0</td>\n",
       "      <td>0</td>\n",
       "      <td>0</td>\n",
       "      <td>0</td>\n",
       "      <td>0</td>\n",
       "      <td>0</td>\n",
       "      <td>0</td>\n",
       "      <td>0</td>\n",
       "      <td>0</td>\n",
       "      <td>0</td>\n",
       "    </tr>\n",
       "    <tr>\n",
       "      <th>-9YyInW1wapzdNZrhQJ9dg</th>\n",
       "      <td>0</td>\n",
       "      <td>0</td>\n",
       "      <td>0</td>\n",
       "      <td>0</td>\n",
       "      <td>0</td>\n",
       "      <td>0</td>\n",
       "      <td>0</td>\n",
       "      <td>0</td>\n",
       "      <td>0</td>\n",
       "      <td>0</td>\n",
       "      <td>...</td>\n",
       "      <td>0</td>\n",
       "      <td>0</td>\n",
       "      <td>0</td>\n",
       "      <td>0</td>\n",
       "      <td>0</td>\n",
       "      <td>0</td>\n",
       "      <td>0</td>\n",
       "      <td>0</td>\n",
       "      <td>0</td>\n",
       "      <td>0</td>\n",
       "    </tr>\n",
       "    <tr>\n",
       "      <th>-AD5PiuJHgdUcAK-Vxao2A</th>\n",
       "      <td>0</td>\n",
       "      <td>0</td>\n",
       "      <td>0</td>\n",
       "      <td>0</td>\n",
       "      <td>0</td>\n",
       "      <td>0</td>\n",
       "      <td>0</td>\n",
       "      <td>0</td>\n",
       "      <td>0</td>\n",
       "      <td>0</td>\n",
       "      <td>...</td>\n",
       "      <td>0</td>\n",
       "      <td>0</td>\n",
       "      <td>0</td>\n",
       "      <td>0</td>\n",
       "      <td>0</td>\n",
       "      <td>0</td>\n",
       "      <td>0</td>\n",
       "      <td>0</td>\n",
       "      <td>0</td>\n",
       "      <td>0</td>\n",
       "    </tr>\n",
       "  </tbody>\n",
       "</table>\n",
       "<p>5 rows × 434 columns</p>\n",
       "</div>"
      ],
      "text/plain": [
       "                        acai  active  activities  acupuncture  adult  afghan  \\\n",
       "business_id                                                                    \n",
       "--9e1ONYQuAa-CB_Rrw7Tw     0       0           0            0      0       0   \n",
       "-3zffZUHoY8bQjGfPSoBKQ     0       0           0            0      0       0   \n",
       "-8R_-EkGpUhBk55K9Dd4mg     0       0           0            0      0       0   \n",
       "-9YyInW1wapzdNZrhQJ9dg     0       0           0            0      0       0   \n",
       "-AD5PiuJHgdUcAK-Vxao2A     0       0           0            0      0       0   \n",
       "\n",
       "                        african  air  aircraft  airport    ...     wedding  \\\n",
       "business_id                                                ...               \n",
       "--9e1ONYQuAa-CB_Rrw7Tw        0    0         0        0    ...           0   \n",
       "-3zffZUHoY8bQjGfPSoBKQ        0    0         0        0    ...           0   \n",
       "-8R_-EkGpUhBk55K9Dd4mg        0    0         0        0    ...           0   \n",
       "-9YyInW1wapzdNZrhQJ9dg        0    0         0        0    ...           0   \n",
       "-AD5PiuJHgdUcAK-Vxao2A        0    0         0        0    ...           0   \n",
       "\n",
       "                        weight  windshield  wine  wineries  wings  women  \\\n",
       "business_id                                                                \n",
       "--9e1ONYQuAa-CB_Rrw7Tw       0           0     0         0      0      0   \n",
       "-3zffZUHoY8bQjGfPSoBKQ       0           0     0         0      0      0   \n",
       "-8R_-EkGpUhBk55K9Dd4mg       0           0     0         0      0      0   \n",
       "-9YyInW1wapzdNZrhQJ9dg       0           0     0         0      0      0   \n",
       "-AD5PiuJHgdUcAK-Vxao2A       0           0     0         0      0      0   \n",
       "\n",
       "                        wraps  yogurt  yourself  \n",
       "business_id                                      \n",
       "--9e1ONYQuAa-CB_Rrw7Tw      0       0         0  \n",
       "-3zffZUHoY8bQjGfPSoBKQ      0       0         0  \n",
       "-8R_-EkGpUhBk55K9Dd4mg      0       0         0  \n",
       "-9YyInW1wapzdNZrhQJ9dg      0       0         0  \n",
       "-AD5PiuJHgdUcAK-Vxao2A      0       0         0  \n",
       "\n",
       "[5 rows x 434 columns]"
      ]
     },
     "execution_count": 286,
     "metadata": {},
     "output_type": "execute_result"
    }
   ],
   "source": [
    "df_categories.head()"
   ]
  },
  {
   "cell_type": "code",
   "execution_count": 287,
   "metadata": {},
   "outputs": [],
   "source": [
    "# use svd to reduce dimension\n",
    "from sklearn.decomposition import TruncatedSVD\n",
    "svd = TruncatedSVD(n_components = 150,\n",
    "                   random_state = 42)\n",
    "\n",
    "svd.fit(categories_mat)\n",
    "categories_svd = svd.transform(categories_mat)\n",
    "df_categories_svd = pd.DataFrame(categories_svd,\n",
    "                                 index = categories_series.index)"
   ]
  },
  {
   "cell_type": "code",
   "execution_count": 288,
   "metadata": {},
   "outputs": [
    {
     "name": "stdout",
     "output_type": "stream",
     "text": [
      "0.980070322229\n"
     ]
    }
   ],
   "source": [
    "print(svd.explained_variance_ratio_.sum())"
   ]
  },
  {
   "cell_type": "code",
   "execution_count": 289,
   "metadata": {},
   "outputs": [
    {
     "data": {
      "text/plain": [
       "(4290, 150)"
      ]
     },
     "execution_count": 289,
     "metadata": {},
     "output_type": "execute_result"
    }
   ],
   "source": [
    "df_categories_svd.shape # dimension reduced from 4290*434 to 4290*150"
   ]
  },
  {
   "cell_type": "code",
   "execution_count": 290,
   "metadata": {},
   "outputs": [
    {
     "data": {
      "text/html": [
       "<div>\n",
       "<table border=\"1\" class=\"dataframe\">\n",
       "  <thead>\n",
       "    <tr style=\"text-align: right;\">\n",
       "      <th></th>\n",
       "      <th>0</th>\n",
       "      <th>1</th>\n",
       "      <th>2</th>\n",
       "      <th>3</th>\n",
       "      <th>4</th>\n",
       "      <th>5</th>\n",
       "      <th>6</th>\n",
       "      <th>7</th>\n",
       "      <th>8</th>\n",
       "      <th>9</th>\n",
       "      <th>...</th>\n",
       "      <th>140</th>\n",
       "      <th>141</th>\n",
       "      <th>142</th>\n",
       "      <th>143</th>\n",
       "      <th>144</th>\n",
       "      <th>145</th>\n",
       "      <th>146</th>\n",
       "      <th>147</th>\n",
       "      <th>148</th>\n",
       "      <th>149</th>\n",
       "    </tr>\n",
       "    <tr>\n",
       "      <th>business_id</th>\n",
       "      <th></th>\n",
       "      <th></th>\n",
       "      <th></th>\n",
       "      <th></th>\n",
       "      <th></th>\n",
       "      <th></th>\n",
       "      <th></th>\n",
       "      <th></th>\n",
       "      <th></th>\n",
       "      <th></th>\n",
       "      <th></th>\n",
       "      <th></th>\n",
       "      <th></th>\n",
       "      <th></th>\n",
       "      <th></th>\n",
       "      <th></th>\n",
       "      <th></th>\n",
       "      <th></th>\n",
       "      <th></th>\n",
       "      <th></th>\n",
       "      <th></th>\n",
       "    </tr>\n",
       "  </thead>\n",
       "  <tbody>\n",
       "    <tr>\n",
       "      <th>--9e1ONYQuAa-CB_Rrw7Tw</th>\n",
       "      <td>0.732487</td>\n",
       "      <td>0.032028</td>\n",
       "      <td>-0.445912</td>\n",
       "      <td>-0.442262</td>\n",
       "      <td>0.020893</td>\n",
       "      <td>0.023835</td>\n",
       "      <td>0.058697</td>\n",
       "      <td>-0.088260</td>\n",
       "      <td>0.069225</td>\n",
       "      <td>0.014874</td>\n",
       "      <td>...</td>\n",
       "      <td>0.005567</td>\n",
       "      <td>-0.008480</td>\n",
       "      <td>-0.011025</td>\n",
       "      <td>0.010087</td>\n",
       "      <td>0.005673</td>\n",
       "      <td>-0.000463</td>\n",
       "      <td>0.000991</td>\n",
       "      <td>-0.001386</td>\n",
       "      <td>0.003687</td>\n",
       "      <td>-0.007074</td>\n",
       "    </tr>\n",
       "    <tr>\n",
       "      <th>-3zffZUHoY8bQjGfPSoBKQ</th>\n",
       "      <td>1.504760</td>\n",
       "      <td>1.349941</td>\n",
       "      <td>-0.021226</td>\n",
       "      <td>0.190350</td>\n",
       "      <td>-0.053634</td>\n",
       "      <td>-0.214272</td>\n",
       "      <td>0.145854</td>\n",
       "      <td>-0.246307</td>\n",
       "      <td>-0.064435</td>\n",
       "      <td>0.442586</td>\n",
       "      <td>...</td>\n",
       "      <td>-0.001815</td>\n",
       "      <td>-0.006899</td>\n",
       "      <td>0.009880</td>\n",
       "      <td>-0.010901</td>\n",
       "      <td>-0.006984</td>\n",
       "      <td>-0.007075</td>\n",
       "      <td>0.007490</td>\n",
       "      <td>-0.005966</td>\n",
       "      <td>0.003784</td>\n",
       "      <td>-0.006221</td>\n",
       "    </tr>\n",
       "    <tr>\n",
       "      <th>-8R_-EkGpUhBk55K9Dd4mg</th>\n",
       "      <td>0.710578</td>\n",
       "      <td>-0.002280</td>\n",
       "      <td>-0.434966</td>\n",
       "      <td>-0.459939</td>\n",
       "      <td>0.007637</td>\n",
       "      <td>0.048606</td>\n",
       "      <td>0.059165</td>\n",
       "      <td>-0.089667</td>\n",
       "      <td>0.091043</td>\n",
       "      <td>0.014492</td>\n",
       "      <td>...</td>\n",
       "      <td>0.003271</td>\n",
       "      <td>0.006873</td>\n",
       "      <td>0.002345</td>\n",
       "      <td>0.004455</td>\n",
       "      <td>-0.002428</td>\n",
       "      <td>-0.003660</td>\n",
       "      <td>-0.002009</td>\n",
       "      <td>-0.004955</td>\n",
       "      <td>-0.008658</td>\n",
       "      <td>0.000727</td>\n",
       "    </tr>\n",
       "    <tr>\n",
       "      <th>-9YyInW1wapzdNZrhQJ9dg</th>\n",
       "      <td>0.708491</td>\n",
       "      <td>0.005988</td>\n",
       "      <td>-0.443182</td>\n",
       "      <td>-0.448346</td>\n",
       "      <td>0.011075</td>\n",
       "      <td>0.043483</td>\n",
       "      <td>0.047636</td>\n",
       "      <td>-0.060967</td>\n",
       "      <td>0.063944</td>\n",
       "      <td>-0.000810</td>\n",
       "      <td>...</td>\n",
       "      <td>-0.005475</td>\n",
       "      <td>0.003348</td>\n",
       "      <td>0.000573</td>\n",
       "      <td>0.004982</td>\n",
       "      <td>-0.004061</td>\n",
       "      <td>-0.000410</td>\n",
       "      <td>-0.000659</td>\n",
       "      <td>-0.002432</td>\n",
       "      <td>0.001436</td>\n",
       "      <td>0.004065</td>\n",
       "    </tr>\n",
       "    <tr>\n",
       "      <th>-AD5PiuJHgdUcAK-Vxao2A</th>\n",
       "      <td>0.779717</td>\n",
       "      <td>-0.031322</td>\n",
       "      <td>-0.484934</td>\n",
       "      <td>-0.373118</td>\n",
       "      <td>-0.154669</td>\n",
       "      <td>-0.124383</td>\n",
       "      <td>-0.116538</td>\n",
       "      <td>0.229945</td>\n",
       "      <td>0.256788</td>\n",
       "      <td>-0.198890</td>\n",
       "      <td>...</td>\n",
       "      <td>-0.003176</td>\n",
       "      <td>-0.004256</td>\n",
       "      <td>-0.002775</td>\n",
       "      <td>0.002641</td>\n",
       "      <td>-0.005717</td>\n",
       "      <td>-0.003593</td>\n",
       "      <td>0.000553</td>\n",
       "      <td>-0.001520</td>\n",
       "      <td>0.005865</td>\n",
       "      <td>0.003556</td>\n",
       "    </tr>\n",
       "  </tbody>\n",
       "</table>\n",
       "<p>5 rows × 150 columns</p>\n",
       "</div>"
      ],
      "text/plain": [
       "                             0         1         2         3         4    \\\n",
       "business_id                                                                \n",
       "--9e1ONYQuAa-CB_Rrw7Tw  0.732487  0.032028 -0.445912 -0.442262  0.020893   \n",
       "-3zffZUHoY8bQjGfPSoBKQ  1.504760  1.349941 -0.021226  0.190350 -0.053634   \n",
       "-8R_-EkGpUhBk55K9Dd4mg  0.710578 -0.002280 -0.434966 -0.459939  0.007637   \n",
       "-9YyInW1wapzdNZrhQJ9dg  0.708491  0.005988 -0.443182 -0.448346  0.011075   \n",
       "-AD5PiuJHgdUcAK-Vxao2A  0.779717 -0.031322 -0.484934 -0.373118 -0.154669   \n",
       "\n",
       "                             5         6         7         8         9    \\\n",
       "business_id                                                                \n",
       "--9e1ONYQuAa-CB_Rrw7Tw  0.023835  0.058697 -0.088260  0.069225  0.014874   \n",
       "-3zffZUHoY8bQjGfPSoBKQ -0.214272  0.145854 -0.246307 -0.064435  0.442586   \n",
       "-8R_-EkGpUhBk55K9Dd4mg  0.048606  0.059165 -0.089667  0.091043  0.014492   \n",
       "-9YyInW1wapzdNZrhQJ9dg  0.043483  0.047636 -0.060967  0.063944 -0.000810   \n",
       "-AD5PiuJHgdUcAK-Vxao2A -0.124383 -0.116538  0.229945  0.256788 -0.198890   \n",
       "\n",
       "                          ...          140       141       142       143  \\\n",
       "business_id               ...                                              \n",
       "--9e1ONYQuAa-CB_Rrw7Tw    ...     0.005567 -0.008480 -0.011025  0.010087   \n",
       "-3zffZUHoY8bQjGfPSoBKQ    ...    -0.001815 -0.006899  0.009880 -0.010901   \n",
       "-8R_-EkGpUhBk55K9Dd4mg    ...     0.003271  0.006873  0.002345  0.004455   \n",
       "-9YyInW1wapzdNZrhQJ9dg    ...    -0.005475  0.003348  0.000573  0.004982   \n",
       "-AD5PiuJHgdUcAK-Vxao2A    ...    -0.003176 -0.004256 -0.002775  0.002641   \n",
       "\n",
       "                             144       145       146       147       148  \\\n",
       "business_id                                                                \n",
       "--9e1ONYQuAa-CB_Rrw7Tw  0.005673 -0.000463  0.000991 -0.001386  0.003687   \n",
       "-3zffZUHoY8bQjGfPSoBKQ -0.006984 -0.007075  0.007490 -0.005966  0.003784   \n",
       "-8R_-EkGpUhBk55K9Dd4mg -0.002428 -0.003660 -0.002009 -0.004955 -0.008658   \n",
       "-9YyInW1wapzdNZrhQJ9dg -0.004061 -0.000410 -0.000659 -0.002432  0.001436   \n",
       "-AD5PiuJHgdUcAK-Vxao2A -0.005717 -0.003593  0.000553 -0.001520  0.005865   \n",
       "\n",
       "                             149  \n",
       "business_id                       \n",
       "--9e1ONYQuAa-CB_Rrw7Tw -0.007074  \n",
       "-3zffZUHoY8bQjGfPSoBKQ -0.006221  \n",
       "-8R_-EkGpUhBk55K9Dd4mg  0.000727  \n",
       "-9YyInW1wapzdNZrhQJ9dg  0.004065  \n",
       "-AD5PiuJHgdUcAK-Vxao2A  0.003556  \n",
       "\n",
       "[5 rows x 150 columns]"
      ]
     },
     "execution_count": 290,
     "metadata": {},
     "output_type": "execute_result"
    }
   ],
   "source": [
    "df_categories_svd.head()"
   ]
  },
  {
   "cell_type": "code",
   "execution_count": 291,
   "metadata": {},
   "outputs": [
    {
     "name": "stdout",
     "output_type": "stream",
     "text": [
      "df_average : (4290, 5)\n",
      "df_categories:  (4290, 434)\n",
      "df_categories_svd (4290, 150)\n"
     ]
    }
   ],
   "source": [
    "# Display feature matrix dimensions\n",
    "\n",
    "print 'df_average :', df_average.shape\n",
    "print 'df_categories: ', df_categories.shape\n",
    "print 'df_categories_svd', df_categories_svd.shape"
   ]
  },
  {
   "cell_type": "code",
   "execution_count": 292,
   "metadata": {
    "collapsed": true
   },
   "outputs": [],
   "source": [
    "# Join numerical and categorical features for each business_id\n",
    "df_business = df_average.join(df_categories_svd)"
   ]
  },
  {
   "cell_type": "code",
   "execution_count": 293,
   "metadata": {},
   "outputs": [
    {
     "name": "stdout",
     "output_type": "stream",
     "text": [
      "(4290, 155)\n"
     ]
    },
    {
     "data": {
      "text/html": [
       "<div>\n",
       "<table border=\"1\" class=\"dataframe\">\n",
       "  <thead>\n",
       "    <tr style=\"text-align: right;\">\n",
       "      <th></th>\n",
       "      <th>ave_stars</th>\n",
       "      <th>cool</th>\n",
       "      <th>funny</th>\n",
       "      <th>stars</th>\n",
       "      <th>useful</th>\n",
       "      <th>0</th>\n",
       "      <th>1</th>\n",
       "      <th>2</th>\n",
       "      <th>3</th>\n",
       "      <th>4</th>\n",
       "      <th>...</th>\n",
       "      <th>140</th>\n",
       "      <th>141</th>\n",
       "      <th>142</th>\n",
       "      <th>143</th>\n",
       "      <th>144</th>\n",
       "      <th>145</th>\n",
       "      <th>146</th>\n",
       "      <th>147</th>\n",
       "      <th>148</th>\n",
       "      <th>149</th>\n",
       "    </tr>\n",
       "    <tr>\n",
       "      <th>business_id</th>\n",
       "      <th></th>\n",
       "      <th></th>\n",
       "      <th></th>\n",
       "      <th></th>\n",
       "      <th></th>\n",
       "      <th></th>\n",
       "      <th></th>\n",
       "      <th></th>\n",
       "      <th></th>\n",
       "      <th></th>\n",
       "      <th></th>\n",
       "      <th></th>\n",
       "      <th></th>\n",
       "      <th></th>\n",
       "      <th></th>\n",
       "      <th></th>\n",
       "      <th></th>\n",
       "      <th></th>\n",
       "      <th></th>\n",
       "      <th></th>\n",
       "      <th></th>\n",
       "    </tr>\n",
       "  </thead>\n",
       "  <tbody>\n",
       "    <tr>\n",
       "      <th>--9e1ONYQuAa-CB_Rrw7Tw</th>\n",
       "      <td>4.0</td>\n",
       "      <td>0.708000</td>\n",
       "      <td>0.452000</td>\n",
       "      <td>4.076000</td>\n",
       "      <td>0.968000</td>\n",
       "      <td>0.732487</td>\n",
       "      <td>0.032028</td>\n",
       "      <td>-0.445912</td>\n",
       "      <td>-0.442262</td>\n",
       "      <td>0.020893</td>\n",
       "      <td>...</td>\n",
       "      <td>0.005567</td>\n",
       "      <td>-0.008480</td>\n",
       "      <td>-0.011025</td>\n",
       "      <td>0.010087</td>\n",
       "      <td>0.005673</td>\n",
       "      <td>-0.000463</td>\n",
       "      <td>0.000991</td>\n",
       "      <td>-0.001386</td>\n",
       "      <td>0.003687</td>\n",
       "      <td>-0.007074</td>\n",
       "    </tr>\n",
       "    <tr>\n",
       "      <th>-3zffZUHoY8bQjGfPSoBKQ</th>\n",
       "      <td>4.0</td>\n",
       "      <td>0.382022</td>\n",
       "      <td>0.337079</td>\n",
       "      <td>3.943820</td>\n",
       "      <td>0.887640</td>\n",
       "      <td>1.504760</td>\n",
       "      <td>1.349941</td>\n",
       "      <td>-0.021226</td>\n",
       "      <td>0.190350</td>\n",
       "      <td>-0.053634</td>\n",
       "      <td>...</td>\n",
       "      <td>-0.001815</td>\n",
       "      <td>-0.006899</td>\n",
       "      <td>0.009880</td>\n",
       "      <td>-0.010901</td>\n",
       "      <td>-0.006984</td>\n",
       "      <td>-0.007075</td>\n",
       "      <td>0.007490</td>\n",
       "      <td>-0.005966</td>\n",
       "      <td>0.003784</td>\n",
       "      <td>-0.006221</td>\n",
       "    </tr>\n",
       "    <tr>\n",
       "      <th>-8R_-EkGpUhBk55K9Dd4mg</th>\n",
       "      <td>3.5</td>\n",
       "      <td>1.032258</td>\n",
       "      <td>0.967742</td>\n",
       "      <td>3.806452</td>\n",
       "      <td>1.129032</td>\n",
       "      <td>0.710578</td>\n",
       "      <td>-0.002280</td>\n",
       "      <td>-0.434966</td>\n",
       "      <td>-0.459939</td>\n",
       "      <td>0.007637</td>\n",
       "      <td>...</td>\n",
       "      <td>0.003271</td>\n",
       "      <td>0.006873</td>\n",
       "      <td>0.002345</td>\n",
       "      <td>0.004455</td>\n",
       "      <td>-0.002428</td>\n",
       "      <td>-0.003660</td>\n",
       "      <td>-0.002009</td>\n",
       "      <td>-0.004955</td>\n",
       "      <td>-0.008658</td>\n",
       "      <td>0.000727</td>\n",
       "    </tr>\n",
       "    <tr>\n",
       "      <th>-9YyInW1wapzdNZrhQJ9dg</th>\n",
       "      <td>2.5</td>\n",
       "      <td>0.191489</td>\n",
       "      <td>0.127660</td>\n",
       "      <td>2.468085</td>\n",
       "      <td>0.468085</td>\n",
       "      <td>0.708491</td>\n",
       "      <td>0.005988</td>\n",
       "      <td>-0.443182</td>\n",
       "      <td>-0.448346</td>\n",
       "      <td>0.011075</td>\n",
       "      <td>...</td>\n",
       "      <td>-0.005475</td>\n",
       "      <td>0.003348</td>\n",
       "      <td>0.000573</td>\n",
       "      <td>0.004982</td>\n",
       "      <td>-0.004061</td>\n",
       "      <td>-0.000410</td>\n",
       "      <td>-0.000659</td>\n",
       "      <td>-0.002432</td>\n",
       "      <td>0.001436</td>\n",
       "      <td>0.004065</td>\n",
       "    </tr>\n",
       "    <tr>\n",
       "      <th>-AD5PiuJHgdUcAK-Vxao2A</th>\n",
       "      <td>3.5</td>\n",
       "      <td>0.657895</td>\n",
       "      <td>0.394737</td>\n",
       "      <td>3.894737</td>\n",
       "      <td>0.710526</td>\n",
       "      <td>0.779717</td>\n",
       "      <td>-0.031322</td>\n",
       "      <td>-0.484934</td>\n",
       "      <td>-0.373118</td>\n",
       "      <td>-0.154669</td>\n",
       "      <td>...</td>\n",
       "      <td>-0.003176</td>\n",
       "      <td>-0.004256</td>\n",
       "      <td>-0.002775</td>\n",
       "      <td>0.002641</td>\n",
       "      <td>-0.005717</td>\n",
       "      <td>-0.003593</td>\n",
       "      <td>0.000553</td>\n",
       "      <td>-0.001520</td>\n",
       "      <td>0.005865</td>\n",
       "      <td>0.003556</td>\n",
       "    </tr>\n",
       "  </tbody>\n",
       "</table>\n",
       "<p>5 rows × 155 columns</p>\n",
       "</div>"
      ],
      "text/plain": [
       "                        ave_stars      cool     funny     stars    useful  \\\n",
       "business_id                                                                 \n",
       "--9e1ONYQuAa-CB_Rrw7Tw        4.0  0.708000  0.452000  4.076000  0.968000   \n",
       "-3zffZUHoY8bQjGfPSoBKQ        4.0  0.382022  0.337079  3.943820  0.887640   \n",
       "-8R_-EkGpUhBk55K9Dd4mg        3.5  1.032258  0.967742  3.806452  1.129032   \n",
       "-9YyInW1wapzdNZrhQJ9dg        2.5  0.191489  0.127660  2.468085  0.468085   \n",
       "-AD5PiuJHgdUcAK-Vxao2A        3.5  0.657895  0.394737  3.894737  0.710526   \n",
       "\n",
       "                               0         1         2         3         4  \\\n",
       "business_id                                                                \n",
       "--9e1ONYQuAa-CB_Rrw7Tw  0.732487  0.032028 -0.445912 -0.442262  0.020893   \n",
       "-3zffZUHoY8bQjGfPSoBKQ  1.504760  1.349941 -0.021226  0.190350 -0.053634   \n",
       "-8R_-EkGpUhBk55K9Dd4mg  0.710578 -0.002280 -0.434966 -0.459939  0.007637   \n",
       "-9YyInW1wapzdNZrhQJ9dg  0.708491  0.005988 -0.443182 -0.448346  0.011075   \n",
       "-AD5PiuJHgdUcAK-Vxao2A  0.779717 -0.031322 -0.484934 -0.373118 -0.154669   \n",
       "\n",
       "                          ...          140       141       142       143  \\\n",
       "business_id               ...                                              \n",
       "--9e1ONYQuAa-CB_Rrw7Tw    ...     0.005567 -0.008480 -0.011025  0.010087   \n",
       "-3zffZUHoY8bQjGfPSoBKQ    ...    -0.001815 -0.006899  0.009880 -0.010901   \n",
       "-8R_-EkGpUhBk55K9Dd4mg    ...     0.003271  0.006873  0.002345  0.004455   \n",
       "-9YyInW1wapzdNZrhQJ9dg    ...    -0.005475  0.003348  0.000573  0.004982   \n",
       "-AD5PiuJHgdUcAK-Vxao2A    ...    -0.003176 -0.004256 -0.002775  0.002641   \n",
       "\n",
       "                             144       145       146       147       148  \\\n",
       "business_id                                                                \n",
       "--9e1ONYQuAa-CB_Rrw7Tw  0.005673 -0.000463  0.000991 -0.001386  0.003687   \n",
       "-3zffZUHoY8bQjGfPSoBKQ -0.006984 -0.007075  0.007490 -0.005966  0.003784   \n",
       "-8R_-EkGpUhBk55K9Dd4mg -0.002428 -0.003660 -0.002009 -0.004955 -0.008658   \n",
       "-9YyInW1wapzdNZrhQJ9dg -0.004061 -0.000410 -0.000659 -0.002432  0.001436   \n",
       "-AD5PiuJHgdUcAK-Vxao2A -0.005717 -0.003593  0.000553 -0.001520  0.005865   \n",
       "\n",
       "                             149  \n",
       "business_id                       \n",
       "--9e1ONYQuAa-CB_Rrw7Tw -0.007074  \n",
       "-3zffZUHoY8bQjGfPSoBKQ -0.006221  \n",
       "-8R_-EkGpUhBk55K9Dd4mg  0.000727  \n",
       "-9YyInW1wapzdNZrhQJ9dg  0.004065  \n",
       "-AD5PiuJHgdUcAK-Vxao2A  0.003556  \n",
       "\n",
       "[5 rows x 155 columns]"
      ]
     },
     "execution_count": 293,
     "metadata": {},
     "output_type": "execute_result"
    }
   ],
   "source": [
    "print df_business.shape # 4290*(5+150)\n",
    "df_business.head()"
   ]
  },
  {
   "cell_type": "code",
   "execution_count": 294,
   "metadata": {},
   "outputs": [
    {
     "data": {
      "text/html": [
       "<div style=\"max-height:1000px;max-width:1500px;overflow:auto;\"><table frame=\"box\" rules=\"cols\">\n",
       "    <tr>\n",
       "        <th style=\"padding-left: 1em; padding-right: 1em; text-align: center\">business_id</th>\n",
       "        <th style=\"padding-left: 1em; padding-right: 1em; text-align: center\">ave_stars</th>\n",
       "        <th style=\"padding-left: 1em; padding-right: 1em; text-align: center\">cool</th>\n",
       "        <th style=\"padding-left: 1em; padding-right: 1em; text-align: center\">funny</th>\n",
       "        <th style=\"padding-left: 1em; padding-right: 1em; text-align: center\">stars</th>\n",
       "        <th style=\"padding-left: 1em; padding-right: 1em; text-align: center\">useful</th>\n",
       "    </tr>\n",
       "    <tr>\n",
       "        <td style=\"padding-left: 1em; padding-right: 1em; text-align: center; vertical-align: top\">--9e1ONYQuAa-CB_Rrw7Tw</td>\n",
       "        <td style=\"padding-left: 1em; padding-right: 1em; text-align: center; vertical-align: top\">4.0</td>\n",
       "        <td style=\"padding-left: 1em; padding-right: 1em; text-align: center; vertical-align: top\">0.708</td>\n",
       "        <td style=\"padding-left: 1em; padding-right: 1em; text-align: center; vertical-align: top\">0.452</td>\n",
       "        <td style=\"padding-left: 1em; padding-right: 1em; text-align: center; vertical-align: top\">4.076</td>\n",
       "        <td style=\"padding-left: 1em; padding-right: 1em; text-align: center; vertical-align: top\">0.968</td>\n",
       "    </tr>\n",
       "    <tr>\n",
       "        <td style=\"padding-left: 1em; padding-right: 1em; text-align: center; vertical-align: top\">-3zffZUHoY8bQjGfPSoBKQ</td>\n",
       "        <td style=\"padding-left: 1em; padding-right: 1em; text-align: center; vertical-align: top\">4.0</td>\n",
       "        <td style=\"padding-left: 1em; padding-right: 1em; text-align: center; vertical-align: top\">0.38202247191</td>\n",
       "        <td style=\"padding-left: 1em; padding-right: 1em; text-align: center; vertical-align: top\">0.337078651685</td>\n",
       "        <td style=\"padding-left: 1em; padding-right: 1em; text-align: center; vertical-align: top\">3.94382022472</td>\n",
       "        <td style=\"padding-left: 1em; padding-right: 1em; text-align: center; vertical-align: top\">0.887640449438</td>\n",
       "    </tr>\n",
       "    <tr>\n",
       "        <td style=\"padding-left: 1em; padding-right: 1em; text-align: center; vertical-align: top\">-8R_-EkGpUhBk55K9Dd4mg</td>\n",
       "        <td style=\"padding-left: 1em; padding-right: 1em; text-align: center; vertical-align: top\">3.5</td>\n",
       "        <td style=\"padding-left: 1em; padding-right: 1em; text-align: center; vertical-align: top\">1.03225806452</td>\n",
       "        <td style=\"padding-left: 1em; padding-right: 1em; text-align: center; vertical-align: top\">0.967741935484</td>\n",
       "        <td style=\"padding-left: 1em; padding-right: 1em; text-align: center; vertical-align: top\">3.8064516129</td>\n",
       "        <td style=\"padding-left: 1em; padding-right: 1em; text-align: center; vertical-align: top\">1.12903225806</td>\n",
       "    </tr>\n",
       "    <tr>\n",
       "        <td style=\"padding-left: 1em; padding-right: 1em; text-align: center; vertical-align: top\">-9YyInW1wapzdNZrhQJ9dg</td>\n",
       "        <td style=\"padding-left: 1em; padding-right: 1em; text-align: center; vertical-align: top\">2.5</td>\n",
       "        <td style=\"padding-left: 1em; padding-right: 1em; text-align: center; vertical-align: top\">0.191489361702</td>\n",
       "        <td style=\"padding-left: 1em; padding-right: 1em; text-align: center; vertical-align: top\">0.127659574468</td>\n",
       "        <td style=\"padding-left: 1em; padding-right: 1em; text-align: center; vertical-align: top\">2.46808510638</td>\n",
       "        <td style=\"padding-left: 1em; padding-right: 1em; text-align: center; vertical-align: top\">0.468085106383</td>\n",
       "    </tr>\n",
       "    <tr>\n",
       "        <td style=\"padding-left: 1em; padding-right: 1em; text-align: center; vertical-align: top\">-AD5PiuJHgdUcAK-Vxao2A</td>\n",
       "        <td style=\"padding-left: 1em; padding-right: 1em; text-align: center; vertical-align: top\">3.5</td>\n",
       "        <td style=\"padding-left: 1em; padding-right: 1em; text-align: center; vertical-align: top\">0.657894736842</td>\n",
       "        <td style=\"padding-left: 1em; padding-right: 1em; text-align: center; vertical-align: top\">0.394736842105</td>\n",
       "        <td style=\"padding-left: 1em; padding-right: 1em; text-align: center; vertical-align: top\">3.89473684211</td>\n",
       "        <td style=\"padding-left: 1em; padding-right: 1em; text-align: center; vertical-align: top\">0.710526315789</td>\n",
       "    </tr>\n",
       "    <tr>\n",
       "        <td style=\"padding-left: 1em; padding-right: 1em; text-align: center; vertical-align: top\">-Bf8BQ3yMk8U2f45r2DRKw</td>\n",
       "        <td style=\"padding-left: 1em; padding-right: 1em; text-align: center; vertical-align: top\">4.0</td>\n",
       "        <td style=\"padding-left: 1em; padding-right: 1em; text-align: center; vertical-align: top\">0.888888888889</td>\n",
       "        <td style=\"padding-left: 1em; padding-right: 1em; text-align: center; vertical-align: top\">0.814814814815</td>\n",
       "        <td style=\"padding-left: 1em; padding-right: 1em; text-align: center; vertical-align: top\">3.66666666667</td>\n",
       "        <td style=\"padding-left: 1em; padding-right: 1em; text-align: center; vertical-align: top\">1.0</td>\n",
       "    </tr>\n",
       "    <tr>\n",
       "        <td style=\"padding-left: 1em; padding-right: 1em; text-align: center; vertical-align: top\">-BmqghX1sv7sgsxOIS2yAg</td>\n",
       "        <td style=\"padding-left: 1em; padding-right: 1em; text-align: center; vertical-align: top\">4.0</td>\n",
       "        <td style=\"padding-left: 1em; padding-right: 1em; text-align: center; vertical-align: top\">0.258064516129</td>\n",
       "        <td style=\"padding-left: 1em; padding-right: 1em; text-align: center; vertical-align: top\">0.0967741935484</td>\n",
       "        <td style=\"padding-left: 1em; padding-right: 1em; text-align: center; vertical-align: top\">4.12903225806</td>\n",
       "        <td style=\"padding-left: 1em; padding-right: 1em; text-align: center; vertical-align: top\">0.709677419355</td>\n",
       "    </tr>\n",
       "    <tr>\n",
       "        <td style=\"padding-left: 1em; padding-right: 1em; text-align: center; vertical-align: top\">-Bv-HHUs8aHzDrdWcZHn8w</td>\n",
       "        <td style=\"padding-left: 1em; padding-right: 1em; text-align: center; vertical-align: top\">3.0</td>\n",
       "        <td style=\"padding-left: 1em; padding-right: 1em; text-align: center; vertical-align: top\">0.469387755102</td>\n",
       "        <td style=\"padding-left: 1em; padding-right: 1em; text-align: center; vertical-align: top\">0.510204081633</td>\n",
       "        <td style=\"padding-left: 1em; padding-right: 1em; text-align: center; vertical-align: top\">3.12244897959</td>\n",
       "        <td style=\"padding-left: 1em; padding-right: 1em; text-align: center; vertical-align: top\">0.918367346939</td>\n",
       "    </tr>\n",
       "    <tr>\n",
       "        <td style=\"padding-left: 1em; padding-right: 1em; text-align: center; vertical-align: top\">-C8sSrFqaCxp51pyo-fQLQ</td>\n",
       "        <td style=\"padding-left: 1em; padding-right: 1em; text-align: center; vertical-align: top\">4.5</td>\n",
       "        <td style=\"padding-left: 1em; padding-right: 1em; text-align: center; vertical-align: top\">1.43617021277</td>\n",
       "        <td style=\"padding-left: 1em; padding-right: 1em; text-align: center; vertical-align: top\">0.904255319149</td>\n",
       "        <td style=\"padding-left: 1em; padding-right: 1em; text-align: center; vertical-align: top\">4.68085106383</td>\n",
       "        <td style=\"padding-left: 1em; padding-right: 1em; text-align: center; vertical-align: top\">1.82978723404</td>\n",
       "    </tr>\n",
       "    <tr>\n",
       "        <td style=\"padding-left: 1em; padding-right: 1em; text-align: center; vertical-align: top\">-CQokjildrY7UZezXCdEBw</td>\n",
       "        <td style=\"padding-left: 1em; padding-right: 1em; text-align: center; vertical-align: top\">5.0</td>\n",
       "        <td style=\"padding-left: 1em; padding-right: 1em; text-align: center; vertical-align: top\">6.55</td>\n",
       "        <td style=\"padding-left: 1em; padding-right: 1em; text-align: center; vertical-align: top\">4.55</td>\n",
       "        <td style=\"padding-left: 1em; padding-right: 1em; text-align: center; vertical-align: top\">4.875</td>\n",
       "        <td style=\"padding-left: 1em; padding-right: 1em; text-align: center; vertical-align: top\">7.25</td>\n",
       "    </tr>\n",
       "</table>\n",
       "<table frame=\"box\" rules=\"cols\">\n",
       "    <tr>\n",
       "        <th style=\"padding-left: 1em; padding-right: 1em; text-align: center\">0</th>\n",
       "        <th style=\"padding-left: 1em; padding-right: 1em; text-align: center\">1</th>\n",
       "        <th style=\"padding-left: 1em; padding-right: 1em; text-align: center\">2</th>\n",
       "        <th style=\"padding-left: 1em; padding-right: 1em; text-align: center\">3</th>\n",
       "        <th style=\"padding-left: 1em; padding-right: 1em; text-align: center\">4</th>\n",
       "        <th style=\"padding-left: 1em; padding-right: 1em; text-align: center\">5</th>\n",
       "    </tr>\n",
       "    <tr>\n",
       "        <td style=\"padding-left: 1em; padding-right: 1em; text-align: center; vertical-align: top\">0.732486854237</td>\n",
       "        <td style=\"padding-left: 1em; padding-right: 1em; text-align: center; vertical-align: top\">0.0320283698928</td>\n",
       "        <td style=\"padding-left: 1em; padding-right: 1em; text-align: center; vertical-align: top\">-0.445912490892</td>\n",
       "        <td style=\"padding-left: 1em; padding-right: 1em; text-align: center; vertical-align: top\">-0.442262167563</td>\n",
       "        <td style=\"padding-left: 1em; padding-right: 1em; text-align: center; vertical-align: top\">0.0208925628551</td>\n",
       "        <td style=\"padding-left: 1em; padding-right: 1em; text-align: center; vertical-align: top\">0.0238347211428</td>\n",
       "    </tr>\n",
       "    <tr>\n",
       "        <td style=\"padding-left: 1em; padding-right: 1em; text-align: center; vertical-align: top\">1.50476003923</td>\n",
       "        <td style=\"padding-left: 1em; padding-right: 1em; text-align: center; vertical-align: top\">1.34994087341</td>\n",
       "        <td style=\"padding-left: 1em; padding-right: 1em; text-align: center; vertical-align: top\">-0.0212262851955</td>\n",
       "        <td style=\"padding-left: 1em; padding-right: 1em; text-align: center; vertical-align: top\">0.190350256836</td>\n",
       "        <td style=\"padding-left: 1em; padding-right: 1em; text-align: center; vertical-align: top\">-0.0536335713006</td>\n",
       "        <td style=\"padding-left: 1em; padding-right: 1em; text-align: center; vertical-align: top\">-0.214272463823</td>\n",
       "    </tr>\n",
       "    <tr>\n",
       "        <td style=\"padding-left: 1em; padding-right: 1em; text-align: center; vertical-align: top\">0.710577649823</td>\n",
       "        <td style=\"padding-left: 1em; padding-right: 1em; text-align: center; vertical-align: top\">-0.00227973712243</td>\n",
       "        <td style=\"padding-left: 1em; padding-right: 1em; text-align: center; vertical-align: top\">-0.43496618792</td>\n",
       "        <td style=\"padding-left: 1em; padding-right: 1em; text-align: center; vertical-align: top\">-0.459938698235</td>\n",
       "        <td style=\"padding-left: 1em; padding-right: 1em; text-align: center; vertical-align: top\">0.00763652411182</td>\n",
       "        <td style=\"padding-left: 1em; padding-right: 1em; text-align: center; vertical-align: top\">0.0486056350821</td>\n",
       "    </tr>\n",
       "    <tr>\n",
       "        <td style=\"padding-left: 1em; padding-right: 1em; text-align: center; vertical-align: top\">0.708490978821</td>\n",
       "        <td style=\"padding-left: 1em; padding-right: 1em; text-align: center; vertical-align: top\">0.0059884266237</td>\n",
       "        <td style=\"padding-left: 1em; padding-right: 1em; text-align: center; vertical-align: top\">-0.443181796217</td>\n",
       "        <td style=\"padding-left: 1em; padding-right: 1em; text-align: center; vertical-align: top\">-0.448346001558</td>\n",
       "        <td style=\"padding-left: 1em; padding-right: 1em; text-align: center; vertical-align: top\">0.01107489229</td>\n",
       "        <td style=\"padding-left: 1em; padding-right: 1em; text-align: center; vertical-align: top\">0.0434826941265</td>\n",
       "    </tr>\n",
       "    <tr>\n",
       "        <td style=\"padding-left: 1em; padding-right: 1em; text-align: center; vertical-align: top\">0.779716827095</td>\n",
       "        <td style=\"padding-left: 1em; padding-right: 1em; text-align: center; vertical-align: top\">-0.0313218576079</td>\n",
       "        <td style=\"padding-left: 1em; padding-right: 1em; text-align: center; vertical-align: top\">-0.484933620938</td>\n",
       "        <td style=\"padding-left: 1em; padding-right: 1em; text-align: center; vertical-align: top\">-0.373118128973</td>\n",
       "        <td style=\"padding-left: 1em; padding-right: 1em; text-align: center; vertical-align: top\">-0.15466931408</td>\n",
       "        <td style=\"padding-left: 1em; padding-right: 1em; text-align: center; vertical-align: top\">-0.124382847693</td>\n",
       "    </tr>\n",
       "    <tr>\n",
       "        <td style=\"padding-left: 1em; padding-right: 1em; text-align: center; vertical-align: top\">1.40943117695</td>\n",
       "        <td style=\"padding-left: 1em; padding-right: 1em; text-align: center; vertical-align: top\">-0.832364798892</td>\n",
       "        <td style=\"padding-left: 1em; padding-right: 1em; text-align: center; vertical-align: top\">-0.00935289678431</td>\n",
       "        <td style=\"padding-left: 1em; padding-right: 1em; text-align: center; vertical-align: top\">-0.0506262267354</td>\n",
       "        <td style=\"padding-left: 1em; padding-right: 1em; text-align: center; vertical-align: top\">-0.475847762012</td>\n",
       "        <td style=\"padding-left: 1em; padding-right: 1em; text-align: center; vertical-align: top\">-0.486710152073</td>\n",
       "    </tr>\n",
       "    <tr>\n",
       "        <td style=\"padding-left: 1em; padding-right: 1em; text-align: center; vertical-align: top\">0.747906226011</td>\n",
       "        <td style=\"padding-left: 1em; padding-right: 1em; text-align: center; vertical-align: top\">-0.00744122760004</td>\n",
       "        <td style=\"padding-left: 1em; padding-right: 1em; text-align: center; vertical-align: top\">-0.433450831026</td>\n",
       "        <td style=\"padding-left: 1em; padding-right: 1em; text-align: center; vertical-align: top\">-0.421638081497</td>\n",
       "        <td style=\"padding-left: 1em; padding-right: 1em; text-align: center; vertical-align: top\">0.0234424214879</td>\n",
       "        <td style=\"padding-left: 1em; padding-right: 1em; text-align: center; vertical-align: top\">0.249287455814</td>\n",
       "    </tr>\n",
       "    <tr>\n",
       "        <td style=\"padding-left: 1em; padding-right: 1em; text-align: center; vertical-align: top\">0.779716827095</td>\n",
       "        <td style=\"padding-left: 1em; padding-right: 1em; text-align: center; vertical-align: top\">-0.0313218576079</td>\n",
       "        <td style=\"padding-left: 1em; padding-right: 1em; text-align: center; vertical-align: top\">-0.484933620938</td>\n",
       "        <td style=\"padding-left: 1em; padding-right: 1em; text-align: center; vertical-align: top\">-0.373118128973</td>\n",
       "        <td style=\"padding-left: 1em; padding-right: 1em; text-align: center; vertical-align: top\">-0.15466931408</td>\n",
       "        <td style=\"padding-left: 1em; padding-right: 1em; text-align: center; vertical-align: top\">-0.124382847693</td>\n",
       "    </tr>\n",
       "    <tr>\n",
       "        <td style=\"padding-left: 1em; padding-right: 1em; text-align: center; vertical-align: top\">2.24114111406</td>\n",
       "        <td style=\"padding-left: 1em; padding-right: 1em; text-align: center; vertical-align: top\">-1.79017850279</td>\n",
       "        <td style=\"padding-left: 1em; padding-right: 1em; text-align: center; vertical-align: top\">1.07378163143</td>\n",
       "        <td style=\"padding-left: 1em; padding-right: 1em; text-align: center; vertical-align: top\">0.427701957178</td>\n",
       "        <td style=\"padding-left: 1em; padding-right: 1em; text-align: center; vertical-align: top\">0.0420027599162</td>\n",
       "        <td style=\"padding-left: 1em; padding-right: 1em; text-align: center; vertical-align: top\">0.412012839051</td>\n",
       "    </tr>\n",
       "    <tr>\n",
       "        <td style=\"padding-left: 1em; padding-right: 1em; text-align: center; vertical-align: top\">1.86075401662</td>\n",
       "        <td style=\"padding-left: 1em; padding-right: 1em; text-align: center; vertical-align: top\">1.9646310547</td>\n",
       "        <td style=\"padding-left: 1em; padding-right: 1em; text-align: center; vertical-align: top\">0.513323487867</td>\n",
       "        <td style=\"padding-left: 1em; padding-right: 1em; text-align: center; vertical-align: top\">0.0323929959567</td>\n",
       "        <td style=\"padding-left: 1em; padding-right: 1em; text-align: center; vertical-align: top\">-0.206998767727</td>\n",
       "        <td style=\"padding-left: 1em; padding-right: 1em; text-align: center; vertical-align: top\">-0.108518368018</td>\n",
       "    </tr>\n",
       "</table>\n",
       "<table frame=\"box\" rules=\"cols\">\n",
       "    <tr>\n",
       "        <th style=\"padding-left: 1em; padding-right: 1em; text-align: center\">6</th>\n",
       "        <th style=\"padding-left: 1em; padding-right: 1em; text-align: center\">7</th>\n",
       "        <th style=\"padding-left: 1em; padding-right: 1em; text-align: center\">8</th>\n",
       "        <th style=\"padding-left: 1em; padding-right: 1em; text-align: center\">9</th>\n",
       "        <th style=\"padding-left: 1em; padding-right: 1em; text-align: center\">10</th>\n",
       "        <th style=\"padding-left: 1em; padding-right: 1em; text-align: center\">11</th>\n",
       "    </tr>\n",
       "    <tr>\n",
       "        <td style=\"padding-left: 1em; padding-right: 1em; text-align: center; vertical-align: top\">0.0586973202456</td>\n",
       "        <td style=\"padding-left: 1em; padding-right: 1em; text-align: center; vertical-align: top\">-0.0882604176172</td>\n",
       "        <td style=\"padding-left: 1em; padding-right: 1em; text-align: center; vertical-align: top\">0.0692250744977</td>\n",
       "        <td style=\"padding-left: 1em; padding-right: 1em; text-align: center; vertical-align: top\">0.0148744428335</td>\n",
       "        <td style=\"padding-left: 1em; padding-right: 1em; text-align: center; vertical-align: top\">-0.177261611385</td>\n",
       "        <td style=\"padding-left: 1em; padding-right: 1em; text-align: center; vertical-align: top\">0.058524082156</td>\n",
       "    </tr>\n",
       "    <tr>\n",
       "        <td style=\"padding-left: 1em; padding-right: 1em; text-align: center; vertical-align: top\">0.14585439237</td>\n",
       "        <td style=\"padding-left: 1em; padding-right: 1em; text-align: center; vertical-align: top\">-0.246307264729</td>\n",
       "        <td style=\"padding-left: 1em; padding-right: 1em; text-align: center; vertical-align: top\">-0.0644345998392</td>\n",
       "        <td style=\"padding-left: 1em; padding-right: 1em; text-align: center; vertical-align: top\">0.442585815665</td>\n",
       "        <td style=\"padding-left: 1em; padding-right: 1em; text-align: center; vertical-align: top\">-0.147932969494</td>\n",
       "        <td style=\"padding-left: 1em; padding-right: 1em; text-align: center; vertical-align: top\">-0.496676976388</td>\n",
       "    </tr>\n",
       "    <tr>\n",
       "        <td style=\"padding-left: 1em; padding-right: 1em; text-align: center; vertical-align: top\">0.0591651088542</td>\n",
       "        <td style=\"padding-left: 1em; padding-right: 1em; text-align: center; vertical-align: top\">-0.0896673538199</td>\n",
       "        <td style=\"padding-left: 1em; padding-right: 1em; text-align: center; vertical-align: top\">0.0910427920573</td>\n",
       "        <td style=\"padding-left: 1em; padding-right: 1em; text-align: center; vertical-align: top\">0.0144918213866</td>\n",
       "        <td style=\"padding-left: 1em; padding-right: 1em; text-align: center; vertical-align: top\">-0.16374521987</td>\n",
       "        <td style=\"padding-left: 1em; padding-right: 1em; text-align: center; vertical-align: top\">0.0413987332397</td>\n",
       "    </tr>\n",
       "    <tr>\n",
       "        <td style=\"padding-left: 1em; padding-right: 1em; text-align: center; vertical-align: top\">0.0476364598037</td>\n",
       "        <td style=\"padding-left: 1em; padding-right: 1em; text-align: center; vertical-align: top\">-0.0609667207116</td>\n",
       "        <td style=\"padding-left: 1em; padding-right: 1em; text-align: center; vertical-align: top\">0.0639442236875</td>\n",
       "        <td style=\"padding-left: 1em; padding-right: 1em; text-align: center; vertical-align: top\">-0.000809674814292</td>\n",
       "        <td style=\"padding-left: 1em; padding-right: 1em; text-align: center; vertical-align: top\">-0.141874258495</td>\n",
       "        <td style=\"padding-left: 1em; padding-right: 1em; text-align: center; vertical-align: top\">0.0467596264292</td>\n",
       "    </tr>\n",
       "    <tr>\n",
       "        <td style=\"padding-left: 1em; padding-right: 1em; text-align: center; vertical-align: top\">-0.11653846742</td>\n",
       "        <td style=\"padding-left: 1em; padding-right: 1em; text-align: center; vertical-align: top\">0.229945102459</td>\n",
       "        <td style=\"padding-left: 1em; padding-right: 1em; text-align: center; vertical-align: top\">0.256788119026</td>\n",
       "        <td style=\"padding-left: 1em; padding-right: 1em; text-align: center; vertical-align: top\">-0.19888989536</td>\n",
       "        <td style=\"padding-left: 1em; padding-right: 1em; text-align: center; vertical-align: top\">-0.472335519473</td>\n",
       "        <td style=\"padding-left: 1em; padding-right: 1em; text-align: center; vertical-align: top\">-0.187779116723</td>\n",
       "    </tr>\n",
       "    <tr>\n",
       "        <td style=\"padding-left: 1em; padding-right: 1em; text-align: center; vertical-align: top\">-0.196865300917</td>\n",
       "        <td style=\"padding-left: 1em; padding-right: 1em; text-align: center; vertical-align: top\">0.50879925141</td>\n",
       "        <td style=\"padding-left: 1em; padding-right: 1em; text-align: center; vertical-align: top\">0.359118033609</td>\n",
       "        <td style=\"padding-left: 1em; padding-right: 1em; text-align: center; vertical-align: top\">-0.285627930963</td>\n",
       "        <td style=\"padding-left: 1em; padding-right: 1em; text-align: center; vertical-align: top\">-0.358705940745</td>\n",
       "        <td style=\"padding-left: 1em; padding-right: 1em; text-align: center; vertical-align: top\">-0.311619843751</td>\n",
       "    </tr>\n",
       "    <tr>\n",
       "        <td style=\"padding-left: 1em; padding-right: 1em; text-align: center; vertical-align: top\">0.0465432074489</td>\n",
       "        <td style=\"padding-left: 1em; padding-right: 1em; text-align: center; vertical-align: top\">-0.0136000752621</td>\n",
       "        <td style=\"padding-left: 1em; padding-right: 1em; text-align: center; vertical-align: top\">0.0359220541015</td>\n",
       "        <td style=\"padding-left: 1em; padding-right: 1em; text-align: center; vertical-align: top\">0.0747845820277</td>\n",
       "        <td style=\"padding-left: 1em; padding-right: 1em; text-align: center; vertical-align: top\">-0.219949230718</td>\n",
       "        <td style=\"padding-left: 1em; padding-right: 1em; text-align: center; vertical-align: top\">0.109543775049</td>\n",
       "    </tr>\n",
       "    <tr>\n",
       "        <td style=\"padding-left: 1em; padding-right: 1em; text-align: center; vertical-align: top\">-0.11653846742</td>\n",
       "        <td style=\"padding-left: 1em; padding-right: 1em; text-align: center; vertical-align: top\">0.229945102459</td>\n",
       "        <td style=\"padding-left: 1em; padding-right: 1em; text-align: center; vertical-align: top\">0.256788119026</td>\n",
       "        <td style=\"padding-left: 1em; padding-right: 1em; text-align: center; vertical-align: top\">-0.19888989536</td>\n",
       "        <td style=\"padding-left: 1em; padding-right: 1em; text-align: center; vertical-align: top\">-0.472335519473</td>\n",
       "        <td style=\"padding-left: 1em; padding-right: 1em; text-align: center; vertical-align: top\">-0.187779116723</td>\n",
       "    </tr>\n",
       "    <tr>\n",
       "        <td style=\"padding-left: 1em; padding-right: 1em; text-align: center; vertical-align: top\">0.40291244555</td>\n",
       "        <td style=\"padding-left: 1em; padding-right: 1em; text-align: center; vertical-align: top\">-0.982695792118</td>\n",
       "        <td style=\"padding-left: 1em; padding-right: 1em; text-align: center; vertical-align: top\">0.533715305577</td>\n",
       "        <td style=\"padding-left: 1em; padding-right: 1em; text-align: center; vertical-align: top\">-0.115510558043</td>\n",
       "        <td style=\"padding-left: 1em; padding-right: 1em; text-align: center; vertical-align: top\">0.289008120043</td>\n",
       "        <td style=\"padding-left: 1em; padding-right: 1em; text-align: center; vertical-align: top\">-0.0921158666196</td>\n",
       "    </tr>\n",
       "    <tr>\n",
       "        <td style=\"padding-left: 1em; padding-right: 1em; text-align: center; vertical-align: top\">0.183084045493</td>\n",
       "        <td style=\"padding-left: 1em; padding-right: 1em; text-align: center; vertical-align: top\">-0.275707893893</td>\n",
       "        <td style=\"padding-left: 1em; padding-right: 1em; text-align: center; vertical-align: top\">0.65588042097</td>\n",
       "        <td style=\"padding-left: 1em; padding-right: 1em; text-align: center; vertical-align: top\">-0.196757395233</td>\n",
       "        <td style=\"padding-left: 1em; padding-right: 1em; text-align: center; vertical-align: top\">0.401731371668</td>\n",
       "        <td style=\"padding-left: 1em; padding-right: 1em; text-align: center; vertical-align: top\">0.500080421362</td>\n",
       "    </tr>\n",
       "</table>\n",
       "<table frame=\"box\" rules=\"cols\">\n",
       "    <tr>\n",
       "        <th style=\"padding-left: 1em; padding-right: 1em; text-align: center\">12</th>\n",
       "        <th style=\"padding-left: 1em; padding-right: 1em; text-align: center\">13</th>\n",
       "        <th style=\"padding-left: 1em; padding-right: 1em; text-align: center\">14</th>\n",
       "        <th style=\"padding-left: 1em; padding-right: 1em; text-align: center\">15</th>\n",
       "        <th style=\"padding-left: 1em; padding-right: 1em; text-align: center\">16</th>\n",
       "        <th style=\"padding-left: 1em; padding-right: 1em; text-align: center\">17</th>\n",
       "    </tr>\n",
       "    <tr>\n",
       "        <td style=\"padding-left: 1em; padding-right: 1em; text-align: center; vertical-align: top\">0.0368072314776</td>\n",
       "        <td style=\"padding-left: 1em; padding-right: 1em; text-align: center; vertical-align: top\">0.0670627375373</td>\n",
       "        <td style=\"padding-left: 1em; padding-right: 1em; text-align: center; vertical-align: top\">-0.309736806562</td>\n",
       "        <td style=\"padding-left: 1em; padding-right: 1em; text-align: center; vertical-align: top\">0.188483457385</td>\n",
       "        <td style=\"padding-left: 1em; padding-right: 1em; text-align: center; vertical-align: top\">0.132847882459</td>\n",
       "        <td style=\"padding-left: 1em; padding-right: 1em; text-align: center; vertical-align: top\">0.233006502566</td>\n",
       "    </tr>\n",
       "    <tr>\n",
       "        <td style=\"padding-left: 1em; padding-right: 1em; text-align: center; vertical-align: top\">0.181372371392</td>\n",
       "        <td style=\"padding-left: 1em; padding-right: 1em; text-align: center; vertical-align: top\">0.245589024466</td>\n",
       "        <td style=\"padding-left: 1em; padding-right: 1em; text-align: center; vertical-align: top\">-0.292578109798</td>\n",
       "        <td style=\"padding-left: 1em; padding-right: 1em; text-align: center; vertical-align: top\">0.233473453203</td>\n",
       "        <td style=\"padding-left: 1em; padding-right: 1em; text-align: center; vertical-align: top\">0.0178214216881</td>\n",
       "        <td style=\"padding-left: 1em; padding-right: 1em; text-align: center; vertical-align: top\">0.384645093346</td>\n",
       "    </tr>\n",
       "    <tr>\n",
       "        <td style=\"padding-left: 1em; padding-right: 1em; text-align: center; vertical-align: top\">0.0739163622547</td>\n",
       "        <td style=\"padding-left: 1em; padding-right: 1em; text-align: center; vertical-align: top\">0.0817674917743</td>\n",
       "        <td style=\"padding-left: 1em; padding-right: 1em; text-align: center; vertical-align: top\">-0.118718104329</td>\n",
       "        <td style=\"padding-left: 1em; padding-right: 1em; text-align: center; vertical-align: top\">0.0827909289906</td>\n",
       "        <td style=\"padding-left: 1em; padding-right: 1em; text-align: center; vertical-align: top\">-0.0106422348147</td>\n",
       "        <td style=\"padding-left: 1em; padding-right: 1em; text-align: center; vertical-align: top\">-0.0752061689249</td>\n",
       "    </tr>\n",
       "    <tr>\n",
       "        <td style=\"padding-left: 1em; padding-right: 1em; text-align: center; vertical-align: top\">0.0554205375621</td>\n",
       "        <td style=\"padding-left: 1em; padding-right: 1em; text-align: center; vertical-align: top\">0.0193584302683</td>\n",
       "        <td style=\"padding-left: 1em; padding-right: 1em; text-align: center; vertical-align: top\">-0.164574638642</td>\n",
       "        <td style=\"padding-left: 1em; padding-right: 1em; text-align: center; vertical-align: top\">0.063203276635</td>\n",
       "        <td style=\"padding-left: 1em; padding-right: 1em; text-align: center; vertical-align: top\">0.0678843890936</td>\n",
       "        <td style=\"padding-left: 1em; padding-right: 1em; text-align: center; vertical-align: top\">-0.0289389908773</td>\n",
       "    </tr>\n",
       "    <tr>\n",
       "        <td style=\"padding-left: 1em; padding-right: 1em; text-align: center; vertical-align: top\">-0.0325306938909</td>\n",
       "        <td style=\"padding-left: 1em; padding-right: 1em; text-align: center; vertical-align: top\">-0.393376245677</td>\n",
       "        <td style=\"padding-left: 1em; padding-right: 1em; text-align: center; vertical-align: top\">0.0940840454804</td>\n",
       "        <td style=\"padding-left: 1em; padding-right: 1em; text-align: center; vertical-align: top\">0.534706420392</td>\n",
       "        <td style=\"padding-left: 1em; padding-right: 1em; text-align: center; vertical-align: top\">-0.149496764336</td>\n",
       "        <td style=\"padding-left: 1em; padding-right: 1em; text-align: center; vertical-align: top\">-0.109366356758</td>\n",
       "    </tr>\n",
       "    <tr>\n",
       "        <td style=\"padding-left: 1em; padding-right: 1em; text-align: center; vertical-align: top\">0.0154206339219</td>\n",
       "        <td style=\"padding-left: 1em; padding-right: 1em; text-align: center; vertical-align: top\">-0.26510897176</td>\n",
       "        <td style=\"padding-left: 1em; padding-right: 1em; text-align: center; vertical-align: top\">0.0982997271136</td>\n",
       "        <td style=\"padding-left: 1em; padding-right: 1em; text-align: center; vertical-align: top\">0.120572882822</td>\n",
       "        <td style=\"padding-left: 1em; padding-right: 1em; text-align: center; vertical-align: top\">-0.0665278427972</td>\n",
       "        <td style=\"padding-left: 1em; padding-right: 1em; text-align: center; vertical-align: top\">0.0373057829863</td>\n",
       "    </tr>\n",
       "    <tr>\n",
       "        <td style=\"padding-left: 1em; padding-right: 1em; text-align: center; vertical-align: top\">0.282076343335</td>\n",
       "        <td style=\"padding-left: 1em; padding-right: 1em; text-align: center; vertical-align: top\">-0.10549965016</td>\n",
       "        <td style=\"padding-left: 1em; padding-right: 1em; text-align: center; vertical-align: top\">-0.0274914506431</td>\n",
       "        <td style=\"padding-left: 1em; padding-right: 1em; text-align: center; vertical-align: top\">0.0747255393224</td>\n",
       "        <td style=\"padding-left: 1em; padding-right: 1em; text-align: center; vertical-align: top\">0.00374853725912</td>\n",
       "        <td style=\"padding-left: 1em; padding-right: 1em; text-align: center; vertical-align: top\">0.071008116694</td>\n",
       "    </tr>\n",
       "    <tr>\n",
       "        <td style=\"padding-left: 1em; padding-right: 1em; text-align: center; vertical-align: top\">-0.0325306938909</td>\n",
       "        <td style=\"padding-left: 1em; padding-right: 1em; text-align: center; vertical-align: top\">-0.393376245677</td>\n",
       "        <td style=\"padding-left: 1em; padding-right: 1em; text-align: center; vertical-align: top\">0.0940840454804</td>\n",
       "        <td style=\"padding-left: 1em; padding-right: 1em; text-align: center; vertical-align: top\">0.534706420392</td>\n",
       "        <td style=\"padding-left: 1em; padding-right: 1em; text-align: center; vertical-align: top\">-0.149496764336</td>\n",
       "        <td style=\"padding-left: 1em; padding-right: 1em; text-align: center; vertical-align: top\">-0.109366356758</td>\n",
       "    </tr>\n",
       "    <tr>\n",
       "        <td style=\"padding-left: 1em; padding-right: 1em; text-align: center; vertical-align: top\">-0.34883661262</td>\n",
       "        <td style=\"padding-left: 1em; padding-right: 1em; text-align: center; vertical-align: top\">0.261536179817</td>\n",
       "        <td style=\"padding-left: 1em; padding-right: 1em; text-align: center; vertical-align: top\">0.72484714607</td>\n",
       "        <td style=\"padding-left: 1em; padding-right: 1em; text-align: center; vertical-align: top\">0.20548595953</td>\n",
       "        <td style=\"padding-left: 1em; padding-right: 1em; text-align: center; vertical-align: top\">-0.0881280609406</td>\n",
       "        <td style=\"padding-left: 1em; padding-right: 1em; text-align: center; vertical-align: top\">-0.327817832997</td>\n",
       "    </tr>\n",
       "    <tr>\n",
       "        <td style=\"padding-left: 1em; padding-right: 1em; text-align: center; vertical-align: top\">-0.297023211729</td>\n",
       "        <td style=\"padding-left: 1em; padding-right: 1em; text-align: center; vertical-align: top\">0.0920102871862</td>\n",
       "        <td style=\"padding-left: 1em; padding-right: 1em; text-align: center; vertical-align: top\">0.835638002128</td>\n",
       "        <td style=\"padding-left: 1em; padding-right: 1em; text-align: center; vertical-align: top\">-0.203271934893</td>\n",
       "        <td style=\"padding-left: 1em; padding-right: 1em; text-align: center; vertical-align: top\">-0.405089169668</td>\n",
       "        <td style=\"padding-left: 1em; padding-right: 1em; text-align: center; vertical-align: top\">-0.128381441666</td>\n",
       "    </tr>\n",
       "</table>\n",
       "<table frame=\"box\" rules=\"cols\">\n",
       "    <tr>\n",
       "        <th style=\"padding-left: 1em; padding-right: 1em; text-align: center\">18</th>\n",
       "        <th style=\"padding-left: 1em; padding-right: 1em; text-align: center\">19</th>\n",
       "        <th style=\"padding-left: 1em; padding-right: 1em; text-align: center\">20</th>\n",
       "        <th style=\"padding-left: 1em; padding-right: 1em; text-align: center\">21</th>\n",
       "        <th style=\"padding-left: 1em; padding-right: 1em; text-align: center\">22</th>\n",
       "        <th style=\"padding-left: 1em; padding-right: 1em; text-align: center\">23</th>\n",
       "    </tr>\n",
       "    <tr>\n",
       "        <td style=\"padding-left: 1em; padding-right: 1em; text-align: center; vertical-align: top\">0.153717184568</td>\n",
       "        <td style=\"padding-left: 1em; padding-right: 1em; text-align: center; vertical-align: top\">-0.00537137176361</td>\n",
       "        <td style=\"padding-left: 1em; padding-right: 1em; text-align: center; vertical-align: top\">0.132560730083</td>\n",
       "        <td style=\"padding-left: 1em; padding-right: 1em; text-align: center; vertical-align: top\">0.220479220968</td>\n",
       "        <td style=\"padding-left: 1em; padding-right: 1em; text-align: center; vertical-align: top\">-0.123341817612</td>\n",
       "        <td style=\"padding-left: 1em; padding-right: 1em; text-align: center; vertical-align: top\">0.0221054051888</td>\n",
       "    </tr>\n",
       "    <tr>\n",
       "        <td style=\"padding-left: 1em; padding-right: 1em; text-align: center; vertical-align: top\">0.611576959521</td>\n",
       "        <td style=\"padding-left: 1em; padding-right: 1em; text-align: center; vertical-align: top\">-0.287099062392</td>\n",
       "        <td style=\"padding-left: 1em; padding-right: 1em; text-align: center; vertical-align: top\">0.00713740579692</td>\n",
       "        <td style=\"padding-left: 1em; padding-right: 1em; text-align: center; vertical-align: top\">-0.113752062736</td>\n",
       "        <td style=\"padding-left: 1em; padding-right: 1em; text-align: center; vertical-align: top\">-0.145878480963</td>\n",
       "        <td style=\"padding-left: 1em; padding-right: 1em; text-align: center; vertical-align: top\">0.0464976359514</td>\n",
       "    </tr>\n",
       "    <tr>\n",
       "        <td style=\"padding-left: 1em; padding-right: 1em; text-align: center; vertical-align: top\">-0.113794977096</td>\n",
       "        <td style=\"padding-left: 1em; padding-right: 1em; text-align: center; vertical-align: top\">0.0272402649738</td>\n",
       "        <td style=\"padding-left: 1em; padding-right: 1em; text-align: center; vertical-align: top\">0.122743371843</td>\n",
       "        <td style=\"padding-left: 1em; padding-right: 1em; text-align: center; vertical-align: top\">0.190004247412</td>\n",
       "        <td style=\"padding-left: 1em; padding-right: 1em; text-align: center; vertical-align: top\">-0.0461863361434</td>\n",
       "        <td style=\"padding-left: 1em; padding-right: 1em; text-align: center; vertical-align: top\">0.0842996919892</td>\n",
       "    </tr>\n",
       "    <tr>\n",
       "        <td style=\"padding-left: 1em; padding-right: 1em; text-align: center; vertical-align: top\">-0.0824142557871</td>\n",
       "        <td style=\"padding-left: 1em; padding-right: 1em; text-align: center; vertical-align: top\">0.0178292781577</td>\n",
       "        <td style=\"padding-left: 1em; padding-right: 1em; text-align: center; vertical-align: top\">0.126088810594</td>\n",
       "        <td style=\"padding-left: 1em; padding-right: 1em; text-align: center; vertical-align: top\">0.157908288472</td>\n",
       "        <td style=\"padding-left: 1em; padding-right: 1em; text-align: center; vertical-align: top\">-0.0579080748899</td>\n",
       "        <td style=\"padding-left: 1em; padding-right: 1em; text-align: center; vertical-align: top\">0.00651594484211</td>\n",
       "    </tr>\n",
       "    <tr>\n",
       "        <td style=\"padding-left: 1em; padding-right: 1em; text-align: center; vertical-align: top\">-0.0830440520506</td>\n",
       "        <td style=\"padding-left: 1em; padding-right: 1em; text-align: center; vertical-align: top\">-0.021837752124</td>\n",
       "        <td style=\"padding-left: 1em; padding-right: 1em; text-align: center; vertical-align: top\">-0.0307693787008</td>\n",
       "        <td style=\"padding-left: 1em; padding-right: 1em; text-align: center; vertical-align: top\">-0.0541860821764</td>\n",
       "        <td style=\"padding-left: 1em; padding-right: 1em; text-align: center; vertical-align: top\">0.0314164789926</td>\n",
       "        <td style=\"padding-left: 1em; padding-right: 1em; text-align: center; vertical-align: top\">-0.0427912583413</td>\n",
       "    </tr>\n",
       "    <tr>\n",
       "        <td style=\"padding-left: 1em; padding-right: 1em; text-align: center; vertical-align: top\">0.0174991940898</td>\n",
       "        <td style=\"padding-left: 1em; padding-right: 1em; text-align: center; vertical-align: top\">-0.0398135666164</td>\n",
       "        <td style=\"padding-left: 1em; padding-right: 1em; text-align: center; vertical-align: top\">-0.0555941184037</td>\n",
       "        <td style=\"padding-left: 1em; padding-right: 1em; text-align: center; vertical-align: top\">0.0122623203508</td>\n",
       "        <td style=\"padding-left: 1em; padding-right: 1em; text-align: center; vertical-align: top\">-0.0124792081159</td>\n",
       "        <td style=\"padding-left: 1em; padding-right: 1em; text-align: center; vertical-align: top\">0.0125973159491</td>\n",
       "    </tr>\n",
       "    <tr>\n",
       "        <td style=\"padding-left: 1em; padding-right: 1em; text-align: center; vertical-align: top\">-0.191236098449</td>\n",
       "        <td style=\"padding-left: 1em; padding-right: 1em; text-align: center; vertical-align: top\">-0.0057099719931</td>\n",
       "        <td style=\"padding-left: 1em; padding-right: 1em; text-align: center; vertical-align: top\">0.07156179332</td>\n",
       "        <td style=\"padding-left: 1em; padding-right: 1em; text-align: center; vertical-align: top\">0.347084740968</td>\n",
       "        <td style=\"padding-left: 1em; padding-right: 1em; text-align: center; vertical-align: top\">-0.101605757377</td>\n",
       "        <td style=\"padding-left: 1em; padding-right: 1em; text-align: center; vertical-align: top\">0.284465393727</td>\n",
       "    </tr>\n",
       "    <tr>\n",
       "        <td style=\"padding-left: 1em; padding-right: 1em; text-align: center; vertical-align: top\">-0.0830440520506</td>\n",
       "        <td style=\"padding-left: 1em; padding-right: 1em; text-align: center; vertical-align: top\">-0.021837752124</td>\n",
       "        <td style=\"padding-left: 1em; padding-right: 1em; text-align: center; vertical-align: top\">-0.0307693787008</td>\n",
       "        <td style=\"padding-left: 1em; padding-right: 1em; text-align: center; vertical-align: top\">-0.0541860821764</td>\n",
       "        <td style=\"padding-left: 1em; padding-right: 1em; text-align: center; vertical-align: top\">0.0314164789926</td>\n",
       "        <td style=\"padding-left: 1em; padding-right: 1em; text-align: center; vertical-align: top\">-0.0427912583413</td>\n",
       "    </tr>\n",
       "    <tr>\n",
       "        <td style=\"padding-left: 1em; padding-right: 1em; text-align: center; vertical-align: top\">0.272917107975</td>\n",
       "        <td style=\"padding-left: 1em; padding-right: 1em; text-align: center; vertical-align: top\">-0.323699820442</td>\n",
       "        <td style=\"padding-left: 1em; padding-right: 1em; text-align: center; vertical-align: top\">0.146810027879</td>\n",
       "        <td style=\"padding-left: 1em; padding-right: 1em; text-align: center; vertical-align: top\">0.197335153434</td>\n",
       "        <td style=\"padding-left: 1em; padding-right: 1em; text-align: center; vertical-align: top\">0.01944445417</td>\n",
       "        <td style=\"padding-left: 1em; padding-right: 1em; text-align: center; vertical-align: top\">-0.0321291296358</td>\n",
       "    </tr>\n",
       "    <tr>\n",
       "        <td style=\"padding-left: 1em; padding-right: 1em; text-align: center; vertical-align: top\">0.303639627306</td>\n",
       "        <td style=\"padding-left: 1em; padding-right: 1em; text-align: center; vertical-align: top\">-0.0487708120365</td>\n",
       "        <td style=\"padding-left: 1em; padding-right: 1em; text-align: center; vertical-align: top\">0.205982197955</td>\n",
       "        <td style=\"padding-left: 1em; padding-right: 1em; text-align: center; vertical-align: top\">0.288136669338</td>\n",
       "        <td style=\"padding-left: 1em; padding-right: 1em; text-align: center; vertical-align: top\">-0.0323138624142</td>\n",
       "        <td style=\"padding-left: 1em; padding-right: 1em; text-align: center; vertical-align: top\">0.144230624778</td>\n",
       "    </tr>\n",
       "</table>\n",
       "<table frame=\"box\" rules=\"cols\">\n",
       "    <tr>\n",
       "        <th style=\"padding-left: 1em; padding-right: 1em; text-align: center\">24</th>\n",
       "        <th style=\"padding-left: 1em; padding-right: 1em; text-align: center\">25</th>\n",
       "        <th style=\"padding-left: 1em; padding-right: 1em; text-align: center\">26</th>\n",
       "        <th style=\"padding-left: 1em; padding-right: 1em; text-align: center\">27</th>\n",
       "        <th style=\"padding-left: 1em; padding-right: 1em; text-align: center\">28</th>\n",
       "        <th style=\"padding-left: 1em; padding-right: 1em; text-align: center\">29</th>\n",
       "    </tr>\n",
       "    <tr>\n",
       "        <td style=\"padding-left: 1em; padding-right: 1em; text-align: center; vertical-align: top\">-0.230348795956</td>\n",
       "        <td style=\"padding-left: 1em; padding-right: 1em; text-align: center; vertical-align: top\">0.170572957933</td>\n",
       "        <td style=\"padding-left: 1em; padding-right: 1em; text-align: center; vertical-align: top\">0.566004864553</td>\n",
       "        <td style=\"padding-left: 1em; padding-right: 1em; text-align: center; vertical-align: top\">-0.430200239559</td>\n",
       "        <td style=\"padding-left: 1em; padding-right: 1em; text-align: center; vertical-align: top\">0.0715799918533</td>\n",
       "        <td style=\"padding-left: 1em; padding-right: 1em; text-align: center; vertical-align: top\">-0.167826702448</td>\n",
       "    </tr>\n",
       "    <tr>\n",
       "        <td style=\"padding-left: 1em; padding-right: 1em; text-align: center; vertical-align: top\">0.0326037559945</td>\n",
       "        <td style=\"padding-left: 1em; padding-right: 1em; text-align: center; vertical-align: top\">-0.0230991766503</td>\n",
       "        <td style=\"padding-left: 1em; padding-right: 1em; text-align: center; vertical-align: top\">-0.15429691267</td>\n",
       "        <td style=\"padding-left: 1em; padding-right: 1em; text-align: center; vertical-align: top\">0.100553949129</td>\n",
       "        <td style=\"padding-left: 1em; padding-right: 1em; text-align: center; vertical-align: top\">-0.0160026161643</td>\n",
       "        <td style=\"padding-left: 1em; padding-right: 1em; text-align: center; vertical-align: top\">0.0198361237373</td>\n",
       "    </tr>\n",
       "    <tr>\n",
       "        <td style=\"padding-left: 1em; padding-right: 1em; text-align: center; vertical-align: top\">-0.139956923092</td>\n",
       "        <td style=\"padding-left: 1em; padding-right: 1em; text-align: center; vertical-align: top\">0.0218962829853</td>\n",
       "        <td style=\"padding-left: 1em; padding-right: 1em; text-align: center; vertical-align: top\">-0.0643426842061</td>\n",
       "        <td style=\"padding-left: 1em; padding-right: 1em; text-align: center; vertical-align: top\">-0.0233322036021</td>\n",
       "        <td style=\"padding-left: 1em; padding-right: 1em; text-align: center; vertical-align: top\">0.180728426438</td>\n",
       "        <td style=\"padding-left: 1em; padding-right: 1em; text-align: center; vertical-align: top\">-0.0322831291386</td>\n",
       "    </tr>\n",
       "    <tr>\n",
       "        <td style=\"padding-left: 1em; padding-right: 1em; text-align: center; vertical-align: top\">-0.090359830073</td>\n",
       "        <td style=\"padding-left: 1em; padding-right: 1em; text-align: center; vertical-align: top\">0.0101613380945</td>\n",
       "        <td style=\"padding-left: 1em; padding-right: 1em; text-align: center; vertical-align: top\">0.0132335979477</td>\n",
       "        <td style=\"padding-left: 1em; padding-right: 1em; text-align: center; vertical-align: top\">0.0124668945997</td>\n",
       "        <td style=\"padding-left: 1em; padding-right: 1em; text-align: center; vertical-align: top\">0.0759303594347</td>\n",
       "        <td style=\"padding-left: 1em; padding-right: 1em; text-align: center; vertical-align: top\">-0.0552093421832</td>\n",
       "    </tr>\n",
       "    <tr>\n",
       "        <td style=\"padding-left: 1em; padding-right: 1em; text-align: center; vertical-align: top\">-0.103020141552</td>\n",
       "        <td style=\"padding-left: 1em; padding-right: 1em; text-align: center; vertical-align: top\">-0.0611657306905</td>\n",
       "        <td style=\"padding-left: 1em; padding-right: 1em; text-align: center; vertical-align: top\">0.0397043290972</td>\n",
       "        <td style=\"padding-left: 1em; padding-right: 1em; text-align: center; vertical-align: top\">0.00642820040257</td>\n",
       "        <td style=\"padding-left: 1em; padding-right: 1em; text-align: center; vertical-align: top\">0.0251006903551</td>\n",
       "        <td style=\"padding-left: 1em; padding-right: 1em; text-align: center; vertical-align: top\">0.00266602510459</td>\n",
       "    </tr>\n",
       "    <tr>\n",
       "        <td style=\"padding-left: 1em; padding-right: 1em; text-align: center; vertical-align: top\">-0.0452072686125</td>\n",
       "        <td style=\"padding-left: 1em; padding-right: 1em; text-align: center; vertical-align: top\">-0.0728933696961</td>\n",
       "        <td style=\"padding-left: 1em; padding-right: 1em; text-align: center; vertical-align: top\">0.023194945697</td>\n",
       "        <td style=\"padding-left: 1em; padding-right: 1em; text-align: center; vertical-align: top\">0.00387623936374</td>\n",
       "        <td style=\"padding-left: 1em; padding-right: 1em; text-align: center; vertical-align: top\">0.0169796107083</td>\n",
       "        <td style=\"padding-left: 1em; padding-right: 1em; text-align: center; vertical-align: top\">0.0122216816853</td>\n",
       "    </tr>\n",
       "    <tr>\n",
       "        <td style=\"padding-left: 1em; padding-right: 1em; text-align: center; vertical-align: top\">-0.131408054816</td>\n",
       "        <td style=\"padding-left: 1em; padding-right: 1em; text-align: center; vertical-align: top\">-0.0740443222116</td>\n",
       "        <td style=\"padding-left: 1em; padding-right: 1em; text-align: center; vertical-align: top\">-0.497298859522</td>\n",
       "        <td style=\"padding-left: 1em; padding-right: 1em; text-align: center; vertical-align: top\">-0.53994913068</td>\n",
       "        <td style=\"padding-left: 1em; padding-right: 1em; text-align: center; vertical-align: top\">-0.353411751555</td>\n",
       "        <td style=\"padding-left: 1em; padding-right: 1em; text-align: center; vertical-align: top\">0.165646618548</td>\n",
       "    </tr>\n",
       "    <tr>\n",
       "        <td style=\"padding-left: 1em; padding-right: 1em; text-align: center; vertical-align: top\">-0.103020141552</td>\n",
       "        <td style=\"padding-left: 1em; padding-right: 1em; text-align: center; vertical-align: top\">-0.0611657306905</td>\n",
       "        <td style=\"padding-left: 1em; padding-right: 1em; text-align: center; vertical-align: top\">0.0397043290972</td>\n",
       "        <td style=\"padding-left: 1em; padding-right: 1em; text-align: center; vertical-align: top\">0.00642820040257</td>\n",
       "        <td style=\"padding-left: 1em; padding-right: 1em; text-align: center; vertical-align: top\">0.0251006903551</td>\n",
       "        <td style=\"padding-left: 1em; padding-right: 1em; text-align: center; vertical-align: top\">0.00266602510459</td>\n",
       "    </tr>\n",
       "    <tr>\n",
       "        <td style=\"padding-left: 1em; padding-right: 1em; text-align: center; vertical-align: top\">-0.257403926148</td>\n",
       "        <td style=\"padding-left: 1em; padding-right: 1em; text-align: center; vertical-align: top\">0.0482350029037</td>\n",
       "        <td style=\"padding-left: 1em; padding-right: 1em; text-align: center; vertical-align: top\">0.0364246018278</td>\n",
       "        <td style=\"padding-left: 1em; padding-right: 1em; text-align: center; vertical-align: top\">-0.0618437912664</td>\n",
       "        <td style=\"padding-left: 1em; padding-right: 1em; text-align: center; vertical-align: top\">-0.238485909729</td>\n",
       "        <td style=\"padding-left: 1em; padding-right: 1em; text-align: center; vertical-align: top\">-0.150538593842</td>\n",
       "    </tr>\n",
       "    <tr>\n",
       "        <td style=\"padding-left: 1em; padding-right: 1em; text-align: center; vertical-align: top\">-0.168861350941</td>\n",
       "        <td style=\"padding-left: 1em; padding-right: 1em; text-align: center; vertical-align: top\">0.16580885834</td>\n",
       "        <td style=\"padding-left: 1em; padding-right: 1em; text-align: center; vertical-align: top\">0.0169206278831</td>\n",
       "        <td style=\"padding-left: 1em; padding-right: 1em; text-align: center; vertical-align: top\">-0.00835604420235</td>\n",
       "        <td style=\"padding-left: 1em; padding-right: 1em; text-align: center; vertical-align: top\">-0.071388383953</td>\n",
       "        <td style=\"padding-left: 1em; padding-right: 1em; text-align: center; vertical-align: top\">0.0673126153827</td>\n",
       "    </tr>\n",
       "</table>\n",
       "<table frame=\"box\" rules=\"cols\">\n",
       "    <tr>\n",
       "        <th style=\"padding-left: 1em; padding-right: 1em; text-align: center\">30</th>\n",
       "        <th style=\"padding-left: 1em; padding-right: 1em; text-align: center\">31</th>\n",
       "        <th style=\"padding-left: 1em; padding-right: 1em; text-align: center\">32</th>\n",
       "        <th style=\"padding-left: 1em; padding-right: 1em; text-align: center\">33</th>\n",
       "        <th style=\"padding-left: 1em; padding-right: 1em; text-align: center\">...</th>\n",
       "    </tr>\n",
       "    <tr>\n",
       "        <td style=\"padding-left: 1em; padding-right: 1em; text-align: center; vertical-align: top\">0.0923429996711</td>\n",
       "        <td style=\"padding-left: 1em; padding-right: 1em; text-align: center; vertical-align: top\">-0.18113697383</td>\n",
       "        <td style=\"padding-left: 1em; padding-right: 1em; text-align: center; vertical-align: top\">0.00146503938837</td>\n",
       "        <td style=\"padding-left: 1em; padding-right: 1em; text-align: center; vertical-align: top\">-0.16064581663</td>\n",
       "        <td style=\"padding-left: 1em; padding-right: 1em; text-align: center; vertical-align: top\">...</td>\n",
       "    </tr>\n",
       "    <tr>\n",
       "        <td style=\"padding-left: 1em; padding-right: 1em; text-align: center; vertical-align: top\">-0.165927575296</td>\n",
       "        <td style=\"padding-left: 1em; padding-right: 1em; text-align: center; vertical-align: top\">0.283403277892</td>\n",
       "        <td style=\"padding-left: 1em; padding-right: 1em; text-align: center; vertical-align: top\">0.0101478317616</td>\n",
       "        <td style=\"padding-left: 1em; padding-right: 1em; text-align: center; vertical-align: top\">0.17182947001</td>\n",
       "        <td style=\"padding-left: 1em; padding-right: 1em; text-align: center; vertical-align: top\">...</td>\n",
       "    </tr>\n",
       "    <tr>\n",
       "        <td style=\"padding-left: 1em; padding-right: 1em; text-align: center; vertical-align: top\">0.106073107243</td>\n",
       "        <td style=\"padding-left: 1em; padding-right: 1em; text-align: center; vertical-align: top\">0.0729560934014</td>\n",
       "        <td style=\"padding-left: 1em; padding-right: 1em; text-align: center; vertical-align: top\">0.245146429104</td>\n",
       "        <td style=\"padding-left: 1em; padding-right: 1em; text-align: center; vertical-align: top\">0.0906427927594</td>\n",
       "        <td style=\"padding-left: 1em; padding-right: 1em; text-align: center; vertical-align: top\">...</td>\n",
       "    </tr>\n",
       "    <tr>\n",
       "        <td style=\"padding-left: 1em; padding-right: 1em; text-align: center; vertical-align: top\">0.084876571519</td>\n",
       "        <td style=\"padding-left: 1em; padding-right: 1em; text-align: center; vertical-align: top\">-0.011065748219</td>\n",
       "        <td style=\"padding-left: 1em; padding-right: 1em; text-align: center; vertical-align: top\">0.0739441848517</td>\n",
       "        <td style=\"padding-left: 1em; padding-right: 1em; text-align: center; vertical-align: top\">-0.0415004844957</td>\n",
       "        <td style=\"padding-left: 1em; padding-right: 1em; text-align: center; vertical-align: top\">...</td>\n",
       "    </tr>\n",
       "    <tr>\n",
       "        <td style=\"padding-left: 1em; padding-right: 1em; text-align: center; vertical-align: top\">0.0495534084514</td>\n",
       "        <td style=\"padding-left: 1em; padding-right: 1em; text-align: center; vertical-align: top\">0.0211675891558</td>\n",
       "        <td style=\"padding-left: 1em; padding-right: 1em; text-align: center; vertical-align: top\">0.0273973697708</td>\n",
       "        <td style=\"padding-left: 1em; padding-right: 1em; text-align: center; vertical-align: top\">0.0415081947025</td>\n",
       "        <td style=\"padding-left: 1em; padding-right: 1em; text-align: center; vertical-align: top\">...</td>\n",
       "    </tr>\n",
       "    <tr>\n",
       "        <td style=\"padding-left: 1em; padding-right: 1em; text-align: center; vertical-align: top\">0.0344061542891</td>\n",
       "        <td style=\"padding-left: 1em; padding-right: 1em; text-align: center; vertical-align: top\">0.0115877653727</td>\n",
       "        <td style=\"padding-left: 1em; padding-right: 1em; text-align: center; vertical-align: top\">0.0122209923512</td>\n",
       "        <td style=\"padding-left: 1em; padding-right: 1em; text-align: center; vertical-align: top\">0.00642069342359</td>\n",
       "        <td style=\"padding-left: 1em; padding-right: 1em; text-align: center; vertical-align: top\">...</td>\n",
       "    </tr>\n",
       "    <tr>\n",
       "        <td style=\"padding-left: 1em; padding-right: 1em; text-align: center; vertical-align: top\">-0.00279612090598</td>\n",
       "        <td style=\"padding-left: 1em; padding-right: 1em; text-align: center; vertical-align: top\">0.130841374654</td>\n",
       "        <td style=\"padding-left: 1em; padding-right: 1em; text-align: center; vertical-align: top\">0.056567260384</td>\n",
       "        <td style=\"padding-left: 1em; padding-right: 1em; text-align: center; vertical-align: top\">-0.139846142194</td>\n",
       "        <td style=\"padding-left: 1em; padding-right: 1em; text-align: center; vertical-align: top\">...</td>\n",
       "    </tr>\n",
       "    <tr>\n",
       "        <td style=\"padding-left: 1em; padding-right: 1em; text-align: center; vertical-align: top\">0.0495534084514</td>\n",
       "        <td style=\"padding-left: 1em; padding-right: 1em; text-align: center; vertical-align: top\">0.0211675891558</td>\n",
       "        <td style=\"padding-left: 1em; padding-right: 1em; text-align: center; vertical-align: top\">0.0273973697708</td>\n",
       "        <td style=\"padding-left: 1em; padding-right: 1em; text-align: center; vertical-align: top\">0.0415081947025</td>\n",
       "        <td style=\"padding-left: 1em; padding-right: 1em; text-align: center; vertical-align: top\">...</td>\n",
       "    </tr>\n",
       "    <tr>\n",
       "        <td style=\"padding-left: 1em; padding-right: 1em; text-align: center; vertical-align: top\">0.0606003944922</td>\n",
       "        <td style=\"padding-left: 1em; padding-right: 1em; text-align: center; vertical-align: top\">-0.178685327167</td>\n",
       "        <td style=\"padding-left: 1em; padding-right: 1em; text-align: center; vertical-align: top\">0.12788906211</td>\n",
       "        <td style=\"padding-left: 1em; padding-right: 1em; text-align: center; vertical-align: top\">0.20198389017</td>\n",
       "        <td style=\"padding-left: 1em; padding-right: 1em; text-align: center; vertical-align: top\">...</td>\n",
       "    </tr>\n",
       "    <tr>\n",
       "        <td style=\"padding-left: 1em; padding-right: 1em; text-align: center; vertical-align: top\">-0.0352434215322</td>\n",
       "        <td style=\"padding-left: 1em; padding-right: 1em; text-align: center; vertical-align: top\">0.075376180472</td>\n",
       "        <td style=\"padding-left: 1em; padding-right: 1em; text-align: center; vertical-align: top\">-0.0890194064426</td>\n",
       "        <td style=\"padding-left: 1em; padding-right: 1em; text-align: center; vertical-align: top\">0.0466267264541</td>\n",
       "        <td style=\"padding-left: 1em; padding-right: 1em; text-align: center; vertical-align: top\">...</td>\n",
       "    </tr>\n",
       "</table>\n",
       "[4290 rows x 156 columns]<br/>Note: Only the head of the SFrame is printed.<br/>You can use print_rows(num_rows=m, num_columns=n) to print more rows and columns.\n",
       "</div>"
      ],
      "text/plain": [
       "Columns:\n",
       "\tbusiness_id\tstr\n",
       "\tave_stars\tfloat\n",
       "\tcool\tfloat\n",
       "\tfunny\tfloat\n",
       "\tstars\tfloat\n",
       "\tuseful\tfloat\n",
       "\t0\tfloat\n",
       "\t1\tfloat\n",
       "\t2\tfloat\n",
       "\t3\tfloat\n",
       "\t4\tfloat\n",
       "\t5\tfloat\n",
       "\t6\tfloat\n",
       "\t7\tfloat\n",
       "\t8\tfloat\n",
       "\t9\tfloat\n",
       "\t10\tfloat\n",
       "\t11\tfloat\n",
       "\t12\tfloat\n",
       "\t13\tfloat\n",
       "\t14\tfloat\n",
       "\t15\tfloat\n",
       "\t16\tfloat\n",
       "\t17\tfloat\n",
       "\t18\tfloat\n",
       "\t19\tfloat\n",
       "\t20\tfloat\n",
       "\t21\tfloat\n",
       "\t22\tfloat\n",
       "\t23\tfloat\n",
       "\t24\tfloat\n",
       "\t25\tfloat\n",
       "\t26\tfloat\n",
       "\t27\tfloat\n",
       "\t28\tfloat\n",
       "\t29\tfloat\n",
       "\t30\tfloat\n",
       "\t31\tfloat\n",
       "\t32\tfloat\n",
       "\t33\tfloat\n",
       "\t34\tfloat\n",
       "\t35\tfloat\n",
       "\t36\tfloat\n",
       "\t37\tfloat\n",
       "\t38\tfloat\n",
       "\t39\tfloat\n",
       "\t40\tfloat\n",
       "\t41\tfloat\n",
       "\t42\tfloat\n",
       "\t43\tfloat\n",
       "\t44\tfloat\n",
       "\t45\tfloat\n",
       "\t46\tfloat\n",
       "\t47\tfloat\n",
       "\t48\tfloat\n",
       "\t49\tfloat\n",
       "\t50\tfloat\n",
       "\t51\tfloat\n",
       "\t52\tfloat\n",
       "\t53\tfloat\n",
       "\t54\tfloat\n",
       "\t55\tfloat\n",
       "\t56\tfloat\n",
       "\t57\tfloat\n",
       "\t58\tfloat\n",
       "\t59\tfloat\n",
       "\t60\tfloat\n",
       "\t61\tfloat\n",
       "\t62\tfloat\n",
       "\t63\tfloat\n",
       "\t64\tfloat\n",
       "\t65\tfloat\n",
       "\t66\tfloat\n",
       "\t67\tfloat\n",
       "\t68\tfloat\n",
       "\t69\tfloat\n",
       "\t70\tfloat\n",
       "\t71\tfloat\n",
       "\t72\tfloat\n",
       "\t73\tfloat\n",
       "\t74\tfloat\n",
       "\t75\tfloat\n",
       "\t76\tfloat\n",
       "\t77\tfloat\n",
       "\t78\tfloat\n",
       "\t79\tfloat\n",
       "\t80\tfloat\n",
       "\t81\tfloat\n",
       "\t82\tfloat\n",
       "\t83\tfloat\n",
       "\t84\tfloat\n",
       "\t85\tfloat\n",
       "\t86\tfloat\n",
       "\t87\tfloat\n",
       "\t88\tfloat\n",
       "\t89\tfloat\n",
       "\t90\tfloat\n",
       "\t91\tfloat\n",
       "\t92\tfloat\n",
       "\t93\tfloat\n",
       "\t94\tfloat\n",
       "\t95\tfloat\n",
       "\t96\tfloat\n",
       "\t97\tfloat\n",
       "\t98\tfloat\n",
       "\t99\tfloat\n",
       "\t100\tfloat\n",
       "\t101\tfloat\n",
       "\t102\tfloat\n",
       "\t103\tfloat\n",
       "\t104\tfloat\n",
       "\t105\tfloat\n",
       "\t106\tfloat\n",
       "\t107\tfloat\n",
       "\t108\tfloat\n",
       "\t109\tfloat\n",
       "\t110\tfloat\n",
       "\t111\tfloat\n",
       "\t112\tfloat\n",
       "\t113\tfloat\n",
       "\t114\tfloat\n",
       "\t115\tfloat\n",
       "\t116\tfloat\n",
       "\t117\tfloat\n",
       "\t118\tfloat\n",
       "\t119\tfloat\n",
       "\t120\tfloat\n",
       "\t121\tfloat\n",
       "\t122\tfloat\n",
       "\t123\tfloat\n",
       "\t124\tfloat\n",
       "\t125\tfloat\n",
       "\t126\tfloat\n",
       "\t127\tfloat\n",
       "\t128\tfloat\n",
       "\t129\tfloat\n",
       "\t130\tfloat\n",
       "\t131\tfloat\n",
       "\t132\tfloat\n",
       "\t133\tfloat\n",
       "\t134\tfloat\n",
       "\t135\tfloat\n",
       "\t136\tfloat\n",
       "\t137\tfloat\n",
       "\t138\tfloat\n",
       "\t139\tfloat\n",
       "\t140\tfloat\n",
       "\t141\tfloat\n",
       "\t142\tfloat\n",
       "\t143\tfloat\n",
       "\t144\tfloat\n",
       "\t145\tfloat\n",
       "\t146\tfloat\n",
       "\t147\tfloat\n",
       "\t148\tfloat\n",
       "\t149\tfloat\n",
       "\n",
       "Rows: 4290\n",
       "\n",
       "Data:\n",
       "+------------------------+-----------+----------------+-----------------+\n",
       "|      business_id       | ave_stars |      cool      |      funny      |\n",
       "+------------------------+-----------+----------------+-----------------+\n",
       "| --9e1ONYQuAa-CB_Rrw7Tw |    4.0    |     0.708      |      0.452      |\n",
       "| -3zffZUHoY8bQjGfPSoBKQ |    4.0    | 0.38202247191  |  0.337078651685 |\n",
       "| -8R_-EkGpUhBk55K9Dd4mg |    3.5    | 1.03225806452  |  0.967741935484 |\n",
       "| -9YyInW1wapzdNZrhQJ9dg |    2.5    | 0.191489361702 |  0.127659574468 |\n",
       "| -AD5PiuJHgdUcAK-Vxao2A |    3.5    | 0.657894736842 |  0.394736842105 |\n",
       "| -Bf8BQ3yMk8U2f45r2DRKw |    4.0    | 0.888888888889 |  0.814814814815 |\n",
       "| -BmqghX1sv7sgsxOIS2yAg |    4.0    | 0.258064516129 | 0.0967741935484 |\n",
       "| -Bv-HHUs8aHzDrdWcZHn8w |    3.0    | 0.469387755102 |  0.510204081633 |\n",
       "| -C8sSrFqaCxp51pyo-fQLQ |    4.5    | 1.43617021277  |  0.904255319149 |\n",
       "| -CQokjildrY7UZezXCdEBw |    5.0    |      6.55      |       4.55      |\n",
       "+------------------------+-----------+----------------+-----------------+\n",
       "+---------------+----------------+----------------+-------------------+\n",
       "|     stars     |     useful     |       0        |         1         |\n",
       "+---------------+----------------+----------------+-------------------+\n",
       "|     4.076     |     0.968      | 0.732486854237 |  0.0320283698928  |\n",
       "| 3.94382022472 | 0.887640449438 | 1.50476003923  |   1.34994087341   |\n",
       "|  3.8064516129 | 1.12903225806  | 0.710577649823 | -0.00227973712243 |\n",
       "| 2.46808510638 | 0.468085106383 | 0.708490978821 |  0.0059884266237  |\n",
       "| 3.89473684211 | 0.710526315789 | 0.779716827095 |  -0.0313218576079 |\n",
       "| 3.66666666667 |      1.0       | 1.40943117695  |  -0.832364798892  |\n",
       "| 4.12903225806 | 0.709677419355 | 0.747906226011 | -0.00744122760004 |\n",
       "| 3.12244897959 | 0.918367346939 | 0.779716827095 |  -0.0313218576079 |\n",
       "| 4.68085106383 | 1.82978723404  | 2.24114111406  |   -1.79017850279  |\n",
       "|     4.875     |      7.25      | 1.86075401662  |    1.9646310547   |\n",
       "+---------------+----------------+----------------+-------------------+\n",
       "+-------------------+------------------+------------------+-----------------+\n",
       "|         2         |        3         |        4         |        5        |\n",
       "+-------------------+------------------+------------------+-----------------+\n",
       "|  -0.445912490892  | -0.442262167563  | 0.0208925628551  | 0.0238347211428 |\n",
       "|  -0.0212262851955 |  0.190350256836  | -0.0536335713006 | -0.214272463823 |\n",
       "|   -0.43496618792  | -0.459938698235  | 0.00763652411182 | 0.0486056350821 |\n",
       "|  -0.443181796217  | -0.448346001558  |  0.01107489229   | 0.0434826941265 |\n",
       "|  -0.484933620938  | -0.373118128973  |  -0.15466931408  | -0.124382847693 |\n",
       "| -0.00935289678431 | -0.0506262267354 | -0.475847762012  | -0.486710152073 |\n",
       "|  -0.433450831026  | -0.421638081497  | 0.0234424214879  |  0.249287455814 |\n",
       "|  -0.484933620938  | -0.373118128973  |  -0.15466931408  | -0.124382847693 |\n",
       "|   1.07378163143   |  0.427701957178  | 0.0420027599162  |  0.412012839051 |\n",
       "|   0.513323487867  | 0.0323929959567  | -0.206998767727  | -0.108518368018 |\n",
       "+-------------------+------------------+------------------+-----------------+\n",
       "+-----------------+------------------+------------------+--------------------+\n",
       "|        6        |        7         |        8         |         9          |\n",
       "+-----------------+------------------+------------------+--------------------+\n",
       "| 0.0586973202456 | -0.0882604176172 | 0.0692250744977  |  0.0148744428335   |\n",
       "|  0.14585439237  | -0.246307264729  | -0.0644345998392 |   0.442585815665   |\n",
       "| 0.0591651088542 | -0.0896673538199 | 0.0910427920573  |  0.0144918213866   |\n",
       "| 0.0476364598037 | -0.0609667207116 | 0.0639442236875  | -0.000809674814292 |\n",
       "|  -0.11653846742 |  0.229945102459  |  0.256788119026  |   -0.19888989536   |\n",
       "| -0.196865300917 |  0.50879925141   |  0.359118033609  |  -0.285627930963   |\n",
       "| 0.0465432074489 | -0.0136000752621 | 0.0359220541015  |  0.0747845820277   |\n",
       "|  -0.11653846742 |  0.229945102459  |  0.256788119026  |   -0.19888989536   |\n",
       "|  0.40291244555  | -0.982695792118  |  0.533715305577  |  -0.115510558043   |\n",
       "|  0.183084045493 | -0.275707893893  |  0.65588042097   |  -0.196757395233   |\n",
       "+-----------------+------------------+------------------+--------------------+\n",
       "+-----------------+------------------+------------------+-----------------+-----+\n",
       "|        10       |        11        |        12        |        13       | ... |\n",
       "+-----------------+------------------+------------------+-----------------+-----+\n",
       "| -0.177261611385 |  0.058524082156  | 0.0368072314776  | 0.0670627375373 | ... |\n",
       "| -0.147932969494 | -0.496676976388  |  0.181372371392  |  0.245589024466 | ... |\n",
       "|  -0.16374521987 | 0.0413987332397  | 0.0739163622547  | 0.0817674917743 | ... |\n",
       "| -0.141874258495 | 0.0467596264292  | 0.0554205375621  | 0.0193584302683 | ... |\n",
       "| -0.472335519473 | -0.187779116723  | -0.0325306938909 | -0.393376245677 | ... |\n",
       "| -0.358705940745 | -0.311619843751  | 0.0154206339219  |  -0.26510897176 | ... |\n",
       "| -0.219949230718 |  0.109543775049  |  0.282076343335  |  -0.10549965016 | ... |\n",
       "| -0.472335519473 | -0.187779116723  | -0.0325306938909 | -0.393376245677 | ... |\n",
       "|  0.289008120043 | -0.0921158666196 |  -0.34883661262  |  0.261536179817 | ... |\n",
       "|  0.401731371668 |  0.500080421362  | -0.297023211729  | 0.0920102871862 | ... |\n",
       "+-----------------+------------------+------------------+-----------------+-----+\n",
       "[4290 rows x 156 columns]\n",
       "Note: Only the head of the SFrame is printed.\n",
       "You can use print_rows(num_rows=m, num_columns=n) to print more rows and columns."
      ]
     },
     "execution_count": 294,
     "metadata": {},
     "output_type": "execute_result"
    }
   ],
   "source": [
    "# Prepare data for recommender with Graphlab\n",
    "item_data = graphlab.SFrame(df_business.reset_index())\n",
    "item_data"
   ]
  },
  {
   "cell_type": "code",
   "execution_count": 295,
   "metadata": {},
   "outputs": [
    {
     "name": "stdout",
     "output_type": "stream",
     "text": [
      "WARNING: The ItemContentRecommender model is still in beta.\n",
      "WARNING: This feature transformer is still in beta, and some interpretation rules may change in the future.\n",
      "('Applying transform:\\n', Class             : AutoVectorizer\n",
      "\n",
      "Model Fields\n",
      "------------\n",
      "Features          : ['ave_stars', 'cool', 'funny', 'stars', 'useful', '0', '1', '2', '3', '4', '5', '6', '7', '8', '9', '10', '11', '12', '13', '14', '15', '16', '17', '18', '19', '20', '21', '22', '23', '24', '25', '26', '27', '28', '29', '30', '31', '32', '33', '34', '35', '36', '37', '38', '39', '40', '41', '42', '43', '44', '45', '46', '47', '48', '49', '50', '51', '52', '53', '54', '55', '56', '57', '58', '59', '60', '61', '62', '63', '64', '65', '66', '67', '68', '69', '70', '71', '72', '73', '74', '75', '76', '77', '78', '79', '80', '81', '82', '83', '84', '85', '86', '87', '88', '89', '90', '91', '92', '93', '94', '95', '96', '97', '98', '99', '100', '101', '102', '103', '104', '105', '106', '107', '108', '109', '110', '111', '112', '113', '114', '115', '116', '117', '118', '119', '120', '121', '122', '123', '124', '125', '126', '127', '128', '129', '130', '131', '132', '133', '134', '135', '136', '137', '138', '139', '140', '141', '142', '143', '144', '145', '146', '147', '148', '149']\n",
      "Excluded Features : ['business_id']\n",
      "\n",
      "Column     Type   Interpretation  Transforms  Output Type\n",
      "---------  -----  --------------  ----------  -----------\n",
      "ave_stars  float  numerical       None        float      \n",
      "cool       float  numerical       None        float      \n",
      "funny      float  numerical       None        float      \n",
      "stars      float  numerical       None        float      \n",
      "useful     float  numerical       None        float      \n",
      "0          float  numerical       None        float      \n",
      "1          float  numerical       None        float      \n",
      "2          float  numerical       None        float      \n",
      "3          float  numerical       None        float      \n",
      "4          float  numerical       None        float      \n",
      "5          float  numerical       None        float      \n",
      "6          float  numerical       None        float      \n",
      "7          float  numerical       None        float      \n",
      "8          float  numerical       None        float      \n",
      "9          float  numerical       None        float      \n",
      "10         float  numerical       None        float      \n",
      "11         float  numerical       None        float      \n",
      "12         float  numerical       None        float      \n",
      "13         float  numerical       None        float      \n",
      "14         float  numerical       None        float      \n",
      "15         float  numerical       None        float      \n",
      "16         float  numerical       None        float      \n",
      "17         float  numerical       None        float      \n",
      "18         float  numerical       None        float      \n",
      "19         float  numerical       None        float      \n",
      "20         float  numerical       None        float      \n",
      "21         float  numerical       None        float      \n",
      "22         float  numerical       None        float      \n",
      "23         float  numerical       None        float      \n",
      "24         float  numerical       None        float      \n",
      "25         float  numerical       None        float      \n",
      "26         float  numerical       None        float      \n",
      "27         float  numerical       None        float      \n",
      "28         float  numerical       None        float      \n",
      "29         float  numerical       None        float      \n",
      "30         float  numerical       None        float      \n",
      "31         float  numerical       None        float      \n",
      "32         float  numerical       None        float      \n",
      "33         float  numerical       None        float      \n",
      "34         float  numerical       None        float      \n",
      "35         float  numerical       None        float      \n",
      "36         float  numerical       None        float      \n",
      "37         float  numerical       None        float      \n",
      "38         float  numerical       None        float      \n",
      "39         float  numerical       None        float      \n",
      "40         float  numerical       None        float      \n",
      "41         float  numerical       None        float      \n",
      "42         float  numerical       None        float      \n",
      "43         float  numerical       None        float      \n",
      "44         float  numerical       None        float      \n",
      "45         float  numerical       None        float      \n",
      "46         float  numerical       None        float      \n",
      "47         float  numerical       None        float      \n",
      "48         float  numerical       None        float      \n",
      "49         float  numerical       None        float      \n",
      "50         float  numerical       None        float      \n",
      "51         float  numerical       None        float      \n",
      "52         float  numerical       None        float      \n",
      "53         float  numerical       None        float      \n",
      "54         float  numerical       None        float      \n",
      "55         float  numerical       None        float      \n",
      "56         float  numerical       None        float      \n",
      "57         float  numerical       None        float      \n",
      "58         float  numerical       None        float      \n",
      "59         float  numerical       None        float      \n",
      "60         float  numerical       None        float      \n",
      "61         float  numerical       None        float      \n",
      "62         float  numerical       None        float      \n",
      "63         float  numerical       None        float      \n",
      "64         float  numerical       None        float      \n",
      "65         float  numerical       None        float      \n",
      "66         float  numerical       None        float      \n",
      "67         float  numerical       None        float      \n",
      "68         float  numerical       None        float      \n",
      "69         float  numerical       None        float      \n",
      "70         float  numerical       None        float      \n",
      "71         float  numerical       None        float      \n",
      "72         float  numerical       None        float      \n",
      "73         float  numerical       None        float      \n",
      "74         float  numerical       None        float      \n",
      "75         float  numerical       None        float      \n",
      "76         float  numerical       None        float      \n",
      "77         float  numerical       None        float      \n",
      "78         float  numerical       None        float      \n",
      "79         float  numerical       None        float      \n",
      "80         float  numerical       None        float      \n",
      "81         float  numerical       None        float      \n",
      "82         float  numerical       None        float      \n",
      "83         float  numerical       None        float      \n",
      "84         float  numerical       None        float      \n",
      "85         float  numerical       None        float      \n",
      "86         float  numerical       None        float      \n",
      "87         float  numerical       None        float      \n",
      "88         float  numerical       None        float      \n",
      "89         float  numerical       None        float      \n",
      "90         float  numerical       None        float      \n",
      "91         float  numerical       None        float      \n",
      "92         float  numerical       None        float      \n",
      "93         float  numerical       None        float      \n",
      "94         float  numerical       None        float      \n",
      "95         float  numerical       None        float      \n",
      "96         float  numerical       None        float      \n",
      "97         float  numerical       None        float      \n",
      "98         float  numerical       None        float      \n",
      "99         float  numerical       None        float      \n",
      "100        float  numerical       None        float      \n",
      "101        float  numerical       None        float      \n",
      "102        float  numerical       None        float      \n",
      "103        float  numerical       None        float      \n",
      "104        float  numerical       None        float      \n",
      "105        float  numerical       None        float      \n",
      "106        float  numerical       None        float      \n",
      "107        float  numerical       None        float      \n",
      "108        float  numerical       None        float      \n",
      "109        float  numerical       None        float      \n",
      "110        float  numerical       None        float      \n",
      "111        float  numerical       None        float      \n",
      "112        float  numerical       None        float      \n",
      "113        float  numerical       None        float      \n",
      "114        float  numerical       None        float      \n",
      "115        float  numerical       None        float      \n",
      "116        float  numerical       None        float      \n",
      "117        float  numerical       None        float      \n",
      "118        float  numerical       None        float      \n",
      "119        float  numerical       None        float      \n",
      "120        float  numerical       None        float      \n",
      "121        float  numerical       None        float      \n",
      "122        float  numerical       None        float      \n",
      "123        float  numerical       None        float      \n",
      "124        float  numerical       None        float      \n",
      "125        float  numerical       None        float      \n",
      "126        float  numerical       None        float      \n",
      "127        float  numerical       None        float      \n",
      "128        float  numerical       None        float      \n",
      "129        float  numerical       None        float      \n",
      "130        float  numerical       None        float      \n",
      "131        float  numerical       None        float      \n",
      "132        float  numerical       None        float      \n",
      "133        float  numerical       None        float      \n",
      "134        float  numerical       None        float      \n",
      "135        float  numerical       None        float      \n",
      "136        float  numerical       None        float      \n",
      "137        float  numerical       None        float      \n",
      "138        float  numerical       None        float      \n",
      "139        float  numerical       None        float      \n",
      "140        float  numerical       None        float      \n",
      "141        float  numerical       None        float      \n",
      "142        float  numerical       None        float      \n",
      "143        float  numerical       None        float      \n",
      "144        float  numerical       None        float      \n",
      "145        float  numerical       None        float      \n",
      "146        float  numerical       None        float      \n",
      "147        float  numerical       None        float      \n",
      "148        float  numerical       None        float      \n",
      "149        float  numerical       None        float      \n",
      "\n",
      ")\n"
     ]
    },
    {
     "data": {
      "text/html": [
       "<pre>Recsys training: model = item_content_recommender</pre>"
      ],
      "text/plain": [
       "Recsys training: model = item_content_recommender"
      ]
     },
     "metadata": {},
     "output_type": "display_data"
    },
    {
     "name": "stdout",
     "output_type": "stream",
     "text": [
      "Defaulting to brute force instead of ball tree because there are multiple distance components.\n"
     ]
    },
    {
     "data": {
      "text/html": [
       "<pre>Starting brute force nearest neighbors model training.</pre>"
      ],
      "text/plain": [
       "Starting brute force nearest neighbors model training."
      ]
     },
     "metadata": {},
     "output_type": "display_data"
    },
    {
     "data": {
      "text/html": [
       "<pre>Starting pairwise querying.</pre>"
      ],
      "text/plain": [
       "Starting pairwise querying."
      ]
     },
     "metadata": {},
     "output_type": "display_data"
    },
    {
     "data": {
      "text/html": [
       "<pre>+--------------+---------+-------------+--------------+</pre>"
      ],
      "text/plain": [
       "+--------------+---------+-------------+--------------+"
      ]
     },
     "metadata": {},
     "output_type": "display_data"
    },
    {
     "data": {
      "text/html": [
       "<pre>| Query points | # Pairs | % Complete. | Elapsed Time |</pre>"
      ],
      "text/plain": [
       "| Query points | # Pairs | % Complete. | Elapsed Time |"
      ]
     },
     "metadata": {},
     "output_type": "display_data"
    },
    {
     "data": {
      "text/html": [
       "<pre>+--------------+---------+-------------+--------------+</pre>"
      ],
      "text/plain": [
       "+--------------+---------+-------------+--------------+"
      ]
     },
     "metadata": {},
     "output_type": "display_data"
    },
    {
     "data": {
      "text/html": [
       "<pre>| 1            | 4290    | 0.02331     | 178.495ms    |</pre>"
      ],
      "text/plain": [
       "| 1            | 4290    | 0.02331     | 178.495ms    |"
      ]
     },
     "metadata": {},
     "output_type": "display_data"
    },
    {
     "data": {
      "text/html": [
       "<pre>| 81           | 347490  | 1.88811     | 1.18s        |</pre>"
      ],
      "text/plain": [
       "| 81           | 347490  | 1.88811     | 1.18s        |"
      ]
     },
     "metadata": {},
     "output_type": "display_data"
    },
    {
     "data": {
      "text/html": [
       "<pre>| 164          | 703560  | 3.82284     | 2.19s        |</pre>"
      ],
      "text/plain": [
       "| 164          | 703560  | 3.82284     | 2.19s        |"
      ]
     },
     "metadata": {},
     "output_type": "display_data"
    },
    {
     "data": {
      "text/html": [
       "<pre>| 249          | 1068210 | 5.8042      | 3.19s        |</pre>"
      ],
      "text/plain": [
       "| 249          | 1068210 | 5.8042      | 3.19s        |"
      ]
     },
     "metadata": {},
     "output_type": "display_data"
    },
    {
     "data": {
      "text/html": [
       "<pre>| 335          | 1437150 | 7.80886     | 4.20s        |</pre>"
      ],
      "text/plain": [
       "| 335          | 1437150 | 7.80886     | 4.20s        |"
      ]
     },
     "metadata": {},
     "output_type": "display_data"
    },
    {
     "data": {
      "text/html": [
       "<pre>| 419          | 1797510 | 9.7669      | 5.21s        |</pre>"
      ],
      "text/plain": [
       "| 419          | 1797510 | 9.7669      | 5.21s        |"
      ]
     },
     "metadata": {},
     "output_type": "display_data"
    },
    {
     "data": {
      "text/html": [
       "<pre>| 501          | 2149290 | 11.6783     | 6.23s        |</pre>"
      ],
      "text/plain": [
       "| 501          | 2149290 | 11.6783     | 6.23s        |"
      ]
     },
     "metadata": {},
     "output_type": "display_data"
    },
    {
     "data": {
      "text/html": [
       "<pre>| 584          | 2505360 | 13.6131     | 7.22s        |</pre>"
      ],
      "text/plain": [
       "| 584          | 2505360 | 13.6131     | 7.22s        |"
      ]
     },
     "metadata": {},
     "output_type": "display_data"
    },
    {
     "data": {
      "text/html": [
       "<pre>| 670          | 2874300 | 15.6177     | 8.24s        |</pre>"
      ],
      "text/plain": [
       "| 670          | 2874300 | 15.6177     | 8.24s        |"
      ]
     },
     "metadata": {},
     "output_type": "display_data"
    },
    {
     "data": {
      "text/html": [
       "<pre>| 754          | 3234660 | 17.5758     | 9.22s        |</pre>"
      ],
      "text/plain": [
       "| 754          | 3234660 | 17.5758     | 9.22s        |"
      ]
     },
     "metadata": {},
     "output_type": "display_data"
    },
    {
     "data": {
      "text/html": [
       "<pre>| 840          | 3603600 | 19.5804     | 10.22s       |</pre>"
      ],
      "text/plain": [
       "| 840          | 3603600 | 19.5804     | 10.22s       |"
      ]
     },
     "metadata": {},
     "output_type": "display_data"
    },
    {
     "data": {
      "text/html": [
       "<pre>| 926          | 3972540 | 21.5851     | 11.23s       |</pre>"
      ],
      "text/plain": [
       "| 926          | 3972540 | 21.5851     | 11.23s       |"
      ]
     },
     "metadata": {},
     "output_type": "display_data"
    },
    {
     "data": {
      "text/html": [
       "<pre>| 1012         | 4341480 | 23.5897     | 12.25s       |</pre>"
      ],
      "text/plain": [
       "| 1012         | 4341480 | 23.5897     | 12.25s       |"
      ]
     },
     "metadata": {},
     "output_type": "display_data"
    },
    {
     "data": {
      "text/html": [
       "<pre>| 1099         | 4714710 | 25.6177     | 13.24s       |</pre>"
      ],
      "text/plain": [
       "| 1099         | 4714710 | 25.6177     | 13.24s       |"
      ]
     },
     "metadata": {},
     "output_type": "display_data"
    },
    {
     "data": {
      "text/html": [
       "<pre>| 1177         | 5049330 | 27.4359     | 14.23s       |</pre>"
      ],
      "text/plain": [
       "| 1177         | 5049330 | 27.4359     | 14.23s       |"
      ]
     },
     "metadata": {},
     "output_type": "display_data"
    },
    {
     "data": {
      "text/html": [
       "<pre>| 1265         | 5426850 | 29.4872     | 15.24s       |</pre>"
      ],
      "text/plain": [
       "| 1265         | 5426850 | 29.4872     | 15.24s       |"
      ]
     },
     "metadata": {},
     "output_type": "display_data"
    },
    {
     "data": {
      "text/html": [
       "<pre>| 1351         | 5795790 | 31.4918     | 16.25s       |</pre>"
      ],
      "text/plain": [
       "| 1351         | 5795790 | 31.4918     | 16.25s       |"
      ]
     },
     "metadata": {},
     "output_type": "display_data"
    },
    {
     "data": {
      "text/html": [
       "<pre>| 1435         | 6156150 | 33.4499     | 17.25s       |</pre>"
      ],
      "text/plain": [
       "| 1435         | 6156150 | 33.4499     | 17.25s       |"
      ]
     },
     "metadata": {},
     "output_type": "display_data"
    },
    {
     "data": {
      "text/html": [
       "<pre>| 1524         | 6537960 | 35.5245     | 18.26s       |</pre>"
      ],
      "text/plain": [
       "| 1524         | 6537960 | 35.5245     | 18.26s       |"
      ]
     },
     "metadata": {},
     "output_type": "display_data"
    },
    {
     "data": {
      "text/html": [
       "<pre>| 1609         | 6902610 | 37.5058     | 19.26s       |</pre>"
      ],
      "text/plain": [
       "| 1609         | 6902610 | 37.5058     | 19.26s       |"
      ]
     },
     "metadata": {},
     "output_type": "display_data"
    },
    {
     "data": {
      "text/html": [
       "<pre>| 1697         | 7280130 | 39.5571     | 20.26s       |</pre>"
      ],
      "text/plain": [
       "| 1697         | 7280130 | 39.5571     | 20.26s       |"
      ]
     },
     "metadata": {},
     "output_type": "display_data"
    },
    {
     "data": {
      "text/html": [
       "<pre>| 1782         | 7644780 | 41.5385     | 21.27s       |</pre>"
      ],
      "text/plain": [
       "| 1782         | 7644780 | 41.5385     | 21.27s       |"
      ]
     },
     "metadata": {},
     "output_type": "display_data"
    },
    {
     "data": {
      "text/html": [
       "<pre>| 1865         | 8000850 | 43.4732     | 22.27s       |</pre>"
      ],
      "text/plain": [
       "| 1865         | 8000850 | 43.4732     | 22.27s       |"
      ]
     },
     "metadata": {},
     "output_type": "display_data"
    },
    {
     "data": {
      "text/html": [
       "<pre>| 1952         | 8374080 | 45.5012     | 23.29s       |</pre>"
      ],
      "text/plain": [
       "| 1952         | 8374080 | 45.5012     | 23.29s       |"
      ]
     },
     "metadata": {},
     "output_type": "display_data"
    },
    {
     "data": {
      "text/html": [
       "<pre>| 2043         | 8764470 | 47.6224     | 24.30s       |</pre>"
      ],
      "text/plain": [
       "| 2043         | 8764470 | 47.6224     | 24.30s       |"
      ]
     },
     "metadata": {},
     "output_type": "display_data"
    },
    {
     "data": {
      "text/html": [
       "<pre>| 2129         | 9133410 | 49.627      | 25.28s       |</pre>"
      ],
      "text/plain": [
       "| 2129         | 9133410 | 49.627      | 25.28s       |"
      ]
     },
     "metadata": {},
     "output_type": "display_data"
    },
    {
     "data": {
      "text/html": [
       "<pre>| 2214         | 9498060 | 51.6084     | 26.33s       |</pre>"
      ],
      "text/plain": [
       "| 2214         | 9498060 | 51.6084     | 26.33s       |"
      ]
     },
     "metadata": {},
     "output_type": "display_data"
    },
    {
     "data": {
      "text/html": [
       "<pre>| 2294         | 9841260 | 53.4732     | 27.30s       |</pre>"
      ],
      "text/plain": [
       "| 2294         | 9841260 | 53.4732     | 27.30s       |"
      ]
     },
     "metadata": {},
     "output_type": "display_data"
    },
    {
     "data": {
      "text/html": [
       "<pre>| 2383         | 1e+07   | 55.5478     | 28.30s       |</pre>"
      ],
      "text/plain": [
       "| 2383         | 1e+07   | 55.5478     | 28.30s       |"
      ]
     },
     "metadata": {},
     "output_type": "display_data"
    },
    {
     "data": {
      "text/html": [
       "<pre>| 2470         | 1.1e+07 | 57.5758     | 29.32s       |</pre>"
      ],
      "text/plain": [
       "| 2470         | 1.1e+07 | 57.5758     | 29.32s       |"
      ]
     },
     "metadata": {},
     "output_type": "display_data"
    },
    {
     "data": {
      "text/html": [
       "<pre>| 2555         | 1.1e+07 | 59.5571     | 30.31s       |</pre>"
      ],
      "text/plain": [
       "| 2555         | 1.1e+07 | 59.5571     | 30.31s       |"
      ]
     },
     "metadata": {},
     "output_type": "display_data"
    },
    {
     "data": {
      "text/html": [
       "<pre>| 2638         | 1.1e+07 | 61.4918     | 31.31s       |</pre>"
      ],
      "text/plain": [
       "| 2638         | 1.1e+07 | 61.4918     | 31.31s       |"
      ]
     },
     "metadata": {},
     "output_type": "display_data"
    },
    {
     "data": {
      "text/html": [
       "<pre>| 2725         | 1.2e+07 | 63.5198     | 32.32s       |</pre>"
      ],
      "text/plain": [
       "| 2725         | 1.2e+07 | 63.5198     | 32.32s       |"
      ]
     },
     "metadata": {},
     "output_type": "display_data"
    },
    {
     "data": {
      "text/html": [
       "<pre>| 2811         | 1.2e+07 | 65.5245     | 33.32s       |</pre>"
      ],
      "text/plain": [
       "| 2811         | 1.2e+07 | 65.5245     | 33.32s       |"
      ]
     },
     "metadata": {},
     "output_type": "display_data"
    },
    {
     "data": {
      "text/html": [
       "<pre>| 2899         | 1.2e+07 | 67.5758     | 34.33s       |</pre>"
      ],
      "text/plain": [
       "| 2899         | 1.2e+07 | 67.5758     | 34.33s       |"
      ]
     },
     "metadata": {},
     "output_type": "display_data"
    },
    {
     "data": {
      "text/html": [
       "<pre>| 2981         | 1.3e+07 | 69.4872     | 35.33s       |</pre>"
      ],
      "text/plain": [
       "| 2981         | 1.3e+07 | 69.4872     | 35.33s       |"
      ]
     },
     "metadata": {},
     "output_type": "display_data"
    },
    {
     "data": {
      "text/html": [
       "<pre>| 3063         | 1.3e+07 | 71.3986     | 36.33s       |</pre>"
      ],
      "text/plain": [
       "| 3063         | 1.3e+07 | 71.3986     | 36.33s       |"
      ]
     },
     "metadata": {},
     "output_type": "display_data"
    },
    {
     "data": {
      "text/html": [
       "<pre>| 3144         | 1.3e+07 | 73.2867     | 37.33s       |</pre>"
      ],
      "text/plain": [
       "| 3144         | 1.3e+07 | 73.2867     | 37.33s       |"
      ]
     },
     "metadata": {},
     "output_type": "display_data"
    },
    {
     "data": {
      "text/html": [
       "<pre>| 3231         | 1.4e+07 | 75.3147     | 38.34s       |</pre>"
      ],
      "text/plain": [
       "| 3231         | 1.4e+07 | 75.3147     | 38.34s       |"
      ]
     },
     "metadata": {},
     "output_type": "display_data"
    },
    {
     "data": {
      "text/html": [
       "<pre>| 3318         | 1.4e+07 | 77.3427     | 39.35s       |</pre>"
      ],
      "text/plain": [
       "| 3318         | 1.4e+07 | 77.3427     | 39.35s       |"
      ]
     },
     "metadata": {},
     "output_type": "display_data"
    },
    {
     "data": {
      "text/html": [
       "<pre>| 3407         | 1.5e+07 | 79.4172     | 40.35s       |</pre>"
      ],
      "text/plain": [
       "| 3407         | 1.5e+07 | 79.4172     | 40.35s       |"
      ]
     },
     "metadata": {},
     "output_type": "display_data"
    },
    {
     "data": {
      "text/html": [
       "<pre>| 3495         | 1.5e+07 | 81.4685     | 41.36s       |</pre>"
      ],
      "text/plain": [
       "| 3495         | 1.5e+07 | 81.4685     | 41.36s       |"
      ]
     },
     "metadata": {},
     "output_type": "display_data"
    },
    {
     "data": {
      "text/html": [
       "<pre>| 3581         | 1.5e+07 | 83.4732     | 42.35s       |</pre>"
      ],
      "text/plain": [
       "| 3581         | 1.5e+07 | 83.4732     | 42.35s       |"
      ]
     },
     "metadata": {},
     "output_type": "display_data"
    },
    {
     "data": {
      "text/html": [
       "<pre>| 3668         | 1.6e+07 | 85.5012     | 43.36s       |</pre>"
      ],
      "text/plain": [
       "| 3668         | 1.6e+07 | 85.5012     | 43.36s       |"
      ]
     },
     "metadata": {},
     "output_type": "display_data"
    },
    {
     "data": {
      "text/html": [
       "<pre>| 3761         | 1.6e+07 | 87.669      | 44.39s       |</pre>"
      ],
      "text/plain": [
       "| 3761         | 1.6e+07 | 87.669      | 44.39s       |"
      ]
     },
     "metadata": {},
     "output_type": "display_data"
    },
    {
     "data": {
      "text/html": [
       "<pre>| 3846         | 1.6e+07 | 89.6503     | 45.38s       |</pre>"
      ],
      "text/plain": [
       "| 3846         | 1.6e+07 | 89.6503     | 45.38s       |"
      ]
     },
     "metadata": {},
     "output_type": "display_data"
    },
    {
     "data": {
      "text/html": [
       "<pre>| 3933         | 1.7e+07 | 91.6783     | 46.37s       |</pre>"
      ],
      "text/plain": [
       "| 3933         | 1.7e+07 | 91.6783     | 46.37s       |"
      ]
     },
     "metadata": {},
     "output_type": "display_data"
    },
    {
     "data": {
      "text/html": [
       "<pre>| 4016         | 1.7e+07 | 93.6131     | 47.39s       |</pre>"
      ],
      "text/plain": [
       "| 4016         | 1.7e+07 | 93.6131     | 47.39s       |"
      ]
     },
     "metadata": {},
     "output_type": "display_data"
    },
    {
     "data": {
      "text/html": [
       "<pre>| 4102         | 1.8e+07 | 95.6177     | 48.38s       |</pre>"
      ],
      "text/plain": [
       "| 4102         | 1.8e+07 | 95.6177     | 48.38s       |"
      ]
     },
     "metadata": {},
     "output_type": "display_data"
    },
    {
     "data": {
      "text/html": [
       "<pre>| 4192         | 1.8e+07 | 97.7156     | 49.40s       |</pre>"
      ],
      "text/plain": [
       "| 4192         | 1.8e+07 | 97.7156     | 49.40s       |"
      ]
     },
     "metadata": {},
     "output_type": "display_data"
    },
    {
     "data": {
      "text/html": [
       "<pre>| 4278         | 1.8e+07 | 99.7203     | 50.39s       |</pre>"
      ],
      "text/plain": [
       "| 4278         | 1.8e+07 | 99.7203     | 50.39s       |"
      ]
     },
     "metadata": {},
     "output_type": "display_data"
    },
    {
     "data": {
      "text/html": [
       "<pre>| Done         |         | 100         | 50.55s       |</pre>"
      ],
      "text/plain": [
       "| Done         |         | 100         | 50.55s       |"
      ]
     },
     "metadata": {},
     "output_type": "display_data"
    },
    {
     "data": {
      "text/html": [
       "<pre>+--------------+---------+-------------+--------------+</pre>"
      ],
      "text/plain": [
       "+--------------+---------+-------------+--------------+"
      ]
     },
     "metadata": {},
     "output_type": "display_data"
    },
    {
     "data": {
      "text/html": [
       "<pre>Preparing data set.</pre>"
      ],
      "text/plain": [
       "Preparing data set."
      ]
     },
     "metadata": {},
     "output_type": "display_data"
    },
    {
     "data": {
      "text/html": [
       "<pre>    Data has 0 observations with 0 users and 4290 items.</pre>"
      ],
      "text/plain": [
       "    Data has 0 observations with 0 users and 4290 items."
      ]
     },
     "metadata": {},
     "output_type": "display_data"
    },
    {
     "data": {
      "text/html": [
       "<pre>    Data prepared in: 0.605675s</pre>"
      ],
      "text/plain": [
       "    Data prepared in: 0.605675s"
      ]
     },
     "metadata": {},
     "output_type": "display_data"
    },
    {
     "data": {
      "text/html": [
       "<pre>Loading user-provided nearest items.</pre>"
      ],
      "text/plain": [
       "Loading user-provided nearest items."
      ]
     },
     "metadata": {},
     "output_type": "display_data"
    },
    {
     "data": {
      "text/html": [
       "<pre>Generating candidate set for working with new users.</pre>"
      ],
      "text/plain": [
       "Generating candidate set for working with new users."
      ]
     },
     "metadata": {},
     "output_type": "display_data"
    },
    {
     "data": {
      "text/html": [
       "<pre>Finished training in 0.028055s</pre>"
      ],
      "text/plain": [
       "Finished training in 0.028055s"
      ]
     },
     "metadata": {},
     "output_type": "display_data"
    }
   ],
   "source": [
    "# Build content-based recommender\n",
    "content_rec = graphlab.recommender.item_content_recommender.create(item_data, 'business_id')"
   ]
  },
  {
   "cell_type": "code",
   "execution_count": 296,
   "metadata": {},
   "outputs": [],
   "source": [
    "sample_item = [np.random.choice(item_data['business_id'])]"
   ]
  },
  {
   "cell_type": "code",
   "execution_count": 297,
   "metadata": {},
   "outputs": [
    {
     "data": {
      "text/plain": [
       "['--9e1ONYQuAa-CB_Rrw7Tw']"
      ]
     },
     "execution_count": 297,
     "metadata": {},
     "output_type": "execute_result"
    }
   ],
   "source": [
    "sample_item = [df_stars.iloc[0].business_id]\n",
    "sample_item"
   ]
  },
  {
   "cell_type": "code",
   "execution_count": 298,
   "metadata": {},
   "outputs": [
    {
     "data": {
      "text/html": [
       "<div style=\"max-height:1000px;max-width:1500px;overflow:auto;\"><table frame=\"box\" rules=\"cols\">\n",
       "    <tr>\n",
       "        <th style=\"padding-left: 1em; padding-right: 1em; text-align: center\">business_id</th>\n",
       "        <th style=\"padding-left: 1em; padding-right: 1em; text-align: center\">score</th>\n",
       "        <th style=\"padding-left: 1em; padding-right: 1em; text-align: center\">rank</th>\n",
       "    </tr>\n",
       "    <tr>\n",
       "        <td style=\"padding-left: 1em; padding-right: 1em; text-align: center; vertical-align: top\">uWECX6-Uq9n8v5ipk9R29A</td>\n",
       "        <td style=\"padding-left: 1em; padding-right: 1em; text-align: center; vertical-align: top\">0.915039896965</td>\n",
       "        <td style=\"padding-left: 1em; padding-right: 1em; text-align: center; vertical-align: top\">1</td>\n",
       "    </tr>\n",
       "    <tr>\n",
       "        <td style=\"padding-left: 1em; padding-right: 1em; text-align: center; vertical-align: top\">TT658qQinO6MBHP9q7rJ8w</td>\n",
       "        <td style=\"padding-left: 1em; padding-right: 1em; text-align: center; vertical-align: top\">0.913184463978</td>\n",
       "        <td style=\"padding-left: 1em; padding-right: 1em; text-align: center; vertical-align: top\">2</td>\n",
       "    </tr>\n",
       "    <tr>\n",
       "        <td style=\"padding-left: 1em; padding-right: 1em; text-align: center; vertical-align: top\">zcScEL0WEdFkROcnz5379g</td>\n",
       "        <td style=\"padding-left: 1em; padding-right: 1em; text-align: center; vertical-align: top\">0.870045423508</td>\n",
       "        <td style=\"padding-left: 1em; padding-right: 1em; text-align: center; vertical-align: top\">3</td>\n",
       "    </tr>\n",
       "    <tr>\n",
       "        <td style=\"padding-left: 1em; padding-right: 1em; text-align: center; vertical-align: top\">AT1bODcrWTKTRNZKRxO-cA</td>\n",
       "        <td style=\"padding-left: 1em; padding-right: 1em; text-align: center; vertical-align: top\">0.869809508324</td>\n",
       "        <td style=\"padding-left: 1em; padding-right: 1em; text-align: center; vertical-align: top\">4</td>\n",
       "    </tr>\n",
       "    <tr>\n",
       "        <td style=\"padding-left: 1em; padding-right: 1em; text-align: center; vertical-align: top\">L2W0QLXIIR5MEmhQwZk-iA</td>\n",
       "        <td style=\"padding-left: 1em; padding-right: 1em; text-align: center; vertical-align: top\">0.866502702236</td>\n",
       "        <td style=\"padding-left: 1em; padding-right: 1em; text-align: center; vertical-align: top\">5</td>\n",
       "    </tr>\n",
       "    <tr>\n",
       "        <td style=\"padding-left: 1em; padding-right: 1em; text-align: center; vertical-align: top\">p3YqOYELqXtLyHz9T49p_w</td>\n",
       "        <td style=\"padding-left: 1em; padding-right: 1em; text-align: center; vertical-align: top\">0.865918278694</td>\n",
       "        <td style=\"padding-left: 1em; padding-right: 1em; text-align: center; vertical-align: top\">6</td>\n",
       "    </tr>\n",
       "    <tr>\n",
       "        <td style=\"padding-left: 1em; padding-right: 1em; text-align: center; vertical-align: top\">5TY6bUT3bbl9aHItiIXXqw</td>\n",
       "        <td style=\"padding-left: 1em; padding-right: 1em; text-align: center; vertical-align: top\">0.862685799599</td>\n",
       "        <td style=\"padding-left: 1em; padding-right: 1em; text-align: center; vertical-align: top\">7</td>\n",
       "    </tr>\n",
       "    <tr>\n",
       "        <td style=\"padding-left: 1em; padding-right: 1em; text-align: center; vertical-align: top\">VPO8pBUwYz1u6GoG0d2U-Q</td>\n",
       "        <td style=\"padding-left: 1em; padding-right: 1em; text-align: center; vertical-align: top\">0.839495241642</td>\n",
       "        <td style=\"padding-left: 1em; padding-right: 1em; text-align: center; vertical-align: top\">8</td>\n",
       "    </tr>\n",
       "    <tr>\n",
       "        <td style=\"padding-left: 1em; padding-right: 1em; text-align: center; vertical-align: top\">nnDLapJk1z2NJE0-XzwMlQ</td>\n",
       "        <td style=\"padding-left: 1em; padding-right: 1em; text-align: center; vertical-align: top\">0.838763594627</td>\n",
       "        <td style=\"padding-left: 1em; padding-right: 1em; text-align: center; vertical-align: top\">9</td>\n",
       "    </tr>\n",
       "    <tr>\n",
       "        <td style=\"padding-left: 1em; padding-right: 1em; text-align: center; vertical-align: top\">tJzf6H1dkuUbL-t8bzL3dw</td>\n",
       "        <td style=\"padding-left: 1em; padding-right: 1em; text-align: center; vertical-align: top\">0.838703691959</td>\n",
       "        <td style=\"padding-left: 1em; padding-right: 1em; text-align: center; vertical-align: top\">10</td>\n",
       "    </tr>\n",
       "</table>\n",
       "[10 rows x 3 columns]<br/>\n",
       "</div>"
      ],
      "text/plain": [
       "Columns:\n",
       "\tbusiness_id\tstr\n",
       "\tscore\tfloat\n",
       "\trank\tint\n",
       "\n",
       "Rows: 10\n",
       "\n",
       "Data:\n",
       "+------------------------+----------------+------+\n",
       "|      business_id       |     score      | rank |\n",
       "+------------------------+----------------+------+\n",
       "| uWECX6-Uq9n8v5ipk9R29A | 0.915039896965 |  1   |\n",
       "| TT658qQinO6MBHP9q7rJ8w | 0.913184463978 |  2   |\n",
       "| zcScEL0WEdFkROcnz5379g | 0.870045423508 |  3   |\n",
       "| AT1bODcrWTKTRNZKRxO-cA | 0.869809508324 |  4   |\n",
       "| L2W0QLXIIR5MEmhQwZk-iA | 0.866502702236 |  5   |\n",
       "| p3YqOYELqXtLyHz9T49p_w | 0.865918278694 |  6   |\n",
       "| 5TY6bUT3bbl9aHItiIXXqw | 0.862685799599 |  7   |\n",
       "| VPO8pBUwYz1u6GoG0d2U-Q | 0.839495241642 |  8   |\n",
       "| nnDLapJk1z2NJE0-XzwMlQ | 0.838763594627 |  9   |\n",
       "| tJzf6H1dkuUbL-t8bzL3dw | 0.838703691959 |  10  |\n",
       "+------------------------+----------------+------+\n",
       "[10 rows x 3 columns]"
      ]
     },
     "execution_count": 298,
     "metadata": {},
     "output_type": "execute_result"
    }
   ],
   "source": [
    "# Make recommendation for a single item\n",
    "content_rec.recommend_from_interactions(sample_item)\n"
   ]
  },
  {
   "cell_type": "code",
   "execution_count": 299,
   "metadata": {},
   "outputs": [
    {
     "data": {
      "text/html": [
       "<div>\n",
       "<table border=\"1\" class=\"dataframe\">\n",
       "  <thead>\n",
       "    <tr style=\"text-align: right;\">\n",
       "      <th></th>\n",
       "      <th>business_id</th>\n",
       "      <th>similar</th>\n",
       "      <th>score</th>\n",
       "      <th>rank</th>\n",
       "    </tr>\n",
       "  </thead>\n",
       "  <tbody>\n",
       "    <tr>\n",
       "      <th>0</th>\n",
       "      <td>--9e1ONYQuAa-CB_Rrw7Tw</td>\n",
       "      <td>uWECX6-Uq9n8v5ipk9R29A</td>\n",
       "      <td>0.915040</td>\n",
       "      <td>1</td>\n",
       "    </tr>\n",
       "    <tr>\n",
       "      <th>1</th>\n",
       "      <td>--9e1ONYQuAa-CB_Rrw7Tw</td>\n",
       "      <td>TT658qQinO6MBHP9q7rJ8w</td>\n",
       "      <td>0.913184</td>\n",
       "      <td>2</td>\n",
       "    </tr>\n",
       "    <tr>\n",
       "      <th>2</th>\n",
       "      <td>--9e1ONYQuAa-CB_Rrw7Tw</td>\n",
       "      <td>zcScEL0WEdFkROcnz5379g</td>\n",
       "      <td>0.870045</td>\n",
       "      <td>3</td>\n",
       "    </tr>\n",
       "    <tr>\n",
       "      <th>3</th>\n",
       "      <td>--9e1ONYQuAa-CB_Rrw7Tw</td>\n",
       "      <td>AT1bODcrWTKTRNZKRxO-cA</td>\n",
       "      <td>0.869810</td>\n",
       "      <td>4</td>\n",
       "    </tr>\n",
       "    <tr>\n",
       "      <th>4</th>\n",
       "      <td>--9e1ONYQuAa-CB_Rrw7Tw</td>\n",
       "      <td>L2W0QLXIIR5MEmhQwZk-iA</td>\n",
       "      <td>0.866503</td>\n",
       "      <td>5</td>\n",
       "    </tr>\n",
       "    <tr>\n",
       "      <th>5</th>\n",
       "      <td>--9e1ONYQuAa-CB_Rrw7Tw</td>\n",
       "      <td>p3YqOYELqXtLyHz9T49p_w</td>\n",
       "      <td>0.865918</td>\n",
       "      <td>6</td>\n",
       "    </tr>\n",
       "    <tr>\n",
       "      <th>6</th>\n",
       "      <td>--9e1ONYQuAa-CB_Rrw7Tw</td>\n",
       "      <td>5TY6bUT3bbl9aHItiIXXqw</td>\n",
       "      <td>0.862686</td>\n",
       "      <td>7</td>\n",
       "    </tr>\n",
       "    <tr>\n",
       "      <th>7</th>\n",
       "      <td>--9e1ONYQuAa-CB_Rrw7Tw</td>\n",
       "      <td>VPO8pBUwYz1u6GoG0d2U-Q</td>\n",
       "      <td>0.839495</td>\n",
       "      <td>8</td>\n",
       "    </tr>\n",
       "    <tr>\n",
       "      <th>8</th>\n",
       "      <td>--9e1ONYQuAa-CB_Rrw7Tw</td>\n",
       "      <td>nnDLapJk1z2NJE0-XzwMlQ</td>\n",
       "      <td>0.838764</td>\n",
       "      <td>9</td>\n",
       "    </tr>\n",
       "    <tr>\n",
       "      <th>9</th>\n",
       "      <td>--9e1ONYQuAa-CB_Rrw7Tw</td>\n",
       "      <td>tJzf6H1dkuUbL-t8bzL3dw</td>\n",
       "      <td>0.838704</td>\n",
       "      <td>10</td>\n",
       "    </tr>\n",
       "    <tr>\n",
       "      <th>10</th>\n",
       "      <td>-3zffZUHoY8bQjGfPSoBKQ</td>\n",
       "      <td>0qPNeqLuKE88rKbIbSZDpg</td>\n",
       "      <td>0.995982</td>\n",
       "      <td>1</td>\n",
       "    </tr>\n",
       "    <tr>\n",
       "      <th>11</th>\n",
       "      <td>-3zffZUHoY8bQjGfPSoBKQ</td>\n",
       "      <td>Q5olb1x6FGk2oLAlc9p5Lg</td>\n",
       "      <td>0.953605</td>\n",
       "      <td>2</td>\n",
       "    </tr>\n",
       "    <tr>\n",
       "      <th>12</th>\n",
       "      <td>-3zffZUHoY8bQjGfPSoBKQ</td>\n",
       "      <td>n8_OgIBErn-7TCIr4Sn2rA</td>\n",
       "      <td>0.950776</td>\n",
       "      <td>3</td>\n",
       "    </tr>\n",
       "    <tr>\n",
       "      <th>13</th>\n",
       "      <td>-3zffZUHoY8bQjGfPSoBKQ</td>\n",
       "      <td>Zrx25j1M794Nh8fUGB8E9A</td>\n",
       "      <td>0.946788</td>\n",
       "      <td>4</td>\n",
       "    </tr>\n",
       "    <tr>\n",
       "      <th>14</th>\n",
       "      <td>-3zffZUHoY8bQjGfPSoBKQ</td>\n",
       "      <td>awI4hHMfa7H0Xf0-ChU5hg</td>\n",
       "      <td>0.944281</td>\n",
       "      <td>5</td>\n",
       "    </tr>\n",
       "    <tr>\n",
       "      <th>15</th>\n",
       "      <td>-3zffZUHoY8bQjGfPSoBKQ</td>\n",
       "      <td>fOAf6lQHhPn7qybtHKxsGQ</td>\n",
       "      <td>0.935411</td>\n",
       "      <td>6</td>\n",
       "    </tr>\n",
       "    <tr>\n",
       "      <th>16</th>\n",
       "      <td>-3zffZUHoY8bQjGfPSoBKQ</td>\n",
       "      <td>fHo_ycJ1OQ_H7DyctJhr6A</td>\n",
       "      <td>0.935114</td>\n",
       "      <td>7</td>\n",
       "    </tr>\n",
       "    <tr>\n",
       "      <th>17</th>\n",
       "      <td>-3zffZUHoY8bQjGfPSoBKQ</td>\n",
       "      <td>M--CB6Fhp4XKxsR2PlcP9w</td>\n",
       "      <td>0.932983</td>\n",
       "      <td>8</td>\n",
       "    </tr>\n",
       "    <tr>\n",
       "      <th>18</th>\n",
       "      <td>-3zffZUHoY8bQjGfPSoBKQ</td>\n",
       "      <td>Trbt0Ex85yvwT8DHoEFCvg</td>\n",
       "      <td>0.929538</td>\n",
       "      <td>9</td>\n",
       "    </tr>\n",
       "    <tr>\n",
       "      <th>19</th>\n",
       "      <td>-3zffZUHoY8bQjGfPSoBKQ</td>\n",
       "      <td>rhYZCUiywRknWKieJ75zug</td>\n",
       "      <td>0.929474</td>\n",
       "      <td>10</td>\n",
       "    </tr>\n",
       "    <tr>\n",
       "      <th>20</th>\n",
       "      <td>-8R_-EkGpUhBk55K9Dd4mg</td>\n",
       "      <td>kosTPb88O4Q0XGbVbEOGCA</td>\n",
       "      <td>0.996741</td>\n",
       "      <td>1</td>\n",
       "    </tr>\n",
       "    <tr>\n",
       "      <th>21</th>\n",
       "      <td>-8R_-EkGpUhBk55K9Dd4mg</td>\n",
       "      <td>QCe_OTC_9Vf5-oQuflQH7Q</td>\n",
       "      <td>0.993517</td>\n",
       "      <td>2</td>\n",
       "    </tr>\n",
       "    <tr>\n",
       "      <th>22</th>\n",
       "      <td>-8R_-EkGpUhBk55K9Dd4mg</td>\n",
       "      <td>_8yxceldCT7oe0wJC-yDPA</td>\n",
       "      <td>0.992634</td>\n",
       "      <td>3</td>\n",
       "    </tr>\n",
       "    <tr>\n",
       "      <th>23</th>\n",
       "      <td>-8R_-EkGpUhBk55K9Dd4mg</td>\n",
       "      <td>qsJkjQoM3Hdg6Gtqp2S9_w</td>\n",
       "      <td>0.990338</td>\n",
       "      <td>4</td>\n",
       "    </tr>\n",
       "    <tr>\n",
       "      <th>24</th>\n",
       "      <td>-8R_-EkGpUhBk55K9Dd4mg</td>\n",
       "      <td>QDF7w0casJ78PcPmtMDISw</td>\n",
       "      <td>0.989864</td>\n",
       "      <td>5</td>\n",
       "    </tr>\n",
       "    <tr>\n",
       "      <th>25</th>\n",
       "      <td>-8R_-EkGpUhBk55K9Dd4mg</td>\n",
       "      <td>QjfCmeznfZC9BPowyO4Npw</td>\n",
       "      <td>0.989539</td>\n",
       "      <td>6</td>\n",
       "    </tr>\n",
       "    <tr>\n",
       "      <th>26</th>\n",
       "      <td>-8R_-EkGpUhBk55K9Dd4mg</td>\n",
       "      <td>5CJL_2-XwCGBmOav4mFdYg</td>\n",
       "      <td>0.989482</td>\n",
       "      <td>7</td>\n",
       "    </tr>\n",
       "    <tr>\n",
       "      <th>27</th>\n",
       "      <td>-8R_-EkGpUhBk55K9Dd4mg</td>\n",
       "      <td>ixAh9crILnJ9tM8LhWFhkw</td>\n",
       "      <td>0.988983</td>\n",
       "      <td>8</td>\n",
       "    </tr>\n",
       "    <tr>\n",
       "      <th>28</th>\n",
       "      <td>-8R_-EkGpUhBk55K9Dd4mg</td>\n",
       "      <td>yp2nRId4v-bDtrYl5A3F-g</td>\n",
       "      <td>0.988927</td>\n",
       "      <td>9</td>\n",
       "    </tr>\n",
       "    <tr>\n",
       "      <th>29</th>\n",
       "      <td>-8R_-EkGpUhBk55K9Dd4mg</td>\n",
       "      <td>wpkmz67yw3oyXc0ykIslNw</td>\n",
       "      <td>0.988598</td>\n",
       "      <td>10</td>\n",
       "    </tr>\n",
       "  </tbody>\n",
       "</table>\n",
       "</div>"
      ],
      "text/plain": [
       "               business_id                 similar     score  rank\n",
       "0   --9e1ONYQuAa-CB_Rrw7Tw  uWECX6-Uq9n8v5ipk9R29A  0.915040     1\n",
       "1   --9e1ONYQuAa-CB_Rrw7Tw  TT658qQinO6MBHP9q7rJ8w  0.913184     2\n",
       "2   --9e1ONYQuAa-CB_Rrw7Tw  zcScEL0WEdFkROcnz5379g  0.870045     3\n",
       "3   --9e1ONYQuAa-CB_Rrw7Tw  AT1bODcrWTKTRNZKRxO-cA  0.869810     4\n",
       "4   --9e1ONYQuAa-CB_Rrw7Tw  L2W0QLXIIR5MEmhQwZk-iA  0.866503     5\n",
       "5   --9e1ONYQuAa-CB_Rrw7Tw  p3YqOYELqXtLyHz9T49p_w  0.865918     6\n",
       "6   --9e1ONYQuAa-CB_Rrw7Tw  5TY6bUT3bbl9aHItiIXXqw  0.862686     7\n",
       "7   --9e1ONYQuAa-CB_Rrw7Tw  VPO8pBUwYz1u6GoG0d2U-Q  0.839495     8\n",
       "8   --9e1ONYQuAa-CB_Rrw7Tw  nnDLapJk1z2NJE0-XzwMlQ  0.838764     9\n",
       "9   --9e1ONYQuAa-CB_Rrw7Tw  tJzf6H1dkuUbL-t8bzL3dw  0.838704    10\n",
       "10  -3zffZUHoY8bQjGfPSoBKQ  0qPNeqLuKE88rKbIbSZDpg  0.995982     1\n",
       "11  -3zffZUHoY8bQjGfPSoBKQ  Q5olb1x6FGk2oLAlc9p5Lg  0.953605     2\n",
       "12  -3zffZUHoY8bQjGfPSoBKQ  n8_OgIBErn-7TCIr4Sn2rA  0.950776     3\n",
       "13  -3zffZUHoY8bQjGfPSoBKQ  Zrx25j1M794Nh8fUGB8E9A  0.946788     4\n",
       "14  -3zffZUHoY8bQjGfPSoBKQ  awI4hHMfa7H0Xf0-ChU5hg  0.944281     5\n",
       "15  -3zffZUHoY8bQjGfPSoBKQ  fOAf6lQHhPn7qybtHKxsGQ  0.935411     6\n",
       "16  -3zffZUHoY8bQjGfPSoBKQ  fHo_ycJ1OQ_H7DyctJhr6A  0.935114     7\n",
       "17  -3zffZUHoY8bQjGfPSoBKQ  M--CB6Fhp4XKxsR2PlcP9w  0.932983     8\n",
       "18  -3zffZUHoY8bQjGfPSoBKQ  Trbt0Ex85yvwT8DHoEFCvg  0.929538     9\n",
       "19  -3zffZUHoY8bQjGfPSoBKQ  rhYZCUiywRknWKieJ75zug  0.929474    10\n",
       "20  -8R_-EkGpUhBk55K9Dd4mg  kosTPb88O4Q0XGbVbEOGCA  0.996741     1\n",
       "21  -8R_-EkGpUhBk55K9Dd4mg  QCe_OTC_9Vf5-oQuflQH7Q  0.993517     2\n",
       "22  -8R_-EkGpUhBk55K9Dd4mg  _8yxceldCT7oe0wJC-yDPA  0.992634     3\n",
       "23  -8R_-EkGpUhBk55K9Dd4mg  qsJkjQoM3Hdg6Gtqp2S9_w  0.990338     4\n",
       "24  -8R_-EkGpUhBk55K9Dd4mg  QDF7w0casJ78PcPmtMDISw  0.989864     5\n",
       "25  -8R_-EkGpUhBk55K9Dd4mg  QjfCmeznfZC9BPowyO4Npw  0.989539     6\n",
       "26  -8R_-EkGpUhBk55K9Dd4mg  5CJL_2-XwCGBmOav4mFdYg  0.989482     7\n",
       "27  -8R_-EkGpUhBk55K9Dd4mg  ixAh9crILnJ9tM8LhWFhkw  0.988983     8\n",
       "28  -8R_-EkGpUhBk55K9Dd4mg  yp2nRId4v-bDtrYl5A3F-g  0.988927     9\n",
       "29  -8R_-EkGpUhBk55K9Dd4mg  wpkmz67yw3oyXc0ykIslNw  0.988598    10"
      ]
     },
     "execution_count": 299,
     "metadata": {},
     "output_type": "execute_result"
    }
   ],
   "source": [
    "# similar items per item\n",
    "similar_items_df = content_rec.get_similar_items().to_dataframe()\n",
    "similar_items_df.head(30)"
   ]
  },
  {
   "cell_type": "code",
   "execution_count": 300,
   "metadata": {
    "collapsed": true
   },
   "outputs": [],
   "source": [
    "# Make recommendation for a sample user\n",
    "df_favored = df_stars[df_stars.stars > 4] # selectfacoraed restaurants\n",
    "bid_favored = df_favored[df_favored.user_id== df_favored.user_id.iloc[0]]"
   ]
  },
  {
   "cell_type": "code",
   "execution_count": 301,
   "metadata": {},
   "outputs": [
    {
     "name": "stderr",
     "output_type": "stream",
     "text": [
      "/anaconda/envs/gl-env/lib/python2.7/site-packages/ipykernel/__main__.py:4: FutureWarning: sort(columns=....) is deprecated, use sort_values(by=.....)\n"
     ]
    },
    {
     "data": {
      "text/plain": [
       "0    uWECX6-Uq9n8v5ipk9R29A\n",
       "1    TT658qQinO6MBHP9q7rJ8w\n",
       "2    zcScEL0WEdFkROcnz5379g\n",
       "3    AT1bODcrWTKTRNZKRxO-cA\n",
       "4    L2W0QLXIIR5MEmhQwZk-iA\n",
       "Name: similar, dtype: object"
      ]
     },
     "execution_count": 301,
     "metadata": {},
     "output_type": "execute_result"
    }
   ],
   "source": [
    "# First select favored restaurants' similar items\n",
    "similar_restaurants = similar_items_df[similar_items_df['business_id'].isin(bid_favored.business_id)]\n",
    "# Second sort those restaurants, then get top 5\n",
    "similar_restaurants.sort(\"score\", ascending = False).similar[:5]"
   ]
  },
  {
   "cell_type": "markdown",
   "metadata": {},
   "source": [
    "## 4.2 Popularity-based recommender"
   ]
  },
  {
   "cell_type": "code",
   "execution_count": 302,
   "metadata": {},
   "outputs": [
    {
     "data": {
      "text/html": [
       "<div style=\"max-height:1000px;max-width:1500px;overflow:auto;\"><table frame=\"box\" rules=\"cols\">\n",
       "    <tr>\n",
       "        <th style=\"padding-left: 1em; padding-right: 1em; text-align: center\">business_id</th>\n",
       "        <th style=\"padding-left: 1em; padding-right: 1em; text-align: center\">user_id</th>\n",
       "        <th style=\"padding-left: 1em; padding-right: 1em; text-align: center\">stars</th>\n",
       "    </tr>\n",
       "    <tr>\n",
       "        <td style=\"padding-left: 1em; padding-right: 1em; text-align: center; vertical-align: top\">--9e1ONYQuAa-CB_Rrw7Tw</td>\n",
       "        <td style=\"padding-left: 1em; padding-right: 1em; text-align: center; vertical-align: top\">nT8zgjoc-PbdBoQsFEXFLw</td>\n",
       "        <td style=\"padding-left: 1em; padding-right: 1em; text-align: center; vertical-align: top\">5</td>\n",
       "    </tr>\n",
       "    <tr>\n",
       "        <td style=\"padding-left: 1em; padding-right: 1em; text-align: center; vertical-align: top\">--9e1ONYQuAa-CB_Rrw7Tw</td>\n",
       "        <td style=\"padding-left: 1em; padding-right: 1em; text-align: center; vertical-align: top\">rOIrilMC7VFwFVBeQNiKMw</td>\n",
       "        <td style=\"padding-left: 1em; padding-right: 1em; text-align: center; vertical-align: top\">3</td>\n",
       "    </tr>\n",
       "    <tr>\n",
       "        <td style=\"padding-left: 1em; padding-right: 1em; text-align: center; vertical-align: top\">--9e1ONYQuAa-CB_Rrw7Tw</td>\n",
       "        <td style=\"padding-left: 1em; padding-right: 1em; text-align: center; vertical-align: top\">ez3GBw83OIgzzgvc0R4jzw</td>\n",
       "        <td style=\"padding-left: 1em; padding-right: 1em; text-align: center; vertical-align: top\">4</td>\n",
       "    </tr>\n",
       "    <tr>\n",
       "        <td style=\"padding-left: 1em; padding-right: 1em; text-align: center; vertical-align: top\">--9e1ONYQuAa-CB_Rrw7Tw</td>\n",
       "        <td style=\"padding-left: 1em; padding-right: 1em; text-align: center; vertical-align: top\">gJrOPH-DSZWY_NX2j6Bugw</td>\n",
       "        <td style=\"padding-left: 1em; padding-right: 1em; text-align: center; vertical-align: top\">5</td>\n",
       "    </tr>\n",
       "    <tr>\n",
       "        <td style=\"padding-left: 1em; padding-right: 1em; text-align: center; vertical-align: top\">--9e1ONYQuAa-CB_Rrw7Tw</td>\n",
       "        <td style=\"padding-left: 1em; padding-right: 1em; text-align: center; vertical-align: top\">3Y_gz3wb7T5ur9FHqxBcgQ</td>\n",
       "        <td style=\"padding-left: 1em; padding-right: 1em; text-align: center; vertical-align: top\">5</td>\n",
       "    </tr>\n",
       "    <tr>\n",
       "        <td style=\"padding-left: 1em; padding-right: 1em; text-align: center; vertical-align: top\">--9e1ONYQuAa-CB_Rrw7Tw</td>\n",
       "        <td style=\"padding-left: 1em; padding-right: 1em; text-align: center; vertical-align: top\">b4bTks98idS6-hx5AT92WQ</td>\n",
       "        <td style=\"padding-left: 1em; padding-right: 1em; text-align: center; vertical-align: top\">5</td>\n",
       "    </tr>\n",
       "    <tr>\n",
       "        <td style=\"padding-left: 1em; padding-right: 1em; text-align: center; vertical-align: top\">--9e1ONYQuAa-CB_Rrw7Tw</td>\n",
       "        <td style=\"padding-left: 1em; padding-right: 1em; text-align: center; vertical-align: top\">quX8U7dnq5YN6h1P04ps4g</td>\n",
       "        <td style=\"padding-left: 1em; padding-right: 1em; text-align: center; vertical-align: top\">5</td>\n",
       "    </tr>\n",
       "    <tr>\n",
       "        <td style=\"padding-left: 1em; padding-right: 1em; text-align: center; vertical-align: top\">--9e1ONYQuAa-CB_Rrw7Tw</td>\n",
       "        <td style=\"padding-left: 1em; padding-right: 1em; text-align: center; vertical-align: top\">gcz5baFhV096VSrB9EESXw</td>\n",
       "        <td style=\"padding-left: 1em; padding-right: 1em; text-align: center; vertical-align: top\">4</td>\n",
       "    </tr>\n",
       "    <tr>\n",
       "        <td style=\"padding-left: 1em; padding-right: 1em; text-align: center; vertical-align: top\">--9e1ONYQuAa-CB_Rrw7Tw</td>\n",
       "        <td style=\"padding-left: 1em; padding-right: 1em; text-align: center; vertical-align: top\">WAzX3AaM6PQfzFJHaUF6xQ</td>\n",
       "        <td style=\"padding-left: 1em; padding-right: 1em; text-align: center; vertical-align: top\">5</td>\n",
       "    </tr>\n",
       "    <tr>\n",
       "        <td style=\"padding-left: 1em; padding-right: 1em; text-align: center; vertical-align: top\">--9e1ONYQuAa-CB_Rrw7Tw</td>\n",
       "        <td style=\"padding-left: 1em; padding-right: 1em; text-align: center; vertical-align: top\">1kr9EZFV3T_l-8KBkfPo5Q</td>\n",
       "        <td style=\"padding-left: 1em; padding-right: 1em; text-align: center; vertical-align: top\">3</td>\n",
       "    </tr>\n",
       "</table>\n",
       "[287097 rows x 3 columns]<br/>Note: Only the head of the SFrame is printed.<br/>You can use print_rows(num_rows=m, num_columns=n) to print more rows and columns.\n",
       "</div>"
      ],
      "text/plain": [
       "Columns:\n",
       "\tbusiness_id\tstr\n",
       "\tuser_id\tstr\n",
       "\tstars\tint\n",
       "\n",
       "Rows: 287097\n",
       "\n",
       "Data:\n",
       "+------------------------+------------------------+-------+\n",
       "|      business_id       |        user_id         | stars |\n",
       "+------------------------+------------------------+-------+\n",
       "| --9e1ONYQuAa-CB_Rrw7Tw | nT8zgjoc-PbdBoQsFEXFLw |   5   |\n",
       "| --9e1ONYQuAa-CB_Rrw7Tw | rOIrilMC7VFwFVBeQNiKMw |   3   |\n",
       "| --9e1ONYQuAa-CB_Rrw7Tw | ez3GBw83OIgzzgvc0R4jzw |   4   |\n",
       "| --9e1ONYQuAa-CB_Rrw7Tw | gJrOPH-DSZWY_NX2j6Bugw |   5   |\n",
       "| --9e1ONYQuAa-CB_Rrw7Tw | 3Y_gz3wb7T5ur9FHqxBcgQ |   5   |\n",
       "| --9e1ONYQuAa-CB_Rrw7Tw | b4bTks98idS6-hx5AT92WQ |   5   |\n",
       "| --9e1ONYQuAa-CB_Rrw7Tw | quX8U7dnq5YN6h1P04ps4g |   5   |\n",
       "| --9e1ONYQuAa-CB_Rrw7Tw | gcz5baFhV096VSrB9EESXw |   4   |\n",
       "| --9e1ONYQuAa-CB_Rrw7Tw | WAzX3AaM6PQfzFJHaUF6xQ |   5   |\n",
       "| --9e1ONYQuAa-CB_Rrw7Tw | 1kr9EZFV3T_l-8KBkfPo5Q |   3   |\n",
       "+------------------------+------------------------+-------+\n",
       "[287097 rows x 3 columns]\n",
       "Note: Only the head of the SFrame is printed.\n",
       "You can use print_rows(num_rows=m, num_columns=n) to print more rows and columns."
      ]
     },
     "execution_count": 302,
     "metadata": {},
     "output_type": "execute_result"
    }
   ],
   "source": [
    "# Inspect data\n",
    "sf_stars"
   ]
  },
  {
   "cell_type": "code",
   "execution_count": 303,
   "metadata": {},
   "outputs": [
    {
     "data": {
      "text/html": [
       "<pre>Recsys training: model = popularity</pre>"
      ],
      "text/plain": [
       "Recsys training: model = popularity"
      ]
     },
     "metadata": {},
     "output_type": "display_data"
    },
    {
     "data": {
      "text/html": [
       "<pre>Preparing data set.</pre>"
      ],
      "text/plain": [
       "Preparing data set."
      ]
     },
     "metadata": {},
     "output_type": "display_data"
    },
    {
     "data": {
      "text/html": [
       "<pre>    Data has 287097 observations with 140737 users and 4290 items.</pre>"
      ],
      "text/plain": [
       "    Data has 287097 observations with 140737 users and 4290 items."
      ]
     },
     "metadata": {},
     "output_type": "display_data"
    },
    {
     "data": {
      "text/html": [
       "<pre>    Data prepared in: 0.697023s</pre>"
      ],
      "text/plain": [
       "    Data prepared in: 0.697023s"
      ]
     },
     "metadata": {},
     "output_type": "display_data"
    },
    {
     "data": {
      "text/html": [
       "<pre>287097 observations to process; with 4290 unique items.</pre>"
      ],
      "text/plain": [
       "287097 observations to process; with 4290 unique items."
      ]
     },
     "metadata": {},
     "output_type": "display_data"
    }
   ],
   "source": [
    "# Build recommendation system based on popularity\n",
    "pop_rec = graphlab.popularity_recommender.create(sf_stars,\n",
    "                                                 user_id = 'user_id',\n",
    "                                                 item_id = 'business_id',\n",
    "                                                 target = 'stars')"
   ]
  },
  {
   "cell_type": "code",
   "execution_count": 304,
   "metadata": {},
   "outputs": [
    {
     "data": {
      "text/html": [
       "<pre>recommendations finished on 1000/140737 queries. users per second: 51983.2</pre>"
      ],
      "text/plain": [
       "recommendations finished on 1000/140737 queries. users per second: 51983.2"
      ]
     },
     "metadata": {},
     "output_type": "display_data"
    },
    {
     "data": {
      "text/html": [
       "<pre>recommendations finished on 2000/140737 queries. users per second: 58418</pre>"
      ],
      "text/plain": [
       "recommendations finished on 2000/140737 queries. users per second: 58418"
      ]
     },
     "metadata": {},
     "output_type": "display_data"
    },
    {
     "data": {
      "text/html": [
       "<pre>recommendations finished on 3000/140737 queries. users per second: 60226.5</pre>"
      ],
      "text/plain": [
       "recommendations finished on 3000/140737 queries. users per second: 60226.5"
      ]
     },
     "metadata": {},
     "output_type": "display_data"
    },
    {
     "data": {
      "text/html": [
       "<pre>recommendations finished on 4000/140737 queries. users per second: 61281.1</pre>"
      ],
      "text/plain": [
       "recommendations finished on 4000/140737 queries. users per second: 61281.1"
      ]
     },
     "metadata": {},
     "output_type": "display_data"
    },
    {
     "data": {
      "text/html": [
       "<pre>recommendations finished on 5000/140737 queries. users per second: 62797.5</pre>"
      ],
      "text/plain": [
       "recommendations finished on 5000/140737 queries. users per second: 62797.5"
      ]
     },
     "metadata": {},
     "output_type": "display_data"
    },
    {
     "data": {
      "text/html": [
       "<pre>recommendations finished on 6000/140737 queries. users per second: 63594.4</pre>"
      ],
      "text/plain": [
       "recommendations finished on 6000/140737 queries. users per second: 63594.4"
      ]
     },
     "metadata": {},
     "output_type": "display_data"
    },
    {
     "data": {
      "text/html": [
       "<pre>recommendations finished on 7000/140737 queries. users per second: 63727.3</pre>"
      ],
      "text/plain": [
       "recommendations finished on 7000/140737 queries. users per second: 63727.3"
      ]
     },
     "metadata": {},
     "output_type": "display_data"
    },
    {
     "data": {
      "text/html": [
       "<pre>recommendations finished on 8000/140737 queries. users per second: 63381.4</pre>"
      ],
      "text/plain": [
       "recommendations finished on 8000/140737 queries. users per second: 63381.4"
      ]
     },
     "metadata": {},
     "output_type": "display_data"
    },
    {
     "data": {
      "text/html": [
       "<pre>recommendations finished on 9000/140737 queries. users per second: 63920.5</pre>"
      ],
      "text/plain": [
       "recommendations finished on 9000/140737 queries. users per second: 63920.5"
      ]
     },
     "metadata": {},
     "output_type": "display_data"
    },
    {
     "data": {
      "text/html": [
       "<pre>recommendations finished on 10000/140737 queries. users per second: 64087.8</pre>"
      ],
      "text/plain": [
       "recommendations finished on 10000/140737 queries. users per second: 64087.8"
      ]
     },
     "metadata": {},
     "output_type": "display_data"
    },
    {
     "data": {
      "text/html": [
       "<pre>recommendations finished on 11000/140737 queries. users per second: 63738.6</pre>"
      ],
      "text/plain": [
       "recommendations finished on 11000/140737 queries. users per second: 63738.6"
      ]
     },
     "metadata": {},
     "output_type": "display_data"
    },
    {
     "data": {
      "text/html": [
       "<pre>recommendations finished on 12000/140737 queries. users per second: 64065.3</pre>"
      ],
      "text/plain": [
       "recommendations finished on 12000/140737 queries. users per second: 64065.3"
      ]
     },
     "metadata": {},
     "output_type": "display_data"
    },
    {
     "data": {
      "text/html": [
       "<pre>recommendations finished on 13000/140737 queries. users per second: 63469.7</pre>"
      ],
      "text/plain": [
       "recommendations finished on 13000/140737 queries. users per second: 63469.7"
      ]
     },
     "metadata": {},
     "output_type": "display_data"
    },
    {
     "data": {
      "text/html": [
       "<pre>recommendations finished on 14000/140737 queries. users per second: 63294</pre>"
      ],
      "text/plain": [
       "recommendations finished on 14000/140737 queries. users per second: 63294"
      ]
     },
     "metadata": {},
     "output_type": "display_data"
    },
    {
     "data": {
      "text/html": [
       "<pre>recommendations finished on 15000/140737 queries. users per second: 63781.5</pre>"
      ],
      "text/plain": [
       "recommendations finished on 15000/140737 queries. users per second: 63781.5"
      ]
     },
     "metadata": {},
     "output_type": "display_data"
    },
    {
     "data": {
      "text/html": [
       "<pre>recommendations finished on 16000/140737 queries. users per second: 63846.5</pre>"
      ],
      "text/plain": [
       "recommendations finished on 16000/140737 queries. users per second: 63846.5"
      ]
     },
     "metadata": {},
     "output_type": "display_data"
    },
    {
     "data": {
      "text/html": [
       "<pre>recommendations finished on 17000/140737 queries. users per second: 63818.4</pre>"
      ],
      "text/plain": [
       "recommendations finished on 17000/140737 queries. users per second: 63818.4"
      ]
     },
     "metadata": {},
     "output_type": "display_data"
    },
    {
     "data": {
      "text/html": [
       "<pre>recommendations finished on 18000/140737 queries. users per second: 63273.3</pre>"
      ],
      "text/plain": [
       "recommendations finished on 18000/140737 queries. users per second: 63273.3"
      ]
     },
     "metadata": {},
     "output_type": "display_data"
    },
    {
     "data": {
      "text/html": [
       "<pre>recommendations finished on 19000/140737 queries. users per second: 61761.5</pre>"
      ],
      "text/plain": [
       "recommendations finished on 19000/140737 queries. users per second: 61761.5"
      ]
     },
     "metadata": {},
     "output_type": "display_data"
    },
    {
     "data": {
      "text/html": [
       "<pre>recommendations finished on 20000/140737 queries. users per second: 60791.8</pre>"
      ],
      "text/plain": [
       "recommendations finished on 20000/140737 queries. users per second: 60791.8"
      ]
     },
     "metadata": {},
     "output_type": "display_data"
    },
    {
     "data": {
      "text/html": [
       "<pre>recommendations finished on 21000/140737 queries. users per second: 59656.2</pre>"
      ],
      "text/plain": [
       "recommendations finished on 21000/140737 queries. users per second: 59656.2"
      ]
     },
     "metadata": {},
     "output_type": "display_data"
    },
    {
     "data": {
      "text/html": [
       "<pre>recommendations finished on 22000/140737 queries. users per second: 59881.7</pre>"
      ],
      "text/plain": [
       "recommendations finished on 22000/140737 queries. users per second: 59881.7"
      ]
     },
     "metadata": {},
     "output_type": "display_data"
    },
    {
     "data": {
      "text/html": [
       "<pre>recommendations finished on 23000/140737 queries. users per second: 60152.1</pre>"
      ],
      "text/plain": [
       "recommendations finished on 23000/140737 queries. users per second: 60152.1"
      ]
     },
     "metadata": {},
     "output_type": "display_data"
    },
    {
     "data": {
      "text/html": [
       "<pre>recommendations finished on 24000/140737 queries. users per second: 60425.5</pre>"
      ],
      "text/plain": [
       "recommendations finished on 24000/140737 queries. users per second: 60425.5"
      ]
     },
     "metadata": {},
     "output_type": "display_data"
    },
    {
     "data": {
      "text/html": [
       "<pre>recommendations finished on 25000/140737 queries. users per second: 60657.1</pre>"
      ],
      "text/plain": [
       "recommendations finished on 25000/140737 queries. users per second: 60657.1"
      ]
     },
     "metadata": {},
     "output_type": "display_data"
    },
    {
     "data": {
      "text/html": [
       "<pre>recommendations finished on 26000/140737 queries. users per second: 58488.1</pre>"
      ],
      "text/plain": [
       "recommendations finished on 26000/140737 queries. users per second: 58488.1"
      ]
     },
     "metadata": {},
     "output_type": "display_data"
    },
    {
     "data": {
      "text/html": [
       "<pre>recommendations finished on 27000/140737 queries. users per second: 56191.1</pre>"
      ],
      "text/plain": [
       "recommendations finished on 27000/140737 queries. users per second: 56191.1"
      ]
     },
     "metadata": {},
     "output_type": "display_data"
    },
    {
     "data": {
      "text/html": [
       "<pre>recommendations finished on 28000/140737 queries. users per second: 55914.9</pre>"
      ],
      "text/plain": [
       "recommendations finished on 28000/140737 queries. users per second: 55914.9"
      ]
     },
     "metadata": {},
     "output_type": "display_data"
    },
    {
     "data": {
      "text/html": [
       "<pre>recommendations finished on 29000/140737 queries. users per second: 55812.4</pre>"
      ],
      "text/plain": [
       "recommendations finished on 29000/140737 queries. users per second: 55812.4"
      ]
     },
     "metadata": {},
     "output_type": "display_data"
    },
    {
     "data": {
      "text/html": [
       "<pre>recommendations finished on 30000/140737 queries. users per second: 55688.8</pre>"
      ],
      "text/plain": [
       "recommendations finished on 30000/140737 queries. users per second: 55688.8"
      ]
     },
     "metadata": {},
     "output_type": "display_data"
    },
    {
     "data": {
      "text/html": [
       "<pre>recommendations finished on 31000/140737 queries. users per second: 55985.5</pre>"
      ],
      "text/plain": [
       "recommendations finished on 31000/140737 queries. users per second: 55985.5"
      ]
     },
     "metadata": {},
     "output_type": "display_data"
    },
    {
     "data": {
      "text/html": [
       "<pre>recommendations finished on 32000/140737 queries. users per second: 56177.3</pre>"
      ],
      "text/plain": [
       "recommendations finished on 32000/140737 queries. users per second: 56177.3"
      ]
     },
     "metadata": {},
     "output_type": "display_data"
    },
    {
     "data": {
      "text/html": [
       "<pre>recommendations finished on 33000/140737 queries. users per second: 56412.6</pre>"
      ],
      "text/plain": [
       "recommendations finished on 33000/140737 queries. users per second: 56412.6"
      ]
     },
     "metadata": {},
     "output_type": "display_data"
    },
    {
     "data": {
      "text/html": [
       "<pre>recommendations finished on 34000/140737 queries. users per second: 56682.7</pre>"
      ],
      "text/plain": [
       "recommendations finished on 34000/140737 queries. users per second: 56682.7"
      ]
     },
     "metadata": {},
     "output_type": "display_data"
    },
    {
     "data": {
      "text/html": [
       "<pre>recommendations finished on 35000/140737 queries. users per second: 56592.2</pre>"
      ],
      "text/plain": [
       "recommendations finished on 35000/140737 queries. users per second: 56592.2"
      ]
     },
     "metadata": {},
     "output_type": "display_data"
    },
    {
     "data": {
      "text/html": [
       "<pre>recommendations finished on 36000/140737 queries. users per second: 56471.4</pre>"
      ],
      "text/plain": [
       "recommendations finished on 36000/140737 queries. users per second: 56471.4"
      ]
     },
     "metadata": {},
     "output_type": "display_data"
    },
    {
     "data": {
      "text/html": [
       "<pre>recommendations finished on 37000/140737 queries. users per second: 55926</pre>"
      ],
      "text/plain": [
       "recommendations finished on 37000/140737 queries. users per second: 55926"
      ]
     },
     "metadata": {},
     "output_type": "display_data"
    },
    {
     "data": {
      "text/html": [
       "<pre>recommendations finished on 38000/140737 queries. users per second: 55722.4</pre>"
      ],
      "text/plain": [
       "recommendations finished on 38000/140737 queries. users per second: 55722.4"
      ]
     },
     "metadata": {},
     "output_type": "display_data"
    },
    {
     "data": {
      "text/html": [
       "<pre>recommendations finished on 39000/140737 queries. users per second: 55202.8</pre>"
      ],
      "text/plain": [
       "recommendations finished on 39000/140737 queries. users per second: 55202.8"
      ]
     },
     "metadata": {},
     "output_type": "display_data"
    },
    {
     "data": {
      "text/html": [
       "<pre>recommendations finished on 40000/140737 queries. users per second: 54979.4</pre>"
      ],
      "text/plain": [
       "recommendations finished on 40000/140737 queries. users per second: 54979.4"
      ]
     },
     "metadata": {},
     "output_type": "display_data"
    },
    {
     "data": {
      "text/html": [
       "<pre>recommendations finished on 41000/140737 queries. users per second: 54587.2</pre>"
      ],
      "text/plain": [
       "recommendations finished on 41000/140737 queries. users per second: 54587.2"
      ]
     },
     "metadata": {},
     "output_type": "display_data"
    },
    {
     "data": {
      "text/html": [
       "<pre>recommendations finished on 42000/140737 queries. users per second: 54352.5</pre>"
      ],
      "text/plain": [
       "recommendations finished on 42000/140737 queries. users per second: 54352.5"
      ]
     },
     "metadata": {},
     "output_type": "display_data"
    },
    {
     "data": {
      "text/html": [
       "<pre>recommendations finished on 43000/140737 queries. users per second: 54358</pre>"
      ],
      "text/plain": [
       "recommendations finished on 43000/140737 queries. users per second: 54358"
      ]
     },
     "metadata": {},
     "output_type": "display_data"
    },
    {
     "data": {
      "text/html": [
       "<pre>recommendations finished on 44000/140737 queries. users per second: 54297</pre>"
      ],
      "text/plain": [
       "recommendations finished on 44000/140737 queries. users per second: 54297"
      ]
     },
     "metadata": {},
     "output_type": "display_data"
    },
    {
     "data": {
      "text/html": [
       "<pre>recommendations finished on 45000/140737 queries. users per second: 54273.8</pre>"
      ],
      "text/plain": [
       "recommendations finished on 45000/140737 queries. users per second: 54273.8"
      ]
     },
     "metadata": {},
     "output_type": "display_data"
    },
    {
     "data": {
      "text/html": [
       "<pre>recommendations finished on 46000/140737 queries. users per second: 54224.6</pre>"
      ],
      "text/plain": [
       "recommendations finished on 46000/140737 queries. users per second: 54224.6"
      ]
     },
     "metadata": {},
     "output_type": "display_data"
    },
    {
     "data": {
      "text/html": [
       "<pre>recommendations finished on 47000/140737 queries. users per second: 54081.2</pre>"
      ],
      "text/plain": [
       "recommendations finished on 47000/140737 queries. users per second: 54081.2"
      ]
     },
     "metadata": {},
     "output_type": "display_data"
    },
    {
     "data": {
      "text/html": [
       "<pre>recommendations finished on 48000/140737 queries. users per second: 53833.6</pre>"
      ],
      "text/plain": [
       "recommendations finished on 48000/140737 queries. users per second: 53833.6"
      ]
     },
     "metadata": {},
     "output_type": "display_data"
    },
    {
     "data": {
      "text/html": [
       "<pre>recommendations finished on 49000/140737 queries. users per second: 54015.3</pre>"
      ],
      "text/plain": [
       "recommendations finished on 49000/140737 queries. users per second: 54015.3"
      ]
     },
     "metadata": {},
     "output_type": "display_data"
    },
    {
     "data": {
      "text/html": [
       "<pre>recommendations finished on 50000/140737 queries. users per second: 54077.6</pre>"
      ],
      "text/plain": [
       "recommendations finished on 50000/140737 queries. users per second: 54077.6"
      ]
     },
     "metadata": {},
     "output_type": "display_data"
    },
    {
     "data": {
      "text/html": [
       "<pre>recommendations finished on 51000/140737 queries. users per second: 51998.2</pre>"
      ],
      "text/plain": [
       "recommendations finished on 51000/140737 queries. users per second: 51998.2"
      ]
     },
     "metadata": {},
     "output_type": "display_data"
    },
    {
     "data": {
      "text/html": [
       "<pre>recommendations finished on 52000/140737 queries. users per second: 48224.7</pre>"
      ],
      "text/plain": [
       "recommendations finished on 52000/140737 queries. users per second: 48224.7"
      ]
     },
     "metadata": {},
     "output_type": "display_data"
    },
    {
     "data": {
      "text/html": [
       "<pre>recommendations finished on 53000/140737 queries. users per second: 47171.4</pre>"
      ],
      "text/plain": [
       "recommendations finished on 53000/140737 queries. users per second: 47171.4"
      ]
     },
     "metadata": {},
     "output_type": "display_data"
    },
    {
     "data": {
      "text/html": [
       "<pre>recommendations finished on 54000/140737 queries. users per second: 47228</pre>"
      ],
      "text/plain": [
       "recommendations finished on 54000/140737 queries. users per second: 47228"
      ]
     },
     "metadata": {},
     "output_type": "display_data"
    },
    {
     "data": {
      "text/html": [
       "<pre>recommendations finished on 55000/140737 queries. users per second: 47216.3</pre>"
      ],
      "text/plain": [
       "recommendations finished on 55000/140737 queries. users per second: 47216.3"
      ]
     },
     "metadata": {},
     "output_type": "display_data"
    },
    {
     "data": {
      "text/html": [
       "<pre>recommendations finished on 56000/140737 queries. users per second: 47469.7</pre>"
      ],
      "text/plain": [
       "recommendations finished on 56000/140737 queries. users per second: 47469.7"
      ]
     },
     "metadata": {},
     "output_type": "display_data"
    },
    {
     "data": {
      "text/html": [
       "<pre>recommendations finished on 57000/140737 queries. users per second: 47627.5</pre>"
      ],
      "text/plain": [
       "recommendations finished on 57000/140737 queries. users per second: 47627.5"
      ]
     },
     "metadata": {},
     "output_type": "display_data"
    },
    {
     "data": {
      "text/html": [
       "<pre>recommendations finished on 58000/140737 queries. users per second: 47568.7</pre>"
      ],
      "text/plain": [
       "recommendations finished on 58000/140737 queries. users per second: 47568.7"
      ]
     },
     "metadata": {},
     "output_type": "display_data"
    },
    {
     "data": {
      "text/html": [
       "<pre>recommendations finished on 59000/140737 queries. users per second: 47235.8</pre>"
      ],
      "text/plain": [
       "recommendations finished on 59000/140737 queries. users per second: 47235.8"
      ]
     },
     "metadata": {},
     "output_type": "display_data"
    },
    {
     "data": {
      "text/html": [
       "<pre>recommendations finished on 60000/140737 queries. users per second: 47466.5</pre>"
      ],
      "text/plain": [
       "recommendations finished on 60000/140737 queries. users per second: 47466.5"
      ]
     },
     "metadata": {},
     "output_type": "display_data"
    },
    {
     "data": {
      "text/html": [
       "<pre>recommendations finished on 61000/140737 queries. users per second: 47305.5</pre>"
      ],
      "text/plain": [
       "recommendations finished on 61000/140737 queries. users per second: 47305.5"
      ]
     },
     "metadata": {},
     "output_type": "display_data"
    },
    {
     "data": {
      "text/html": [
       "<pre>recommendations finished on 62000/140737 queries. users per second: 47451.1</pre>"
      ],
      "text/plain": [
       "recommendations finished on 62000/140737 queries. users per second: 47451.1"
      ]
     },
     "metadata": {},
     "output_type": "display_data"
    },
    {
     "data": {
      "text/html": [
       "<pre>recommendations finished on 63000/140737 queries. users per second: 47664.9</pre>"
      ],
      "text/plain": [
       "recommendations finished on 63000/140737 queries. users per second: 47664.9"
      ]
     },
     "metadata": {},
     "output_type": "display_data"
    },
    {
     "data": {
      "text/html": [
       "<pre>recommendations finished on 64000/140737 queries. users per second: 47828.9</pre>"
      ],
      "text/plain": [
       "recommendations finished on 64000/140737 queries. users per second: 47828.9"
      ]
     },
     "metadata": {},
     "output_type": "display_data"
    },
    {
     "data": {
      "text/html": [
       "<pre>recommendations finished on 65000/140737 queries. users per second: 48050.6</pre>"
      ],
      "text/plain": [
       "recommendations finished on 65000/140737 queries. users per second: 48050.6"
      ]
     },
     "metadata": {},
     "output_type": "display_data"
    },
    {
     "data": {
      "text/html": [
       "<pre>recommendations finished on 66000/140737 queries. users per second: 48200.7</pre>"
      ],
      "text/plain": [
       "recommendations finished on 66000/140737 queries. users per second: 48200.7"
      ]
     },
     "metadata": {},
     "output_type": "display_data"
    },
    {
     "data": {
      "text/html": [
       "<pre>recommendations finished on 67000/140737 queries. users per second: 48343.9</pre>"
      ],
      "text/plain": [
       "recommendations finished on 67000/140737 queries. users per second: 48343.9"
      ]
     },
     "metadata": {},
     "output_type": "display_data"
    },
    {
     "data": {
      "text/html": [
       "<pre>recommendations finished on 68000/140737 queries. users per second: 48350.5</pre>"
      ],
      "text/plain": [
       "recommendations finished on 68000/140737 queries. users per second: 48350.5"
      ]
     },
     "metadata": {},
     "output_type": "display_data"
    },
    {
     "data": {
      "text/html": [
       "<pre>recommendations finished on 69000/140737 queries. users per second: 48261.4</pre>"
      ],
      "text/plain": [
       "recommendations finished on 69000/140737 queries. users per second: 48261.4"
      ]
     },
     "metadata": {},
     "output_type": "display_data"
    },
    {
     "data": {
      "text/html": [
       "<pre>recommendations finished on 70000/140737 queries. users per second: 48446.6</pre>"
      ],
      "text/plain": [
       "recommendations finished on 70000/140737 queries. users per second: 48446.6"
      ]
     },
     "metadata": {},
     "output_type": "display_data"
    },
    {
     "data": {
      "text/html": [
       "<pre>recommendations finished on 71000/140737 queries. users per second: 48594</pre>"
      ],
      "text/plain": [
       "recommendations finished on 71000/140737 queries. users per second: 48594"
      ]
     },
     "metadata": {},
     "output_type": "display_data"
    },
    {
     "data": {
      "text/html": [
       "<pre>recommendations finished on 72000/140737 queries. users per second: 48700.9</pre>"
      ],
      "text/plain": [
       "recommendations finished on 72000/140737 queries. users per second: 48700.9"
      ]
     },
     "metadata": {},
     "output_type": "display_data"
    },
    {
     "data": {
      "text/html": [
       "<pre>recommendations finished on 73000/140737 queries. users per second: 48868.7</pre>"
      ],
      "text/plain": [
       "recommendations finished on 73000/140737 queries. users per second: 48868.7"
      ]
     },
     "metadata": {},
     "output_type": "display_data"
    },
    {
     "data": {
      "text/html": [
       "<pre>recommendations finished on 74000/140737 queries. users per second: 48583.7</pre>"
      ],
      "text/plain": [
       "recommendations finished on 74000/140737 queries. users per second: 48583.7"
      ]
     },
     "metadata": {},
     "output_type": "display_data"
    },
    {
     "data": {
      "text/html": [
       "<pre>recommendations finished on 75000/140737 queries. users per second: 48766.4</pre>"
      ],
      "text/plain": [
       "recommendations finished on 75000/140737 queries. users per second: 48766.4"
      ]
     },
     "metadata": {},
     "output_type": "display_data"
    },
    {
     "data": {
      "text/html": [
       "<pre>recommendations finished on 76000/140737 queries. users per second: 48893</pre>"
      ],
      "text/plain": [
       "recommendations finished on 76000/140737 queries. users per second: 48893"
      ]
     },
     "metadata": {},
     "output_type": "display_data"
    },
    {
     "data": {
      "text/html": [
       "<pre>recommendations finished on 77000/140737 queries. users per second: 48836.5</pre>"
      ],
      "text/plain": [
       "recommendations finished on 77000/140737 queries. users per second: 48836.5"
      ]
     },
     "metadata": {},
     "output_type": "display_data"
    },
    {
     "data": {
      "text/html": [
       "<pre>recommendations finished on 78000/140737 queries. users per second: 48972.9</pre>"
      ],
      "text/plain": [
       "recommendations finished on 78000/140737 queries. users per second: 48972.9"
      ]
     },
     "metadata": {},
     "output_type": "display_data"
    },
    {
     "data": {
      "text/html": [
       "<pre>recommendations finished on 79000/140737 queries. users per second: 49003.9</pre>"
      ],
      "text/plain": [
       "recommendations finished on 79000/140737 queries. users per second: 49003.9"
      ]
     },
     "metadata": {},
     "output_type": "display_data"
    },
    {
     "data": {
      "text/html": [
       "<pre>recommendations finished on 80000/140737 queries. users per second: 48885</pre>"
      ],
      "text/plain": [
       "recommendations finished on 80000/140737 queries. users per second: 48885"
      ]
     },
     "metadata": {},
     "output_type": "display_data"
    },
    {
     "data": {
      "text/html": [
       "<pre>recommendations finished on 81000/140737 queries. users per second: 48877.2</pre>"
      ],
      "text/plain": [
       "recommendations finished on 81000/140737 queries. users per second: 48877.2"
      ]
     },
     "metadata": {},
     "output_type": "display_data"
    },
    {
     "data": {
      "text/html": [
       "<pre>recommendations finished on 82000/140737 queries. users per second: 48800</pre>"
      ],
      "text/plain": [
       "recommendations finished on 82000/140737 queries. users per second: 48800"
      ]
     },
     "metadata": {},
     "output_type": "display_data"
    },
    {
     "data": {
      "text/html": [
       "<pre>recommendations finished on 83000/140737 queries. users per second: 48867.6</pre>"
      ],
      "text/plain": [
       "recommendations finished on 83000/140737 queries. users per second: 48867.6"
      ]
     },
     "metadata": {},
     "output_type": "display_data"
    },
    {
     "data": {
      "text/html": [
       "<pre>recommendations finished on 84000/140737 queries. users per second: 48821.6</pre>"
      ],
      "text/plain": [
       "recommendations finished on 84000/140737 queries. users per second: 48821.6"
      ]
     },
     "metadata": {},
     "output_type": "display_data"
    },
    {
     "data": {
      "text/html": [
       "<pre>recommendations finished on 85000/140737 queries. users per second: 48786.1</pre>"
      ],
      "text/plain": [
       "recommendations finished on 85000/140737 queries. users per second: 48786.1"
      ]
     },
     "metadata": {},
     "output_type": "display_data"
    },
    {
     "data": {
      "text/html": [
       "<pre>recommendations finished on 86000/140737 queries. users per second: 48677.8</pre>"
      ],
      "text/plain": [
       "recommendations finished on 86000/140737 queries. users per second: 48677.8"
      ]
     },
     "metadata": {},
     "output_type": "display_data"
    },
    {
     "data": {
      "text/html": [
       "<pre>recommendations finished on 87000/140737 queries. users per second: 48002.5</pre>"
      ],
      "text/plain": [
       "recommendations finished on 87000/140737 queries. users per second: 48002.5"
      ]
     },
     "metadata": {},
     "output_type": "display_data"
    },
    {
     "data": {
      "text/html": [
       "<pre>recommendations finished on 88000/140737 queries. users per second: 48030.3</pre>"
      ],
      "text/plain": [
       "recommendations finished on 88000/140737 queries. users per second: 48030.3"
      ]
     },
     "metadata": {},
     "output_type": "display_data"
    },
    {
     "data": {
      "text/html": [
       "<pre>recommendations finished on 89000/140737 queries. users per second: 48049.7</pre>"
      ],
      "text/plain": [
       "recommendations finished on 89000/140737 queries. users per second: 48049.7"
      ]
     },
     "metadata": {},
     "output_type": "display_data"
    },
    {
     "data": {
      "text/html": [
       "<pre>recommendations finished on 90000/140737 queries. users per second: 47991.6</pre>"
      ],
      "text/plain": [
       "recommendations finished on 90000/140737 queries. users per second: 47991.6"
      ]
     },
     "metadata": {},
     "output_type": "display_data"
    },
    {
     "data": {
      "text/html": [
       "<pre>recommendations finished on 91000/140737 queries. users per second: 48099.2</pre>"
      ],
      "text/plain": [
       "recommendations finished on 91000/140737 queries. users per second: 48099.2"
      ]
     },
     "metadata": {},
     "output_type": "display_data"
    },
    {
     "data": {
      "text/html": [
       "<pre>recommendations finished on 92000/140737 queries. users per second: 48112.4</pre>"
      ],
      "text/plain": [
       "recommendations finished on 92000/140737 queries. users per second: 48112.4"
      ]
     },
     "metadata": {},
     "output_type": "display_data"
    },
    {
     "data": {
      "text/html": [
       "<pre>recommendations finished on 93000/140737 queries. users per second: 48082.7</pre>"
      ],
      "text/plain": [
       "recommendations finished on 93000/140737 queries. users per second: 48082.7"
      ]
     },
     "metadata": {},
     "output_type": "display_data"
    },
    {
     "data": {
      "text/html": [
       "<pre>recommendations finished on 94000/140737 queries. users per second: 48166.1</pre>"
      ],
      "text/plain": [
       "recommendations finished on 94000/140737 queries. users per second: 48166.1"
      ]
     },
     "metadata": {},
     "output_type": "display_data"
    },
    {
     "data": {
      "text/html": [
       "<pre>recommendations finished on 95000/140737 queries. users per second: 48251.3</pre>"
      ],
      "text/plain": [
       "recommendations finished on 95000/140737 queries. users per second: 48251.3"
      ]
     },
     "metadata": {},
     "output_type": "display_data"
    },
    {
     "data": {
      "text/html": [
       "<pre>recommendations finished on 96000/140737 queries. users per second: 48346.9</pre>"
      ],
      "text/plain": [
       "recommendations finished on 96000/140737 queries. users per second: 48346.9"
      ]
     },
     "metadata": {},
     "output_type": "display_data"
    },
    {
     "data": {
      "text/html": [
       "<pre>recommendations finished on 97000/140737 queries. users per second: 48309</pre>"
      ],
      "text/plain": [
       "recommendations finished on 97000/140737 queries. users per second: 48309"
      ]
     },
     "metadata": {},
     "output_type": "display_data"
    },
    {
     "data": {
      "text/html": [
       "<pre>recommendations finished on 98000/140737 queries. users per second: 48315.1</pre>"
      ],
      "text/plain": [
       "recommendations finished on 98000/140737 queries. users per second: 48315.1"
      ]
     },
     "metadata": {},
     "output_type": "display_data"
    },
    {
     "data": {
      "text/html": [
       "<pre>recommendations finished on 99000/140737 queries. users per second: 48336</pre>"
      ],
      "text/plain": [
       "recommendations finished on 99000/140737 queries. users per second: 48336"
      ]
     },
     "metadata": {},
     "output_type": "display_data"
    },
    {
     "data": {
      "text/html": [
       "<pre>recommendations finished on 100000/140737 queries. users per second: 48449.1</pre>"
      ],
      "text/plain": [
       "recommendations finished on 100000/140737 queries. users per second: 48449.1"
      ]
     },
     "metadata": {},
     "output_type": "display_data"
    },
    {
     "data": {
      "text/html": [
       "<pre>recommendations finished on 101000/140737 queries. users per second: 48583.6</pre>"
      ],
      "text/plain": [
       "recommendations finished on 101000/140737 queries. users per second: 48583.6"
      ]
     },
     "metadata": {},
     "output_type": "display_data"
    },
    {
     "data": {
      "text/html": [
       "<pre>recommendations finished on 102000/140737 queries. users per second: 48704.7</pre>"
      ],
      "text/plain": [
       "recommendations finished on 102000/140737 queries. users per second: 48704.7"
      ]
     },
     "metadata": {},
     "output_type": "display_data"
    },
    {
     "data": {
      "text/html": [
       "<pre>recommendations finished on 103000/140737 queries. users per second: 48835.3</pre>"
      ],
      "text/plain": [
       "recommendations finished on 103000/140737 queries. users per second: 48835.3"
      ]
     },
     "metadata": {},
     "output_type": "display_data"
    },
    {
     "data": {
      "text/html": [
       "<pre>recommendations finished on 104000/140737 queries. users per second: 48755.1</pre>"
      ],
      "text/plain": [
       "recommendations finished on 104000/140737 queries. users per second: 48755.1"
      ]
     },
     "metadata": {},
     "output_type": "display_data"
    },
    {
     "data": {
      "text/html": [
       "<pre>recommendations finished on 105000/140737 queries. users per second: 48083.3</pre>"
      ],
      "text/plain": [
       "recommendations finished on 105000/140737 queries. users per second: 48083.3"
      ]
     },
     "metadata": {},
     "output_type": "display_data"
    },
    {
     "data": {
      "text/html": [
       "<pre>recommendations finished on 106000/140737 queries. users per second: 47623.2</pre>"
      ],
      "text/plain": [
       "recommendations finished on 106000/140737 queries. users per second: 47623.2"
      ]
     },
     "metadata": {},
     "output_type": "display_data"
    },
    {
     "data": {
      "text/html": [
       "<pre>recommendations finished on 107000/140737 queries. users per second: 47398.4</pre>"
      ],
      "text/plain": [
       "recommendations finished on 107000/140737 queries. users per second: 47398.4"
      ]
     },
     "metadata": {},
     "output_type": "display_data"
    },
    {
     "data": {
      "text/html": [
       "<pre>recommendations finished on 108000/140737 queries. users per second: 47487.4</pre>"
      ],
      "text/plain": [
       "recommendations finished on 108000/140737 queries. users per second: 47487.4"
      ]
     },
     "metadata": {},
     "output_type": "display_data"
    },
    {
     "data": {
      "text/html": [
       "<pre>recommendations finished on 109000/140737 queries. users per second: 47589.6</pre>"
      ],
      "text/plain": [
       "recommendations finished on 109000/140737 queries. users per second: 47589.6"
      ]
     },
     "metadata": {},
     "output_type": "display_data"
    },
    {
     "data": {
      "text/html": [
       "<pre>recommendations finished on 110000/140737 queries. users per second: 47575.4</pre>"
      ],
      "text/plain": [
       "recommendations finished on 110000/140737 queries. users per second: 47575.4"
      ]
     },
     "metadata": {},
     "output_type": "display_data"
    },
    {
     "data": {
      "text/html": [
       "<pre>recommendations finished on 111000/140737 queries. users per second: 47511.1</pre>"
      ],
      "text/plain": [
       "recommendations finished on 111000/140737 queries. users per second: 47511.1"
      ]
     },
     "metadata": {},
     "output_type": "display_data"
    },
    {
     "data": {
      "text/html": [
       "<pre>recommendations finished on 112000/140737 queries. users per second: 47620.2</pre>"
      ],
      "text/plain": [
       "recommendations finished on 112000/140737 queries. users per second: 47620.2"
      ]
     },
     "metadata": {},
     "output_type": "display_data"
    },
    {
     "data": {
      "text/html": [
       "<pre>recommendations finished on 113000/140737 queries. users per second: 47735.5</pre>"
      ],
      "text/plain": [
       "recommendations finished on 113000/140737 queries. users per second: 47735.5"
      ]
     },
     "metadata": {},
     "output_type": "display_data"
    },
    {
     "data": {
      "text/html": [
       "<pre>recommendations finished on 114000/140737 queries. users per second: 47814.5</pre>"
      ],
      "text/plain": [
       "recommendations finished on 114000/140737 queries. users per second: 47814.5"
      ]
     },
     "metadata": {},
     "output_type": "display_data"
    },
    {
     "data": {
      "text/html": [
       "<pre>recommendations finished on 115000/140737 queries. users per second: 47902.8</pre>"
      ],
      "text/plain": [
       "recommendations finished on 115000/140737 queries. users per second: 47902.8"
      ]
     },
     "metadata": {},
     "output_type": "display_data"
    },
    {
     "data": {
      "text/html": [
       "<pre>recommendations finished on 116000/140737 queries. users per second: 48020</pre>"
      ],
      "text/plain": [
       "recommendations finished on 116000/140737 queries. users per second: 48020"
      ]
     },
     "metadata": {},
     "output_type": "display_data"
    },
    {
     "data": {
      "text/html": [
       "<pre>recommendations finished on 117000/140737 queries. users per second: 48074.1</pre>"
      ],
      "text/plain": [
       "recommendations finished on 117000/140737 queries. users per second: 48074.1"
      ]
     },
     "metadata": {},
     "output_type": "display_data"
    },
    {
     "data": {
      "text/html": [
       "<pre>recommendations finished on 118000/140737 queries. users per second: 47750.1</pre>"
      ],
      "text/plain": [
       "recommendations finished on 118000/140737 queries. users per second: 47750.1"
      ]
     },
     "metadata": {},
     "output_type": "display_data"
    },
    {
     "data": {
      "text/html": [
       "<pre>recommendations finished on 119000/140737 queries. users per second: 47804.8</pre>"
      ],
      "text/plain": [
       "recommendations finished on 119000/140737 queries. users per second: 47804.8"
      ]
     },
     "metadata": {},
     "output_type": "display_data"
    },
    {
     "data": {
      "text/html": [
       "<pre>recommendations finished on 120000/140737 queries. users per second: 47789.7</pre>"
      ],
      "text/plain": [
       "recommendations finished on 120000/140737 queries. users per second: 47789.7"
      ]
     },
     "metadata": {},
     "output_type": "display_data"
    },
    {
     "data": {
      "text/html": [
       "<pre>recommendations finished on 121000/140737 queries. users per second: 47907</pre>"
      ],
      "text/plain": [
       "recommendations finished on 121000/140737 queries. users per second: 47907"
      ]
     },
     "metadata": {},
     "output_type": "display_data"
    },
    {
     "data": {
      "text/html": [
       "<pre>recommendations finished on 122000/140737 queries. users per second: 48029.5</pre>"
      ],
      "text/plain": [
       "recommendations finished on 122000/140737 queries. users per second: 48029.5"
      ]
     },
     "metadata": {},
     "output_type": "display_data"
    },
    {
     "data": {
      "text/html": [
       "<pre>recommendations finished on 123000/140737 queries. users per second: 48072.9</pre>"
      ],
      "text/plain": [
       "recommendations finished on 123000/140737 queries. users per second: 48072.9"
      ]
     },
     "metadata": {},
     "output_type": "display_data"
    },
    {
     "data": {
      "text/html": [
       "<pre>recommendations finished on 124000/140737 queries. users per second: 48096.4</pre>"
      ],
      "text/plain": [
       "recommendations finished on 124000/140737 queries. users per second: 48096.4"
      ]
     },
     "metadata": {},
     "output_type": "display_data"
    },
    {
     "data": {
      "text/html": [
       "<pre>recommendations finished on 125000/140737 queries. users per second: 48185.3</pre>"
      ],
      "text/plain": [
       "recommendations finished on 125000/140737 queries. users per second: 48185.3"
      ]
     },
     "metadata": {},
     "output_type": "display_data"
    },
    {
     "data": {
      "text/html": [
       "<pre>recommendations finished on 126000/140737 queries. users per second: 48292</pre>"
      ],
      "text/plain": [
       "recommendations finished on 126000/140737 queries. users per second: 48292"
      ]
     },
     "metadata": {},
     "output_type": "display_data"
    },
    {
     "data": {
      "text/html": [
       "<pre>recommendations finished on 127000/140737 queries. users per second: 48263.7</pre>"
      ],
      "text/plain": [
       "recommendations finished on 127000/140737 queries. users per second: 48263.7"
      ]
     },
     "metadata": {},
     "output_type": "display_data"
    },
    {
     "data": {
      "text/html": [
       "<pre>recommendations finished on 128000/140737 queries. users per second: 48299.2</pre>"
      ],
      "text/plain": [
       "recommendations finished on 128000/140737 queries. users per second: 48299.2"
      ]
     },
     "metadata": {},
     "output_type": "display_data"
    },
    {
     "data": {
      "text/html": [
       "<pre>recommendations finished on 129000/140737 queries. users per second: 48197.4</pre>"
      ],
      "text/plain": [
       "recommendations finished on 129000/140737 queries. users per second: 48197.4"
      ]
     },
     "metadata": {},
     "output_type": "display_data"
    },
    {
     "data": {
      "text/html": [
       "<pre>recommendations finished on 130000/140737 queries. users per second: 48190.3</pre>"
      ],
      "text/plain": [
       "recommendations finished on 130000/140737 queries. users per second: 48190.3"
      ]
     },
     "metadata": {},
     "output_type": "display_data"
    },
    {
     "data": {
      "text/html": [
       "<pre>recommendations finished on 131000/140737 queries. users per second: 48200.1</pre>"
      ],
      "text/plain": [
       "recommendations finished on 131000/140737 queries. users per second: 48200.1"
      ]
     },
     "metadata": {},
     "output_type": "display_data"
    },
    {
     "data": {
      "text/html": [
       "<pre>recommendations finished on 132000/140737 queries. users per second: 48232.1</pre>"
      ],
      "text/plain": [
       "recommendations finished on 132000/140737 queries. users per second: 48232.1"
      ]
     },
     "metadata": {},
     "output_type": "display_data"
    },
    {
     "data": {
      "text/html": [
       "<pre>recommendations finished on 133000/140737 queries. users per second: 48232.5</pre>"
      ],
      "text/plain": [
       "recommendations finished on 133000/140737 queries. users per second: 48232.5"
      ]
     },
     "metadata": {},
     "output_type": "display_data"
    },
    {
     "data": {
      "text/html": [
       "<pre>recommendations finished on 134000/140737 queries. users per second: 48236</pre>"
      ],
      "text/plain": [
       "recommendations finished on 134000/140737 queries. users per second: 48236"
      ]
     },
     "metadata": {},
     "output_type": "display_data"
    },
    {
     "data": {
      "text/html": [
       "<pre>recommendations finished on 135000/140737 queries. users per second: 48208.6</pre>"
      ],
      "text/plain": [
       "recommendations finished on 135000/140737 queries. users per second: 48208.6"
      ]
     },
     "metadata": {},
     "output_type": "display_data"
    },
    {
     "data": {
      "text/html": [
       "<pre>recommendations finished on 136000/140737 queries. users per second: 48241.5</pre>"
      ],
      "text/plain": [
       "recommendations finished on 136000/140737 queries. users per second: 48241.5"
      ]
     },
     "metadata": {},
     "output_type": "display_data"
    },
    {
     "data": {
      "text/html": [
       "<pre>recommendations finished on 137000/140737 queries. users per second: 48138.7</pre>"
      ],
      "text/plain": [
       "recommendations finished on 137000/140737 queries. users per second: 48138.7"
      ]
     },
     "metadata": {},
     "output_type": "display_data"
    },
    {
     "data": {
      "text/html": [
       "<pre>recommendations finished on 138000/140737 queries. users per second: 48122.7</pre>"
      ],
      "text/plain": [
       "recommendations finished on 138000/140737 queries. users per second: 48122.7"
      ]
     },
     "metadata": {},
     "output_type": "display_data"
    },
    {
     "data": {
      "text/html": [
       "<pre>recommendations finished on 139000/140737 queries. users per second: 48108.7</pre>"
      ],
      "text/plain": [
       "recommendations finished on 139000/140737 queries. users per second: 48108.7"
      ]
     },
     "metadata": {},
     "output_type": "display_data"
    },
    {
     "data": {
      "text/html": [
       "<pre>recommendations finished on 140000/140737 queries. users per second: 48090.6</pre>"
      ],
      "text/plain": [
       "recommendations finished on 140000/140737 queries. users per second: 48090.6"
      ]
     },
     "metadata": {},
     "output_type": "display_data"
    }
   ],
   "source": [
    "pop_result = pop_rec.recommend()"
   ]
  },
  {
   "cell_type": "code",
   "execution_count": 305,
   "metadata": {},
   "outputs": [
    {
     "name": "stdout",
     "output_type": "stream",
     "text": [
      "+------------------------+------------------------+-------+------+\n",
      "|        user_id         |      business_id       | score | rank |\n",
      "+------------------------+------------------------+-------+------+\n",
      "| nT8zgjoc-PbdBoQsFEXFLw | ZQBUBnccfiCzQTrEwNy-xw |  5.0  |  1   |\n",
      "| nT8zgjoc-PbdBoQsFEXFLw | 3yJD0xcRuhZA8Bl1liUr_A |  5.0  |  2   |\n",
      "| nT8zgjoc-PbdBoQsFEXFLw | 2iWpS2xe9rBaFAv1CJuz3g |  5.0  |  3   |\n",
      "| nT8zgjoc-PbdBoQsFEXFLw | 2aPbaa0FFbN9AdPtxHqbVg |  5.0  |  4   |\n",
      "| nT8zgjoc-PbdBoQsFEXFLw | 0xNSLnqLT5miZO9RqSvbhw |  5.0  |  5   |\n",
      "| nT8zgjoc-PbdBoQsFEXFLw | 0ueq5zB3NqLbh93KYYNIHQ |  5.0  |  6   |\n",
      "| nT8zgjoc-PbdBoQsFEXFLw | 0mnnlFCploePlnEaddw63g |  5.0  |  7   |\n",
      "| nT8zgjoc-PbdBoQsFEXFLw | -zbJp3NGEhvmNOiFziN8Lg |  5.0  |  8   |\n",
      "| nT8zgjoc-PbdBoQsFEXFLw | -UtYWvCnUppcSaC_u1pTYQ |  5.0  |  9   |\n",
      "| nT8zgjoc-PbdBoQsFEXFLw | -CbDQXiuKzPQ0_jiUz03aw |  5.0  |  10  |\n",
      "| rOIrilMC7VFwFVBeQNiKMw | ZQBUBnccfiCzQTrEwNy-xw |  5.0  |  1   |\n",
      "| rOIrilMC7VFwFVBeQNiKMw | 3yJD0xcRuhZA8Bl1liUr_A |  5.0  |  2   |\n",
      "| rOIrilMC7VFwFVBeQNiKMw | 2iWpS2xe9rBaFAv1CJuz3g |  5.0  |  3   |\n",
      "| rOIrilMC7VFwFVBeQNiKMw | 2aPbaa0FFbN9AdPtxHqbVg |  5.0  |  4   |\n",
      "| rOIrilMC7VFwFVBeQNiKMw | 0xNSLnqLT5miZO9RqSvbhw |  5.0  |  5   |\n",
      "| rOIrilMC7VFwFVBeQNiKMw | 0ueq5zB3NqLbh93KYYNIHQ |  5.0  |  6   |\n",
      "| rOIrilMC7VFwFVBeQNiKMw | 0mnnlFCploePlnEaddw63g |  5.0  |  7   |\n",
      "| rOIrilMC7VFwFVBeQNiKMw | -zbJp3NGEhvmNOiFziN8Lg |  5.0  |  8   |\n",
      "| rOIrilMC7VFwFVBeQNiKMw | -UtYWvCnUppcSaC_u1pTYQ |  5.0  |  9   |\n",
      "| rOIrilMC7VFwFVBeQNiKMw | -CbDQXiuKzPQ0_jiUz03aw |  5.0  |  10  |\n",
      "| ez3GBw83OIgzzgvc0R4jzw | ZQBUBnccfiCzQTrEwNy-xw |  5.0  |  1   |\n",
      "| ez3GBw83OIgzzgvc0R4jzw | 3yJD0xcRuhZA8Bl1liUr_A |  5.0  |  2   |\n",
      "| ez3GBw83OIgzzgvc0R4jzw | 2iWpS2xe9rBaFAv1CJuz3g |  5.0  |  3   |\n",
      "| ez3GBw83OIgzzgvc0R4jzw | 2aPbaa0FFbN9AdPtxHqbVg |  5.0  |  4   |\n",
      "| ez3GBw83OIgzzgvc0R4jzw | 0xNSLnqLT5miZO9RqSvbhw |  5.0  |  5   |\n",
      "| ez3GBw83OIgzzgvc0R4jzw | 0ueq5zB3NqLbh93KYYNIHQ |  5.0  |  6   |\n",
      "| ez3GBw83OIgzzgvc0R4jzw | 0mnnlFCploePlnEaddw63g |  5.0  |  7   |\n",
      "| ez3GBw83OIgzzgvc0R4jzw | -zbJp3NGEhvmNOiFziN8Lg |  5.0  |  8   |\n",
      "| ez3GBw83OIgzzgvc0R4jzw | -UtYWvCnUppcSaC_u1pTYQ |  5.0  |  9   |\n",
      "| ez3GBw83OIgzzgvc0R4jzw | -CbDQXiuKzPQ0_jiUz03aw |  5.0  |  10  |\n",
      "+------------------------+------------------------+-------+------+\n",
      "[1407370 rows x 4 columns]\n",
      "\n"
     ]
    }
   ],
   "source": [
    "pop_result.print_rows(num_rows = 30) # For each user, recommend the top 10 popular restaurants"
   ]
  },
  {
   "cell_type": "code",
   "execution_count": 306,
   "metadata": {},
   "outputs": [
    {
     "data": {
      "text/plain": [
       "140737"
      ]
     },
     "execution_count": 306,
     "metadata": {},
     "output_type": "execute_result"
    }
   ],
   "source": [
    "pop_result.num_rows()/10 # this is the number of user_id"
   ]
  },
  {
   "cell_type": "markdown",
   "metadata": {},
   "source": [
    "## 4.3 Hybrid Recommender\n",
    "### For active users, recommend using item-item recommender; for inactive users, use popularity based recommender"
   ]
  },
  {
   "cell_type": "code",
   "execution_count": 307,
   "metadata": {
    "collapsed": true
   },
   "outputs": [],
   "source": [
    "# Select active users\n",
    "df_active_users = df_user_counts[df_user_counts > 5]"
   ]
  },
  {
   "cell_type": "code",
   "execution_count": 308,
   "metadata": {
    "collapsed": true
   },
   "outputs": [],
   "source": [
    "# Select inactive users\n",
    "df_inactive_users = df_user_counts[df_user_counts <= 5]"
   ]
  },
  {
   "cell_type": "code",
   "execution_count": 309,
   "metadata": {},
   "outputs": [
    {
     "data": {
      "text/plain": [
       "((7252,), (133485,))"
      ]
     },
     "execution_count": 309,
     "metadata": {},
     "output_type": "execute_result"
    }
   ],
   "source": [
    "df_active_users.shape, df_inactive_users.shape"
   ]
  },
  {
   "cell_type": "code",
   "execution_count": 311,
   "metadata": {
    "collapsed": true
   },
   "outputs": [],
   "source": [
    "# Create df_stars for active users\n",
    "df_stars_active = df_stars.set_index('user_id').ix[df_active_users.index].reset_index()"
   ]
  },
  {
   "cell_type": "code",
   "execution_count": 312,
   "metadata": {
    "collapsed": true
   },
   "outputs": [],
   "source": [
    "# Create df_stars for inactive users\n",
    "df_stars_inactive = df_stars.set_index('user_id').ix[df_inactive_users.index].reset_index()"
   ]
  },
  {
   "cell_type": "code",
   "execution_count": 313,
   "metadata": {},
   "outputs": [
    {
     "data": {
      "text/plain": [
       "((85916, 3), (201181, 3), (287097, 3))"
      ]
     },
     "execution_count": 313,
     "metadata": {},
     "output_type": "execute_result"
    }
   ],
   "source": [
    "df_stars_active.shape, df_stars_inactive.shape, df_stars.shape"
   ]
  },
  {
   "cell_type": "markdown",
   "metadata": {},
   "source": [
    "### For active users, use item-item recommender"
   ]
  },
  {
   "cell_type": "code",
   "execution_count": 314,
   "metadata": {},
   "outputs": [],
   "source": [
    "# For active users, use item-item recommender\n",
    "sf_stars_active = graphlab.SFrame(df_stars_active)\n"
   ]
  },
  {
   "cell_type": "code",
   "execution_count": 315,
   "metadata": {},
   "outputs": [
    {
     "data": {
      "text/html": [
       "<div style=\"max-height:1000px;max-width:1500px;overflow:auto;\"><table frame=\"box\" rules=\"cols\">\n",
       "    <tr>\n",
       "        <th style=\"padding-left: 1em; padding-right: 1em; text-align: center\">user_id</th>\n",
       "        <th style=\"padding-left: 1em; padding-right: 1em; text-align: center\">business_id</th>\n",
       "        <th style=\"padding-left: 1em; padding-right: 1em; text-align: center\">stars</th>\n",
       "    </tr>\n",
       "    <tr>\n",
       "        <td style=\"padding-left: 1em; padding-right: 1em; text-align: center; vertical-align: top\">bLbSNkLggFnqwNNzzq-Ijw</td>\n",
       "        <td style=\"padding-left: 1em; padding-right: 1em; text-align: center; vertical-align: top\">0i9S0BejjRv0ZDwdO9XymA</td>\n",
       "        <td style=\"padding-left: 1em; padding-right: 1em; text-align: center; vertical-align: top\">3</td>\n",
       "    </tr>\n",
       "    <tr>\n",
       "        <td style=\"padding-left: 1em; padding-right: 1em; text-align: center; vertical-align: top\">bLbSNkLggFnqwNNzzq-Ijw</td>\n",
       "        <td style=\"padding-left: 1em; padding-right: 1em; text-align: center; vertical-align: top\">2QznyHGF0PuiYkrl5RU66A</td>\n",
       "        <td style=\"padding-left: 1em; padding-right: 1em; text-align: center; vertical-align: top\">4</td>\n",
       "    </tr>\n",
       "    <tr>\n",
       "        <td style=\"padding-left: 1em; padding-right: 1em; text-align: center; vertical-align: top\">bLbSNkLggFnqwNNzzq-Ijw</td>\n",
       "        <td style=\"padding-left: 1em; padding-right: 1em; text-align: center; vertical-align: top\">2WiMyg8-DoXQ8_R5qFc2iQ</td>\n",
       "        <td style=\"padding-left: 1em; padding-right: 1em; text-align: center; vertical-align: top\">3</td>\n",
       "    </tr>\n",
       "    <tr>\n",
       "        <td style=\"padding-left: 1em; padding-right: 1em; text-align: center; vertical-align: top\">bLbSNkLggFnqwNNzzq-Ijw</td>\n",
       "        <td style=\"padding-left: 1em; padding-right: 1em; text-align: center; vertical-align: top\">2vr2yGIzSehe_ITFamNpyw</td>\n",
       "        <td style=\"padding-left: 1em; padding-right: 1em; text-align: center; vertical-align: top\">3</td>\n",
       "    </tr>\n",
       "    <tr>\n",
       "        <td style=\"padding-left: 1em; padding-right: 1em; text-align: center; vertical-align: top\">bLbSNkLggFnqwNNzzq-Ijw</td>\n",
       "        <td style=\"padding-left: 1em; padding-right: 1em; text-align: center; vertical-align: top\">4Nj2ktP2NjCbv2aKeH3ZBg</td>\n",
       "        <td style=\"padding-left: 1em; padding-right: 1em; text-align: center; vertical-align: top\">4</td>\n",
       "    </tr>\n",
       "    <tr>\n",
       "        <td style=\"padding-left: 1em; padding-right: 1em; text-align: center; vertical-align: top\">bLbSNkLggFnqwNNzzq-Ijw</td>\n",
       "        <td style=\"padding-left: 1em; padding-right: 1em; text-align: center; vertical-align: top\">5EgDTPJNZsmbMG52ixnMXA</td>\n",
       "        <td style=\"padding-left: 1em; padding-right: 1em; text-align: center; vertical-align: top\">3</td>\n",
       "    </tr>\n",
       "    <tr>\n",
       "        <td style=\"padding-left: 1em; padding-right: 1em; text-align: center; vertical-align: top\">bLbSNkLggFnqwNNzzq-Ijw</td>\n",
       "        <td style=\"padding-left: 1em; padding-right: 1em; text-align: center; vertical-align: top\">82g1PwX5FvclqqdjJHcVNA</td>\n",
       "        <td style=\"padding-left: 1em; padding-right: 1em; text-align: center; vertical-align: top\">4</td>\n",
       "    </tr>\n",
       "    <tr>\n",
       "        <td style=\"padding-left: 1em; padding-right: 1em; text-align: center; vertical-align: top\">bLbSNkLggFnqwNNzzq-Ijw</td>\n",
       "        <td style=\"padding-left: 1em; padding-right: 1em; text-align: center; vertical-align: top\">8chcaZIRlP4p5anpzUB3FQ</td>\n",
       "        <td style=\"padding-left: 1em; padding-right: 1em; text-align: center; vertical-align: top\">2</td>\n",
       "    </tr>\n",
       "    <tr>\n",
       "        <td style=\"padding-left: 1em; padding-right: 1em; text-align: center; vertical-align: top\">bLbSNkLggFnqwNNzzq-Ijw</td>\n",
       "        <td style=\"padding-left: 1em; padding-right: 1em; text-align: center; vertical-align: top\">8tMy7yEeNVYylVVFRlPmdQ</td>\n",
       "        <td style=\"padding-left: 1em; padding-right: 1em; text-align: center; vertical-align: top\">3</td>\n",
       "    </tr>\n",
       "    <tr>\n",
       "        <td style=\"padding-left: 1em; padding-right: 1em; text-align: center; vertical-align: top\">bLbSNkLggFnqwNNzzq-Ijw</td>\n",
       "        <td style=\"padding-left: 1em; padding-right: 1em; text-align: center; vertical-align: top\">9AnvV8V-UvA_rFhMCr_Dlw</td>\n",
       "        <td style=\"padding-left: 1em; padding-right: 1em; text-align: center; vertical-align: top\">4</td>\n",
       "    </tr>\n",
       "</table>\n",
       "[10 rows x 3 columns]<br/>\n",
       "</div>"
      ],
      "text/plain": [
       "Columns:\n",
       "\tuser_id\tstr\n",
       "\tbusiness_id\tstr\n",
       "\tstars\tint\n",
       "\n",
       "Rows: 10\n",
       "\n",
       "Data:\n",
       "+------------------------+------------------------+-------+\n",
       "|        user_id         |      business_id       | stars |\n",
       "+------------------------+------------------------+-------+\n",
       "| bLbSNkLggFnqwNNzzq-Ijw | 0i9S0BejjRv0ZDwdO9XymA |   3   |\n",
       "| bLbSNkLggFnqwNNzzq-Ijw | 2QznyHGF0PuiYkrl5RU66A |   4   |\n",
       "| bLbSNkLggFnqwNNzzq-Ijw | 2WiMyg8-DoXQ8_R5qFc2iQ |   3   |\n",
       "| bLbSNkLggFnqwNNzzq-Ijw | 2vr2yGIzSehe_ITFamNpyw |   3   |\n",
       "| bLbSNkLggFnqwNNzzq-Ijw | 4Nj2ktP2NjCbv2aKeH3ZBg |   4   |\n",
       "| bLbSNkLggFnqwNNzzq-Ijw | 5EgDTPJNZsmbMG52ixnMXA |   3   |\n",
       "| bLbSNkLggFnqwNNzzq-Ijw | 82g1PwX5FvclqqdjJHcVNA |   4   |\n",
       "| bLbSNkLggFnqwNNzzq-Ijw | 8chcaZIRlP4p5anpzUB3FQ |   2   |\n",
       "| bLbSNkLggFnqwNNzzq-Ijw | 8tMy7yEeNVYylVVFRlPmdQ |   3   |\n",
       "| bLbSNkLggFnqwNNzzq-Ijw | 9AnvV8V-UvA_rFhMCr_Dlw |   4   |\n",
       "+------------------------+------------------------+-------+\n",
       "[10 rows x 3 columns]"
      ]
     },
     "execution_count": 315,
     "metadata": {},
     "output_type": "execute_result"
    }
   ],
   "source": [
    "sf_stars_active.head()"
   ]
  },
  {
   "cell_type": "code",
   "execution_count": 316,
   "metadata": {},
   "outputs": [
    {
     "data": {
      "text/html": [
       "<pre>Recsys training: model = item_similarity</pre>"
      ],
      "text/plain": [
       "Recsys training: model = item_similarity"
      ]
     },
     "metadata": {},
     "output_type": "display_data"
    },
    {
     "data": {
      "text/html": [
       "<pre>Preparing data set.</pre>"
      ],
      "text/plain": [
       "Preparing data set."
      ]
     },
     "metadata": {},
     "output_type": "display_data"
    },
    {
     "data": {
      "text/html": [
       "<pre>    Data has 85916 observations with 7252 users and 3911 items.</pre>"
      ],
      "text/plain": [
       "    Data has 85916 observations with 7252 users and 3911 items."
      ]
     },
     "metadata": {},
     "output_type": "display_data"
    },
    {
     "data": {
      "text/html": [
       "<pre>    Data prepared in: 0.2049s</pre>"
      ],
      "text/plain": [
       "    Data prepared in: 0.2049s"
      ]
     },
     "metadata": {},
     "output_type": "display_data"
    },
    {
     "data": {
      "text/html": [
       "<pre>Training model from provided data.</pre>"
      ],
      "text/plain": [
       "Training model from provided data."
      ]
     },
     "metadata": {},
     "output_type": "display_data"
    },
    {
     "data": {
      "text/html": [
       "<pre>Gathering per-item and per-user statistics.</pre>"
      ],
      "text/plain": [
       "Gathering per-item and per-user statistics."
      ]
     },
     "metadata": {},
     "output_type": "display_data"
    },
    {
     "data": {
      "text/html": [
       "<pre>+--------------------------------+------------+</pre>"
      ],
      "text/plain": [
       "+--------------------------------+------------+"
      ]
     },
     "metadata": {},
     "output_type": "display_data"
    },
    {
     "data": {
      "text/html": [
       "<pre>| Elapsed Time (Item Statistics) | % Complete |</pre>"
      ],
      "text/plain": [
       "| Elapsed Time (Item Statistics) | % Complete |"
      ]
     },
     "metadata": {},
     "output_type": "display_data"
    },
    {
     "data": {
      "text/html": [
       "<pre>+--------------------------------+------------+</pre>"
      ],
      "text/plain": [
       "+--------------------------------+------------+"
      ]
     },
     "metadata": {},
     "output_type": "display_data"
    },
    {
     "data": {
      "text/html": [
       "<pre>| 3.454ms                        | 13.75      |</pre>"
      ],
      "text/plain": [
       "| 3.454ms                        | 13.75      |"
      ]
     },
     "metadata": {},
     "output_type": "display_data"
    },
    {
     "data": {
      "text/html": [
       "<pre>| 9.375ms                        | 100        |</pre>"
      ],
      "text/plain": [
       "| 9.375ms                        | 100        |"
      ]
     },
     "metadata": {},
     "output_type": "display_data"
    },
    {
     "data": {
      "text/html": [
       "<pre>+--------------------------------+------------+</pre>"
      ],
      "text/plain": [
       "+--------------------------------+------------+"
      ]
     },
     "metadata": {},
     "output_type": "display_data"
    },
    {
     "data": {
      "text/html": [
       "<pre>Setting up lookup tables.</pre>"
      ],
      "text/plain": [
       "Setting up lookup tables."
      ]
     },
     "metadata": {},
     "output_type": "display_data"
    },
    {
     "data": {
      "text/html": [
       "<pre>Processing data in one pass using dense lookup tables.</pre>"
      ],
      "text/plain": [
       "Processing data in one pass using dense lookup tables."
      ]
     },
     "metadata": {},
     "output_type": "display_data"
    },
    {
     "data": {
      "text/html": [
       "<pre>+-------------------------------------+------------------+-----------------+</pre>"
      ],
      "text/plain": [
       "+-------------------------------------+------------------+-----------------+"
      ]
     },
     "metadata": {},
     "output_type": "display_data"
    },
    {
     "data": {
      "text/html": [
       "<pre>| Elapsed Time (Constructing Lookups) | Total % Complete | Items Processed |</pre>"
      ],
      "text/plain": [
       "| Elapsed Time (Constructing Lookups) | Total % Complete | Items Processed |"
      ]
     },
     "metadata": {},
     "output_type": "display_data"
    },
    {
     "data": {
      "text/html": [
       "<pre>+-------------------------------------+------------------+-----------------+</pre>"
      ],
      "text/plain": [
       "+-------------------------------------+------------------+-----------------+"
      ]
     },
     "metadata": {},
     "output_type": "display_data"
    },
    {
     "data": {
      "text/html": [
       "<pre>| 49.522ms                            | 5.75             | 226             |</pre>"
      ],
      "text/plain": [
       "| 49.522ms                            | 5.75             | 226             |"
      ]
     },
     "metadata": {},
     "output_type": "display_data"
    },
    {
     "data": {
      "text/html": [
       "<pre>| 173.273ms                           | 100              | 3911            |</pre>"
      ],
      "text/plain": [
       "| 173.273ms                           | 100              | 3911            |"
      ]
     },
     "metadata": {},
     "output_type": "display_data"
    },
    {
     "data": {
      "text/html": [
       "<pre>+-------------------------------------+------------------+-----------------+</pre>"
      ],
      "text/plain": [
       "+-------------------------------------+------------------+-----------------+"
      ]
     },
     "metadata": {},
     "output_type": "display_data"
    },
    {
     "data": {
      "text/html": [
       "<pre>Finalizing lookup tables.</pre>"
      ],
      "text/plain": [
       "Finalizing lookup tables."
      ]
     },
     "metadata": {},
     "output_type": "display_data"
    },
    {
     "data": {
      "text/html": [
       "<pre>Generating candidate set for working with new users.</pre>"
      ],
      "text/plain": [
       "Generating candidate set for working with new users."
      ]
     },
     "metadata": {},
     "output_type": "display_data"
    },
    {
     "data": {
      "text/html": [
       "<pre>Finished training in 0.216049s</pre>"
      ],
      "text/plain": [
       "Finished training in 0.216049s"
      ]
     },
     "metadata": {},
     "output_type": "display_data"
    }
   ],
   "source": [
    "item_item_rec_active = graphlab.recommender.item_similarity_recommender.create(sf_stars_active,\n",
    "                                                                               user_id = 'user_id',\n",
    "                                                                               item_id = 'business_id',\n",
    "                                                                               target = 'stars')"
   ]
  },
  {
   "cell_type": "code",
   "execution_count": 317,
   "metadata": {},
   "outputs": [],
   "source": [
    "item_item_rec_active_result = item_item_rec_active.recommend(k = 10, verbose = False)"
   ]
  },
  {
   "cell_type": "code",
   "execution_count": 318,
   "metadata": {},
   "outputs": [
    {
     "name": "stdout",
     "output_type": "stream",
     "text": [
      "+------------------------+------------------------+------------------+------+\n",
      "|        user_id         |      business_id       |      score       | rank |\n",
      "+------------------------+------------------------+------------------+------+\n",
      "| bLbSNkLggFnqwNNzzq-Ijw | oUX2bYbqjqST-urKbOHG6w | 0.00540889667336 |  1   |\n",
      "| bLbSNkLggFnqwNNzzq-Ijw | wYrkCpUlxhb89nnNGUX4AA | 0.00451526733545 |  2   |\n",
      "| bLbSNkLggFnqwNNzzq-Ijw | R9gRb3T8t-eIKlOtMPShuA | 0.00446382323666 |  3   |\n",
      "| bLbSNkLggFnqwNNzzq-Ijw | SEMvJDVnDB4NoPW6tXXO_Q | 0.00394295923103 |  4   |\n",
      "| bLbSNkLggFnqwNNzzq-Ijw | IhNASEZ3XnBHmuuVnWdIwA | 0.00376377532468 |  5   |\n",
      "| bLbSNkLggFnqwNNzzq-Ijw | aS1qJzTGyluRT2tJ09Jbaw | 0.00355857998662 |  6   |\n",
      "| bLbSNkLggFnqwNNzzq-Ijw | 9PIC380tmNYpIC3z5cvcNA | 0.00340686112466 |  7   |\n",
      "| bLbSNkLggFnqwNNzzq-Ijw | wkKlpSx3OcoGJiv7p8VZzw | 0.00333691560305 |  8   |\n",
      "| bLbSNkLggFnqwNNzzq-Ijw | Rv0UdhYw_UVIv4D2lc-qgg | 0.00329946942583 |  9   |\n",
      "| bLbSNkLggFnqwNNzzq-Ijw | BEtgRzNeXGAf0uQ-HuSyfA | 0.00311269809508 |  10  |\n",
      "| JaqcCU3nxReTW2cBLHounA | beuVp5CZxCdNvQIIPBS2rw | 0.00861109450862 |  1   |\n",
      "| JaqcCU3nxReTW2cBLHounA | 01VPJkcU0m8WzlA7dCEpVQ | 0.0076244994998  |  2   |\n",
      "| JaqcCU3nxReTW2cBLHounA | 9PIC380tmNYpIC3z5cvcNA | 0.00622898098585 |  3   |\n",
      "| JaqcCU3nxReTW2cBLHounA | IhNASEZ3XnBHmuuVnWdIwA | 0.00583722039654 |  4   |\n",
      "| JaqcCU3nxReTW2cBLHounA | aS1qJzTGyluRT2tJ09Jbaw | 0.00554268907856 |  5   |\n",
      "| JaqcCU3nxReTW2cBLHounA | po0p6NIro0cDrmKkcyPy0w | 0.00532655699833 |  6   |\n",
      "| JaqcCU3nxReTW2cBLHounA | z-OhppazxWfHnUCzFTKQhw | 0.00507082125625 |  7   |\n",
      "| JaqcCU3nxReTW2cBLHounA | oUX2bYbqjqST-urKbOHG6w | 0.00474553172653 |  8   |\n",
      "| JaqcCU3nxReTW2cBLHounA | IMLrj2klosTFvPRLv56cng | 0.00471579605663 |  9   |\n",
      "| JaqcCU3nxReTW2cBLHounA | gqdqnFg2lYeSyS20q2ZK_Q | 0.00460772800284 |  10  |\n",
      "| JQIZhoQB-Tg9hdBEj90m4g | JPfi__QJAaRzmfh5aOyFEw | 0.00986938779034 |  1   |\n",
      "| JQIZhoQB-Tg9hdBEj90m4g | beuVp5CZxCdNvQIIPBS2rw | 0.0095687588649  |  2   |\n",
      "| JQIZhoQB-Tg9hdBEj90m4g | IhNASEZ3XnBHmuuVnWdIwA | 0.00774026006015 |  3   |\n",
      "| JQIZhoQB-Tg9hdBEj90m4g | oUX2bYbqjqST-urKbOHG6w | 0.00767916085115 |  4   |\n",
      "| JQIZhoQB-Tg9hdBEj90m4g | fhoFsFK6TqJOEo30LtXeDA | 0.00753400263502 |  5   |\n",
      "| JQIZhoQB-Tg9hdBEj90m4g | eaNenRk_liZBERFFLCXqqQ | 0.00733705643398 |  6   |\n",
      "| JQIZhoQB-Tg9hdBEj90m4g | ZAuAwz1ijuydn5yL3q3rzA | 0.00701217686952 |  7   |\n",
      "| JQIZhoQB-Tg9hdBEj90m4g | IZivKqtHyz4-ts8KsnvMrA | 0.00691074711173 |  8   |\n",
      "| JQIZhoQB-Tg9hdBEj90m4g | HaWU8ICNtjIkCN_ZNrx1hw | 0.00690410475233 |  9   |\n",
      "| JQIZhoQB-Tg9hdBEj90m4g | YCm7wypibp04buWh-jRRpg | 0.00677470128928 |  10  |\n",
      "+------------------------+------------------------+------------------+------+\n",
      "[72520 rows x 4 columns]\n",
      "\n"
     ]
    }
   ],
   "source": [
    "# For each user, recommend top 10 similar business\n",
    "item_item_rec_active_result.print_rows(num_rows = 30) "
   ]
  },
  {
   "cell_type": "markdown",
   "metadata": {},
   "source": [
    "### For inactive users, use popularity recommender"
   ]
  },
  {
   "cell_type": "code",
   "execution_count": 319,
   "metadata": {
    "collapsed": true
   },
   "outputs": [],
   "source": [
    "# For inactive users, use popularity recommender\n",
    "sf_stars_inactive = graphlab.SFrame(df_stars_inactive)"
   ]
  },
  {
   "cell_type": "code",
   "execution_count": 320,
   "metadata": {},
   "outputs": [
    {
     "data": {
      "text/html": [
       "<div style=\"max-height:1000px;max-width:1500px;overflow:auto;\"><table frame=\"box\" rules=\"cols\">\n",
       "    <tr>\n",
       "        <th style=\"padding-left: 1em; padding-right: 1em; text-align: center\">user_id</th>\n",
       "        <th style=\"padding-left: 1em; padding-right: 1em; text-align: center\">business_id</th>\n",
       "        <th style=\"padding-left: 1em; padding-right: 1em; text-align: center\">stars</th>\n",
       "    </tr>\n",
       "    <tr>\n",
       "        <td style=\"padding-left: 1em; padding-right: 1em; text-align: center; vertical-align: top\">GZsDson951e0NKvWWMukGg</td>\n",
       "        <td style=\"padding-left: 1em; padding-right: 1em; text-align: center; vertical-align: top\">RRw9I8pHt5PzgYGT2QeODw</td>\n",
       "        <td style=\"padding-left: 1em; padding-right: 1em; text-align: center; vertical-align: top\">4</td>\n",
       "    </tr>\n",
       "    <tr>\n",
       "        <td style=\"padding-left: 1em; padding-right: 1em; text-align: center; vertical-align: top\">GZsDson951e0NKvWWMukGg</td>\n",
       "        <td style=\"padding-left: 1em; padding-right: 1em; text-align: center; vertical-align: top\">qsJkjQoM3Hdg6Gtqp2S9_w</td>\n",
       "        <td style=\"padding-left: 1em; padding-right: 1em; text-align: center; vertical-align: top\">4</td>\n",
       "    </tr>\n",
       "    <tr>\n",
       "        <td style=\"padding-left: 1em; padding-right: 1em; text-align: center; vertical-align: top\">GZsDson951e0NKvWWMukGg</td>\n",
       "        <td style=\"padding-left: 1em; padding-right: 1em; text-align: center; vertical-align: top\">JRh14J_be0jl7Wbt412vDA</td>\n",
       "        <td style=\"padding-left: 1em; padding-right: 1em; text-align: center; vertical-align: top\">2</td>\n",
       "    </tr>\n",
       "    <tr>\n",
       "        <td style=\"padding-left: 1em; padding-right: 1em; text-align: center; vertical-align: top\">GZsDson951e0NKvWWMukGg</td>\n",
       "        <td style=\"padding-left: 1em; padding-right: 1em; text-align: center; vertical-align: top\">hImWJjaB0hvWQ7tlxGYMMw</td>\n",
       "        <td style=\"padding-left: 1em; padding-right: 1em; text-align: center; vertical-align: top\">2</td>\n",
       "    </tr>\n",
       "    <tr>\n",
       "        <td style=\"padding-left: 1em; padding-right: 1em; text-align: center; vertical-align: top\">GZsDson951e0NKvWWMukGg</td>\n",
       "        <td style=\"padding-left: 1em; padding-right: 1em; text-align: center; vertical-align: top\">pooAgpZJn79L7JTgcK-o-Q</td>\n",
       "        <td style=\"padding-left: 1em; padding-right: 1em; text-align: center; vertical-align: top\">2</td>\n",
       "    </tr>\n",
       "    <tr>\n",
       "        <td style=\"padding-left: 1em; padding-right: 1em; text-align: center; vertical-align: top\">23lcSLdClYG2mkG8RTaSsQ</td>\n",
       "        <td style=\"padding-left: 1em; padding-right: 1em; text-align: center; vertical-align: top\">0EgYXYjt2XJL4hlsKnzrcw</td>\n",
       "        <td style=\"padding-left: 1em; padding-right: 1em; text-align: center; vertical-align: top\">5</td>\n",
       "    </tr>\n",
       "    <tr>\n",
       "        <td style=\"padding-left: 1em; padding-right: 1em; text-align: center; vertical-align: top\">23lcSLdClYG2mkG8RTaSsQ</td>\n",
       "        <td style=\"padding-left: 1em; padding-right: 1em; text-align: center; vertical-align: top\">3Jq5LfJ5fmJ5KmuA6VHmzw</td>\n",
       "        <td style=\"padding-left: 1em; padding-right: 1em; text-align: center; vertical-align: top\">4</td>\n",
       "    </tr>\n",
       "    <tr>\n",
       "        <td style=\"padding-left: 1em; padding-right: 1em; text-align: center; vertical-align: top\">23lcSLdClYG2mkG8RTaSsQ</td>\n",
       "        <td style=\"padding-left: 1em; padding-right: 1em; text-align: center; vertical-align: top\">CiYLq33nAyghFkUR15pP-Q</td>\n",
       "        <td style=\"padding-left: 1em; padding-right: 1em; text-align: center; vertical-align: top\">4</td>\n",
       "    </tr>\n",
       "    <tr>\n",
       "        <td style=\"padding-left: 1em; padding-right: 1em; text-align: center; vertical-align: top\">23lcSLdClYG2mkG8RTaSsQ</td>\n",
       "        <td style=\"padding-left: 1em; padding-right: 1em; text-align: center; vertical-align: top\">KskYqH1Bi7Z_61pH6Om8pg</td>\n",
       "        <td style=\"padding-left: 1em; padding-right: 1em; text-align: center; vertical-align: top\">5</td>\n",
       "    </tr>\n",
       "    <tr>\n",
       "        <td style=\"padding-left: 1em; padding-right: 1em; text-align: center; vertical-align: top\">23lcSLdClYG2mkG8RTaSsQ</td>\n",
       "        <td style=\"padding-left: 1em; padding-right: 1em; text-align: center; vertical-align: top\">tro-hrljuY1cUAVFYauTlQ</td>\n",
       "        <td style=\"padding-left: 1em; padding-right: 1em; text-align: center; vertical-align: top\">3</td>\n",
       "    </tr>\n",
       "</table>\n",
       "[201181 rows x 3 columns]<br/>Note: Only the head of the SFrame is printed.<br/>You can use print_rows(num_rows=m, num_columns=n) to print more rows and columns.\n",
       "</div>"
      ],
      "text/plain": [
       "Columns:\n",
       "\tuser_id\tstr\n",
       "\tbusiness_id\tstr\n",
       "\tstars\tint\n",
       "\n",
       "Rows: 201181\n",
       "\n",
       "Data:\n",
       "+------------------------+------------------------+-------+\n",
       "|        user_id         |      business_id       | stars |\n",
       "+------------------------+------------------------+-------+\n",
       "| GZsDson951e0NKvWWMukGg | RRw9I8pHt5PzgYGT2QeODw |   4   |\n",
       "| GZsDson951e0NKvWWMukGg | qsJkjQoM3Hdg6Gtqp2S9_w |   4   |\n",
       "| GZsDson951e0NKvWWMukGg | JRh14J_be0jl7Wbt412vDA |   2   |\n",
       "| GZsDson951e0NKvWWMukGg | hImWJjaB0hvWQ7tlxGYMMw |   2   |\n",
       "| GZsDson951e0NKvWWMukGg | pooAgpZJn79L7JTgcK-o-Q |   2   |\n",
       "| 23lcSLdClYG2mkG8RTaSsQ | 0EgYXYjt2XJL4hlsKnzrcw |   5   |\n",
       "| 23lcSLdClYG2mkG8RTaSsQ | 3Jq5LfJ5fmJ5KmuA6VHmzw |   4   |\n",
       "| 23lcSLdClYG2mkG8RTaSsQ | CiYLq33nAyghFkUR15pP-Q |   4   |\n",
       "| 23lcSLdClYG2mkG8RTaSsQ | KskYqH1Bi7Z_61pH6Om8pg |   5   |\n",
       "| 23lcSLdClYG2mkG8RTaSsQ | tro-hrljuY1cUAVFYauTlQ |   3   |\n",
       "+------------------------+------------------------+-------+\n",
       "[201181 rows x 3 columns]\n",
       "Note: Only the head of the SFrame is printed.\n",
       "You can use print_rows(num_rows=m, num_columns=n) to print more rows and columns."
      ]
     },
     "execution_count": 320,
     "metadata": {},
     "output_type": "execute_result"
    }
   ],
   "source": [
    "sf_stars_inactive"
   ]
  },
  {
   "cell_type": "code",
   "execution_count": 321,
   "metadata": {},
   "outputs": [
    {
     "data": {
      "text/html": [
       "<pre>Recsys training: model = popularity</pre>"
      ],
      "text/plain": [
       "Recsys training: model = popularity"
      ]
     },
     "metadata": {},
     "output_type": "display_data"
    },
    {
     "data": {
      "text/html": [
       "<pre>Preparing data set.</pre>"
      ],
      "text/plain": [
       "Preparing data set."
      ]
     },
     "metadata": {},
     "output_type": "display_data"
    },
    {
     "data": {
      "text/html": [
       "<pre>    Data has 201181 observations with 133485 users and 4199 items.</pre>"
      ],
      "text/plain": [
       "    Data has 201181 observations with 133485 users and 4199 items."
      ]
     },
     "metadata": {},
     "output_type": "display_data"
    },
    {
     "data": {
      "text/html": [
       "<pre>    Data prepared in: 0.526428s</pre>"
      ],
      "text/plain": [
       "    Data prepared in: 0.526428s"
      ]
     },
     "metadata": {},
     "output_type": "display_data"
    },
    {
     "data": {
      "text/html": [
       "<pre>201181 observations to process; with 4199 unique items.</pre>"
      ],
      "text/plain": [
       "201181 observations to process; with 4199 unique items."
      ]
     },
     "metadata": {},
     "output_type": "display_data"
    }
   ],
   "source": [
    "pop_rec_inactive = graphlab.popularity_recommender.create(sf_stars_inactive,\n",
    "                                                          user_id = \"user_id\",\n",
    "                                                          item_id = \"business_id\",\n",
    "                                                          target = \"stars\")\n"
   ]
  },
  {
   "cell_type": "code",
   "execution_count": 322,
   "metadata": {},
   "outputs": [
    {
     "data": {
      "text/html": [
       "<pre>recommendations finished on 1000/133485 queries. users per second: 43595.8</pre>"
      ],
      "text/plain": [
       "recommendations finished on 1000/133485 queries. users per second: 43595.8"
      ]
     },
     "metadata": {},
     "output_type": "display_data"
    },
    {
     "data": {
      "text/html": [
       "<pre>recommendations finished on 2000/133485 queries. users per second: 51739.7</pre>"
      ],
      "text/plain": [
       "recommendations finished on 2000/133485 queries. users per second: 51739.7"
      ]
     },
     "metadata": {},
     "output_type": "display_data"
    },
    {
     "data": {
      "text/html": [
       "<pre>recommendations finished on 3000/133485 queries. users per second: 50498.2</pre>"
      ],
      "text/plain": [
       "recommendations finished on 3000/133485 queries. users per second: 50498.2"
      ]
     },
     "metadata": {},
     "output_type": "display_data"
    },
    {
     "data": {
      "text/html": [
       "<pre>recommendations finished on 4000/133485 queries. users per second: 52056.2</pre>"
      ],
      "text/plain": [
       "recommendations finished on 4000/133485 queries. users per second: 52056.2"
      ]
     },
     "metadata": {},
     "output_type": "display_data"
    },
    {
     "data": {
      "text/html": [
       "<pre>recommendations finished on 5000/133485 queries. users per second: 53450.8</pre>"
      ],
      "text/plain": [
       "recommendations finished on 5000/133485 queries. users per second: 53450.8"
      ]
     },
     "metadata": {},
     "output_type": "display_data"
    },
    {
     "data": {
      "text/html": [
       "<pre>recommendations finished on 6000/133485 queries. users per second: 54308</pre>"
      ],
      "text/plain": [
       "recommendations finished on 6000/133485 queries. users per second: 54308"
      ]
     },
     "metadata": {},
     "output_type": "display_data"
    },
    {
     "data": {
      "text/html": [
       "<pre>recommendations finished on 7000/133485 queries. users per second: 54398.9</pre>"
      ],
      "text/plain": [
       "recommendations finished on 7000/133485 queries. users per second: 54398.9"
      ]
     },
     "metadata": {},
     "output_type": "display_data"
    },
    {
     "data": {
      "text/html": [
       "<pre>recommendations finished on 8000/133485 queries. users per second: 54082.2</pre>"
      ],
      "text/plain": [
       "recommendations finished on 8000/133485 queries. users per second: 54082.2"
      ]
     },
     "metadata": {},
     "output_type": "display_data"
    },
    {
     "data": {
      "text/html": [
       "<pre>recommendations finished on 9000/133485 queries. users per second: 53317.2</pre>"
      ],
      "text/plain": [
       "recommendations finished on 9000/133485 queries. users per second: 53317.2"
      ]
     },
     "metadata": {},
     "output_type": "display_data"
    },
    {
     "data": {
      "text/html": [
       "<pre>recommendations finished on 10000/133485 queries. users per second: 44884.9</pre>"
      ],
      "text/plain": [
       "recommendations finished on 10000/133485 queries. users per second: 44884.9"
      ]
     },
     "metadata": {},
     "output_type": "display_data"
    },
    {
     "data": {
      "text/html": [
       "<pre>recommendations finished on 11000/133485 queries. users per second: 45781.8</pre>"
      ],
      "text/plain": [
       "recommendations finished on 11000/133485 queries. users per second: 45781.8"
      ]
     },
     "metadata": {},
     "output_type": "display_data"
    },
    {
     "data": {
      "text/html": [
       "<pre>recommendations finished on 12000/133485 queries. users per second: 46885.8</pre>"
      ],
      "text/plain": [
       "recommendations finished on 12000/133485 queries. users per second: 46885.8"
      ]
     },
     "metadata": {},
     "output_type": "display_data"
    },
    {
     "data": {
      "text/html": [
       "<pre>recommendations finished on 13000/133485 queries. users per second: 47498.8</pre>"
      ],
      "text/plain": [
       "recommendations finished on 13000/133485 queries. users per second: 47498.8"
      ]
     },
     "metadata": {},
     "output_type": "display_data"
    },
    {
     "data": {
      "text/html": [
       "<pre>recommendations finished on 14000/133485 queries. users per second: 47822.4</pre>"
      ],
      "text/plain": [
       "recommendations finished on 14000/133485 queries. users per second: 47822.4"
      ]
     },
     "metadata": {},
     "output_type": "display_data"
    },
    {
     "data": {
      "text/html": [
       "<pre>recommendations finished on 15000/133485 queries. users per second: 47497.5</pre>"
      ],
      "text/plain": [
       "recommendations finished on 15000/133485 queries. users per second: 47497.5"
      ]
     },
     "metadata": {},
     "output_type": "display_data"
    },
    {
     "data": {
      "text/html": [
       "<pre>recommendations finished on 16000/133485 queries. users per second: 47386.3</pre>"
      ],
      "text/plain": [
       "recommendations finished on 16000/133485 queries. users per second: 47386.3"
      ]
     },
     "metadata": {},
     "output_type": "display_data"
    },
    {
     "data": {
      "text/html": [
       "<pre>recommendations finished on 17000/133485 queries. users per second: 47504.5</pre>"
      ],
      "text/plain": [
       "recommendations finished on 17000/133485 queries. users per second: 47504.5"
      ]
     },
     "metadata": {},
     "output_type": "display_data"
    },
    {
     "data": {
      "text/html": [
       "<pre>recommendations finished on 18000/133485 queries. users per second: 48018.1</pre>"
      ],
      "text/plain": [
       "recommendations finished on 18000/133485 queries. users per second: 48018.1"
      ]
     },
     "metadata": {},
     "output_type": "display_data"
    },
    {
     "data": {
      "text/html": [
       "<pre>recommendations finished on 19000/133485 queries. users per second: 48436.9</pre>"
      ],
      "text/plain": [
       "recommendations finished on 19000/133485 queries. users per second: 48436.9"
      ]
     },
     "metadata": {},
     "output_type": "display_data"
    },
    {
     "data": {
      "text/html": [
       "<pre>recommendations finished on 20000/133485 queries. users per second: 48420.4</pre>"
      ],
      "text/plain": [
       "recommendations finished on 20000/133485 queries. users per second: 48420.4"
      ]
     },
     "metadata": {},
     "output_type": "display_data"
    },
    {
     "data": {
      "text/html": [
       "<pre>recommendations finished on 21000/133485 queries. users per second: 48964.5</pre>"
      ],
      "text/plain": [
       "recommendations finished on 21000/133485 queries. users per second: 48964.5"
      ]
     },
     "metadata": {},
     "output_type": "display_data"
    },
    {
     "data": {
      "text/html": [
       "<pre>recommendations finished on 22000/133485 queries. users per second: 49398.4</pre>"
      ],
      "text/plain": [
       "recommendations finished on 22000/133485 queries. users per second: 49398.4"
      ]
     },
     "metadata": {},
     "output_type": "display_data"
    },
    {
     "data": {
      "text/html": [
       "<pre>recommendations finished on 23000/133485 queries. users per second: 49632.3</pre>"
      ],
      "text/plain": [
       "recommendations finished on 23000/133485 queries. users per second: 49632.3"
      ]
     },
     "metadata": {},
     "output_type": "display_data"
    },
    {
     "data": {
      "text/html": [
       "<pre>recommendations finished on 24000/133485 queries. users per second: 49891</pre>"
      ],
      "text/plain": [
       "recommendations finished on 24000/133485 queries. users per second: 49891"
      ]
     },
     "metadata": {},
     "output_type": "display_data"
    },
    {
     "data": {
      "text/html": [
       "<pre>recommendations finished on 25000/133485 queries. users per second: 48402.8</pre>"
      ],
      "text/plain": [
       "recommendations finished on 25000/133485 queries. users per second: 48402.8"
      ]
     },
     "metadata": {},
     "output_type": "display_data"
    },
    {
     "data": {
      "text/html": [
       "<pre>recommendations finished on 26000/133485 queries. users per second: 47007.4</pre>"
      ],
      "text/plain": [
       "recommendations finished on 26000/133485 queries. users per second: 47007.4"
      ]
     },
     "metadata": {},
     "output_type": "display_data"
    },
    {
     "data": {
      "text/html": [
       "<pre>recommendations finished on 27000/133485 queries. users per second: 45090.7</pre>"
      ],
      "text/plain": [
       "recommendations finished on 27000/133485 queries. users per second: 45090.7"
      ]
     },
     "metadata": {},
     "output_type": "display_data"
    },
    {
     "data": {
      "text/html": [
       "<pre>recommendations finished on 28000/133485 queries. users per second: 45506</pre>"
      ],
      "text/plain": [
       "recommendations finished on 28000/133485 queries. users per second: 45506"
      ]
     },
     "metadata": {},
     "output_type": "display_data"
    },
    {
     "data": {
      "text/html": [
       "<pre>recommendations finished on 29000/133485 queries. users per second: 45967.1</pre>"
      ],
      "text/plain": [
       "recommendations finished on 29000/133485 queries. users per second: 45967.1"
      ]
     },
     "metadata": {},
     "output_type": "display_data"
    },
    {
     "data": {
      "text/html": [
       "<pre>recommendations finished on 30000/133485 queries. users per second: 46142.6</pre>"
      ],
      "text/plain": [
       "recommendations finished on 30000/133485 queries. users per second: 46142.6"
      ]
     },
     "metadata": {},
     "output_type": "display_data"
    },
    {
     "data": {
      "text/html": [
       "<pre>recommendations finished on 31000/133485 queries. users per second: 46447</pre>"
      ],
      "text/plain": [
       "recommendations finished on 31000/133485 queries. users per second: 46447"
      ]
     },
     "metadata": {},
     "output_type": "display_data"
    },
    {
     "data": {
      "text/html": [
       "<pre>recommendations finished on 32000/133485 queries. users per second: 46772.2</pre>"
      ],
      "text/plain": [
       "recommendations finished on 32000/133485 queries. users per second: 46772.2"
      ]
     },
     "metadata": {},
     "output_type": "display_data"
    },
    {
     "data": {
      "text/html": [
       "<pre>recommendations finished on 33000/133485 queries. users per second: 46957.5</pre>"
      ],
      "text/plain": [
       "recommendations finished on 33000/133485 queries. users per second: 46957.5"
      ]
     },
     "metadata": {},
     "output_type": "display_data"
    },
    {
     "data": {
      "text/html": [
       "<pre>recommendations finished on 34000/133485 queries. users per second: 46941.5</pre>"
      ],
      "text/plain": [
       "recommendations finished on 34000/133485 queries. users per second: 46941.5"
      ]
     },
     "metadata": {},
     "output_type": "display_data"
    },
    {
     "data": {
      "text/html": [
       "<pre>recommendations finished on 35000/133485 queries. users per second: 47164.5</pre>"
      ],
      "text/plain": [
       "recommendations finished on 35000/133485 queries. users per second: 47164.5"
      ]
     },
     "metadata": {},
     "output_type": "display_data"
    },
    {
     "data": {
      "text/html": [
       "<pre>recommendations finished on 36000/133485 queries. users per second: 47581.1</pre>"
      ],
      "text/plain": [
       "recommendations finished on 36000/133485 queries. users per second: 47581.1"
      ]
     },
     "metadata": {},
     "output_type": "display_data"
    },
    {
     "data": {
      "text/html": [
       "<pre>recommendations finished on 37000/133485 queries. users per second: 47755.2</pre>"
      ],
      "text/plain": [
       "recommendations finished on 37000/133485 queries. users per second: 47755.2"
      ]
     },
     "metadata": {},
     "output_type": "display_data"
    },
    {
     "data": {
      "text/html": [
       "<pre>recommendations finished on 38000/133485 queries. users per second: 47919.1</pre>"
      ],
      "text/plain": [
       "recommendations finished on 38000/133485 queries. users per second: 47919.1"
      ]
     },
     "metadata": {},
     "output_type": "display_data"
    },
    {
     "data": {
      "text/html": [
       "<pre>recommendations finished on 39000/133485 queries. users per second: 47958.4</pre>"
      ],
      "text/plain": [
       "recommendations finished on 39000/133485 queries. users per second: 47958.4"
      ]
     },
     "metadata": {},
     "output_type": "display_data"
    },
    {
     "data": {
      "text/html": [
       "<pre>recommendations finished on 40000/133485 queries. users per second: 47634.8</pre>"
      ],
      "text/plain": [
       "recommendations finished on 40000/133485 queries. users per second: 47634.8"
      ]
     },
     "metadata": {},
     "output_type": "display_data"
    },
    {
     "data": {
      "text/html": [
       "<pre>recommendations finished on 41000/133485 queries. users per second: 47913</pre>"
      ],
      "text/plain": [
       "recommendations finished on 41000/133485 queries. users per second: 47913"
      ]
     },
     "metadata": {},
     "output_type": "display_data"
    },
    {
     "data": {
      "text/html": [
       "<pre>recommendations finished on 42000/133485 queries. users per second: 47306.2</pre>"
      ],
      "text/plain": [
       "recommendations finished on 42000/133485 queries. users per second: 47306.2"
      ]
     },
     "metadata": {},
     "output_type": "display_data"
    },
    {
     "data": {
      "text/html": [
       "<pre>recommendations finished on 43000/133485 queries. users per second: 46997.8</pre>"
      ],
      "text/plain": [
       "recommendations finished on 43000/133485 queries. users per second: 46997.8"
      ]
     },
     "metadata": {},
     "output_type": "display_data"
    },
    {
     "data": {
      "text/html": [
       "<pre>recommendations finished on 44000/133485 queries. users per second: 45662.1</pre>"
      ],
      "text/plain": [
       "recommendations finished on 44000/133485 queries. users per second: 45662.1"
      ]
     },
     "metadata": {},
     "output_type": "display_data"
    },
    {
     "data": {
      "text/html": [
       "<pre>recommendations finished on 45000/133485 queries. users per second: 45814.1</pre>"
      ],
      "text/plain": [
       "recommendations finished on 45000/133485 queries. users per second: 45814.1"
      ]
     },
     "metadata": {},
     "output_type": "display_data"
    },
    {
     "data": {
      "text/html": [
       "<pre>recommendations finished on 46000/133485 queries. users per second: 46115</pre>"
      ],
      "text/plain": [
       "recommendations finished on 46000/133485 queries. users per second: 46115"
      ]
     },
     "metadata": {},
     "output_type": "display_data"
    },
    {
     "data": {
      "text/html": [
       "<pre>recommendations finished on 47000/133485 queries. users per second: 46376.3</pre>"
      ],
      "text/plain": [
       "recommendations finished on 47000/133485 queries. users per second: 46376.3"
      ]
     },
     "metadata": {},
     "output_type": "display_data"
    },
    {
     "data": {
      "text/html": [
       "<pre>recommendations finished on 48000/133485 queries. users per second: 46340.2</pre>"
      ],
      "text/plain": [
       "recommendations finished on 48000/133485 queries. users per second: 46340.2"
      ]
     },
     "metadata": {},
     "output_type": "display_data"
    },
    {
     "data": {
      "text/html": [
       "<pre>recommendations finished on 49000/133485 queries. users per second: 46517.1</pre>"
      ],
      "text/plain": [
       "recommendations finished on 49000/133485 queries. users per second: 46517.1"
      ]
     },
     "metadata": {},
     "output_type": "display_data"
    },
    {
     "data": {
      "text/html": [
       "<pre>recommendations finished on 50000/133485 queries. users per second: 46521.4</pre>"
      ],
      "text/plain": [
       "recommendations finished on 50000/133485 queries. users per second: 46521.4"
      ]
     },
     "metadata": {},
     "output_type": "display_data"
    },
    {
     "data": {
      "text/html": [
       "<pre>recommendations finished on 51000/133485 queries. users per second: 46768</pre>"
      ],
      "text/plain": [
       "recommendations finished on 51000/133485 queries. users per second: 46768"
      ]
     },
     "metadata": {},
     "output_type": "display_data"
    },
    {
     "data": {
      "text/html": [
       "<pre>recommendations finished on 52000/133485 queries. users per second: 46832.8</pre>"
      ],
      "text/plain": [
       "recommendations finished on 52000/133485 queries. users per second: 46832.8"
      ]
     },
     "metadata": {},
     "output_type": "display_data"
    },
    {
     "data": {
      "text/html": [
       "<pre>recommendations finished on 53000/133485 queries. users per second: 45910.5</pre>"
      ],
      "text/plain": [
       "recommendations finished on 53000/133485 queries. users per second: 45910.5"
      ]
     },
     "metadata": {},
     "output_type": "display_data"
    },
    {
     "data": {
      "text/html": [
       "<pre>recommendations finished on 54000/133485 queries. users per second: 45653.7</pre>"
      ],
      "text/plain": [
       "recommendations finished on 54000/133485 queries. users per second: 45653.7"
      ]
     },
     "metadata": {},
     "output_type": "display_data"
    },
    {
     "data": {
      "text/html": [
       "<pre>recommendations finished on 55000/133485 queries. users per second: 45829.1</pre>"
      ],
      "text/plain": [
       "recommendations finished on 55000/133485 queries. users per second: 45829.1"
      ]
     },
     "metadata": {},
     "output_type": "display_data"
    },
    {
     "data": {
      "text/html": [
       "<pre>recommendations finished on 56000/133485 queries. users per second: 46012.5</pre>"
      ],
      "text/plain": [
       "recommendations finished on 56000/133485 queries. users per second: 46012.5"
      ]
     },
     "metadata": {},
     "output_type": "display_data"
    },
    {
     "data": {
      "text/html": [
       "<pre>recommendations finished on 57000/133485 queries. users per second: 45989.4</pre>"
      ],
      "text/plain": [
       "recommendations finished on 57000/133485 queries. users per second: 45989.4"
      ]
     },
     "metadata": {},
     "output_type": "display_data"
    },
    {
     "data": {
      "text/html": [
       "<pre>recommendations finished on 58000/133485 queries. users per second: 46095.7</pre>"
      ],
      "text/plain": [
       "recommendations finished on 58000/133485 queries. users per second: 46095.7"
      ]
     },
     "metadata": {},
     "output_type": "display_data"
    },
    {
     "data": {
      "text/html": [
       "<pre>recommendations finished on 59000/133485 queries. users per second: 46269</pre>"
      ],
      "text/plain": [
       "recommendations finished on 59000/133485 queries. users per second: 46269"
      ]
     },
     "metadata": {},
     "output_type": "display_data"
    },
    {
     "data": {
      "text/html": [
       "<pre>recommendations finished on 60000/133485 queries. users per second: 46370.9</pre>"
      ],
      "text/plain": [
       "recommendations finished on 60000/133485 queries. users per second: 46370.9"
      ]
     },
     "metadata": {},
     "output_type": "display_data"
    },
    {
     "data": {
      "text/html": [
       "<pre>recommendations finished on 61000/133485 queries. users per second: 46512.1</pre>"
      ],
      "text/plain": [
       "recommendations finished on 61000/133485 queries. users per second: 46512.1"
      ]
     },
     "metadata": {},
     "output_type": "display_data"
    },
    {
     "data": {
      "text/html": [
       "<pre>recommendations finished on 62000/133485 queries. users per second: 46725.3</pre>"
      ],
      "text/plain": [
       "recommendations finished on 62000/133485 queries. users per second: 46725.3"
      ]
     },
     "metadata": {},
     "output_type": "display_data"
    },
    {
     "data": {
      "text/html": [
       "<pre>recommendations finished on 63000/133485 queries. users per second: 46699.9</pre>"
      ],
      "text/plain": [
       "recommendations finished on 63000/133485 queries. users per second: 46699.9"
      ]
     },
     "metadata": {},
     "output_type": "display_data"
    },
    {
     "data": {
      "text/html": [
       "<pre>recommendations finished on 64000/133485 queries. users per second: 46895.2</pre>"
      ],
      "text/plain": [
       "recommendations finished on 64000/133485 queries. users per second: 46895.2"
      ]
     },
     "metadata": {},
     "output_type": "display_data"
    },
    {
     "data": {
      "text/html": [
       "<pre>recommendations finished on 65000/133485 queries. users per second: 47070.8</pre>"
      ],
      "text/plain": [
       "recommendations finished on 65000/133485 queries. users per second: 47070.8"
      ]
     },
     "metadata": {},
     "output_type": "display_data"
    },
    {
     "data": {
      "text/html": [
       "<pre>recommendations finished on 66000/133485 queries. users per second: 47316.8</pre>"
      ],
      "text/plain": [
       "recommendations finished on 66000/133485 queries. users per second: 47316.8"
      ]
     },
     "metadata": {},
     "output_type": "display_data"
    },
    {
     "data": {
      "text/html": [
       "<pre>recommendations finished on 67000/133485 queries. users per second: 47289.7</pre>"
      ],
      "text/plain": [
       "recommendations finished on 67000/133485 queries. users per second: 47289.7"
      ]
     },
     "metadata": {},
     "output_type": "display_data"
    },
    {
     "data": {
      "text/html": [
       "<pre>recommendations finished on 68000/133485 queries. users per second: 47115.2</pre>"
      ],
      "text/plain": [
       "recommendations finished on 68000/133485 queries. users per second: 47115.2"
      ]
     },
     "metadata": {},
     "output_type": "display_data"
    },
    {
     "data": {
      "text/html": [
       "<pre>recommendations finished on 69000/133485 queries. users per second: 47221.2</pre>"
      ],
      "text/plain": [
       "recommendations finished on 69000/133485 queries. users per second: 47221.2"
      ]
     },
     "metadata": {},
     "output_type": "display_data"
    },
    {
     "data": {
      "text/html": [
       "<pre>recommendations finished on 70000/133485 queries. users per second: 47299.1</pre>"
      ],
      "text/plain": [
       "recommendations finished on 70000/133485 queries. users per second: 47299.1"
      ]
     },
     "metadata": {},
     "output_type": "display_data"
    },
    {
     "data": {
      "text/html": [
       "<pre>recommendations finished on 71000/133485 queries. users per second: 47232.7</pre>"
      ],
      "text/plain": [
       "recommendations finished on 71000/133485 queries. users per second: 47232.7"
      ]
     },
     "metadata": {},
     "output_type": "display_data"
    },
    {
     "data": {
      "text/html": [
       "<pre>recommendations finished on 72000/133485 queries. users per second: 47425</pre>"
      ],
      "text/plain": [
       "recommendations finished on 72000/133485 queries. users per second: 47425"
      ]
     },
     "metadata": {},
     "output_type": "display_data"
    },
    {
     "data": {
      "text/html": [
       "<pre>recommendations finished on 73000/133485 queries. users per second: 47479</pre>"
      ],
      "text/plain": [
       "recommendations finished on 73000/133485 queries. users per second: 47479"
      ]
     },
     "metadata": {},
     "output_type": "display_data"
    },
    {
     "data": {
      "text/html": [
       "<pre>recommendations finished on 74000/133485 queries. users per second: 47416.4</pre>"
      ],
      "text/plain": [
       "recommendations finished on 74000/133485 queries. users per second: 47416.4"
      ]
     },
     "metadata": {},
     "output_type": "display_data"
    },
    {
     "data": {
      "text/html": [
       "<pre>recommendations finished on 75000/133485 queries. users per second: 47540.7</pre>"
      ],
      "text/plain": [
       "recommendations finished on 75000/133485 queries. users per second: 47540.7"
      ]
     },
     "metadata": {},
     "output_type": "display_data"
    },
    {
     "data": {
      "text/html": [
       "<pre>recommendations finished on 76000/133485 queries. users per second: 47686.7</pre>"
      ],
      "text/plain": [
       "recommendations finished on 76000/133485 queries. users per second: 47686.7"
      ]
     },
     "metadata": {},
     "output_type": "display_data"
    },
    {
     "data": {
      "text/html": [
       "<pre>recommendations finished on 77000/133485 queries. users per second: 47748.2</pre>"
      ],
      "text/plain": [
       "recommendations finished on 77000/133485 queries. users per second: 47748.2"
      ]
     },
     "metadata": {},
     "output_type": "display_data"
    },
    {
     "data": {
      "text/html": [
       "<pre>recommendations finished on 78000/133485 queries. users per second: 46822.3</pre>"
      ],
      "text/plain": [
       "recommendations finished on 78000/133485 queries. users per second: 46822.3"
      ]
     },
     "metadata": {},
     "output_type": "display_data"
    },
    {
     "data": {
      "text/html": [
       "<pre>recommendations finished on 79000/133485 queries. users per second: 46778</pre>"
      ],
      "text/plain": [
       "recommendations finished on 79000/133485 queries. users per second: 46778"
      ]
     },
     "metadata": {},
     "output_type": "display_data"
    },
    {
     "data": {
      "text/html": [
       "<pre>recommendations finished on 80000/133485 queries. users per second: 46585</pre>"
      ],
      "text/plain": [
       "recommendations finished on 80000/133485 queries. users per second: 46585"
      ]
     },
     "metadata": {},
     "output_type": "display_data"
    },
    {
     "data": {
      "text/html": [
       "<pre>recommendations finished on 81000/133485 queries. users per second: 46355.4</pre>"
      ],
      "text/plain": [
       "recommendations finished on 81000/133485 queries. users per second: 46355.4"
      ]
     },
     "metadata": {},
     "output_type": "display_data"
    },
    {
     "data": {
      "text/html": [
       "<pre>recommendations finished on 82000/133485 queries. users per second: 46551</pre>"
      ],
      "text/plain": [
       "recommendations finished on 82000/133485 queries. users per second: 46551"
      ]
     },
     "metadata": {},
     "output_type": "display_data"
    },
    {
     "data": {
      "text/html": [
       "<pre>recommendations finished on 83000/133485 queries. users per second: 46661.7</pre>"
      ],
      "text/plain": [
       "recommendations finished on 83000/133485 queries. users per second: 46661.7"
      ]
     },
     "metadata": {},
     "output_type": "display_data"
    },
    {
     "data": {
      "text/html": [
       "<pre>recommendations finished on 84000/133485 queries. users per second: 46777.2</pre>"
      ],
      "text/plain": [
       "recommendations finished on 84000/133485 queries. users per second: 46777.2"
      ]
     },
     "metadata": {},
     "output_type": "display_data"
    },
    {
     "data": {
      "text/html": [
       "<pre>recommendations finished on 85000/133485 queries. users per second: 46890.5</pre>"
      ],
      "text/plain": [
       "recommendations finished on 85000/133485 queries. users per second: 46890.5"
      ]
     },
     "metadata": {},
     "output_type": "display_data"
    },
    {
     "data": {
      "text/html": [
       "<pre>recommendations finished on 86000/133485 queries. users per second: 46978</pre>"
      ],
      "text/plain": [
       "recommendations finished on 86000/133485 queries. users per second: 46978"
      ]
     },
     "metadata": {},
     "output_type": "display_data"
    },
    {
     "data": {
      "text/html": [
       "<pre>recommendations finished on 87000/133485 queries. users per second: 46939.7</pre>"
      ],
      "text/plain": [
       "recommendations finished on 87000/133485 queries. users per second: 46939.7"
      ]
     },
     "metadata": {},
     "output_type": "display_data"
    },
    {
     "data": {
      "text/html": [
       "<pre>recommendations finished on 88000/133485 queries. users per second: 47077</pre>"
      ],
      "text/plain": [
       "recommendations finished on 88000/133485 queries. users per second: 47077"
      ]
     },
     "metadata": {},
     "output_type": "display_data"
    },
    {
     "data": {
      "text/html": [
       "<pre>recommendations finished on 89000/133485 queries. users per second: 46911.6</pre>"
      ],
      "text/plain": [
       "recommendations finished on 89000/133485 queries. users per second: 46911.6"
      ]
     },
     "metadata": {},
     "output_type": "display_data"
    },
    {
     "data": {
      "text/html": [
       "<pre>recommendations finished on 90000/133485 queries. users per second: 46820.2</pre>"
      ],
      "text/plain": [
       "recommendations finished on 90000/133485 queries. users per second: 46820.2"
      ]
     },
     "metadata": {},
     "output_type": "display_data"
    },
    {
     "data": {
      "text/html": [
       "<pre>recommendations finished on 91000/133485 queries. users per second: 46854.2</pre>"
      ],
      "text/plain": [
       "recommendations finished on 91000/133485 queries. users per second: 46854.2"
      ]
     },
     "metadata": {},
     "output_type": "display_data"
    },
    {
     "data": {
      "text/html": [
       "<pre>recommendations finished on 92000/133485 queries. users per second: 46552.7</pre>"
      ],
      "text/plain": [
       "recommendations finished on 92000/133485 queries. users per second: 46552.7"
      ]
     },
     "metadata": {},
     "output_type": "display_data"
    },
    {
     "data": {
      "text/html": [
       "<pre>recommendations finished on 93000/133485 queries. users per second: 46603.6</pre>"
      ],
      "text/plain": [
       "recommendations finished on 93000/133485 queries. users per second: 46603.6"
      ]
     },
     "metadata": {},
     "output_type": "display_data"
    },
    {
     "data": {
      "text/html": [
       "<pre>recommendations finished on 94000/133485 queries. users per second: 46661.2</pre>"
      ],
      "text/plain": [
       "recommendations finished on 94000/133485 queries. users per second: 46661.2"
      ]
     },
     "metadata": {},
     "output_type": "display_data"
    },
    {
     "data": {
      "text/html": [
       "<pre>recommendations finished on 95000/133485 queries. users per second: 46795.1</pre>"
      ],
      "text/plain": [
       "recommendations finished on 95000/133485 queries. users per second: 46795.1"
      ]
     },
     "metadata": {},
     "output_type": "display_data"
    },
    {
     "data": {
      "text/html": [
       "<pre>recommendations finished on 96000/133485 queries. users per second: 46889.3</pre>"
      ],
      "text/plain": [
       "recommendations finished on 96000/133485 queries. users per second: 46889.3"
      ]
     },
     "metadata": {},
     "output_type": "display_data"
    },
    {
     "data": {
      "text/html": [
       "<pre>recommendations finished on 97000/133485 queries. users per second: 47026</pre>"
      ],
      "text/plain": [
       "recommendations finished on 97000/133485 queries. users per second: 47026"
      ]
     },
     "metadata": {},
     "output_type": "display_data"
    },
    {
     "data": {
      "text/html": [
       "<pre>recommendations finished on 98000/133485 queries. users per second: 47089.3</pre>"
      ],
      "text/plain": [
       "recommendations finished on 98000/133485 queries. users per second: 47089.3"
      ]
     },
     "metadata": {},
     "output_type": "display_data"
    },
    {
     "data": {
      "text/html": [
       "<pre>recommendations finished on 99000/133485 queries. users per second: 47142.7</pre>"
      ],
      "text/plain": [
       "recommendations finished on 99000/133485 queries. users per second: 47142.7"
      ]
     },
     "metadata": {},
     "output_type": "display_data"
    },
    {
     "data": {
      "text/html": [
       "<pre>recommendations finished on 100000/133485 queries. users per second: 47256.6</pre>"
      ],
      "text/plain": [
       "recommendations finished on 100000/133485 queries. users per second: 47256.6"
      ]
     },
     "metadata": {},
     "output_type": "display_data"
    },
    {
     "data": {
      "text/html": [
       "<pre>recommendations finished on 101000/133485 queries. users per second: 47383.8</pre>"
      ],
      "text/plain": [
       "recommendations finished on 101000/133485 queries. users per second: 47383.8"
      ]
     },
     "metadata": {},
     "output_type": "display_data"
    },
    {
     "data": {
      "text/html": [
       "<pre>recommendations finished on 102000/133485 queries. users per second: 47492.3</pre>"
      ],
      "text/plain": [
       "recommendations finished on 102000/133485 queries. users per second: 47492.3"
      ]
     },
     "metadata": {},
     "output_type": "display_data"
    },
    {
     "data": {
      "text/html": [
       "<pre>recommendations finished on 103000/133485 queries. users per second: 47507.5</pre>"
      ],
      "text/plain": [
       "recommendations finished on 103000/133485 queries. users per second: 47507.5"
      ]
     },
     "metadata": {},
     "output_type": "display_data"
    },
    {
     "data": {
      "text/html": [
       "<pre>recommendations finished on 104000/133485 queries. users per second: 47518.3</pre>"
      ],
      "text/plain": [
       "recommendations finished on 104000/133485 queries. users per second: 47518.3"
      ]
     },
     "metadata": {},
     "output_type": "display_data"
    },
    {
     "data": {
      "text/html": [
       "<pre>recommendations finished on 105000/133485 queries. users per second: 47080.8</pre>"
      ],
      "text/plain": [
       "recommendations finished on 105000/133485 queries. users per second: 47080.8"
      ]
     },
     "metadata": {},
     "output_type": "display_data"
    },
    {
     "data": {
      "text/html": [
       "<pre>recommendations finished on 106000/133485 queries. users per second: 46426.9</pre>"
      ],
      "text/plain": [
       "recommendations finished on 106000/133485 queries. users per second: 46426.9"
      ]
     },
     "metadata": {},
     "output_type": "display_data"
    },
    {
     "data": {
      "text/html": [
       "<pre>recommendations finished on 107000/133485 queries. users per second: 46372.5</pre>"
      ],
      "text/plain": [
       "recommendations finished on 107000/133485 queries. users per second: 46372.5"
      ]
     },
     "metadata": {},
     "output_type": "display_data"
    },
    {
     "data": {
      "text/html": [
       "<pre>recommendations finished on 108000/133485 queries. users per second: 46340.2</pre>"
      ],
      "text/plain": [
       "recommendations finished on 108000/133485 queries. users per second: 46340.2"
      ]
     },
     "metadata": {},
     "output_type": "display_data"
    },
    {
     "data": {
      "text/html": [
       "<pre>recommendations finished on 109000/133485 queries. users per second: 46297.2</pre>"
      ],
      "text/plain": [
       "recommendations finished on 109000/133485 queries. users per second: 46297.2"
      ]
     },
     "metadata": {},
     "output_type": "display_data"
    },
    {
     "data": {
      "text/html": [
       "<pre>recommendations finished on 110000/133485 queries. users per second: 46388.9</pre>"
      ],
      "text/plain": [
       "recommendations finished on 110000/133485 queries. users per second: 46388.9"
      ]
     },
     "metadata": {},
     "output_type": "display_data"
    },
    {
     "data": {
      "text/html": [
       "<pre>recommendations finished on 111000/133485 queries. users per second: 46477.1</pre>"
      ],
      "text/plain": [
       "recommendations finished on 111000/133485 queries. users per second: 46477.1"
      ]
     },
     "metadata": {},
     "output_type": "display_data"
    },
    {
     "data": {
      "text/html": [
       "<pre>recommendations finished on 112000/133485 queries. users per second: 46581.1</pre>"
      ],
      "text/plain": [
       "recommendations finished on 112000/133485 queries. users per second: 46581.1"
      ]
     },
     "metadata": {},
     "output_type": "display_data"
    },
    {
     "data": {
      "text/html": [
       "<pre>recommendations finished on 113000/133485 queries. users per second: 46711.6</pre>"
      ],
      "text/plain": [
       "recommendations finished on 113000/133485 queries. users per second: 46711.6"
      ]
     },
     "metadata": {},
     "output_type": "display_data"
    },
    {
     "data": {
      "text/html": [
       "<pre>recommendations finished on 114000/133485 queries. users per second: 46814.3</pre>"
      ],
      "text/plain": [
       "recommendations finished on 114000/133485 queries. users per second: 46814.3"
      ]
     },
     "metadata": {},
     "output_type": "display_data"
    },
    {
     "data": {
      "text/html": [
       "<pre>recommendations finished on 115000/133485 queries. users per second: 46864.3</pre>"
      ],
      "text/plain": [
       "recommendations finished on 115000/133485 queries. users per second: 46864.3"
      ]
     },
     "metadata": {},
     "output_type": "display_data"
    },
    {
     "data": {
      "text/html": [
       "<pre>recommendations finished on 116000/133485 queries. users per second: 46954.2</pre>"
      ],
      "text/plain": [
       "recommendations finished on 116000/133485 queries. users per second: 46954.2"
      ]
     },
     "metadata": {},
     "output_type": "display_data"
    },
    {
     "data": {
      "text/html": [
       "<pre>recommendations finished on 117000/133485 queries. users per second: 47006.6</pre>"
      ],
      "text/plain": [
       "recommendations finished on 117000/133485 queries. users per second: 47006.6"
      ]
     },
     "metadata": {},
     "output_type": "display_data"
    },
    {
     "data": {
      "text/html": [
       "<pre>recommendations finished on 118000/133485 queries. users per second: 47026.2</pre>"
      ],
      "text/plain": [
       "recommendations finished on 118000/133485 queries. users per second: 47026.2"
      ]
     },
     "metadata": {},
     "output_type": "display_data"
    },
    {
     "data": {
      "text/html": [
       "<pre>recommendations finished on 119000/133485 queries. users per second: 47018.2</pre>"
      ],
      "text/plain": [
       "recommendations finished on 119000/133485 queries. users per second: 47018.2"
      ]
     },
     "metadata": {},
     "output_type": "display_data"
    },
    {
     "data": {
      "text/html": [
       "<pre>recommendations finished on 120000/133485 queries. users per second: 47087.5</pre>"
      ],
      "text/plain": [
       "recommendations finished on 120000/133485 queries. users per second: 47087.5"
      ]
     },
     "metadata": {},
     "output_type": "display_data"
    },
    {
     "data": {
      "text/html": [
       "<pre>recommendations finished on 121000/133485 queries. users per second: 47203</pre>"
      ],
      "text/plain": [
       "recommendations finished on 121000/133485 queries. users per second: 47203"
      ]
     },
     "metadata": {},
     "output_type": "display_data"
    },
    {
     "data": {
      "text/html": [
       "<pre>recommendations finished on 122000/133485 queries. users per second: 47279.5</pre>"
      ],
      "text/plain": [
       "recommendations finished on 122000/133485 queries. users per second: 47279.5"
      ]
     },
     "metadata": {},
     "output_type": "display_data"
    },
    {
     "data": {
      "text/html": [
       "<pre>recommendations finished on 123000/133485 queries. users per second: 47362.7</pre>"
      ],
      "text/plain": [
       "recommendations finished on 123000/133485 queries. users per second: 47362.7"
      ]
     },
     "metadata": {},
     "output_type": "display_data"
    },
    {
     "data": {
      "text/html": [
       "<pre>recommendations finished on 124000/133485 queries. users per second: 47383.1</pre>"
      ],
      "text/plain": [
       "recommendations finished on 124000/133485 queries. users per second: 47383.1"
      ]
     },
     "metadata": {},
     "output_type": "display_data"
    },
    {
     "data": {
      "text/html": [
       "<pre>recommendations finished on 125000/133485 queries. users per second: 47378.8</pre>"
      ],
      "text/plain": [
       "recommendations finished on 125000/133485 queries. users per second: 47378.8"
      ]
     },
     "metadata": {},
     "output_type": "display_data"
    },
    {
     "data": {
      "text/html": [
       "<pre>recommendations finished on 126000/133485 queries. users per second: 47456.4</pre>"
      ],
      "text/plain": [
       "recommendations finished on 126000/133485 queries. users per second: 47456.4"
      ]
     },
     "metadata": {},
     "output_type": "display_data"
    },
    {
     "data": {
      "text/html": [
       "<pre>recommendations finished on 127000/133485 queries. users per second: 47551.8</pre>"
      ],
      "text/plain": [
       "recommendations finished on 127000/133485 queries. users per second: 47551.8"
      ]
     },
     "metadata": {},
     "output_type": "display_data"
    },
    {
     "data": {
      "text/html": [
       "<pre>recommendations finished on 128000/133485 queries. users per second: 47308.3</pre>"
      ],
      "text/plain": [
       "recommendations finished on 128000/133485 queries. users per second: 47308.3"
      ]
     },
     "metadata": {},
     "output_type": "display_data"
    },
    {
     "data": {
      "text/html": [
       "<pre>recommendations finished on 129000/133485 queries. users per second: 46628.3</pre>"
      ],
      "text/plain": [
       "recommendations finished on 129000/133485 queries. users per second: 46628.3"
      ]
     },
     "metadata": {},
     "output_type": "display_data"
    },
    {
     "data": {
      "text/html": [
       "<pre>recommendations finished on 130000/133485 queries. users per second: 46256.5</pre>"
      ],
      "text/plain": [
       "recommendations finished on 130000/133485 queries. users per second: 46256.5"
      ]
     },
     "metadata": {},
     "output_type": "display_data"
    },
    {
     "data": {
      "text/html": [
       "<pre>recommendations finished on 131000/133485 queries. users per second: 46168.2</pre>"
      ],
      "text/plain": [
       "recommendations finished on 131000/133485 queries. users per second: 46168.2"
      ]
     },
     "metadata": {},
     "output_type": "display_data"
    },
    {
     "data": {
      "text/html": [
       "<pre>recommendations finished on 132000/133485 queries. users per second: 46005.1</pre>"
      ],
      "text/plain": [
       "recommendations finished on 132000/133485 queries. users per second: 46005.1"
      ]
     },
     "metadata": {},
     "output_type": "display_data"
    },
    {
     "data": {
      "text/html": [
       "<pre>recommendations finished on 133000/133485 queries. users per second: 46012.9</pre>"
      ],
      "text/plain": [
       "recommendations finished on 133000/133485 queries. users per second: 46012.9"
      ]
     },
     "metadata": {},
     "output_type": "display_data"
    }
   ],
   "source": [
    "pop_rec_inactive_result = pop_rec_inactive.recommend(k = 10)"
   ]
  },
  {
   "cell_type": "code",
   "execution_count": 323,
   "metadata": {},
   "outputs": [
    {
     "name": "stdout",
     "output_type": "stream",
     "text": [
      "+------------------------+------------------------+-------+------+\n",
      "|        user_id         |      business_id       | score | rank |\n",
      "+------------------------+------------------------+-------+------+\n",
      "| GZsDson951e0NKvWWMukGg | lswrEHkfLHoChmSsGFAAwA |  5.0  |  1   |\n",
      "| GZsDson951e0NKvWWMukGg | 6GlGdRX8JaG9alaqZAOaTQ |  5.0  |  2   |\n",
      "| GZsDson951e0NKvWWMukGg | xAhB_i6-799TakpGqVplWw |  5.0  |  3   |\n",
      "| GZsDson951e0NKvWWMukGg | Bh3duLU3aASnt2TZ97TJnQ |  5.0  |  4   |\n",
      "| GZsDson951e0NKvWWMukGg | tvu6MBZKZKHz17cbF1zIZA |  5.0  |  5   |\n",
      "| GZsDson951e0NKvWWMukGg | k0iSRXXqw49yugl8UUpbsw |  5.0  |  6   |\n",
      "| GZsDson951e0NKvWWMukGg | J2nCJBrGn4EQT1abnBHaUQ |  5.0  |  7   |\n",
      "| GZsDson951e0NKvWWMukGg | jbT0w5qNWOT7XQWWRuqgmw |  5.0  |  8   |\n",
      "| GZsDson951e0NKvWWMukGg | -tseCGdDvepLP8IIWtZikQ |  5.0  |  9   |\n",
      "| GZsDson951e0NKvWWMukGg | PSUOncuqfqHulYj_fusthw |  5.0  |  10  |\n",
      "| 23lcSLdClYG2mkG8RTaSsQ | lswrEHkfLHoChmSsGFAAwA |  5.0  |  1   |\n",
      "| 23lcSLdClYG2mkG8RTaSsQ | 6GlGdRX8JaG9alaqZAOaTQ |  5.0  |  2   |\n",
      "| 23lcSLdClYG2mkG8RTaSsQ | xAhB_i6-799TakpGqVplWw |  5.0  |  3   |\n",
      "| 23lcSLdClYG2mkG8RTaSsQ | Bh3duLU3aASnt2TZ97TJnQ |  5.0  |  4   |\n",
      "| 23lcSLdClYG2mkG8RTaSsQ | tvu6MBZKZKHz17cbF1zIZA |  5.0  |  5   |\n",
      "| 23lcSLdClYG2mkG8RTaSsQ | k0iSRXXqw49yugl8UUpbsw |  5.0  |  6   |\n",
      "| 23lcSLdClYG2mkG8RTaSsQ | J2nCJBrGn4EQT1abnBHaUQ |  5.0  |  7   |\n",
      "| 23lcSLdClYG2mkG8RTaSsQ | jbT0w5qNWOT7XQWWRuqgmw |  5.0  |  8   |\n",
      "| 23lcSLdClYG2mkG8RTaSsQ | -tseCGdDvepLP8IIWtZikQ |  5.0  |  9   |\n",
      "| 23lcSLdClYG2mkG8RTaSsQ | PSUOncuqfqHulYj_fusthw |  5.0  |  10  |\n",
      "| dC9pqTxOJ18Zjh6r5otwSA | lswrEHkfLHoChmSsGFAAwA |  5.0  |  1   |\n",
      "| dC9pqTxOJ18Zjh6r5otwSA | 6GlGdRX8JaG9alaqZAOaTQ |  5.0  |  2   |\n",
      "| dC9pqTxOJ18Zjh6r5otwSA | xAhB_i6-799TakpGqVplWw |  5.0  |  3   |\n",
      "| dC9pqTxOJ18Zjh6r5otwSA | Bh3duLU3aASnt2TZ97TJnQ |  5.0  |  4   |\n",
      "| dC9pqTxOJ18Zjh6r5otwSA | tvu6MBZKZKHz17cbF1zIZA |  5.0  |  5   |\n",
      "| dC9pqTxOJ18Zjh6r5otwSA | k0iSRXXqw49yugl8UUpbsw |  5.0  |  6   |\n",
      "| dC9pqTxOJ18Zjh6r5otwSA | J2nCJBrGn4EQT1abnBHaUQ |  5.0  |  7   |\n",
      "| dC9pqTxOJ18Zjh6r5otwSA | jbT0w5qNWOT7XQWWRuqgmw |  5.0  |  8   |\n",
      "| dC9pqTxOJ18Zjh6r5otwSA | -tseCGdDvepLP8IIWtZikQ |  5.0  |  9   |\n",
      "| dC9pqTxOJ18Zjh6r5otwSA | PSUOncuqfqHulYj_fusthw |  5.0  |  10  |\n",
      "+------------------------+------------------------+-------+------+\n",
      "[1334850 rows x 4 columns]\n",
      "\n"
     ]
    }
   ],
   "source": [
    "# For each user, recommend top 10 popuar businesses\n",
    "pop_rec_inactive_result.print_rows(num_rows = 30)"
   ]
  },
  {
   "cell_type": "markdown",
   "metadata": {},
   "source": [
    "### Merge two recommenders"
   ]
  },
  {
   "cell_type": "code",
   "execution_count": 324,
   "metadata": {
    "collapsed": true
   },
   "outputs": [],
   "source": [
    "rec_total = pop_rec_inactive_result.append(item_item_rec_active_result)"
   ]
  },
  {
   "cell_type": "code",
   "execution_count": 325,
   "metadata": {},
   "outputs": [
    {
     "data": {
      "text/html": [
       "<div style=\"max-height:1000px;max-width:1500px;overflow:auto;\"><table frame=\"box\" rules=\"cols\">\n",
       "    <tr>\n",
       "        <th style=\"padding-left: 1em; padding-right: 1em; text-align: center\">user_id</th>\n",
       "        <th style=\"padding-left: 1em; padding-right: 1em; text-align: center\">business_id</th>\n",
       "        <th style=\"padding-left: 1em; padding-right: 1em; text-align: center\">score</th>\n",
       "        <th style=\"padding-left: 1em; padding-right: 1em; text-align: center\">rank</th>\n",
       "    </tr>\n",
       "    <tr>\n",
       "        <td style=\"padding-left: 1em; padding-right: 1em; text-align: center; vertical-align: top\">GZsDson951e0NKvWWMukGg</td>\n",
       "        <td style=\"padding-left: 1em; padding-right: 1em; text-align: center; vertical-align: top\">lswrEHkfLHoChmSsGFAAwA</td>\n",
       "        <td style=\"padding-left: 1em; padding-right: 1em; text-align: center; vertical-align: top\">5.0</td>\n",
       "        <td style=\"padding-left: 1em; padding-right: 1em; text-align: center; vertical-align: top\">1</td>\n",
       "    </tr>\n",
       "    <tr>\n",
       "        <td style=\"padding-left: 1em; padding-right: 1em; text-align: center; vertical-align: top\">GZsDson951e0NKvWWMukGg</td>\n",
       "        <td style=\"padding-left: 1em; padding-right: 1em; text-align: center; vertical-align: top\">6GlGdRX8JaG9alaqZAOaTQ</td>\n",
       "        <td style=\"padding-left: 1em; padding-right: 1em; text-align: center; vertical-align: top\">5.0</td>\n",
       "        <td style=\"padding-left: 1em; padding-right: 1em; text-align: center; vertical-align: top\">2</td>\n",
       "    </tr>\n",
       "    <tr>\n",
       "        <td style=\"padding-left: 1em; padding-right: 1em; text-align: center; vertical-align: top\">GZsDson951e0NKvWWMukGg</td>\n",
       "        <td style=\"padding-left: 1em; padding-right: 1em; text-align: center; vertical-align: top\">xAhB_i6-799TakpGqVplWw</td>\n",
       "        <td style=\"padding-left: 1em; padding-right: 1em; text-align: center; vertical-align: top\">5.0</td>\n",
       "        <td style=\"padding-left: 1em; padding-right: 1em; text-align: center; vertical-align: top\">3</td>\n",
       "    </tr>\n",
       "    <tr>\n",
       "        <td style=\"padding-left: 1em; padding-right: 1em; text-align: center; vertical-align: top\">GZsDson951e0NKvWWMukGg</td>\n",
       "        <td style=\"padding-left: 1em; padding-right: 1em; text-align: center; vertical-align: top\">Bh3duLU3aASnt2TZ97TJnQ</td>\n",
       "        <td style=\"padding-left: 1em; padding-right: 1em; text-align: center; vertical-align: top\">5.0</td>\n",
       "        <td style=\"padding-left: 1em; padding-right: 1em; text-align: center; vertical-align: top\">4</td>\n",
       "    </tr>\n",
       "    <tr>\n",
       "        <td style=\"padding-left: 1em; padding-right: 1em; text-align: center; vertical-align: top\">GZsDson951e0NKvWWMukGg</td>\n",
       "        <td style=\"padding-left: 1em; padding-right: 1em; text-align: center; vertical-align: top\">tvu6MBZKZKHz17cbF1zIZA</td>\n",
       "        <td style=\"padding-left: 1em; padding-right: 1em; text-align: center; vertical-align: top\">5.0</td>\n",
       "        <td style=\"padding-left: 1em; padding-right: 1em; text-align: center; vertical-align: top\">5</td>\n",
       "    </tr>\n",
       "    <tr>\n",
       "        <td style=\"padding-left: 1em; padding-right: 1em; text-align: center; vertical-align: top\">GZsDson951e0NKvWWMukGg</td>\n",
       "        <td style=\"padding-left: 1em; padding-right: 1em; text-align: center; vertical-align: top\">k0iSRXXqw49yugl8UUpbsw</td>\n",
       "        <td style=\"padding-left: 1em; padding-right: 1em; text-align: center; vertical-align: top\">5.0</td>\n",
       "        <td style=\"padding-left: 1em; padding-right: 1em; text-align: center; vertical-align: top\">6</td>\n",
       "    </tr>\n",
       "    <tr>\n",
       "        <td style=\"padding-left: 1em; padding-right: 1em; text-align: center; vertical-align: top\">GZsDson951e0NKvWWMukGg</td>\n",
       "        <td style=\"padding-left: 1em; padding-right: 1em; text-align: center; vertical-align: top\">J2nCJBrGn4EQT1abnBHaUQ</td>\n",
       "        <td style=\"padding-left: 1em; padding-right: 1em; text-align: center; vertical-align: top\">5.0</td>\n",
       "        <td style=\"padding-left: 1em; padding-right: 1em; text-align: center; vertical-align: top\">7</td>\n",
       "    </tr>\n",
       "    <tr>\n",
       "        <td style=\"padding-left: 1em; padding-right: 1em; text-align: center; vertical-align: top\">GZsDson951e0NKvWWMukGg</td>\n",
       "        <td style=\"padding-left: 1em; padding-right: 1em; text-align: center; vertical-align: top\">jbT0w5qNWOT7XQWWRuqgmw</td>\n",
       "        <td style=\"padding-left: 1em; padding-right: 1em; text-align: center; vertical-align: top\">5.0</td>\n",
       "        <td style=\"padding-left: 1em; padding-right: 1em; text-align: center; vertical-align: top\">8</td>\n",
       "    </tr>\n",
       "    <tr>\n",
       "        <td style=\"padding-left: 1em; padding-right: 1em; text-align: center; vertical-align: top\">GZsDson951e0NKvWWMukGg</td>\n",
       "        <td style=\"padding-left: 1em; padding-right: 1em; text-align: center; vertical-align: top\">-tseCGdDvepLP8IIWtZikQ</td>\n",
       "        <td style=\"padding-left: 1em; padding-right: 1em; text-align: center; vertical-align: top\">5.0</td>\n",
       "        <td style=\"padding-left: 1em; padding-right: 1em; text-align: center; vertical-align: top\">9</td>\n",
       "    </tr>\n",
       "    <tr>\n",
       "        <td style=\"padding-left: 1em; padding-right: 1em; text-align: center; vertical-align: top\">GZsDson951e0NKvWWMukGg</td>\n",
       "        <td style=\"padding-left: 1em; padding-right: 1em; text-align: center; vertical-align: top\">PSUOncuqfqHulYj_fusthw</td>\n",
       "        <td style=\"padding-left: 1em; padding-right: 1em; text-align: center; vertical-align: top\">5.0</td>\n",
       "        <td style=\"padding-left: 1em; padding-right: 1em; text-align: center; vertical-align: top\">10</td>\n",
       "    </tr>\n",
       "</table>\n",
       "[1407370 rows x 4 columns]<br/>Note: Only the head of the SFrame is printed.<br/>You can use print_rows(num_rows=m, num_columns=n) to print more rows and columns.\n",
       "</div>"
      ],
      "text/plain": [
       "Columns:\n",
       "\tuser_id\tstr\n",
       "\tbusiness_id\tstr\n",
       "\tscore\tfloat\n",
       "\trank\tint\n",
       "\n",
       "Rows: 1407370\n",
       "\n",
       "Data:\n",
       "+------------------------+------------------------+-------+------+\n",
       "|        user_id         |      business_id       | score | rank |\n",
       "+------------------------+------------------------+-------+------+\n",
       "| GZsDson951e0NKvWWMukGg | lswrEHkfLHoChmSsGFAAwA |  5.0  |  1   |\n",
       "| GZsDson951e0NKvWWMukGg | 6GlGdRX8JaG9alaqZAOaTQ |  5.0  |  2   |\n",
       "| GZsDson951e0NKvWWMukGg | xAhB_i6-799TakpGqVplWw |  5.0  |  3   |\n",
       "| GZsDson951e0NKvWWMukGg | Bh3duLU3aASnt2TZ97TJnQ |  5.0  |  4   |\n",
       "| GZsDson951e0NKvWWMukGg | tvu6MBZKZKHz17cbF1zIZA |  5.0  |  5   |\n",
       "| GZsDson951e0NKvWWMukGg | k0iSRXXqw49yugl8UUpbsw |  5.0  |  6   |\n",
       "| GZsDson951e0NKvWWMukGg | J2nCJBrGn4EQT1abnBHaUQ |  5.0  |  7   |\n",
       "| GZsDson951e0NKvWWMukGg | jbT0w5qNWOT7XQWWRuqgmw |  5.0  |  8   |\n",
       "| GZsDson951e0NKvWWMukGg | -tseCGdDvepLP8IIWtZikQ |  5.0  |  9   |\n",
       "| GZsDson951e0NKvWWMukGg | PSUOncuqfqHulYj_fusthw |  5.0  |  10  |\n",
       "+------------------------+------------------------+-------+------+\n",
       "[1407370 rows x 4 columns]\n",
       "Note: Only the head of the SFrame is printed.\n",
       "You can use print_rows(num_rows=m, num_columns=n) to print more rows and columns."
      ]
     },
     "execution_count": 325,
     "metadata": {},
     "output_type": "execute_result"
    }
   ],
   "source": [
    "rec_total"
   ]
  },
  {
   "cell_type": "code",
   "execution_count": 326,
   "metadata": {},
   "outputs": [
    {
     "data": {
      "text/plain": [
       "'MUq14W_uowNndk6uh9UbAQ'"
      ]
     },
     "execution_count": 326,
     "metadata": {},
     "output_type": "execute_result"
    }
   ],
   "source": [
    "# Test recommender\n",
    "# Randomly select a user_id\n",
    "user_id_select = df_stars.user_id.sample(1, random_state = 42).values[0]\n",
    "user_id_select"
   ]
  },
  {
   "cell_type": "code",
   "execution_count": 327,
   "metadata": {},
   "outputs": [
    {
     "data": {
      "text/html": [
       "<div style=\"max-height:1000px;max-width:1500px;overflow:auto;\"><table frame=\"box\" rules=\"cols\">\n",
       "    <tr>\n",
       "        <th style=\"padding-left: 1em; padding-right: 1em; text-align: center\">user_id</th>\n",
       "        <th style=\"padding-left: 1em; padding-right: 1em; text-align: center\">business_id</th>\n",
       "        <th style=\"padding-left: 1em; padding-right: 1em; text-align: center\">score</th>\n",
       "        <th style=\"padding-left: 1em; padding-right: 1em; text-align: center\">rank</th>\n",
       "    </tr>\n",
       "    <tr>\n",
       "        <td style=\"padding-left: 1em; padding-right: 1em; text-align: center; vertical-align: top\">MUq14W_uowNndk6uh9UbAQ</td>\n",
       "        <td style=\"padding-left: 1em; padding-right: 1em; text-align: center; vertical-align: top\">lswrEHkfLHoChmSsGFAAwA</td>\n",
       "        <td style=\"padding-left: 1em; padding-right: 1em; text-align: center; vertical-align: top\">5.0</td>\n",
       "        <td style=\"padding-left: 1em; padding-right: 1em; text-align: center; vertical-align: top\">1</td>\n",
       "    </tr>\n",
       "    <tr>\n",
       "        <td style=\"padding-left: 1em; padding-right: 1em; text-align: center; vertical-align: top\">MUq14W_uowNndk6uh9UbAQ</td>\n",
       "        <td style=\"padding-left: 1em; padding-right: 1em; text-align: center; vertical-align: top\">6GlGdRX8JaG9alaqZAOaTQ</td>\n",
       "        <td style=\"padding-left: 1em; padding-right: 1em; text-align: center; vertical-align: top\">5.0</td>\n",
       "        <td style=\"padding-left: 1em; padding-right: 1em; text-align: center; vertical-align: top\">2</td>\n",
       "    </tr>\n",
       "    <tr>\n",
       "        <td style=\"padding-left: 1em; padding-right: 1em; text-align: center; vertical-align: top\">MUq14W_uowNndk6uh9UbAQ</td>\n",
       "        <td style=\"padding-left: 1em; padding-right: 1em; text-align: center; vertical-align: top\">xAhB_i6-799TakpGqVplWw</td>\n",
       "        <td style=\"padding-left: 1em; padding-right: 1em; text-align: center; vertical-align: top\">5.0</td>\n",
       "        <td style=\"padding-left: 1em; padding-right: 1em; text-align: center; vertical-align: top\">3</td>\n",
       "    </tr>\n",
       "    <tr>\n",
       "        <td style=\"padding-left: 1em; padding-right: 1em; text-align: center; vertical-align: top\">MUq14W_uowNndk6uh9UbAQ</td>\n",
       "        <td style=\"padding-left: 1em; padding-right: 1em; text-align: center; vertical-align: top\">Bh3duLU3aASnt2TZ97TJnQ</td>\n",
       "        <td style=\"padding-left: 1em; padding-right: 1em; text-align: center; vertical-align: top\">5.0</td>\n",
       "        <td style=\"padding-left: 1em; padding-right: 1em; text-align: center; vertical-align: top\">4</td>\n",
       "    </tr>\n",
       "    <tr>\n",
       "        <td style=\"padding-left: 1em; padding-right: 1em; text-align: center; vertical-align: top\">MUq14W_uowNndk6uh9UbAQ</td>\n",
       "        <td style=\"padding-left: 1em; padding-right: 1em; text-align: center; vertical-align: top\">tvu6MBZKZKHz17cbF1zIZA</td>\n",
       "        <td style=\"padding-left: 1em; padding-right: 1em; text-align: center; vertical-align: top\">5.0</td>\n",
       "        <td style=\"padding-left: 1em; padding-right: 1em; text-align: center; vertical-align: top\">5</td>\n",
       "    </tr>\n",
       "    <tr>\n",
       "        <td style=\"padding-left: 1em; padding-right: 1em; text-align: center; vertical-align: top\">MUq14W_uowNndk6uh9UbAQ</td>\n",
       "        <td style=\"padding-left: 1em; padding-right: 1em; text-align: center; vertical-align: top\">k0iSRXXqw49yugl8UUpbsw</td>\n",
       "        <td style=\"padding-left: 1em; padding-right: 1em; text-align: center; vertical-align: top\">5.0</td>\n",
       "        <td style=\"padding-left: 1em; padding-right: 1em; text-align: center; vertical-align: top\">6</td>\n",
       "    </tr>\n",
       "    <tr>\n",
       "        <td style=\"padding-left: 1em; padding-right: 1em; text-align: center; vertical-align: top\">MUq14W_uowNndk6uh9UbAQ</td>\n",
       "        <td style=\"padding-left: 1em; padding-right: 1em; text-align: center; vertical-align: top\">J2nCJBrGn4EQT1abnBHaUQ</td>\n",
       "        <td style=\"padding-left: 1em; padding-right: 1em; text-align: center; vertical-align: top\">5.0</td>\n",
       "        <td style=\"padding-left: 1em; padding-right: 1em; text-align: center; vertical-align: top\">7</td>\n",
       "    </tr>\n",
       "    <tr>\n",
       "        <td style=\"padding-left: 1em; padding-right: 1em; text-align: center; vertical-align: top\">MUq14W_uowNndk6uh9UbAQ</td>\n",
       "        <td style=\"padding-left: 1em; padding-right: 1em; text-align: center; vertical-align: top\">jbT0w5qNWOT7XQWWRuqgmw</td>\n",
       "        <td style=\"padding-left: 1em; padding-right: 1em; text-align: center; vertical-align: top\">5.0</td>\n",
       "        <td style=\"padding-left: 1em; padding-right: 1em; text-align: center; vertical-align: top\">8</td>\n",
       "    </tr>\n",
       "    <tr>\n",
       "        <td style=\"padding-left: 1em; padding-right: 1em; text-align: center; vertical-align: top\">MUq14W_uowNndk6uh9UbAQ</td>\n",
       "        <td style=\"padding-left: 1em; padding-right: 1em; text-align: center; vertical-align: top\">-tseCGdDvepLP8IIWtZikQ</td>\n",
       "        <td style=\"padding-left: 1em; padding-right: 1em; text-align: center; vertical-align: top\">5.0</td>\n",
       "        <td style=\"padding-left: 1em; padding-right: 1em; text-align: center; vertical-align: top\">9</td>\n",
       "    </tr>\n",
       "    <tr>\n",
       "        <td style=\"padding-left: 1em; padding-right: 1em; text-align: center; vertical-align: top\">MUq14W_uowNndk6uh9UbAQ</td>\n",
       "        <td style=\"padding-left: 1em; padding-right: 1em; text-align: center; vertical-align: top\">PSUOncuqfqHulYj_fusthw</td>\n",
       "        <td style=\"padding-left: 1em; padding-right: 1em; text-align: center; vertical-align: top\">5.0</td>\n",
       "        <td style=\"padding-left: 1em; padding-right: 1em; text-align: center; vertical-align: top\">10</td>\n",
       "    </tr>\n",
       "</table>\n",
       "[? rows x 4 columns]<br/>Note: Only the head of the SFrame is printed. This SFrame is lazily evaluated.<br/>You can use sf.materialize() to force materialization.\n",
       "</div>"
      ],
      "text/plain": [
       "Columns:\n",
       "\tuser_id\tstr\n",
       "\tbusiness_id\tstr\n",
       "\tscore\tfloat\n",
       "\trank\tint\n",
       "\n",
       "Rows: Unknown\n",
       "\n",
       "Data:\n",
       "+------------------------+------------------------+-------+------+\n",
       "|        user_id         |      business_id       | score | rank |\n",
       "+------------------------+------------------------+-------+------+\n",
       "| MUq14W_uowNndk6uh9UbAQ | lswrEHkfLHoChmSsGFAAwA |  5.0  |  1   |\n",
       "| MUq14W_uowNndk6uh9UbAQ | 6GlGdRX8JaG9alaqZAOaTQ |  5.0  |  2   |\n",
       "| MUq14W_uowNndk6uh9UbAQ | xAhB_i6-799TakpGqVplWw |  5.0  |  3   |\n",
       "| MUq14W_uowNndk6uh9UbAQ | Bh3duLU3aASnt2TZ97TJnQ |  5.0  |  4   |\n",
       "| MUq14W_uowNndk6uh9UbAQ | tvu6MBZKZKHz17cbF1zIZA |  5.0  |  5   |\n",
       "| MUq14W_uowNndk6uh9UbAQ | k0iSRXXqw49yugl8UUpbsw |  5.0  |  6   |\n",
       "| MUq14W_uowNndk6uh9UbAQ | J2nCJBrGn4EQT1abnBHaUQ |  5.0  |  7   |\n",
       "| MUq14W_uowNndk6uh9UbAQ | jbT0w5qNWOT7XQWWRuqgmw |  5.0  |  8   |\n",
       "| MUq14W_uowNndk6uh9UbAQ | -tseCGdDvepLP8IIWtZikQ |  5.0  |  9   |\n",
       "| MUq14W_uowNndk6uh9UbAQ | PSUOncuqfqHulYj_fusthw |  5.0  |  10  |\n",
       "+------------------------+------------------------+-------+------+\n",
       "[? rows x 4 columns]\n",
       "Note: Only the head of the SFrame is printed. This SFrame is lazily evaluated.\n",
       "You can use sf.materialize() to force materialization."
      ]
     },
     "execution_count": 327,
     "metadata": {},
     "output_type": "execute_result"
    }
   ],
   "source": [
    "recommended_for_user = rec_total[rec_total['user_id'] == user_id_select]\n",
    "\n",
    "recommended_for_user"
   ]
  },
  {
   "cell_type": "code",
   "execution_count": null,
   "metadata": {
    "collapsed": true
   },
   "outputs": [],
   "source": []
  }
 ],
 "metadata": {
  "anaconda-cloud": {},
  "kernelspec": {
   "display_name": "Python 3",
   "language": "python",
   "name": "python3"
  },
  "language_info": {
   "codemirror_mode": {
    "name": "ipython",
    "version": 3
   },
   "file_extension": ".py",
   "mimetype": "text/x-python",
   "name": "python",
   "nbconvert_exporter": "python",
   "pygments_lexer": "ipython3",
   "version": "3.6.3"
  }
 },
 "nbformat": 4,
 "nbformat_minor": 1
}
